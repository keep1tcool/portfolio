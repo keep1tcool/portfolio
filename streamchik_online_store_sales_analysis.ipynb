{
 "cells": [
  {
   "cell_type": "markdown",
   "metadata": {},
   "source": [
    "## Анализ продаж интернет-магазина \"Стримчик\""
   ]
  },
  {
   "cell_type": "markdown",
   "metadata": {},
   "source": [
    "**Описание проекта**\n",
    "\n",
    "Вы работаете в интернет-магазине «Стримчик», который продаёт по всему миру компьютерные игры. Из открытых источников доступны исторические данные о продажах игр, оценки пользователей и экспертов, жанры и платформы (например, Xbox или PlayStation). Вам нужно выявить определяющие успешность игры закономерности. Это позволит сделать ставку на потенциально популярный продукт и спланировать рекламные кампании."
   ]
  },
  {
   "cell_type": "markdown",
   "metadata": {},
   "source": [
    "**Описание данных**\n",
    "* Name — название игры\n",
    "* Platform — платформа\n",
    "* Year_of_Release — год выпуска\n",
    "* Genre — жанр игры\n",
    "* NA_sales — продажи в Северной Америке (миллионы проданных копий)\n",
    "* EU_sales — продажи в Европе (миллионы проданных копий)\n",
    "* JP_sales — продажи в Японии (миллионы проданных копий)\n",
    "* Other_sales — продажи в других странах (миллионы проданных копий)\n",
    "* Critic_Score — оценка критиков (максимум 100)\n",
    "* User_Score — оценка пользователей (максимум 10)\n",
    "* Rating — рейтинг от организации ESRB (англ. Entertainment Software Rating Board). Эта ассоциация определяет рейтинг компьютерных игр и присваивает им подходящую возрастную категорию.\n",
    "\n",
    "*Данные за 2016 год могут быть неполными.*\n"
   ]
  },
  {
   "cell_type": "markdown",
   "metadata": {},
   "source": [
    "## Загрузка данных"
   ]
  },
  {
   "cell_type": "code",
   "execution_count": 1,
   "metadata": {},
   "outputs": [],
   "source": [
    "import pandas as pd\n",
    "import matplotlib.pyplot as plt\n",
    "import numpy as np\n",
    "import seaborn as sns\n",
    "from scipy import stats as st"
   ]
  },
  {
   "cell_type": "markdown",
   "metadata": {},
   "source": [
    "Импортируем необходимые для работы бибилиотеки"
   ]
  },
  {
   "cell_type": "code",
   "execution_count": 2,
   "metadata": {},
   "outputs": [
    {
     "data": {
      "text/html": [
       "<div>\n",
       "<style scoped>\n",
       "    .dataframe tbody tr th:only-of-type {\n",
       "        vertical-align: middle;\n",
       "    }\n",
       "\n",
       "    .dataframe tbody tr th {\n",
       "        vertical-align: top;\n",
       "    }\n",
       "\n",
       "    .dataframe thead th {\n",
       "        text-align: right;\n",
       "    }\n",
       "</style>\n",
       "<table border=\"1\" class=\"dataframe\">\n",
       "  <thead>\n",
       "    <tr style=\"text-align: right;\">\n",
       "      <th></th>\n",
       "      <th>Name</th>\n",
       "      <th>Platform</th>\n",
       "      <th>Year_of_Release</th>\n",
       "      <th>Genre</th>\n",
       "      <th>NA_sales</th>\n",
       "      <th>EU_sales</th>\n",
       "      <th>JP_sales</th>\n",
       "      <th>Other_sales</th>\n",
       "      <th>Critic_Score</th>\n",
       "      <th>User_Score</th>\n",
       "      <th>Rating</th>\n",
       "    </tr>\n",
       "  </thead>\n",
       "  <tbody>\n",
       "    <tr>\n",
       "      <th>0</th>\n",
       "      <td>Wii Sports</td>\n",
       "      <td>Wii</td>\n",
       "      <td>2006.0</td>\n",
       "      <td>Sports</td>\n",
       "      <td>41.36</td>\n",
       "      <td>28.96</td>\n",
       "      <td>3.77</td>\n",
       "      <td>8.45</td>\n",
       "      <td>76.0</td>\n",
       "      <td>8</td>\n",
       "      <td>E</td>\n",
       "    </tr>\n",
       "    <tr>\n",
       "      <th>1</th>\n",
       "      <td>Super Mario Bros.</td>\n",
       "      <td>NES</td>\n",
       "      <td>1985.0</td>\n",
       "      <td>Platform</td>\n",
       "      <td>29.08</td>\n",
       "      <td>3.58</td>\n",
       "      <td>6.81</td>\n",
       "      <td>0.77</td>\n",
       "      <td>NaN</td>\n",
       "      <td>NaN</td>\n",
       "      <td>NaN</td>\n",
       "    </tr>\n",
       "    <tr>\n",
       "      <th>2</th>\n",
       "      <td>Mario Kart Wii</td>\n",
       "      <td>Wii</td>\n",
       "      <td>2008.0</td>\n",
       "      <td>Racing</td>\n",
       "      <td>15.68</td>\n",
       "      <td>12.76</td>\n",
       "      <td>3.79</td>\n",
       "      <td>3.29</td>\n",
       "      <td>82.0</td>\n",
       "      <td>8.3</td>\n",
       "      <td>E</td>\n",
       "    </tr>\n",
       "    <tr>\n",
       "      <th>3</th>\n",
       "      <td>Wii Sports Resort</td>\n",
       "      <td>Wii</td>\n",
       "      <td>2009.0</td>\n",
       "      <td>Sports</td>\n",
       "      <td>15.61</td>\n",
       "      <td>10.93</td>\n",
       "      <td>3.28</td>\n",
       "      <td>2.95</td>\n",
       "      <td>80.0</td>\n",
       "      <td>8</td>\n",
       "      <td>E</td>\n",
       "    </tr>\n",
       "    <tr>\n",
       "      <th>4</th>\n",
       "      <td>Pokemon Red/Pokemon Blue</td>\n",
       "      <td>GB</td>\n",
       "      <td>1996.0</td>\n",
       "      <td>Role-Playing</td>\n",
       "      <td>11.27</td>\n",
       "      <td>8.89</td>\n",
       "      <td>10.22</td>\n",
       "      <td>1.00</td>\n",
       "      <td>NaN</td>\n",
       "      <td>NaN</td>\n",
       "      <td>NaN</td>\n",
       "    </tr>\n",
       "  </tbody>\n",
       "</table>\n",
       "</div>"
      ],
      "text/plain": [
       "                       Name Platform  Year_of_Release         Genre  NA_sales  \\\n",
       "0                Wii Sports      Wii           2006.0        Sports     41.36   \n",
       "1         Super Mario Bros.      NES           1985.0      Platform     29.08   \n",
       "2            Mario Kart Wii      Wii           2008.0        Racing     15.68   \n",
       "3         Wii Sports Resort      Wii           2009.0        Sports     15.61   \n",
       "4  Pokemon Red/Pokemon Blue       GB           1996.0  Role-Playing     11.27   \n",
       "\n",
       "   EU_sales  JP_sales  Other_sales  Critic_Score User_Score Rating  \n",
       "0     28.96      3.77         8.45          76.0          8      E  \n",
       "1      3.58      6.81         0.77           NaN        NaN    NaN  \n",
       "2     12.76      3.79         3.29          82.0        8.3      E  \n",
       "3     10.93      3.28         2.95          80.0          8      E  \n",
       "4      8.89     10.22         1.00           NaN        NaN    NaN  "
      ]
     },
     "metadata": {},
     "output_type": "display_data"
    }
   ],
   "source": [
    "data = pd.read_csv('/datasets/games.csv')\n",
    "display(data.head())"
   ]
  },
  {
   "cell_type": "markdown",
   "metadata": {},
   "source": [
    "Загружаем датасет и просматриваем первые 5 строк для ознакомления. Здесь сразу видим пропущенные значения, возьмем это на заметку."
   ]
  },
  {
   "cell_type": "code",
   "execution_count": 3,
   "metadata": {},
   "outputs": [
    {
     "name": "stdout",
     "output_type": "stream",
     "text": [
      "<class 'pandas.core.frame.DataFrame'>\n",
      "RangeIndex: 16715 entries, 0 to 16714\n",
      "Data columns (total 11 columns):\n",
      " #   Column           Non-Null Count  Dtype  \n",
      "---  ------           --------------  -----  \n",
      " 0   Name             16713 non-null  object \n",
      " 1   Platform         16715 non-null  object \n",
      " 2   Year_of_Release  16446 non-null  float64\n",
      " 3   Genre            16713 non-null  object \n",
      " 4   NA_sales         16715 non-null  float64\n",
      " 5   EU_sales         16715 non-null  float64\n",
      " 6   JP_sales         16715 non-null  float64\n",
      " 7   Other_sales      16715 non-null  float64\n",
      " 8   Critic_Score     8137 non-null   float64\n",
      " 9   User_Score       10014 non-null  object \n",
      " 10  Rating           9949 non-null   object \n",
      "dtypes: float64(6), object(5)\n",
      "memory usage: 1.4+ MB\n"
     ]
    }
   ],
   "source": [
    "data.info()"
   ]
  },
  {
   "cell_type": "markdown",
   "metadata": {},
   "source": [
    "Получаем общую информацию о данных, могу отметить, что не все столбцы имеют верный тип данных, как, например, столбец Year_of_Release."
   ]
  },
  {
   "cell_type": "markdown",
   "metadata": {},
   "source": [
    "<div class=\"alert alert-block alert-success\">\n",
    " \n",
    "### Комментарий ревьюера\n",
    "    \n",
    "#### Успех\n",
    "    \n",
    "Отличное начало. Нами получена первичная информация о данных. "
   ]
  },
  {
   "cell_type": "markdown",
   "metadata": {},
   "source": [
    "## Предобработка данных"
   ]
  },
  {
   "cell_type": "code",
   "execution_count": 4,
   "metadata": {},
   "outputs": [
    {
     "name": "stdout",
     "output_type": "stream",
     "text": [
      "<class 'pandas.core.frame.DataFrame'>\n",
      "RangeIndex: 16715 entries, 0 to 16714\n",
      "Data columns (total 11 columns):\n",
      " #   Column           Non-Null Count  Dtype  \n",
      "---  ------           --------------  -----  \n",
      " 0   name             16713 non-null  object \n",
      " 1   platform         16715 non-null  object \n",
      " 2   year_of_release  16446 non-null  float64\n",
      " 3   genre            16713 non-null  object \n",
      " 4   na_sales         16715 non-null  float64\n",
      " 5   eu_sales         16715 non-null  float64\n",
      " 6   jp_sales         16715 non-null  float64\n",
      " 7   other_sales      16715 non-null  float64\n",
      " 8   critic_score     8137 non-null   float64\n",
      " 9   user_score       10014 non-null  object \n",
      " 10  rating           9949 non-null   object \n",
      "dtypes: float64(6), object(5)\n",
      "memory usage: 1.4+ MB\n"
     ]
    }
   ],
   "source": [
    "data.columns = data.columns.str.lower()\n",
    "data.info()"
   ]
  },
  {
   "cell_type": "markdown",
   "metadata": {},
   "source": [
    "Привели названия стобцов к нижнему регистру."
   ]
  },
  {
   "cell_type": "code",
   "execution_count": 5,
   "metadata": {},
   "outputs": [
    {
     "data": {
      "text/plain": [
       "0"
      ]
     },
     "execution_count": 5,
     "metadata": {},
     "output_type": "execute_result"
    }
   ],
   "source": [
    "data.duplicated().sum()"
   ]
  },
  {
   "cell_type": "code",
   "execution_count": 6,
   "metadata": {},
   "outputs": [
    {
     "data": {
      "text/plain": [
       "name                  2\n",
       "platform              0\n",
       "year_of_release     269\n",
       "genre                 2\n",
       "na_sales              0\n",
       "eu_sales              0\n",
       "jp_sales              0\n",
       "other_sales           0\n",
       "critic_score       8578\n",
       "user_score         6701\n",
       "rating             6766\n",
       "dtype: int64"
      ]
     },
     "execution_count": 6,
     "metadata": {},
     "output_type": "execute_result"
    }
   ],
   "source": [
    "data.isna().sum()"
   ]
  },
  {
   "cell_type": "markdown",
   "metadata": {},
   "source": [
    "Видим достаточно большое колчество пропущенных значений."
   ]
  },
  {
   "cell_type": "code",
   "execution_count": 7,
   "metadata": {},
   "outputs": [],
   "source": [
    "data = data.dropna(subset=['name', 'year_of_release', 'genre'])"
   ]
  },
  {
   "cell_type": "code",
   "execution_count": 8,
   "metadata": {
    "scrolled": true
   },
   "outputs": [
    {
     "data": {
      "text/plain": [
       "name                  0\n",
       "platform              0\n",
       "year_of_release       0\n",
       "genre                 0\n",
       "na_sales              0\n",
       "eu_sales              0\n",
       "jp_sales              0\n",
       "other_sales           0\n",
       "critic_score       8461\n",
       "user_score         6605\n",
       "rating             6676\n",
       "dtype: int64"
      ]
     },
     "execution_count": 8,
     "metadata": {},
     "output_type": "execute_result"
    }
   ],
   "source": [
    "data.isna().sum()"
   ]
  },
  {
   "cell_type": "markdown",
   "metadata": {},
   "source": [
    "Здесь хотелось бы подробно описать данное решение: во-первых пропущенные значения с названием и жанром игры мы никак не сможем заполнить, во-вторых, рассчитывать медиану/среднее значения года выпуска тоже будет некорректно, поэтому я принял решение просто удалить эти пропуски."
   ]
  },
  {
   "cell_type": "code",
   "execution_count": 9,
   "metadata": {
    "scrolled": true
   },
   "outputs": [
    {
     "name": "stdout",
     "output_type": "stream",
     "text": [
      "<class 'pandas.core.frame.DataFrame'>\n",
      "Int64Index: 16444 entries, 0 to 16714\n",
      "Data columns (total 11 columns):\n",
      " #   Column           Non-Null Count  Dtype  \n",
      "---  ------           --------------  -----  \n",
      " 0   name             16444 non-null  object \n",
      " 1   platform         16444 non-null  object \n",
      " 2   year_of_release  16444 non-null  int64  \n",
      " 3   genre            16444 non-null  object \n",
      " 4   na_sales         16444 non-null  float64\n",
      " 5   eu_sales         16444 non-null  float64\n",
      " 6   jp_sales         16444 non-null  float64\n",
      " 7   other_sales      16444 non-null  float64\n",
      " 8   critic_score     7983 non-null   float64\n",
      " 9   user_score       9839 non-null   object \n",
      " 10  rating           9768 non-null   object \n",
      "dtypes: float64(5), int64(1), object(5)\n",
      "memory usage: 1.5+ MB\n"
     ]
    }
   ],
   "source": [
    "data['year_of_release'] = data['year_of_release'].astype(int)\n",
    "data.info()"
   ]
  },
  {
   "cell_type": "markdown",
   "metadata": {},
   "source": [
    "После этого заменим тип данных в столбце year_of_release c float на int."
   ]
  },
  {
   "cell_type": "code",
   "execution_count": 10,
   "metadata": {
    "scrolled": true
   },
   "outputs": [
    {
     "data": {
      "text/plain": [
       "array([76., nan, 82., 80., 89., 58., 87., 91., 61., 97., 95., 77., 88.,\n",
       "       83., 94., 93., 85., 86., 98., 96., 90., 84., 73., 74., 78., 92.,\n",
       "       71., 72., 68., 62., 49., 67., 81., 66., 56., 79., 70., 59., 64.,\n",
       "       75., 60., 63., 69., 50., 25., 42., 44., 55., 48., 57., 29., 47.,\n",
       "       65., 54., 20., 53., 37., 38., 33., 52., 30., 32., 43., 45., 51.,\n",
       "       40., 46., 39., 34., 41., 36., 31., 27., 35., 26., 19., 28., 23.,\n",
       "       24., 21., 17., 13.])"
      ]
     },
     "execution_count": 10,
     "metadata": {},
     "output_type": "execute_result"
    }
   ],
   "source": [
    "data['critic_score'].unique()"
   ]
  },
  {
   "cell_type": "code",
   "execution_count": 11,
   "metadata": {
    "scrolled": true
   },
   "outputs": [
    {
     "data": {
      "text/plain": [
       "array(['8', nan, '8.3', '8.5', '6.6', '8.4', '8.6', '7.7', '6.3', '7.4',\n",
       "       '8.2', '9', '7.9', '8.1', '8.7', '7.1', '3.4', '5.3', '4.8', '3.2',\n",
       "       '8.9', '6.4', '7.8', '7.5', '2.6', '7.2', '9.2', '7', '7.3', '4.3',\n",
       "       '7.6', '5.7', '5', '9.1', '6.5', 'tbd', '8.8', '6.9', '9.4', '6.8',\n",
       "       '6.1', '6.7', '5.4', '4', '4.9', '4.5', '9.3', '6.2', '4.2', '6',\n",
       "       '3.7', '4.1', '5.8', '5.6', '5.5', '4.4', '4.6', '5.9', '3.9',\n",
       "       '3.1', '2.9', '5.2', '3.3', '4.7', '5.1', '3.5', '2.5', '1.9', '3',\n",
       "       '2.7', '2.2', '2', '9.5', '2.1', '3.6', '2.8', '1.8', '3.8', '0',\n",
       "       '1.6', '9.6', '2.4', '1.7', '1.1', '0.3', '1.5', '0.7', '1.2',\n",
       "       '2.3', '0.5', '1.3', '0.2', '0.6', '1.4', '0.9', '1', '9.7'],\n",
       "      dtype=object)"
      ]
     },
     "execution_count": 11,
     "metadata": {},
     "output_type": "execute_result"
    }
   ],
   "source": [
    "data['user_score'].unique()"
   ]
  },
  {
   "cell_type": "markdown",
   "metadata": {},
   "source": [
    "Здесь пропущенные значения заменю на 0 и преобразую тип данных во float\n",
    "После внимательного изучения заметил значение \"tbd\" - To Be Determined (будет определено). Значит, рейтинга по этим играм также нет, заменю эти значения также на 0."
   ]
  },
  {
   "cell_type": "code",
   "execution_count": 12,
   "metadata": {
    "scrolled": true
   },
   "outputs": [
    {
     "name": "stdout",
     "output_type": "stream",
     "text": [
      "<class 'pandas.core.frame.DataFrame'>\n",
      "Int64Index: 16444 entries, 0 to 16714\n",
      "Data columns (total 11 columns):\n",
      " #   Column           Non-Null Count  Dtype  \n",
      "---  ------           --------------  -----  \n",
      " 0   name             16444 non-null  object \n",
      " 1   platform         16444 non-null  object \n",
      " 2   year_of_release  16444 non-null  int64  \n",
      " 3   genre            16444 non-null  object \n",
      " 4   na_sales         16444 non-null  float64\n",
      " 5   eu_sales         16444 non-null  float64\n",
      " 6   jp_sales         16444 non-null  float64\n",
      " 7   other_sales      16444 non-null  float64\n",
      " 8   critic_score     16444 non-null  float64\n",
      " 9   user_score       16444 non-null  float64\n",
      " 10  rating           9768 non-null   object \n",
      "dtypes: float64(6), int64(1), object(4)\n",
      "memory usage: 1.5+ MB\n"
     ]
    }
   ],
   "source": [
    "data['critic_score'] = data['critic_score'].fillna(0)\n",
    "data['user_score'] = data['user_score'].fillna(0)\n",
    "data['user_score'] = data['user_score'].replace('tbd', 0)\n",
    "data['critic_score'] = data['critic_score'].astype(float)\n",
    "data['user_score'] = data['user_score'].astype(float)\n",
    "data.info()"
   ]
  },
  {
   "cell_type": "code",
   "execution_count": 13,
   "metadata": {},
   "outputs": [
    {
     "data": {
      "text/plain": [
       "array(['E', nan, 'M', 'T', 'E10+', 'K-A', 'AO', 'EC', 'RP'], dtype=object)"
      ]
     },
     "execution_count": 13,
     "metadata": {},
     "output_type": "execute_result"
    }
   ],
   "source": [
    "data['rating'].unique()"
   ]
  },
  {
   "cell_type": "markdown",
   "metadata": {},
   "source": [
    "Здесь пропущенные значения есть там, где рейтинг не определен. Поэтому заменю их на n/d или же not defined."
   ]
  },
  {
   "cell_type": "code",
   "execution_count": 14,
   "metadata": {},
   "outputs": [],
   "source": [
    "data['rating'] = data['rating'].fillna('n/d')"
   ]
  },
  {
   "cell_type": "code",
   "execution_count": 15,
   "metadata": {},
   "outputs": [
    {
     "name": "stdout",
     "output_type": "stream",
     "text": [
      "<class 'pandas.core.frame.DataFrame'>\n",
      "Int64Index: 16444 entries, 0 to 16714\n",
      "Data columns (total 11 columns):\n",
      " #   Column           Non-Null Count  Dtype  \n",
      "---  ------           --------------  -----  \n",
      " 0   name             16444 non-null  object \n",
      " 1   platform         16444 non-null  object \n",
      " 2   year_of_release  16444 non-null  int64  \n",
      " 3   genre            16444 non-null  object \n",
      " 4   na_sales         16444 non-null  float64\n",
      " 5   eu_sales         16444 non-null  float64\n",
      " 6   jp_sales         16444 non-null  float64\n",
      " 7   other_sales      16444 non-null  float64\n",
      " 8   critic_score     16444 non-null  float64\n",
      " 9   user_score       16444 non-null  float64\n",
      " 10  rating           16444 non-null  object \n",
      "dtypes: float64(6), int64(1), object(4)\n",
      "memory usage: 1.5+ MB\n"
     ]
    }
   ],
   "source": [
    "data.info()"
   ]
  },
  {
   "cell_type": "markdown",
   "metadata": {},
   "source": [
    "Все пропуски устранены и данные с каждом столбце имеют корректный тип. Пропуски могли возникнуть из-за человеческого фактора, из-за технической неполадки или из-за неполноты датасета. В любом случае, пропуски всегда влияют на конечную статистику и выводы после проведенного исследования."
   ]
  },
  {
   "cell_type": "code",
   "execution_count": 16,
   "metadata": {
    "scrolled": true
   },
   "outputs": [
    {
     "data": {
      "text/html": [
       "<div>\n",
       "<style scoped>\n",
       "    .dataframe tbody tr th:only-of-type {\n",
       "        vertical-align: middle;\n",
       "    }\n",
       "\n",
       "    .dataframe tbody tr th {\n",
       "        vertical-align: top;\n",
       "    }\n",
       "\n",
       "    .dataframe thead th {\n",
       "        text-align: right;\n",
       "    }\n",
       "</style>\n",
       "<table border=\"1\" class=\"dataframe\">\n",
       "  <thead>\n",
       "    <tr style=\"text-align: right;\">\n",
       "      <th></th>\n",
       "      <th>name</th>\n",
       "      <th>platform</th>\n",
       "      <th>year_of_release</th>\n",
       "      <th>genre</th>\n",
       "      <th>na_sales</th>\n",
       "      <th>eu_sales</th>\n",
       "      <th>jp_sales</th>\n",
       "      <th>other_sales</th>\n",
       "      <th>critic_score</th>\n",
       "      <th>user_score</th>\n",
       "      <th>rating</th>\n",
       "    </tr>\n",
       "  </thead>\n",
       "  <tbody>\n",
       "    <tr>\n",
       "      <th>0</th>\n",
       "      <td>Wii Sports</td>\n",
       "      <td>Wii</td>\n",
       "      <td>2006</td>\n",
       "      <td>Sports</td>\n",
       "      <td>41.36</td>\n",
       "      <td>28.96</td>\n",
       "      <td>3.77</td>\n",
       "      <td>8.45</td>\n",
       "      <td>76.0</td>\n",
       "      <td>8.0</td>\n",
       "      <td>E</td>\n",
       "    </tr>\n",
       "    <tr>\n",
       "      <th>1</th>\n",
       "      <td>Super Mario Bros.</td>\n",
       "      <td>NES</td>\n",
       "      <td>1985</td>\n",
       "      <td>Platform</td>\n",
       "      <td>29.08</td>\n",
       "      <td>3.58</td>\n",
       "      <td>6.81</td>\n",
       "      <td>0.77</td>\n",
       "      <td>0.0</td>\n",
       "      <td>0.0</td>\n",
       "      <td>n/d</td>\n",
       "    </tr>\n",
       "    <tr>\n",
       "      <th>2</th>\n",
       "      <td>Mario Kart Wii</td>\n",
       "      <td>Wii</td>\n",
       "      <td>2008</td>\n",
       "      <td>Racing</td>\n",
       "      <td>15.68</td>\n",
       "      <td>12.76</td>\n",
       "      <td>3.79</td>\n",
       "      <td>3.29</td>\n",
       "      <td>82.0</td>\n",
       "      <td>8.3</td>\n",
       "      <td>E</td>\n",
       "    </tr>\n",
       "    <tr>\n",
       "      <th>3</th>\n",
       "      <td>Wii Sports Resort</td>\n",
       "      <td>Wii</td>\n",
       "      <td>2009</td>\n",
       "      <td>Sports</td>\n",
       "      <td>15.61</td>\n",
       "      <td>10.93</td>\n",
       "      <td>3.28</td>\n",
       "      <td>2.95</td>\n",
       "      <td>80.0</td>\n",
       "      <td>8.0</td>\n",
       "      <td>E</td>\n",
       "    </tr>\n",
       "    <tr>\n",
       "      <th>4</th>\n",
       "      <td>Pokemon Red/Pokemon Blue</td>\n",
       "      <td>GB</td>\n",
       "      <td>1996</td>\n",
       "      <td>Role-Playing</td>\n",
       "      <td>11.27</td>\n",
       "      <td>8.89</td>\n",
       "      <td>10.22</td>\n",
       "      <td>1.00</td>\n",
       "      <td>0.0</td>\n",
       "      <td>0.0</td>\n",
       "      <td>n/d</td>\n",
       "    </tr>\n",
       "  </tbody>\n",
       "</table>\n",
       "</div>"
      ],
      "text/plain": [
       "                       name platform  year_of_release         genre  na_sales  \\\n",
       "0                Wii Sports      Wii             2006        Sports     41.36   \n",
       "1         Super Mario Bros.      NES             1985      Platform     29.08   \n",
       "2            Mario Kart Wii      Wii             2008        Racing     15.68   \n",
       "3         Wii Sports Resort      Wii             2009        Sports     15.61   \n",
       "4  Pokemon Red/Pokemon Blue       GB             1996  Role-Playing     11.27   \n",
       "\n",
       "   eu_sales  jp_sales  other_sales  critic_score  user_score rating  \n",
       "0     28.96      3.77         8.45          76.0         8.0      E  \n",
       "1      3.58      6.81         0.77           0.0         0.0    n/d  \n",
       "2     12.76      3.79         3.29          82.0         8.3      E  \n",
       "3     10.93      3.28         2.95          80.0         8.0      E  \n",
       "4      8.89     10.22         1.00           0.0         0.0    n/d  "
      ]
     },
     "metadata": {},
     "output_type": "display_data"
    }
   ],
   "source": [
    "display(data.head())"
   ]
  },
  {
   "cell_type": "markdown",
   "metadata": {},
   "source": [
    "Еще раз взглянем на датафрейм и посчитаем суммарные продажи во всех регионах."
   ]
  },
  {
   "cell_type": "code",
   "execution_count": 17,
   "metadata": {},
   "outputs": [
    {
     "data": {
      "text/html": [
       "<div>\n",
       "<style scoped>\n",
       "    .dataframe tbody tr th:only-of-type {\n",
       "        vertical-align: middle;\n",
       "    }\n",
       "\n",
       "    .dataframe tbody tr th {\n",
       "        vertical-align: top;\n",
       "    }\n",
       "\n",
       "    .dataframe thead th {\n",
       "        text-align: right;\n",
       "    }\n",
       "</style>\n",
       "<table border=\"1\" class=\"dataframe\">\n",
       "  <thead>\n",
       "    <tr style=\"text-align: right;\">\n",
       "      <th></th>\n",
       "      <th>name</th>\n",
       "      <th>platform</th>\n",
       "      <th>year_of_release</th>\n",
       "      <th>genre</th>\n",
       "      <th>na_sales</th>\n",
       "      <th>eu_sales</th>\n",
       "      <th>jp_sales</th>\n",
       "      <th>other_sales</th>\n",
       "      <th>critic_score</th>\n",
       "      <th>user_score</th>\n",
       "      <th>rating</th>\n",
       "      <th>total_sales</th>\n",
       "    </tr>\n",
       "  </thead>\n",
       "  <tbody>\n",
       "    <tr>\n",
       "      <th>0</th>\n",
       "      <td>Wii Sports</td>\n",
       "      <td>Wii</td>\n",
       "      <td>2006</td>\n",
       "      <td>Sports</td>\n",
       "      <td>41.36</td>\n",
       "      <td>28.96</td>\n",
       "      <td>3.77</td>\n",
       "      <td>8.45</td>\n",
       "      <td>76.0</td>\n",
       "      <td>8.0</td>\n",
       "      <td>E</td>\n",
       "      <td>82.54</td>\n",
       "    </tr>\n",
       "    <tr>\n",
       "      <th>1</th>\n",
       "      <td>Super Mario Bros.</td>\n",
       "      <td>NES</td>\n",
       "      <td>1985</td>\n",
       "      <td>Platform</td>\n",
       "      <td>29.08</td>\n",
       "      <td>3.58</td>\n",
       "      <td>6.81</td>\n",
       "      <td>0.77</td>\n",
       "      <td>0.0</td>\n",
       "      <td>0.0</td>\n",
       "      <td>n/d</td>\n",
       "      <td>40.24</td>\n",
       "    </tr>\n",
       "    <tr>\n",
       "      <th>2</th>\n",
       "      <td>Mario Kart Wii</td>\n",
       "      <td>Wii</td>\n",
       "      <td>2008</td>\n",
       "      <td>Racing</td>\n",
       "      <td>15.68</td>\n",
       "      <td>12.76</td>\n",
       "      <td>3.79</td>\n",
       "      <td>3.29</td>\n",
       "      <td>82.0</td>\n",
       "      <td>8.3</td>\n",
       "      <td>E</td>\n",
       "      <td>35.52</td>\n",
       "    </tr>\n",
       "    <tr>\n",
       "      <th>3</th>\n",
       "      <td>Wii Sports Resort</td>\n",
       "      <td>Wii</td>\n",
       "      <td>2009</td>\n",
       "      <td>Sports</td>\n",
       "      <td>15.61</td>\n",
       "      <td>10.93</td>\n",
       "      <td>3.28</td>\n",
       "      <td>2.95</td>\n",
       "      <td>80.0</td>\n",
       "      <td>8.0</td>\n",
       "      <td>E</td>\n",
       "      <td>32.77</td>\n",
       "    </tr>\n",
       "    <tr>\n",
       "      <th>4</th>\n",
       "      <td>Pokemon Red/Pokemon Blue</td>\n",
       "      <td>GB</td>\n",
       "      <td>1996</td>\n",
       "      <td>Role-Playing</td>\n",
       "      <td>11.27</td>\n",
       "      <td>8.89</td>\n",
       "      <td>10.22</td>\n",
       "      <td>1.00</td>\n",
       "      <td>0.0</td>\n",
       "      <td>0.0</td>\n",
       "      <td>n/d</td>\n",
       "      <td>31.38</td>\n",
       "    </tr>\n",
       "    <tr>\n",
       "      <th>...</th>\n",
       "      <td>...</td>\n",
       "      <td>...</td>\n",
       "      <td>...</td>\n",
       "      <td>...</td>\n",
       "      <td>...</td>\n",
       "      <td>...</td>\n",
       "      <td>...</td>\n",
       "      <td>...</td>\n",
       "      <td>...</td>\n",
       "      <td>...</td>\n",
       "      <td>...</td>\n",
       "      <td>...</td>\n",
       "    </tr>\n",
       "    <tr>\n",
       "      <th>16710</th>\n",
       "      <td>Samurai Warriors: Sanada Maru</td>\n",
       "      <td>PS3</td>\n",
       "      <td>2016</td>\n",
       "      <td>Action</td>\n",
       "      <td>0.00</td>\n",
       "      <td>0.00</td>\n",
       "      <td>0.01</td>\n",
       "      <td>0.00</td>\n",
       "      <td>0.0</td>\n",
       "      <td>0.0</td>\n",
       "      <td>n/d</td>\n",
       "      <td>0.01</td>\n",
       "    </tr>\n",
       "    <tr>\n",
       "      <th>16711</th>\n",
       "      <td>LMA Manager 2007</td>\n",
       "      <td>X360</td>\n",
       "      <td>2006</td>\n",
       "      <td>Sports</td>\n",
       "      <td>0.00</td>\n",
       "      <td>0.01</td>\n",
       "      <td>0.00</td>\n",
       "      <td>0.00</td>\n",
       "      <td>0.0</td>\n",
       "      <td>0.0</td>\n",
       "      <td>n/d</td>\n",
       "      <td>0.01</td>\n",
       "    </tr>\n",
       "    <tr>\n",
       "      <th>16712</th>\n",
       "      <td>Haitaka no Psychedelica</td>\n",
       "      <td>PSV</td>\n",
       "      <td>2016</td>\n",
       "      <td>Adventure</td>\n",
       "      <td>0.00</td>\n",
       "      <td>0.00</td>\n",
       "      <td>0.01</td>\n",
       "      <td>0.00</td>\n",
       "      <td>0.0</td>\n",
       "      <td>0.0</td>\n",
       "      <td>n/d</td>\n",
       "      <td>0.01</td>\n",
       "    </tr>\n",
       "    <tr>\n",
       "      <th>16713</th>\n",
       "      <td>Spirits &amp; Spells</td>\n",
       "      <td>GBA</td>\n",
       "      <td>2003</td>\n",
       "      <td>Platform</td>\n",
       "      <td>0.01</td>\n",
       "      <td>0.00</td>\n",
       "      <td>0.00</td>\n",
       "      <td>0.00</td>\n",
       "      <td>0.0</td>\n",
       "      <td>0.0</td>\n",
       "      <td>n/d</td>\n",
       "      <td>0.01</td>\n",
       "    </tr>\n",
       "    <tr>\n",
       "      <th>16714</th>\n",
       "      <td>Winning Post 8 2016</td>\n",
       "      <td>PSV</td>\n",
       "      <td>2016</td>\n",
       "      <td>Simulation</td>\n",
       "      <td>0.00</td>\n",
       "      <td>0.00</td>\n",
       "      <td>0.01</td>\n",
       "      <td>0.00</td>\n",
       "      <td>0.0</td>\n",
       "      <td>0.0</td>\n",
       "      <td>n/d</td>\n",
       "      <td>0.01</td>\n",
       "    </tr>\n",
       "  </tbody>\n",
       "</table>\n",
       "<p>16444 rows × 12 columns</p>\n",
       "</div>"
      ],
      "text/plain": [
       "                                name platform  year_of_release         genre  \\\n",
       "0                         Wii Sports      Wii             2006        Sports   \n",
       "1                  Super Mario Bros.      NES             1985      Platform   \n",
       "2                     Mario Kart Wii      Wii             2008        Racing   \n",
       "3                  Wii Sports Resort      Wii             2009        Sports   \n",
       "4           Pokemon Red/Pokemon Blue       GB             1996  Role-Playing   \n",
       "...                              ...      ...              ...           ...   \n",
       "16710  Samurai Warriors: Sanada Maru      PS3             2016        Action   \n",
       "16711               LMA Manager 2007     X360             2006        Sports   \n",
       "16712        Haitaka no Psychedelica      PSV             2016     Adventure   \n",
       "16713               Spirits & Spells      GBA             2003      Platform   \n",
       "16714            Winning Post 8 2016      PSV             2016    Simulation   \n",
       "\n",
       "       na_sales  eu_sales  jp_sales  other_sales  critic_score  user_score  \\\n",
       "0         41.36     28.96      3.77         8.45          76.0         8.0   \n",
       "1         29.08      3.58      6.81         0.77           0.0         0.0   \n",
       "2         15.68     12.76      3.79         3.29          82.0         8.3   \n",
       "3         15.61     10.93      3.28         2.95          80.0         8.0   \n",
       "4         11.27      8.89     10.22         1.00           0.0         0.0   \n",
       "...         ...       ...       ...          ...           ...         ...   \n",
       "16710      0.00      0.00      0.01         0.00           0.0         0.0   \n",
       "16711      0.00      0.01      0.00         0.00           0.0         0.0   \n",
       "16712      0.00      0.00      0.01         0.00           0.0         0.0   \n",
       "16713      0.01      0.00      0.00         0.00           0.0         0.0   \n",
       "16714      0.00      0.00      0.01         0.00           0.0         0.0   \n",
       "\n",
       "      rating  total_sales  \n",
       "0          E        82.54  \n",
       "1        n/d        40.24  \n",
       "2          E        35.52  \n",
       "3          E        32.77  \n",
       "4        n/d        31.38  \n",
       "...      ...          ...  \n",
       "16710    n/d         0.01  \n",
       "16711    n/d         0.01  \n",
       "16712    n/d         0.01  \n",
       "16713    n/d         0.01  \n",
       "16714    n/d         0.01  \n",
       "\n",
       "[16444 rows x 12 columns]"
      ]
     },
     "metadata": {},
     "output_type": "display_data"
    }
   ],
   "source": [
    "data['total_sales'] = data[['na_sales', 'eu_sales', 'jp_sales', 'other_sales']].sum(axis=1)\n",
    "display(data)"
   ]
  },
  {
   "cell_type": "markdown",
   "metadata": {},
   "source": [
    "**Выводы по предобработке данных**\n",
    "\n",
    "1. Названия столбцов приведены к единому, нижнему, регистру\n",
    "2. Устранены все пропуски в значениях для дальнейшей корректной работы с данными\n",
    "3. Явные дубликаты не были обнаружены\n",
    "4. Посчитаны суммарные продажи во всех регионах"
   ]
  },
  {
   "cell_type": "markdown",
   "metadata": {},
   "source": [
    "## Исследовательский анализ данных"
   ]
  },
  {
   "cell_type": "code",
   "execution_count": 18,
   "metadata": {},
   "outputs": [
    {
     "data": {
      "image/png": "[encoded data removed]",
      "text/plain": [
       "<Figure size 720x504 with 1 Axes>"
      ]
     },
     "metadata": {
      "needs_background": "light"
     },
     "output_type": "display_data"
    }
   ],
   "source": [
    "(data\n",
    "    .pivot_table(index='year_of_release', values='name', aggfunc='count')\n",
    "    .plot.bar(grid=True, figsize=(10, 7))\n",
    ")\n",
    "plt.xlabel('Год выпуска')\n",
    "plt.ylabel('Количество игр')\n",
    "plt.title('Количество выпущенных игр в разные годы')\n",
    "plt.show()"
   ]
  },
  {
   "cell_type": "markdown",
   "metadata": {},
   "source": [
    "По графику видно, что пик выпуска компьютерных игр приходится на 2008 и 2009 год. Затем заметен резкий спад после 2011 года, что может быть связано либо с ростом мобильного гейминга, либо с уменьшением количества издаваемых игр из-за переизбытка на рынке."
   ]
  },
  {
   "cell_type": "code",
   "execution_count": 19,
   "metadata": {},
   "outputs": [
    {
     "data": {
      "image/png": "[encoded data removed]",
      "text/plain": [
       "<Figure size 720x648 with 1 Axes>"
      ]
     },
     "metadata": {
      "needs_background": "light"
     },
     "output_type": "display_data"
    }
   ],
   "source": [
    "(data\n",
    "    .pivot_table(index='platform', values='total_sales', aggfunc='sum')\n",
    "    .sort_values(by='total_sales', ascending=False)\n",
    "    .plot.bar(grid=True, figsize=(10, 9))\n",
    ")\n",
    "plt.title('Суммарные продажи игр по платформам')\n",
    "plt.xlabel('Платформа')\n",
    "plt.ylabel('Суммарные продажи (млн копий)')\n",
    "plt.show()"
   ]
  },
  {
   "cell_type": "markdown",
   "metadata": {},
   "source": [
    "Исходя из графика, наиболее популярными платформами для игр были - PlayStation 2, XBOX 360, PlayStation 3, Wii."
   ]
  },
  {
   "cell_type": "code",
   "execution_count": 20,
   "metadata": {},
   "outputs": [
    {
     "data": {
      "text/plain": [
       "['PS2', 'X360', 'PS3', 'Wii', 'DS']"
      ]
     },
     "execution_count": 20,
     "metadata": {},
     "output_type": "execute_result"
    }
   ],
   "source": [
    "sales_top_5 = data.pivot_table(index='platform', values='total_sales', aggfunc='sum').sort_values(by='total_sales', ascending=False).reset_index().head(5)['platform'].tolist()\n",
    "sales_top_5"
   ]
  },
  {
   "cell_type": "code",
   "execution_count": 21,
   "metadata": {},
   "outputs": [
    {
     "data": {
      "image/png": "[encoded data removed]",
      "text/plain": [
       "<Figure size 720x504 with 1 Axes>"
      ]
     },
     "metadata": {
      "needs_background": "light"
     },
     "output_type": "display_data"
    }
   ],
   "source": [
    "for name in sales_top_5:\n",
    "    (\n",
    "    data.query('platform == @name and year_of_release > 1985')\n",
    "    .pivot_table(index='year_of_release', values='total_sales', aggfunc='sum')\n",
    "    .sort_values('year_of_release', ascending = False)['total_sales']\n",
    "    .plot(figsize=(10, 7), grid=True, label=name)\n",
    "    )\n",
    "plt.title('Распределние продаж платформ по годам')\n",
    "plt.xlabel('Год выпуска')\n",
    "plt.ylabel('Сумма продаж (млн копий)')\n",
    "plt.legend()\n",
    "plt.show()"
   ]
  },
  {
   "cell_type": "markdown",
   "metadata": {},
   "source": [
    "Исходя из этого графика можно сделать вывод, что характерный срок, за который платформа появляется и исчезает составляет около 10 лет."
   ]
  },
  {
   "cell_type": "code",
   "execution_count": 22,
   "metadata": {},
   "outputs": [
    {
     "data": {
      "image/png": "[encoded data removed]",
      "text/plain": [
       "<Figure size 720x576 with 1 Axes>"
      ]
     },
     "metadata": {
      "needs_background": "light"
     },
     "output_type": "display_data"
    }
   ],
   "source": [
    "(data\n",
    "    .groupby('year_of_release')\n",
    "    .agg({'total_sales':'sum'})\n",
    "    .plot(kind='line', marker='o', grid=True, figsize=(10, 8))\n",
    ")\n",
    "plt.title('Распределение продаж по годам')\n",
    "plt.xlabel('Год')\n",
    "plt.ylabel('Сумма продаж (млн копий)')\n",
    "plt.show()"
   ]
  },
  {
   "cell_type": "markdown",
   "metadata": {},
   "source": [
    "После 2008 года отмечается резкая смена тенденции продаж на отрицательную."
   ]
  },
  {
   "cell_type": "code",
   "execution_count": 23,
   "metadata": {},
   "outputs": [
    {
     "data": {
      "text/html": [
       "<div>\n",
       "<style scoped>\n",
       "    .dataframe tbody tr th:only-of-type {\n",
       "        vertical-align: middle;\n",
       "    }\n",
       "\n",
       "    .dataframe tbody tr th {\n",
       "        vertical-align: top;\n",
       "    }\n",
       "\n",
       "    .dataframe thead th {\n",
       "        text-align: right;\n",
       "    }\n",
       "</style>\n",
       "<table border=\"1\" class=\"dataframe\">\n",
       "  <thead>\n",
       "    <tr style=\"text-align: right;\">\n",
       "      <th></th>\n",
       "      <th>name</th>\n",
       "      <th>platform</th>\n",
       "      <th>year_of_release</th>\n",
       "      <th>genre</th>\n",
       "      <th>na_sales</th>\n",
       "      <th>eu_sales</th>\n",
       "      <th>jp_sales</th>\n",
       "      <th>other_sales</th>\n",
       "      <th>critic_score</th>\n",
       "      <th>user_score</th>\n",
       "      <th>rating</th>\n",
       "      <th>total_sales</th>\n",
       "    </tr>\n",
       "  </thead>\n",
       "  <tbody>\n",
       "    <tr>\n",
       "      <th>31</th>\n",
       "      <td>Call of Duty: Black Ops 3</td>\n",
       "      <td>PS4</td>\n",
       "      <td>2015</td>\n",
       "      <td>Shooter</td>\n",
       "      <td>6.03</td>\n",
       "      <td>5.86</td>\n",
       "      <td>0.36</td>\n",
       "      <td>2.38</td>\n",
       "      <td>0.0</td>\n",
       "      <td>0.0</td>\n",
       "      <td>n/d</td>\n",
       "      <td>14.63</td>\n",
       "    </tr>\n",
       "    <tr>\n",
       "      <th>42</th>\n",
       "      <td>Grand Theft Auto V</td>\n",
       "      <td>PS4</td>\n",
       "      <td>2014</td>\n",
       "      <td>Action</td>\n",
       "      <td>3.96</td>\n",
       "      <td>6.31</td>\n",
       "      <td>0.38</td>\n",
       "      <td>1.97</td>\n",
       "      <td>97.0</td>\n",
       "      <td>8.3</td>\n",
       "      <td>M</td>\n",
       "      <td>12.62</td>\n",
       "    </tr>\n",
       "    <tr>\n",
       "      <th>47</th>\n",
       "      <td>Pokemon Omega Ruby/Pokemon Alpha Sapphire</td>\n",
       "      <td>3DS</td>\n",
       "      <td>2014</td>\n",
       "      <td>Role-Playing</td>\n",
       "      <td>4.35</td>\n",
       "      <td>3.49</td>\n",
       "      <td>3.10</td>\n",
       "      <td>0.74</td>\n",
       "      <td>0.0</td>\n",
       "      <td>0.0</td>\n",
       "      <td>n/d</td>\n",
       "      <td>11.68</td>\n",
       "    </tr>\n",
       "    <tr>\n",
       "      <th>77</th>\n",
       "      <td>FIFA 16</td>\n",
       "      <td>PS4</td>\n",
       "      <td>2015</td>\n",
       "      <td>Sports</td>\n",
       "      <td>1.12</td>\n",
       "      <td>6.12</td>\n",
       "      <td>0.06</td>\n",
       "      <td>1.28</td>\n",
       "      <td>82.0</td>\n",
       "      <td>4.3</td>\n",
       "      <td>E</td>\n",
       "      <td>8.58</td>\n",
       "    </tr>\n",
       "    <tr>\n",
       "      <th>87</th>\n",
       "      <td>Star Wars Battlefront (2015)</td>\n",
       "      <td>PS4</td>\n",
       "      <td>2015</td>\n",
       "      <td>Shooter</td>\n",
       "      <td>2.99</td>\n",
       "      <td>3.49</td>\n",
       "      <td>0.22</td>\n",
       "      <td>1.28</td>\n",
       "      <td>0.0</td>\n",
       "      <td>0.0</td>\n",
       "      <td>n/d</td>\n",
       "      <td>7.98</td>\n",
       "    </tr>\n",
       "  </tbody>\n",
       "</table>\n",
       "</div>"
      ],
      "text/plain": [
       "                                         name platform  year_of_release  \\\n",
       "31                  Call of Duty: Black Ops 3      PS4             2015   \n",
       "42                         Grand Theft Auto V      PS4             2014   \n",
       "47  Pokemon Omega Ruby/Pokemon Alpha Sapphire      3DS             2014   \n",
       "77                                    FIFA 16      PS4             2015   \n",
       "87               Star Wars Battlefront (2015)      PS4             2015   \n",
       "\n",
       "           genre  na_sales  eu_sales  jp_sales  other_sales  critic_score  \\\n",
       "31       Shooter      6.03      5.86      0.36         2.38           0.0   \n",
       "42        Action      3.96      6.31      0.38         1.97          97.0   \n",
       "47  Role-Playing      4.35      3.49      3.10         0.74           0.0   \n",
       "77        Sports      1.12      6.12      0.06         1.28          82.0   \n",
       "87       Shooter      2.99      3.49      0.22         1.28           0.0   \n",
       "\n",
       "    user_score rating  total_sales  \n",
       "31         0.0    n/d        14.63  \n",
       "42         8.3      M        12.62  \n",
       "47         0.0    n/d        11.68  \n",
       "77         4.3      E         8.58  \n",
       "87         0.0    n/d         7.98  "
      ]
     },
     "execution_count": 23,
     "metadata": {},
     "output_type": "execute_result"
    }
   ],
   "source": [
    "data_act = data.query('year_of_release == [2014, 2015, 2016]')\n",
    "data_act.head()"
   ]
  },
  {
   "cell_type": "markdown",
   "metadata": {},
   "source": [
    "Создаем новую переменную data_act, где будут данные за актуальный период, то есть с 2014 по 2016 год."
   ]
  },
  {
   "cell_type": "code",
   "execution_count": 24,
   "metadata": {},
   "outputs": [
    {
     "data": {
      "image/png": "[encoded data removed]",
      "text/plain": [
       "<Figure size 720x648 with 1 Axes>"
      ]
     },
     "metadata": {
      "needs_background": "light"
     },
     "output_type": "display_data"
    }
   ],
   "source": [
    "(data_act\n",
    "    .pivot_table(index='platform', values='total_sales', aggfunc='sum')\n",
    "    .sort_values(by='total_sales', ascending=False)\n",
    "    .plot.bar(grid=True, figsize=(10, 9))\n",
    ")\n",
    "plt.title('Суммарные продажи игр по платформам c 2014 по 2016 год')\n",
    "plt.xlabel('Платформа')\n",
    "plt.ylabel('Суммарные продажи (млн копий)')\n",
    "plt.show()"
   ]
  },
  {
   "cell_type": "markdown",
   "metadata": {},
   "source": [
    "Лидерами по продажам являются PlayStation 4, XBox One, Nintendo 3DS. PC занимает очень маленькую долю, по сравнению с консолями. "
   ]
  },
  {
   "cell_type": "code",
   "execution_count": 25,
   "metadata": {},
   "outputs": [
    {
     "data": {
      "image/png": "[encoded data removed]",
      "text/plain": [
       "<Figure size 864x576 with 1 Axes>"
      ]
     },
     "metadata": {
      "needs_background": "light"
     },
     "output_type": "display_data"
    }
   ],
   "source": [
    "data_act_plt = data_act.query('platform == [\"PS4\", \"XOne\", \"3DS\", \"PS3\", \"X360\"]')\n",
    "plt.figure(figsize=(12,8))\n",
    "ax = sns.boxplot(data=data_act_plt, x='platform', y='total_sales')\n",
    "ax.set(ylim=(0,2))\n",
    "plt.title('Продажи по платформам')\n",
    "plt.xlabel('Платформа')\n",
    "plt.ylabel('Суммарные продажи')\n",
    "plt.show()"
   ]
  },
  {
   "cell_type": "code",
   "execution_count": 26,
   "metadata": {
    "scrolled": true
   },
   "outputs": [
    {
     "data": {
      "text/html": [
       "<div>\n",
       "<style scoped>\n",
       "    .dataframe tbody tr th:only-of-type {\n",
       "        vertical-align: middle;\n",
       "    }\n",
       "\n",
       "    .dataframe tbody tr th {\n",
       "        vertical-align: top;\n",
       "    }\n",
       "\n",
       "    .dataframe thead th {\n",
       "        text-align: right;\n",
       "    }\n",
       "</style>\n",
       "<table border=\"1\" class=\"dataframe\">\n",
       "  <thead>\n",
       "    <tr style=\"text-align: right;\">\n",
       "      <th></th>\n",
       "      <th>year_of_release</th>\n",
       "      <th>na_sales</th>\n",
       "      <th>eu_sales</th>\n",
       "      <th>jp_sales</th>\n",
       "      <th>other_sales</th>\n",
       "      <th>critic_score</th>\n",
       "      <th>user_score</th>\n",
       "      <th>total_sales</th>\n",
       "    </tr>\n",
       "  </thead>\n",
       "  <tbody>\n",
       "    <tr>\n",
       "      <th>count</th>\n",
       "      <td>1146.000000</td>\n",
       "      <td>1146.000000</td>\n",
       "      <td>1146.000000</td>\n",
       "      <td>1146.000000</td>\n",
       "      <td>1146.000000</td>\n",
       "      <td>1146.000000</td>\n",
       "      <td>1146.000000</td>\n",
       "      <td>1146.000000</td>\n",
       "    </tr>\n",
       "    <tr>\n",
       "      <th>mean</th>\n",
       "      <td>2014.965969</td>\n",
       "      <td>0.220654</td>\n",
       "      <td>0.203700</td>\n",
       "      <td>0.061850</td>\n",
       "      <td>0.064921</td>\n",
       "      <td>31.511344</td>\n",
       "      <td>3.666230</td>\n",
       "      <td>0.551126</td>\n",
       "    </tr>\n",
       "    <tr>\n",
       "      <th>std</th>\n",
       "      <td>0.800476</td>\n",
       "      <td>0.511491</td>\n",
       "      <td>0.547368</td>\n",
       "      <td>0.244133</td>\n",
       "      <td>0.167507</td>\n",
       "      <td>36.516268</td>\n",
       "      <td>3.451845</td>\n",
       "      <td>1.215718</td>\n",
       "    </tr>\n",
       "    <tr>\n",
       "      <th>min</th>\n",
       "      <td>2014.000000</td>\n",
       "      <td>0.000000</td>\n",
       "      <td>0.000000</td>\n",
       "      <td>0.000000</td>\n",
       "      <td>0.000000</td>\n",
       "      <td>0.000000</td>\n",
       "      <td>0.000000</td>\n",
       "      <td>0.010000</td>\n",
       "    </tr>\n",
       "    <tr>\n",
       "      <th>25%</th>\n",
       "      <td>2014.000000</td>\n",
       "      <td>0.000000</td>\n",
       "      <td>0.000000</td>\n",
       "      <td>0.000000</td>\n",
       "      <td>0.000000</td>\n",
       "      <td>0.000000</td>\n",
       "      <td>0.000000</td>\n",
       "      <td>0.050000</td>\n",
       "    </tr>\n",
       "    <tr>\n",
       "      <th>50%</th>\n",
       "      <td>2015.000000</td>\n",
       "      <td>0.040000</td>\n",
       "      <td>0.040000</td>\n",
       "      <td>0.000000</td>\n",
       "      <td>0.010000</td>\n",
       "      <td>0.000000</td>\n",
       "      <td>4.300000</td>\n",
       "      <td>0.140000</td>\n",
       "    </tr>\n",
       "    <tr>\n",
       "      <th>75%</th>\n",
       "      <td>2016.000000</td>\n",
       "      <td>0.190000</td>\n",
       "      <td>0.160000</td>\n",
       "      <td>0.050000</td>\n",
       "      <td>0.050000</td>\n",
       "      <td>71.000000</td>\n",
       "      <td>7.100000</td>\n",
       "      <td>0.480000</td>\n",
       "    </tr>\n",
       "    <tr>\n",
       "      <th>max</th>\n",
       "      <td>2016.000000</td>\n",
       "      <td>6.030000</td>\n",
       "      <td>6.310000</td>\n",
       "      <td>3.180000</td>\n",
       "      <td>2.380000</td>\n",
       "      <td>97.000000</td>\n",
       "      <td>9.200000</td>\n",
       "      <td>14.630000</td>\n",
       "    </tr>\n",
       "  </tbody>\n",
       "</table>\n",
       "</div>"
      ],
      "text/plain": [
       "       year_of_release     na_sales     eu_sales     jp_sales  other_sales  \\\n",
       "count      1146.000000  1146.000000  1146.000000  1146.000000  1146.000000   \n",
       "mean       2014.965969     0.220654     0.203700     0.061850     0.064921   \n",
       "std           0.800476     0.511491     0.547368     0.244133     0.167507   \n",
       "min        2014.000000     0.000000     0.000000     0.000000     0.000000   \n",
       "25%        2014.000000     0.000000     0.000000     0.000000     0.000000   \n",
       "50%        2015.000000     0.040000     0.040000     0.000000     0.010000   \n",
       "75%        2016.000000     0.190000     0.160000     0.050000     0.050000   \n",
       "max        2016.000000     6.030000     6.310000     3.180000     2.380000   \n",
       "\n",
       "       critic_score   user_score  total_sales  \n",
       "count   1146.000000  1146.000000  1146.000000  \n",
       "mean      31.511344     3.666230     0.551126  \n",
       "std       36.516268     3.451845     1.215718  \n",
       "min        0.000000     0.000000     0.010000  \n",
       "25%        0.000000     0.000000     0.050000  \n",
       "50%        0.000000     4.300000     0.140000  \n",
       "75%       71.000000     7.100000     0.480000  \n",
       "max       97.000000     9.200000    14.630000  "
      ]
     },
     "execution_count": 26,
     "metadata": {},
     "output_type": "execute_result"
    }
   ],
   "source": [
    "data_act_plt.describe()"
   ]
  },
  {
   "cell_type": "code",
   "execution_count": 27,
   "metadata": {},
   "outputs": [
    {
     "data": {
      "text/plain": [
       "platform\n",
       "3DS     0.090\n",
       "PS3     0.110\n",
       "PS4     0.185\n",
       "X360    0.180\n",
       "XOne    0.205\n",
       "Name: total_sales, dtype: float64"
      ]
     },
     "execution_count": 27,
     "metadata": {},
     "output_type": "execute_result"
    }
   ],
   "source": [
    "data_act_plt.groupby('platform')['total_sales'].median()"
   ]
  },
  {
   "cell_type": "markdown",
   "metadata": {},
   "source": [
    "Построив диаграммы размаха и изучив описание данных, можно сделать вывод, что медианное значение продаж по всем платформам составляет 0.180 млн копий. Также стоит отметить, что присутствует большое количество выбросов в значениях 'total_sales'. У лидеров рынка наблюдается серьезный разброс между квартилями."
   ]
  },
  {
   "cell_type": "code",
   "execution_count": 28,
   "metadata": {},
   "outputs": [],
   "source": [
    "data_act_ps4 = data_act.query('platform == \"PS4\" and critic_score > 0 and user_score > 0')\n",
    "data_act_xbox = data_act.query('platform == \"XOne\" and critic_score > 0 and user_score > 0')"
   ]
  },
  {
   "cell_type": "code",
   "execution_count": 29,
   "metadata": {},
   "outputs": [
    {
     "data": {
      "image/png": "[encoded data removed]",
      "text/plain": [
       "<Figure size 720x504 with 1 Axes>"
      ]
     },
     "metadata": {
      "needs_background": "light"
     },
     "output_type": "display_data"
    }
   ],
   "source": [
    "(data_act_ps4\n",
    "     .pivot_table(index='total_sales', values='critic_score')\n",
    "     .plot(grid=True, figsize=(10, 7), style='o')\n",
    ")\n",
    "plt.title('Влияние оценки критиков на количество продаж PlayStation 4')\n",
    "plt.xlabel('Суммарные продажи (млн копий)')\n",
    "plt.ylabel('Оценка критиков (0-100)')\n",
    "plt.show()"
   ]
  },
  {
   "cell_type": "code",
   "execution_count": 30,
   "metadata": {},
   "outputs": [
    {
     "name": "stdout",
     "output_type": "stream",
     "text": [
      "Корреляция между оценкой критиков и суммарными продажами PlayStation 4 составляет: 0.40190287811475334\n"
     ]
    }
   ],
   "source": [
    "print('Корреляция между оценкой критиков и суммарными продажами PlayStation 4 составляет:', data_act_ps4['total_sales'].corr(data_act_ps4['critic_score']))"
   ]
  },
  {
   "cell_type": "code",
   "execution_count": 31,
   "metadata": {},
   "outputs": [
    {
     "data": {
      "image/png": "[encoded data removed]",
      "text/plain": [
       "<Figure size 720x504 with 1 Axes>"
      ]
     },
     "metadata": {
      "needs_background": "light"
     },
     "output_type": "display_data"
    }
   ],
   "source": [
    "(data_act_ps4\n",
    "     .pivot_table(index='total_sales', values='user_score')\n",
    "     .plot(grid=True, figsize=(10, 7), style='o')\n",
    ")\n",
    "plt.title('Влияние оценки пользователей на количество продаж PlayStation 4')\n",
    "plt.xlabel('Суммарные продажи (млн копий)')\n",
    "plt.ylabel('Оценка пользователей (0-10)')\n",
    "plt.show()"
   ]
  },
  {
   "cell_type": "code",
   "execution_count": 32,
   "metadata": {
    "scrolled": true
   },
   "outputs": [
    {
     "name": "stdout",
     "output_type": "stream",
     "text": [
      "Корреляция между оценкой пользователей и суммарными продажами PlayStation 4 составляет: -0.04318585997193634\n"
     ]
    }
   ],
   "source": [
    "print('Корреляция между оценкой пользователей и суммарными продажами PlayStation 4 составляет:', data_act_ps4['total_sales'].corr(data_act_ps4['user_score']))"
   ]
  },
  {
   "cell_type": "code",
   "execution_count": 33,
   "metadata": {},
   "outputs": [
    {
     "data": {
      "image/png": "[encoded data removed]",
      "text/plain": [
       "<Figure size 720x504 with 1 Axes>"
      ]
     },
     "metadata": {
      "needs_background": "light"
     },
     "output_type": "display_data"
    }
   ],
   "source": [
    "(data_act_xbox\n",
    "     .pivot_table(index='total_sales', values='critic_score')\n",
    "     .plot(grid=True, figsize=(10, 7), style='o')\n",
    ")\n",
    "plt.title('Влияние оценки критиков на количество продаж XBox One')\n",
    "plt.xlabel('Суммарные продажи (млн копий)')\n",
    "plt.ylabel('Оценка критиков (0-100)')\n",
    "plt.show()"
   ]
  },
  {
   "cell_type": "code",
   "execution_count": 34,
   "metadata": {},
   "outputs": [
    {
     "name": "stdout",
     "output_type": "stream",
     "text": [
      "Корреляция между оценкой критиков и суммарными продажами Xbox One составляет: 0.4221118510555765\n"
     ]
    }
   ],
   "source": [
    "print('Корреляция между оценкой критиков и суммарными продажами Xbox One составляет:', data_act_xbox['total_sales'].corr(data_act_xbox['critic_score']))"
   ]
  },
  {
   "cell_type": "code",
   "execution_count": 35,
   "metadata": {},
   "outputs": [
    {
     "data": {
      "image/png": "[encoded data removed]",
      "text/plain": [
       "<Figure size 720x504 with 1 Axes>"
      ]
     },
     "metadata": {
      "needs_background": "light"
     },
     "output_type": "display_data"
    }
   ],
   "source": [
    "(data_act_xbox\n",
    "     .pivot_table(index='total_sales', values='user_score')\n",
    "     .plot(grid=True, figsize=(10, 7), style='o')\n",
    ")\n",
    "plt.title('Влияние оценки пользователей на количество продаж Xbox One')\n",
    "plt.xlabel('Суммарные продажи (млн копий)')\n",
    "plt.ylabel('Оценка пользователей (0-10)')\n",
    "plt.show()"
   ]
  },
  {
   "cell_type": "code",
   "execution_count": 36,
   "metadata": {},
   "outputs": [
    {
     "name": "stdout",
     "output_type": "stream",
     "text": [
      "Корреляция между оценкой пользователей и суммарными продажами Xbox One составляет: -0.09173434503310748\n"
     ]
    }
   ],
   "source": [
    "print('Корреляция между оценкой пользователей и суммарными продажами Xbox One составляет:', data_act_xbox['total_sales'].corr(data_act_xbox['user_score']))"
   ]
  },
  {
   "cell_type": "markdown",
   "metadata": {},
   "source": [
    "Можно сделать вывод, что оценка пользователей не сильно влияют на количество продаж в целом. Если сравнивать два значения корреляции: оценки пользователей и оценки критиков, то большее воздействие оказывают критики."
   ]
  },
  {
   "cell_type": "code",
   "execution_count": 37,
   "metadata": {},
   "outputs": [
    {
     "data": {
      "image/png": "[encoded data removed]",
      "text/plain": [
       "<Figure size 720x648 with 1 Axes>"
      ]
     },
     "metadata": {
      "needs_background": "light"
     },
     "output_type": "display_data"
    }
   ],
   "source": [
    "(data_act\n",
    "    .pivot_table(index='genre', values='total_sales', aggfunc='sum')\n",
    "    .sort_values(by='total_sales', ascending=False)\n",
    "    .plot.bar(grid=True, figsize=(10, 9))\n",
    ")\n",
    "plt.title('Суммарные продажи игр по жанрам за 2016 год')\n",
    "plt.xlabel('Жанр')\n",
    "plt.ylabel('Суммарные продажи (млн копий)')\n",
    "plt.show()"
   ]
  },
  {
   "cell_type": "markdown",
   "metadata": {},
   "source": [
    "Самыми продаваемыми играми являются игры с жанрами: шутер, экшен, спорт и ролевая игра. Остальные жанры остаются менее востребованными на рынке, меньше всего продаются паззлы, стратегии и симуляторы. "
   ]
  },
  {
   "cell_type": "markdown",
   "metadata": {},
   "source": [
    "## Портреты пользователей из разных регионов"
   ]
  },
  {
   "cell_type": "markdown",
   "metadata": {},
   "source": [
    "### Портрет пользователя из Северной Америки"
   ]
  },
  {
   "cell_type": "code",
   "execution_count": 38,
   "metadata": {},
   "outputs": [
    {
     "data": {
      "image/png": "[encoded data removed]",
      "text/plain": [
       "<Figure size 720x648 with 1 Axes>"
      ]
     },
     "metadata": {
      "needs_background": "light"
     },
     "output_type": "display_data"
    }
   ],
   "source": [
    "(data_act\n",
    "    .pivot_table(index='platform', values='na_sales', aggfunc='sum')\n",
    "    .sort_values(by='na_sales', ascending=False)\n",
    "    .plot(kind='bar', grid=True, figsize=(10, 9))\n",
    ")\n",
    "plt.title('Продажи по платформам в Северной Америке с 2014 по 2016 год')\n",
    "plt.xlabel('Платформа')\n",
    "plt.ylabel('Количество продаж (млн копий)')\n",
    "plt.show()"
   ]
  },
  {
   "cell_type": "code",
   "execution_count": 39,
   "metadata": {},
   "outputs": [
    {
     "data": {
      "image/png": "[encoded data removed]",
      "text/plain": [
       "<Figure size 720x648 with 1 Axes>"
      ]
     },
     "metadata": {
      "needs_background": "light"
     },
     "output_type": "display_data"
    }
   ],
   "source": [
    "(data_act\n",
    "    .pivot_table(index='genre', values='na_sales', aggfunc='sum')\n",
    "    .sort_values(by='na_sales', ascending=False)\n",
    "    .plot(kind='bar', grid=True, figsize=(10, 9))\n",
    ")\n",
    "plt.title('Продажи по жанрам в Северной Америке с 2014 по 2016 год')\n",
    "plt.xlabel('Жанр')\n",
    "plt.ylabel('Количество продаж (млн копий)')\n",
    "plt.show()"
   ]
  },
  {
   "cell_type": "code",
   "execution_count": 40,
   "metadata": {},
   "outputs": [
    {
     "data": {
      "image/png": "[encoded data removed]",
      "text/plain": [
       "<Figure size 576x576 with 1 Axes>"
      ]
     },
     "metadata": {},
     "output_type": "display_data"
    }
   ],
   "source": [
    "(data_act\n",
    "    .pivot_table(index='rating', values='na_sales', aggfunc='sum')\n",
    "    .plot.pie(y='na_sales', figsize=(8, 8), label='', autopct='%1.1f%%')\n",
    ")\n",
    "plt.title('Продажи по рейтингу ESRB в Северной Америке с 2014 по 2016 год')\n",
    "plt.show()"
   ]
  },
  {
   "cell_type": "markdown",
   "metadata": {},
   "source": [
    "**Вывод из проведенного исследования**\n",
    "* Среднестатистический пользователь из Северной Америки является поклонником одной из пяти самых популярных платформ для игр: PlayStation 4, XBox One, Nintendo 3DS, Wii U, PC\n",
    "* Предпочитает игры в жанрах: шутер, экшен, спорт, ролевые игры, Misc\n",
    "* Исходя из рейтинга ESRB, большинство пользователей взрослые, либо подростки:\n",
    "    * 13,7% (T) занимает доля игр для тинейджеров\n",
    "    * 33,9% (M) - игры для людей с возрастом 17+\n",
    "    * 11,7% и 17,9% занимают игры для всез возрастов, которые понравятся и детям, и взрослым"
   ]
  },
  {
   "cell_type": "markdown",
   "metadata": {},
   "source": [
    "### Портрет пользователя из Европы"
   ]
  },
  {
   "cell_type": "code",
   "execution_count": 41,
   "metadata": {},
   "outputs": [
    {
     "data": {
      "image/png": "[encoded data removed]",
      "text/plain": [
       "<Figure size 720x648 with 1 Axes>"
      ]
     },
     "metadata": {
      "needs_background": "light"
     },
     "output_type": "display_data"
    }
   ],
   "source": [
    "(data_act\n",
    "    .pivot_table(index='platform', values='eu_sales', aggfunc='sum')\n",
    "    .sort_values(by='eu_sales', ascending=False)\n",
    "    .plot(kind='bar', grid=True, figsize=(10, 9))\n",
    ")\n",
    "plt.title('Продажи по платформам в Европе с 2014 по 2016 год')\n",
    "plt.xlabel('Платформа')\n",
    "plt.ylabel('Количество продаж (млн копий)')\n",
    "plt.show()"
   ]
  },
  {
   "cell_type": "code",
   "execution_count": 42,
   "metadata": {},
   "outputs": [
    {
     "data": {
      "image/png": "[encoded data removed]",
      "text/plain": [
       "<Figure size 720x648 with 1 Axes>"
      ]
     },
     "metadata": {
      "needs_background": "light"
     },
     "output_type": "display_data"
    }
   ],
   "source": [
    "(data_act\n",
    "    .pivot_table(index='genre', values='eu_sales', aggfunc='sum')\n",
    "    .sort_values(by='eu_sales', ascending=False)\n",
    "    .plot(kind='bar', grid=True, figsize=(10, 9))\n",
    ")\n",
    "plt.title('Продажи по жанрам в Европе с 2014 по 2016 год')\n",
    "plt.xlabel('Жанр')\n",
    "plt.ylabel('Количество продаж (млн копий)')\n",
    "plt.show()"
   ]
  },
  {
   "cell_type": "code",
   "execution_count": 43,
   "metadata": {},
   "outputs": [
    {
     "data": {
      "image/png": "[encoded data removed]",
      "text/plain": [
       "<Figure size 576x576 with 1 Axes>"
      ]
     },
     "metadata": {},
     "output_type": "display_data"
    }
   ],
   "source": [
    "(data_act\n",
    "    .pivot_table(index='rating', values='eu_sales', aggfunc='sum')\n",
    "    .plot.pie(y='eu_sales', figsize=(8, 8), label='', autopct='%1.1f%%')\n",
    ")\n",
    "plt.title('Продажи по рейтингу ESRB в Европе с 2014 по 2016 год')\n",
    "plt.show()"
   ]
  },
  {
   "cell_type": "markdown",
   "metadata": {},
   "source": [
    "**Вывод**\n",
    "* Пользователи в Европе в болшинстве предпочитают PlayStation 4. Меньшую в 3 раза долю занимает XBox One. PC, Nintendo 3DS, Wii U входят в топ-5 используемых платформ, однако, занимают очень маленькую долю по сравнению с гигантами рынка.\n",
    "* Предпочитает игры в жанрах: шутер, экшен, спорт, ролевые игры, гонки\n",
    "* Большую долю рынка по рейтингу ESRB в совокупности занимают игры для всех возрастов (E, E10+), а также для тинейджеров (T). 34,5% занимают игры для лиц, не младше 17 лет (M)."
   ]
  },
  {
   "cell_type": "markdown",
   "metadata": {},
   "source": [
    "### Портрет пользователя из Японии"
   ]
  },
  {
   "cell_type": "code",
   "execution_count": 44,
   "metadata": {},
   "outputs": [
    {
     "data": {
      "image/png": "[encoded data removed]",
      "text/plain": [
       "<Figure size 720x648 with 1 Axes>"
      ]
     },
     "metadata": {
      "needs_background": "light"
     },
     "output_type": "display_data"
    }
   ],
   "source": [
    "(data_act\n",
    "    .pivot_table(index='platform', values='jp_sales', aggfunc='sum')\n",
    "    .sort_values(by='jp_sales', ascending=False)\n",
    "    .plot(kind='bar', grid=True, figsize=(10, 9))\n",
    ")\n",
    "plt.title('Продажи по платформам в Японии с 2014 по 2016 год')\n",
    "plt.xlabel('Платформа')\n",
    "plt.ylabel('Количество продаж (млн копий)')\n",
    "plt.show()"
   ]
  },
  {
   "cell_type": "code",
   "execution_count": 45,
   "metadata": {},
   "outputs": [
    {
     "data": {
      "image/png": "[encoded data removed]",
      "text/plain": [
       "<Figure size 720x648 with 1 Axes>"
      ]
     },
     "metadata": {
      "needs_background": "light"
     },
     "output_type": "display_data"
    }
   ],
   "source": [
    "(data_act\n",
    "    .pivot_table(index='genre', values='jp_sales', aggfunc='sum')\n",
    "    .sort_values(by='jp_sales', ascending=False)\n",
    "    .plot(kind='bar', grid=True, figsize=(10, 9))\n",
    ")\n",
    "plt.title('Продажи по жанрам в Японии с 2014 по 2016 год')\n",
    "plt.xlabel('Жанр')\n",
    "plt.ylabel('Количество продаж (млн копий)')\n",
    "plt.show()"
   ]
  },
  {
   "cell_type": "code",
   "execution_count": 46,
   "metadata": {},
   "outputs": [
    {
     "data": {
      "image/png": "[encoded data removed]",
      "text/plain": [
       "<Figure size 576x576 with 1 Axes>"
      ]
     },
     "metadata": {},
     "output_type": "display_data"
    }
   ],
   "source": [
    "(data_act\n",
    "    .pivot_table(index='rating', values='jp_sales', aggfunc='sum')\n",
    "    .plot.pie(y='jp_sales', figsize=(8, 8), label='', autopct='%1.1f%%')\n",
    ")\n",
    "plt.title('Продажи по рейтингу ESRB в Японии с 2014 по 2016 год')\n",
    "plt.show()"
   ]
  },
  {
   "cell_type": "markdown",
   "metadata": {},
   "source": [
    "**Вывод**\n",
    "\n",
    "В Японии наблюдается очень интересная картина портрета пользователя из Японии\n",
    "* Во-первых, больше всего пользуются Nintendo 3DS. На втором месте PlayStation 4; далее идут PlayStation Vita, PlayStation 3, Wii U. Хочется отметить, что производителем этих платформ являются Японсике компании.\n",
    "* Топ-5 жанров игр, которые предпочитают Японцы: экшен, ролевые игры, файтинг, шутер, Misc\n",
    "* Что касается игр по рейтингу ESRB, то у 61,1% игр, проданных в Японии он отсутствует. Поэтому судить по меньшинству, я считаю, что некорректно.\n",
    "\n",
    "*Если обобщить все три вывода, то, в целом, портреты пользователей из Северной Америки и Европы практически не имеют различий. Но на их фоне сильно выделяется портрет пользователя из Японии, что связано со спецификой культуры, менталитета, а также предпочтений и вкусов.*"
   ]
  },
  {
   "cell_type": "markdown",
   "metadata": {},
   "source": [
    "##  Проверка гипотез"
   ]
  },
  {
   "cell_type": "markdown",
   "metadata": {},
   "source": [
    "### Средние пользовательские рейтинги платформ Xbox One и PC"
   ]
  },
  {
   "cell_type": "code",
   "execution_count": 47,
   "metadata": {},
   "outputs": [
    {
     "data": {
      "text/html": [
       "<div>\n",
       "<style scoped>\n",
       "    .dataframe tbody tr th:only-of-type {\n",
       "        vertical-align: middle;\n",
       "    }\n",
       "\n",
       "    .dataframe tbody tr th {\n",
       "        vertical-align: top;\n",
       "    }\n",
       "\n",
       "    .dataframe thead th {\n",
       "        text-align: right;\n",
       "    }\n",
       "</style>\n",
       "<table border=\"1\" class=\"dataframe\">\n",
       "  <thead>\n",
       "    <tr style=\"text-align: right;\">\n",
       "      <th></th>\n",
       "      <th>name</th>\n",
       "      <th>platform</th>\n",
       "      <th>year_of_release</th>\n",
       "      <th>genre</th>\n",
       "      <th>na_sales</th>\n",
       "      <th>eu_sales</th>\n",
       "      <th>jp_sales</th>\n",
       "      <th>other_sales</th>\n",
       "      <th>critic_score</th>\n",
       "      <th>user_score</th>\n",
       "      <th>rating</th>\n",
       "      <th>total_sales</th>\n",
       "    </tr>\n",
       "  </thead>\n",
       "  <tbody>\n",
       "    <tr>\n",
       "      <th>99</th>\n",
       "      <td>Call of Duty: Black Ops 3</td>\n",
       "      <td>XOne</td>\n",
       "      <td>2015</td>\n",
       "      <td>Shooter</td>\n",
       "      <td>4.59</td>\n",
       "      <td>2.11</td>\n",
       "      <td>0.01</td>\n",
       "      <td>0.68</td>\n",
       "      <td>0.0</td>\n",
       "      <td>0.0</td>\n",
       "      <td>n/d</td>\n",
       "      <td>7.39</td>\n",
       "    </tr>\n",
       "    <tr>\n",
       "      <th>165</th>\n",
       "      <td>Grand Theft Auto V</td>\n",
       "      <td>XOne</td>\n",
       "      <td>2014</td>\n",
       "      <td>Action</td>\n",
       "      <td>2.81</td>\n",
       "      <td>2.19</td>\n",
       "      <td>0.00</td>\n",
       "      <td>0.47</td>\n",
       "      <td>97.0</td>\n",
       "      <td>7.9</td>\n",
       "      <td>M</td>\n",
       "      <td>5.47</td>\n",
       "    </tr>\n",
       "    <tr>\n",
       "      <th>179</th>\n",
       "      <td>Call of Duty: Advanced Warfare</td>\n",
       "      <td>XOne</td>\n",
       "      <td>2014</td>\n",
       "      <td>Shooter</td>\n",
       "      <td>3.22</td>\n",
       "      <td>1.55</td>\n",
       "      <td>0.01</td>\n",
       "      <td>0.48</td>\n",
       "      <td>81.0</td>\n",
       "      <td>5.4</td>\n",
       "      <td>M</td>\n",
       "      <td>5.26</td>\n",
       "    </tr>\n",
       "    <tr>\n",
       "      <th>242</th>\n",
       "      <td>Halo 5: Guardians</td>\n",
       "      <td>XOne</td>\n",
       "      <td>2015</td>\n",
       "      <td>Shooter</td>\n",
       "      <td>2.78</td>\n",
       "      <td>1.27</td>\n",
       "      <td>0.03</td>\n",
       "      <td>0.41</td>\n",
       "      <td>84.0</td>\n",
       "      <td>6.4</td>\n",
       "      <td>T</td>\n",
       "      <td>4.49</td>\n",
       "    </tr>\n",
       "    <tr>\n",
       "      <th>270</th>\n",
       "      <td>Fallout 4</td>\n",
       "      <td>XOne</td>\n",
       "      <td>2015</td>\n",
       "      <td>Role-Playing</td>\n",
       "      <td>2.51</td>\n",
       "      <td>1.32</td>\n",
       "      <td>0.01</td>\n",
       "      <td>0.38</td>\n",
       "      <td>88.0</td>\n",
       "      <td>6.2</td>\n",
       "      <td>M</td>\n",
       "      <td>4.22</td>\n",
       "    </tr>\n",
       "  </tbody>\n",
       "</table>\n",
       "</div>"
      ],
      "text/plain": [
       "                               name platform  year_of_release         genre  \\\n",
       "99        Call of Duty: Black Ops 3     XOne             2015       Shooter   \n",
       "165              Grand Theft Auto V     XOne             2014        Action   \n",
       "179  Call of Duty: Advanced Warfare     XOne             2014       Shooter   \n",
       "242               Halo 5: Guardians     XOne             2015       Shooter   \n",
       "270                       Fallout 4     XOne             2015  Role-Playing   \n",
       "\n",
       "     na_sales  eu_sales  jp_sales  other_sales  critic_score  user_score  \\\n",
       "99       4.59      2.11      0.01         0.68           0.0         0.0   \n",
       "165      2.81      2.19      0.00         0.47          97.0         7.9   \n",
       "179      3.22      1.55      0.01         0.48          81.0         5.4   \n",
       "242      2.78      1.27      0.03         0.41          84.0         6.4   \n",
       "270      2.51      1.32      0.01         0.38          88.0         6.2   \n",
       "\n",
       "    rating  total_sales  \n",
       "99     n/d         7.39  \n",
       "165      M         5.47  \n",
       "179      M         5.26  \n",
       "242      T         4.49  \n",
       "270      M         4.22  "
      ]
     },
     "metadata": {},
     "output_type": "display_data"
    },
    {
     "data": {
      "text/html": [
       "<div>\n",
       "<style scoped>\n",
       "    .dataframe tbody tr th:only-of-type {\n",
       "        vertical-align: middle;\n",
       "    }\n",
       "\n",
       "    .dataframe tbody tr th {\n",
       "        vertical-align: top;\n",
       "    }\n",
       "\n",
       "    .dataframe thead th {\n",
       "        text-align: right;\n",
       "    }\n",
       "</style>\n",
       "<table border=\"1\" class=\"dataframe\">\n",
       "  <thead>\n",
       "    <tr style=\"text-align: right;\">\n",
       "      <th></th>\n",
       "      <th>name</th>\n",
       "      <th>platform</th>\n",
       "      <th>year_of_release</th>\n",
       "      <th>genre</th>\n",
       "      <th>na_sales</th>\n",
       "      <th>eu_sales</th>\n",
       "      <th>jp_sales</th>\n",
       "      <th>other_sales</th>\n",
       "      <th>critic_score</th>\n",
       "      <th>user_score</th>\n",
       "      <th>rating</th>\n",
       "      <th>total_sales</th>\n",
       "    </tr>\n",
       "  </thead>\n",
       "  <tbody>\n",
       "    <tr>\n",
       "      <th>458</th>\n",
       "      <td>The Sims 4</td>\n",
       "      <td>PC</td>\n",
       "      <td>2014</td>\n",
       "      <td>Simulation</td>\n",
       "      <td>1.00</td>\n",
       "      <td>1.82</td>\n",
       "      <td>0.0</td>\n",
       "      <td>0.23</td>\n",
       "      <td>70.0</td>\n",
       "      <td>3.9</td>\n",
       "      <td>T</td>\n",
       "      <td>3.05</td>\n",
       "    </tr>\n",
       "    <tr>\n",
       "      <th>1530</th>\n",
       "      <td>Fallout 4</td>\n",
       "      <td>PC</td>\n",
       "      <td>2015</td>\n",
       "      <td>Role-Playing</td>\n",
       "      <td>0.51</td>\n",
       "      <td>0.67</td>\n",
       "      <td>0.0</td>\n",
       "      <td>0.10</td>\n",
       "      <td>84.0</td>\n",
       "      <td>5.4</td>\n",
       "      <td>M</td>\n",
       "      <td>1.28</td>\n",
       "    </tr>\n",
       "    <tr>\n",
       "      <th>1677</th>\n",
       "      <td>Farming Simulator 2015</td>\n",
       "      <td>PC</td>\n",
       "      <td>2014</td>\n",
       "      <td>Simulation</td>\n",
       "      <td>0.08</td>\n",
       "      <td>1.04</td>\n",
       "      <td>0.0</td>\n",
       "      <td>0.07</td>\n",
       "      <td>0.0</td>\n",
       "      <td>0.0</td>\n",
       "      <td>n/d</td>\n",
       "      <td>1.19</td>\n",
       "    </tr>\n",
       "    <tr>\n",
       "      <th>1730</th>\n",
       "      <td>Grand Theft Auto V</td>\n",
       "      <td>PC</td>\n",
       "      <td>2015</td>\n",
       "      <td>Action</td>\n",
       "      <td>0.39</td>\n",
       "      <td>0.69</td>\n",
       "      <td>0.0</td>\n",
       "      <td>0.09</td>\n",
       "      <td>96.0</td>\n",
       "      <td>7.9</td>\n",
       "      <td>M</td>\n",
       "      <td>1.17</td>\n",
       "    </tr>\n",
       "    <tr>\n",
       "      <th>2303</th>\n",
       "      <td>The Elder Scrolls Online</td>\n",
       "      <td>PC</td>\n",
       "      <td>2014</td>\n",
       "      <td>Role-Playing</td>\n",
       "      <td>0.32</td>\n",
       "      <td>0.51</td>\n",
       "      <td>0.0</td>\n",
       "      <td>0.07</td>\n",
       "      <td>71.0</td>\n",
       "      <td>5.7</td>\n",
       "      <td>M</td>\n",
       "      <td>0.90</td>\n",
       "    </tr>\n",
       "  </tbody>\n",
       "</table>\n",
       "</div>"
      ],
      "text/plain": [
       "                          name platform  year_of_release         genre  \\\n",
       "458                 The Sims 4       PC             2014    Simulation   \n",
       "1530                 Fallout 4       PC             2015  Role-Playing   \n",
       "1677    Farming Simulator 2015       PC             2014    Simulation   \n",
       "1730        Grand Theft Auto V       PC             2015        Action   \n",
       "2303  The Elder Scrolls Online       PC             2014  Role-Playing   \n",
       "\n",
       "      na_sales  eu_sales  jp_sales  other_sales  critic_score  user_score  \\\n",
       "458       1.00      1.82       0.0         0.23          70.0         3.9   \n",
       "1530      0.51      0.67       0.0         0.10          84.0         5.4   \n",
       "1677      0.08      1.04       0.0         0.07           0.0         0.0   \n",
       "1730      0.39      0.69       0.0         0.09          96.0         7.9   \n",
       "2303      0.32      0.51       0.0         0.07          71.0         5.7   \n",
       "\n",
       "     rating  total_sales  \n",
       "458       T         3.05  \n",
       "1530      M         1.28  \n",
       "1677    n/d         1.19  \n",
       "1730      M         1.17  \n",
       "2303      M         0.90  "
      ]
     },
     "metadata": {},
     "output_type": "display_data"
    }
   ],
   "source": [
    "xbox = data_act.query('platform == \"XOne\"')\n",
    "pc = data_act.query('platform == \"PC\"')\n",
    "display(xbox.head())\n",
    "display(pc.head())"
   ]
  },
  {
   "cell_type": "markdown",
   "metadata": {},
   "source": [
    "Создадим отдельные датафреймы, где будут необходимые данные по нашим платформам"
   ]
  },
  {
   "cell_type": "markdown",
   "metadata": {},
   "source": [
    "**Нулевая гипотеза** - средние пользовательские рейтинги платформ XBox One и PC одинаковые \n",
    "\n",
    "**Альтернативная гипотеза** - пользовательские рейтинги плалатформы XBox One выше\n",
    "\n",
    "Нулевая гипотеза была сформирована из того, что значения могут быть равны, а альтернативная, потому что, исходя из предыдущих исследований, платформу XBox One используют больше, чем PC."
   ]
  },
  {
   "cell_type": "code",
   "execution_count": 48,
   "metadata": {},
   "outputs": [
    {
     "name": "stdout",
     "output_type": "stream",
     "text": [
      "p-значение: 0.8400945377010094\n",
      "Не отвергаем нулевую гипотезу\n"
     ]
    }
   ],
   "source": [
    "alpha = 0.05\n",
    "\n",
    "results = st.ttest_ind(\n",
    "    xbox['user_score'], \n",
    "    pc['user_score'],\n",
    "    equal_var=False, \n",
    "    alternative='greater'\n",
    ") \n",
    "\n",
    "print('p-значение:', results.pvalue)\n",
    "\n",
    "if results.pvalue < alpha:\n",
    "    print('Отвергаем нулевую гипотезу')\n",
    "else:\n",
    "    print('Не отвергаем нулевую гипотезу')"
   ]
  },
  {
   "cell_type": "markdown",
   "metadata": {},
   "source": [
    "Нулевую гипотезу не получилось отвергнуть, значит есть основания говорить о том, что ретинги пользователей платформ XBox One и PC близки по значению друг к другу."
   ]
  },
  {
   "cell_type": "markdown",
   "metadata": {},
   "source": [
    "### Средние пользовательские рейтинги жанров Action и Sports"
   ]
  },
  {
   "cell_type": "code",
   "execution_count": 49,
   "metadata": {
    "scrolled": true
   },
   "outputs": [
    {
     "data": {
      "text/html": [
       "<div>\n",
       "<style scoped>\n",
       "    .dataframe tbody tr th:only-of-type {\n",
       "        vertical-align: middle;\n",
       "    }\n",
       "\n",
       "    .dataframe tbody tr th {\n",
       "        vertical-align: top;\n",
       "    }\n",
       "\n",
       "    .dataframe thead th {\n",
       "        text-align: right;\n",
       "    }\n",
       "</style>\n",
       "<table border=\"1\" class=\"dataframe\">\n",
       "  <thead>\n",
       "    <tr style=\"text-align: right;\">\n",
       "      <th></th>\n",
       "      <th>name</th>\n",
       "      <th>platform</th>\n",
       "      <th>year_of_release</th>\n",
       "      <th>genre</th>\n",
       "      <th>na_sales</th>\n",
       "      <th>eu_sales</th>\n",
       "      <th>jp_sales</th>\n",
       "      <th>other_sales</th>\n",
       "      <th>critic_score</th>\n",
       "      <th>user_score</th>\n",
       "      <th>rating</th>\n",
       "      <th>total_sales</th>\n",
       "    </tr>\n",
       "  </thead>\n",
       "  <tbody>\n",
       "    <tr>\n",
       "      <th>42</th>\n",
       "      <td>Grand Theft Auto V</td>\n",
       "      <td>PS4</td>\n",
       "      <td>2014</td>\n",
       "      <td>Action</td>\n",
       "      <td>3.96</td>\n",
       "      <td>6.31</td>\n",
       "      <td>0.38</td>\n",
       "      <td>1.97</td>\n",
       "      <td>97.0</td>\n",
       "      <td>8.3</td>\n",
       "      <td>M</td>\n",
       "      <td>12.62</td>\n",
       "    </tr>\n",
       "    <tr>\n",
       "      <th>165</th>\n",
       "      <td>Grand Theft Auto V</td>\n",
       "      <td>XOne</td>\n",
       "      <td>2014</td>\n",
       "      <td>Action</td>\n",
       "      <td>2.81</td>\n",
       "      <td>2.19</td>\n",
       "      <td>0.00</td>\n",
       "      <td>0.47</td>\n",
       "      <td>97.0</td>\n",
       "      <td>7.9</td>\n",
       "      <td>M</td>\n",
       "      <td>5.47</td>\n",
       "    </tr>\n",
       "    <tr>\n",
       "      <th>225</th>\n",
       "      <td>The Last of Us</td>\n",
       "      <td>PS4</td>\n",
       "      <td>2014</td>\n",
       "      <td>Action</td>\n",
       "      <td>1.88</td>\n",
       "      <td>2.00</td>\n",
       "      <td>0.07</td>\n",
       "      <td>0.77</td>\n",
       "      <td>0.0</td>\n",
       "      <td>0.0</td>\n",
       "      <td>n/d</td>\n",
       "      <td>4.72</td>\n",
       "    </tr>\n",
       "    <tr>\n",
       "      <th>231</th>\n",
       "      <td>Uncharted: The Nathan Drake Collection</td>\n",
       "      <td>PS4</td>\n",
       "      <td>2015</td>\n",
       "      <td>Action</td>\n",
       "      <td>2.07</td>\n",
       "      <td>1.71</td>\n",
       "      <td>0.08</td>\n",
       "      <td>0.76</td>\n",
       "      <td>86.0</td>\n",
       "      <td>8.1</td>\n",
       "      <td>T</td>\n",
       "      <td>4.62</td>\n",
       "    </tr>\n",
       "    <tr>\n",
       "      <th>295</th>\n",
       "      <td>Watch Dogs</td>\n",
       "      <td>PS4</td>\n",
       "      <td>2014</td>\n",
       "      <td>Action</td>\n",
       "      <td>1.40</td>\n",
       "      <td>1.90</td>\n",
       "      <td>0.11</td>\n",
       "      <td>0.64</td>\n",
       "      <td>80.0</td>\n",
       "      <td>6.3</td>\n",
       "      <td>M</td>\n",
       "      <td>4.05</td>\n",
       "    </tr>\n",
       "  </tbody>\n",
       "</table>\n",
       "</div>"
      ],
      "text/plain": [
       "                                       name platform  year_of_release   genre  \\\n",
       "42                       Grand Theft Auto V      PS4             2014  Action   \n",
       "165                      Grand Theft Auto V     XOne             2014  Action   \n",
       "225                          The Last of Us      PS4             2014  Action   \n",
       "231  Uncharted: The Nathan Drake Collection      PS4             2015  Action   \n",
       "295                              Watch Dogs      PS4             2014  Action   \n",
       "\n",
       "     na_sales  eu_sales  jp_sales  other_sales  critic_score  user_score  \\\n",
       "42       3.96      6.31      0.38         1.97          97.0         8.3   \n",
       "165      2.81      2.19      0.00         0.47          97.0         7.9   \n",
       "225      1.88      2.00      0.07         0.77           0.0         0.0   \n",
       "231      2.07      1.71      0.08         0.76          86.0         8.1   \n",
       "295      1.40      1.90      0.11         0.64          80.0         6.3   \n",
       "\n",
       "    rating  total_sales  \n",
       "42       M        12.62  \n",
       "165      M         5.47  \n",
       "225    n/d         4.72  \n",
       "231      T         4.62  \n",
       "295      M         4.05  "
      ]
     },
     "metadata": {},
     "output_type": "display_data"
    },
    {
     "data": {
      "text/html": [
       "<div>\n",
       "<style scoped>\n",
       "    .dataframe tbody tr th:only-of-type {\n",
       "        vertical-align: middle;\n",
       "    }\n",
       "\n",
       "    .dataframe tbody tr th {\n",
       "        vertical-align: top;\n",
       "    }\n",
       "\n",
       "    .dataframe thead th {\n",
       "        text-align: right;\n",
       "    }\n",
       "</style>\n",
       "<table border=\"1\" class=\"dataframe\">\n",
       "  <thead>\n",
       "    <tr style=\"text-align: right;\">\n",
       "      <th></th>\n",
       "      <th>name</th>\n",
       "      <th>platform</th>\n",
       "      <th>year_of_release</th>\n",
       "      <th>genre</th>\n",
       "      <th>na_sales</th>\n",
       "      <th>eu_sales</th>\n",
       "      <th>jp_sales</th>\n",
       "      <th>other_sales</th>\n",
       "      <th>critic_score</th>\n",
       "      <th>user_score</th>\n",
       "      <th>rating</th>\n",
       "      <th>total_sales</th>\n",
       "    </tr>\n",
       "  </thead>\n",
       "  <tbody>\n",
       "    <tr>\n",
       "      <th>77</th>\n",
       "      <td>FIFA 16</td>\n",
       "      <td>PS4</td>\n",
       "      <td>2015</td>\n",
       "      <td>Sports</td>\n",
       "      <td>1.12</td>\n",
       "      <td>6.12</td>\n",
       "      <td>0.06</td>\n",
       "      <td>1.28</td>\n",
       "      <td>82.0</td>\n",
       "      <td>4.3</td>\n",
       "      <td>E</td>\n",
       "      <td>8.58</td>\n",
       "    </tr>\n",
       "    <tr>\n",
       "      <th>94</th>\n",
       "      <td>FIFA 17</td>\n",
       "      <td>PS4</td>\n",
       "      <td>2016</td>\n",
       "      <td>Sports</td>\n",
       "      <td>0.66</td>\n",
       "      <td>5.75</td>\n",
       "      <td>0.08</td>\n",
       "      <td>1.11</td>\n",
       "      <td>85.0</td>\n",
       "      <td>5.0</td>\n",
       "      <td>E</td>\n",
       "      <td>7.60</td>\n",
       "    </tr>\n",
       "    <tr>\n",
       "      <th>143</th>\n",
       "      <td>FIFA 15</td>\n",
       "      <td>PS4</td>\n",
       "      <td>2014</td>\n",
       "      <td>Sports</td>\n",
       "      <td>0.80</td>\n",
       "      <td>4.33</td>\n",
       "      <td>0.05</td>\n",
       "      <td>0.90</td>\n",
       "      <td>82.0</td>\n",
       "      <td>5.7</td>\n",
       "      <td>E</td>\n",
       "      <td>6.08</td>\n",
       "    </tr>\n",
       "    <tr>\n",
       "      <th>264</th>\n",
       "      <td>FIFA 15</td>\n",
       "      <td>PS3</td>\n",
       "      <td>2014</td>\n",
       "      <td>Sports</td>\n",
       "      <td>0.58</td>\n",
       "      <td>3.02</td>\n",
       "      <td>0.04</td>\n",
       "      <td>0.64</td>\n",
       "      <td>0.0</td>\n",
       "      <td>4.5</td>\n",
       "      <td>E</td>\n",
       "      <td>4.28</td>\n",
       "    </tr>\n",
       "    <tr>\n",
       "      <th>314</th>\n",
       "      <td>NBA 2K16</td>\n",
       "      <td>PS4</td>\n",
       "      <td>2015</td>\n",
       "      <td>Sports</td>\n",
       "      <td>2.49</td>\n",
       "      <td>0.66</td>\n",
       "      <td>0.03</td>\n",
       "      <td>0.69</td>\n",
       "      <td>87.0</td>\n",
       "      <td>6.7</td>\n",
       "      <td>E10+</td>\n",
       "      <td>3.87</td>\n",
       "    </tr>\n",
       "  </tbody>\n",
       "</table>\n",
       "</div>"
      ],
      "text/plain": [
       "         name platform  year_of_release   genre  na_sales  eu_sales  jp_sales  \\\n",
       "77    FIFA 16      PS4             2015  Sports      1.12      6.12      0.06   \n",
       "94    FIFA 17      PS4             2016  Sports      0.66      5.75      0.08   \n",
       "143   FIFA 15      PS4             2014  Sports      0.80      4.33      0.05   \n",
       "264   FIFA 15      PS3             2014  Sports      0.58      3.02      0.04   \n",
       "314  NBA 2K16      PS4             2015  Sports      2.49      0.66      0.03   \n",
       "\n",
       "     other_sales  critic_score  user_score rating  total_sales  \n",
       "77          1.28          82.0         4.3      E         8.58  \n",
       "94          1.11          85.0         5.0      E         7.60  \n",
       "143         0.90          82.0         5.7      E         6.08  \n",
       "264         0.64           0.0         4.5      E         4.28  \n",
       "314         0.69          87.0         6.7   E10+         3.87  "
      ]
     },
     "metadata": {},
     "output_type": "display_data"
    }
   ],
   "source": [
    "action = data_act.query('genre == \"Action\"')\n",
    "sports = data_act.query('genre == \"Sports\"')\n",
    "display(action.head())\n",
    "display(sports.head())"
   ]
  },
  {
   "cell_type": "markdown",
   "metadata": {},
   "source": [
    "**Нулевая гипотеза** - средние пользовательские рейтинги жанров Action и Sports одинаковые \n",
    "\n",
    "**Альтернативная гипотеза** - средние пользовательские рейтинги жанров Action и Sports не равны\n",
    "\n",
    "Выбрал значение two-sided, так как в альтернативной гипотезе есть формулировка \"не равны\""
   ]
  },
  {
   "cell_type": "code",
   "execution_count": 50,
   "metadata": {},
   "outputs": [
    {
     "name": "stdout",
     "output_type": "stream",
     "text": [
      "p-значение: 0.0006646333120910831\n",
      "Отвергаем нулевую гипотезу\n"
     ]
    }
   ],
   "source": [
    "alpha = 0.05\n",
    "\n",
    "results = st.ttest_ind(\n",
    "    action['user_score'], \n",
    "    sports['user_score'],\n",
    "    equal_var=False, \n",
    "    alternative='two-sided' \n",
    ") \n",
    "\n",
    "print('p-значение:', results.pvalue)\n",
    "\n",
    "if results.pvalue < alpha:\n",
    "    print('Отвергаем нулевую гипотезу')\n",
    "else:\n",
    "    print('Не отвергаем нулевую гипотезу')"
   ]
  },
  {
   "cell_type": "markdown",
   "metadata": {},
   "source": [
    "Нулевая гипотеза была отвергнута, это значит, что значения рейтингов пользователей по жанрам Action и Sports разнятся."
   ]
  },
  {
   "cell_type": "code",
   "execution_count": 51,
   "metadata": {},
   "outputs": [
    {
     "name": "stdout",
     "output_type": "stream",
     "text": [
      "Среднее значение рейтинга пользователей жанра Action: 3.24\n",
      "Среднее значение рейтинга пользователей жанра Sports: 4.12\n"
     ]
    }
   ],
   "source": [
    "print('Среднее значение рейтинга пользователей жанра Action:', action['user_score'].mean().round(2))\n",
    "print('Среднее значение рейтинга пользователей жанра Sports:', sports['user_score'].mean().round(2))"
   ]
  },
  {
   "cell_type": "markdown",
   "metadata": {},
   "source": [
    "Как видим, игры жанра Sports оценивают выше, чем игры жанра Action"
   ]
  },
  {
   "cell_type": "markdown",
   "metadata": {},
   "source": [
    "## Общий вывод"
   ]
  },
  {
   "cell_type": "markdown",
   "metadata": {},
   "source": [
    "По результатам проделанной работы можно сделать вывод, что в данных было достаточно большое количество пропусков, которые были устранены на этапе предобработки. Дубликатов обнаружено не было. Была также проделана работа по изменению типов данных в некоторых столбцах для дальнейшей работы с данными. \n",
    "\n",
    "Исходя из исследовательского анализа, можно отметить, что:\n",
    "1. Пик выпуска компьютерных игр приходится на 2008 и 2009 год. Затем заметен резкий спад после 2011 года;\n",
    "2. За всю историю игр наиболее популярными платформами были - PlayStation 2, XBOX 360, PlayStation 3, Wii;\n",
    "3. Средний срок жизни платформы - около 10 лет;\n",
    "4. После 2008 года отмечается резкая смена тенденции суммарных продаж по всем платформам на отрицательную;\n",
    "5. Есть умеренная взаимосвязь между суммарными продажами и оценкой критиков, однако, оценка пользователей почти не влияет на количество продаж.\n",
    "6. Самыми продаваемыми играми являются игры с жанрами: шутер, экшен, спорт и ролевая игра.\n",
    "\n",
    "Были составлены портреты пользователей из Северной Америки, Европы и Японии. Портреты пользователей из Северной Америки и Европы практически не имеют различий. Но на их фоне сильно выделяется портрет пользователя из Японии, что связано со спецификой культуры, менталитета, а также предпочтений и вкусов.\n",
    "\n",
    "Также были поставлены и проверены гипотезы. Сделаны выводы:\n",
    "* Ретинги пользователей платформ XBox One и PC близки по значению друг к другу.\n",
    "* Игры жанра Sports оценивают выше, чем игры жанра Action\n",
    "\n",
    "В итоге, для увеличения прибыли интернет-магазину «Стримчик» необходимо сделать акцент на продвижение игр на платформе PlayStation 4, XBox One, а также Nintendo 3DS, с жанрами шутер, экшен, спорт, предназначенных для возрастной группы от 10+ лет."
   ]
  }
 ],
 "metadata": {
  "ExecuteTimeLog": [
   {
    "duration": 1270,
    "start_time": "2024-04-10T13:37:21.133Z"
   },
   {
    "duration": 123,
    "start_time": "2024-04-10T13:37:22.405Z"
   },
   {
    "duration": 4,
    "start_time": "2024-04-10T13:38:17.624Z"
   },
   {
    "duration": 73,
    "start_time": "2024-04-10T13:38:17.630Z"
   },
   {
    "duration": 17,
    "start_time": "2024-04-10T13:38:17.705Z"
   },
   {
    "duration": 3,
    "start_time": "2024-04-10T13:41:34.531Z"
   },
   {
    "duration": 64,
    "start_time": "2024-04-10T13:41:34.536Z"
   },
   {
    "duration": 13,
    "start_time": "2024-04-10T13:41:34.602Z"
   },
   {
    "duration": 3,
    "start_time": "2024-04-10T13:41:56.691Z"
   },
   {
    "duration": 71,
    "start_time": "2024-04-10T13:41:56.697Z"
   },
   {
    "duration": 14,
    "start_time": "2024-04-10T13:41:56.770Z"
   },
   {
    "duration": 10,
    "start_time": "2024-04-10T13:41:56.786Z"
   },
   {
    "duration": 3,
    "start_time": "2024-04-10T13:48:33.215Z"
   },
   {
    "duration": 73,
    "start_time": "2024-04-10T13:48:33.220Z"
   },
   {
    "duration": 13,
    "start_time": "2024-04-10T13:48:33.294Z"
   },
   {
    "duration": 104,
    "start_time": "2024-04-10T13:48:33.308Z"
   },
   {
    "duration": 0,
    "start_time": "2024-04-10T13:48:33.413Z"
   },
   {
    "duration": 3,
    "start_time": "2024-04-10T13:49:55.740Z"
   },
   {
    "duration": 82,
    "start_time": "2024-04-10T13:49:55.744Z"
   },
   {
    "duration": 13,
    "start_time": "2024-04-10T13:49:55.828Z"
   },
   {
    "duration": 24,
    "start_time": "2024-04-10T13:49:55.843Z"
   },
   {
    "duration": 11,
    "start_time": "2024-04-10T13:49:55.870Z"
   },
   {
    "duration": 20,
    "start_time": "2024-04-10T13:50:06.595Z"
   },
   {
    "duration": 13,
    "start_time": "2024-04-10T13:50:16.230Z"
   },
   {
    "duration": 11,
    "start_time": "2024-04-10T13:50:26.730Z"
   },
   {
    "duration": 3,
    "start_time": "2024-04-10T13:50:29.301Z"
   },
   {
    "duration": 85,
    "start_time": "2024-04-10T13:50:29.306Z"
   },
   {
    "duration": 13,
    "start_time": "2024-04-10T13:50:29.392Z"
   },
   {
    "duration": 34,
    "start_time": "2024-04-10T13:50:29.407Z"
   },
   {
    "duration": 10,
    "start_time": "2024-04-10T13:50:29.443Z"
   },
   {
    "duration": 3,
    "start_time": "2024-04-10T13:56:52.972Z"
   },
   {
    "duration": 68,
    "start_time": "2024-04-10T13:56:52.977Z"
   },
   {
    "duration": 14,
    "start_time": "2024-04-10T13:56:53.047Z"
   },
   {
    "duration": 18,
    "start_time": "2024-04-10T13:56:53.062Z"
   },
   {
    "duration": 10,
    "start_time": "2024-04-10T13:56:53.083Z"
   },
   {
    "duration": 2,
    "start_time": "2024-04-10T13:58:24.978Z"
   },
   {
    "duration": 87,
    "start_time": "2024-04-10T13:58:24.982Z"
   },
   {
    "duration": 16,
    "start_time": "2024-04-10T13:58:25.071Z"
   },
   {
    "duration": 14,
    "start_time": "2024-04-10T13:58:25.089Z"
   },
   {
    "duration": 12,
    "start_time": "2024-04-10T13:58:25.105Z"
   },
   {
    "duration": 0,
    "start_time": "2024-04-10T13:58:25.119Z"
   },
   {
    "duration": 3,
    "start_time": "2024-04-10T13:59:07.669Z"
   },
   {
    "duration": 70,
    "start_time": "2024-04-10T13:59:07.674Z"
   },
   {
    "duration": 14,
    "start_time": "2024-04-10T13:59:07.746Z"
   },
   {
    "duration": 16,
    "start_time": "2024-04-10T13:59:07.762Z"
   },
   {
    "duration": 8,
    "start_time": "2024-04-10T13:59:07.781Z"
   },
   {
    "duration": 0,
    "start_time": "2024-04-10T13:59:07.815Z"
   },
   {
    "duration": 2,
    "start_time": "2024-04-10T13:59:19.878Z"
   },
   {
    "duration": 71,
    "start_time": "2024-04-10T13:59:19.883Z"
   },
   {
    "duration": 14,
    "start_time": "2024-04-10T13:59:19.956Z"
   },
   {
    "duration": 16,
    "start_time": "2024-04-10T13:59:19.972Z"
   },
   {
    "duration": 26,
    "start_time": "2024-04-10T13:59:19.990Z"
   },
   {
    "duration": 3,
    "start_time": "2024-04-10T14:01:43.143Z"
   },
   {
    "duration": 80,
    "start_time": "2024-04-10T14:01:43.148Z"
   },
   {
    "duration": 14,
    "start_time": "2024-04-10T14:01:43.230Z"
   },
   {
    "duration": 14,
    "start_time": "2024-04-10T14:01:43.245Z"
   },
   {
    "duration": 13,
    "start_time": "2024-04-10T14:01:43.261Z"
   },
   {
    "duration": 14,
    "start_time": "2024-04-10T14:01:43.276Z"
   },
   {
    "duration": 2,
    "start_time": "2024-04-10T14:03:52.034Z"
   },
   {
    "duration": 77,
    "start_time": "2024-04-10T14:03:52.038Z"
   },
   {
    "duration": 13,
    "start_time": "2024-04-10T14:03:52.116Z"
   },
   {
    "duration": 30,
    "start_time": "2024-04-10T14:03:52.130Z"
   },
   {
    "duration": 12,
    "start_time": "2024-04-10T14:03:52.162Z"
   },
   {
    "duration": 0,
    "start_time": "2024-04-10T14:03:52.176Z"
   },
   {
    "duration": 0,
    "start_time": "2024-04-10T14:03:52.177Z"
   },
   {
    "duration": 3,
    "start_time": "2024-04-10T14:04:09.049Z"
   },
   {
    "duration": 65,
    "start_time": "2024-04-10T14:04:09.054Z"
   },
   {
    "duration": 12,
    "start_time": "2024-04-10T14:04:09.121Z"
   },
   {
    "duration": 14,
    "start_time": "2024-04-10T14:04:09.135Z"
   },
   {
    "duration": 10,
    "start_time": "2024-04-10T14:04:09.150Z"
   },
   {
    "duration": 6,
    "start_time": "2024-04-10T14:04:09.162Z"
   },
   {
    "duration": 17,
    "start_time": "2024-04-10T14:05:57.226Z"
   },
   {
    "duration": 1154,
    "start_time": "2024-04-11T17:49:26.598Z"
   },
   {
    "duration": 118,
    "start_time": "2024-04-11T17:49:27.755Z"
   },
   {
    "duration": 14,
    "start_time": "2024-04-11T17:49:27.874Z"
   },
   {
    "duration": 17,
    "start_time": "2024-04-11T17:49:27.889Z"
   },
   {
    "duration": 8,
    "start_time": "2024-04-11T17:49:27.908Z"
   },
   {
    "duration": 14,
    "start_time": "2024-04-11T17:49:27.918Z"
   },
   {
    "duration": 3,
    "start_time": "2024-04-11T17:49:45.170Z"
   },
   {
    "duration": 76,
    "start_time": "2024-04-11T17:49:45.174Z"
   },
   {
    "duration": 12,
    "start_time": "2024-04-11T17:49:45.252Z"
   },
   {
    "duration": 47,
    "start_time": "2024-04-11T17:49:45.266Z"
   },
   {
    "duration": 39,
    "start_time": "2024-04-11T17:49:45.315Z"
   },
   {
    "duration": 38,
    "start_time": "2024-04-11T17:49:45.355Z"
   },
   {
    "duration": 26,
    "start_time": "2024-04-11T17:49:45.395Z"
   },
   {
    "duration": 3,
    "start_time": "2024-04-11T17:52:50.876Z"
   },
   {
    "duration": 92,
    "start_time": "2024-04-11T17:52:50.880Z"
   },
   {
    "duration": 12,
    "start_time": "2024-04-11T17:52:50.974Z"
   },
   {
    "duration": 13,
    "start_time": "2024-04-11T17:52:50.988Z"
   },
   {
    "duration": 8,
    "start_time": "2024-04-11T17:52:51.003Z"
   },
   {
    "duration": 7,
    "start_time": "2024-04-11T17:52:51.012Z"
   },
   {
    "duration": 40,
    "start_time": "2024-04-11T17:52:51.020Z"
   },
   {
    "duration": 3,
    "start_time": "2024-04-11T17:54:21.617Z"
   },
   {
    "duration": 69,
    "start_time": "2024-04-11T17:54:21.621Z"
   },
   {
    "duration": 12,
    "start_time": "2024-04-11T17:54:21.691Z"
   },
   {
    "duration": 13,
    "start_time": "2024-04-11T17:54:21.705Z"
   },
   {
    "duration": 9,
    "start_time": "2024-04-11T17:54:21.720Z"
   },
   {
    "duration": 18,
    "start_time": "2024-04-11T17:54:21.731Z"
   },
   {
    "duration": 9,
    "start_time": "2024-04-11T17:54:21.750Z"
   },
   {
    "duration": 5,
    "start_time": "2024-04-11T17:55:48.547Z"
   },
   {
    "duration": 7,
    "start_time": "2024-04-11T17:56:28.148Z"
   },
   {
    "duration": 3,
    "start_time": "2024-04-11T17:58:48.496Z"
   },
   {
    "duration": 66,
    "start_time": "2024-04-11T17:58:48.500Z"
   },
   {
    "duration": 12,
    "start_time": "2024-04-11T17:58:48.567Z"
   },
   {
    "duration": 24,
    "start_time": "2024-04-11T17:58:48.580Z"
   },
   {
    "duration": 8,
    "start_time": "2024-04-11T17:58:48.605Z"
   },
   {
    "duration": 27,
    "start_time": "2024-04-11T17:58:48.614Z"
   },
   {
    "duration": 13,
    "start_time": "2024-04-11T17:58:48.642Z"
   },
   {
    "duration": 33,
    "start_time": "2024-04-11T17:58:48.656Z"
   },
   {
    "duration": 3,
    "start_time": "2024-04-11T17:58:48.691Z"
   },
   {
    "duration": 18,
    "start_time": "2024-04-11T17:58:48.695Z"
   },
   {
    "duration": 3,
    "start_time": "2024-04-11T17:59:54.183Z"
   },
   {
    "duration": 74,
    "start_time": "2024-04-11T17:59:54.188Z"
   },
   {
    "duration": 12,
    "start_time": "2024-04-11T17:59:54.264Z"
   },
   {
    "duration": 26,
    "start_time": "2024-04-11T17:59:54.277Z"
   },
   {
    "duration": 39,
    "start_time": "2024-04-11T17:59:54.306Z"
   },
   {
    "duration": 65,
    "start_time": "2024-04-11T17:59:54.346Z"
   },
   {
    "duration": 30,
    "start_time": "2024-04-11T17:59:54.413Z"
   },
   {
    "duration": 46,
    "start_time": "2024-04-11T17:59:54.445Z"
   },
   {
    "duration": 29,
    "start_time": "2024-04-11T17:59:54.492Z"
   },
   {
    "duration": 14,
    "start_time": "2024-04-11T17:59:54.523Z"
   },
   {
    "duration": 5,
    "start_time": "2024-04-11T18:02:22.020Z"
   },
   {
    "duration": 90,
    "start_time": "2024-04-11T18:04:08.953Z"
   },
   {
    "duration": 5,
    "start_time": "2024-04-11T18:04:15.844Z"
   },
   {
    "duration": 5,
    "start_time": "2024-04-11T18:04:29.300Z"
   },
   {
    "duration": 2,
    "start_time": "2024-04-11T18:04:57.864Z"
   },
   {
    "duration": 73,
    "start_time": "2024-04-11T18:04:57.868Z"
   },
   {
    "duration": 12,
    "start_time": "2024-04-11T18:04:57.942Z"
   },
   {
    "duration": 14,
    "start_time": "2024-04-11T18:04:57.955Z"
   },
   {
    "duration": 8,
    "start_time": "2024-04-11T18:04:57.971Z"
   },
   {
    "duration": 8,
    "start_time": "2024-04-11T18:04:57.980Z"
   },
   {
    "duration": 15,
    "start_time": "2024-04-11T18:04:57.989Z"
   },
   {
    "duration": 21,
    "start_time": "2024-04-11T18:04:58.005Z"
   },
   {
    "duration": 19,
    "start_time": "2024-04-11T18:04:58.027Z"
   },
   {
    "duration": 7,
    "start_time": "2024-04-11T18:04:58.047Z"
   },
   {
    "duration": 21,
    "start_time": "2024-04-11T18:04:58.055Z"
   },
   {
    "duration": 2,
    "start_time": "2024-04-11T18:07:27.095Z"
   },
   {
    "duration": 95,
    "start_time": "2024-04-11T18:07:27.099Z"
   },
   {
    "duration": 17,
    "start_time": "2024-04-11T18:07:27.197Z"
   },
   {
    "duration": 37,
    "start_time": "2024-04-11T18:07:27.215Z"
   },
   {
    "duration": 9,
    "start_time": "2024-04-11T18:07:27.255Z"
   },
   {
    "duration": 11,
    "start_time": "2024-04-11T18:07:27.266Z"
   },
   {
    "duration": 8,
    "start_time": "2024-04-11T18:07:27.279Z"
   },
   {
    "duration": 41,
    "start_time": "2024-04-11T18:07:27.288Z"
   },
   {
    "duration": 22,
    "start_time": "2024-04-11T18:07:27.331Z"
   },
   {
    "duration": 10,
    "start_time": "2024-04-11T18:07:27.354Z"
   },
   {
    "duration": 27,
    "start_time": "2024-04-11T18:07:27.365Z"
   },
   {
    "duration": 0,
    "start_time": "2024-04-11T18:07:27.394Z"
   },
   {
    "duration": 3,
    "start_time": "2024-04-11T18:09:52.928Z"
   },
   {
    "duration": 72,
    "start_time": "2024-04-11T18:09:52.933Z"
   },
   {
    "duration": 12,
    "start_time": "2024-04-11T18:09:53.007Z"
   },
   {
    "duration": 34,
    "start_time": "2024-04-11T18:09:53.020Z"
   },
   {
    "duration": 9,
    "start_time": "2024-04-11T18:09:53.055Z"
   },
   {
    "duration": 17,
    "start_time": "2024-04-11T18:09:53.065Z"
   },
   {
    "duration": 15,
    "start_time": "2024-04-11T18:09:53.084Z"
   },
   {
    "duration": 13,
    "start_time": "2024-04-11T18:09:53.101Z"
   },
   {
    "duration": 5,
    "start_time": "2024-04-11T18:09:53.115Z"
   },
   {
    "duration": 25,
    "start_time": "2024-04-11T18:09:53.121Z"
   },
   {
    "duration": 26,
    "start_time": "2024-04-11T18:09:53.147Z"
   },
   {
    "duration": 0,
    "start_time": "2024-04-11T18:09:53.174Z"
   },
   {
    "duration": 2,
    "start_time": "2024-04-11T18:11:13.877Z"
   },
   {
    "duration": 81,
    "start_time": "2024-04-11T18:11:13.881Z"
   },
   {
    "duration": 13,
    "start_time": "2024-04-11T18:11:13.963Z"
   },
   {
    "duration": 26,
    "start_time": "2024-04-11T18:11:13.978Z"
   },
   {
    "duration": 8,
    "start_time": "2024-04-11T18:11:14.006Z"
   },
   {
    "duration": 8,
    "start_time": "2024-04-11T18:11:14.015Z"
   },
   {
    "duration": 22,
    "start_time": "2024-04-11T18:11:14.024Z"
   },
   {
    "duration": 16,
    "start_time": "2024-04-11T18:11:14.047Z"
   },
   {
    "duration": 4,
    "start_time": "2024-04-11T18:11:14.065Z"
   },
   {
    "duration": 5,
    "start_time": "2024-04-11T18:11:14.070Z"
   },
   {
    "duration": 22,
    "start_time": "2024-04-11T18:11:14.076Z"
   },
   {
    "duration": 6,
    "start_time": "2024-04-11T18:11:14.099Z"
   },
   {
    "duration": 3,
    "start_time": "2024-04-11T18:12:32.464Z"
   },
   {
    "duration": 123,
    "start_time": "2024-04-11T18:12:32.468Z"
   },
   {
    "duration": 13,
    "start_time": "2024-04-11T18:12:32.593Z"
   },
   {
    "duration": 34,
    "start_time": "2024-04-11T18:12:32.608Z"
   },
   {
    "duration": 17,
    "start_time": "2024-04-11T18:12:32.644Z"
   },
   {
    "duration": 27,
    "start_time": "2024-04-11T18:12:32.663Z"
   },
   {
    "duration": 21,
    "start_time": "2024-04-11T18:12:32.691Z"
   },
   {
    "duration": 36,
    "start_time": "2024-04-11T18:12:32.713Z"
   },
   {
    "duration": 49,
    "start_time": "2024-04-11T18:12:32.750Z"
   },
   {
    "duration": 26,
    "start_time": "2024-04-11T18:12:32.801Z"
   },
   {
    "duration": 41,
    "start_time": "2024-04-11T18:12:32.828Z"
   },
   {
    "duration": 17,
    "start_time": "2024-04-11T18:12:32.871Z"
   },
   {
    "duration": 4,
    "start_time": "2024-04-11T18:16:03.594Z"
   },
   {
    "duration": 4,
    "start_time": "2024-04-11T18:18:18.930Z"
   },
   {
    "duration": 3,
    "start_time": "2024-04-11T18:18:24.124Z"
   },
   {
    "duration": 78,
    "start_time": "2024-04-11T18:18:24.129Z"
   },
   {
    "duration": 13,
    "start_time": "2024-04-11T18:18:24.209Z"
   },
   {
    "duration": 21,
    "start_time": "2024-04-11T18:18:24.224Z"
   },
   {
    "duration": 9,
    "start_time": "2024-04-11T18:18:24.246Z"
   },
   {
    "duration": 23,
    "start_time": "2024-04-11T18:18:24.257Z"
   },
   {
    "duration": 25,
    "start_time": "2024-04-11T18:18:24.281Z"
   },
   {
    "duration": 29,
    "start_time": "2024-04-11T18:18:24.308Z"
   },
   {
    "duration": 5,
    "start_time": "2024-04-11T18:18:24.339Z"
   },
   {
    "duration": 14,
    "start_time": "2024-04-11T18:18:24.345Z"
   },
   {
    "duration": 20,
    "start_time": "2024-04-11T18:18:24.360Z"
   },
   {
    "duration": 5,
    "start_time": "2024-04-11T18:18:24.382Z"
   },
   {
    "duration": 19,
    "start_time": "2024-04-11T18:18:24.388Z"
   },
   {
    "duration": 2,
    "start_time": "2024-04-11T18:18:46.304Z"
   },
   {
    "duration": 67,
    "start_time": "2024-04-11T18:18:46.308Z"
   },
   {
    "duration": 11,
    "start_time": "2024-04-11T18:18:46.377Z"
   },
   {
    "duration": 19,
    "start_time": "2024-04-11T18:18:46.390Z"
   },
   {
    "duration": 8,
    "start_time": "2024-04-11T18:18:46.411Z"
   },
   {
    "duration": 10,
    "start_time": "2024-04-11T18:18:46.420Z"
   },
   {
    "duration": 9,
    "start_time": "2024-04-11T18:18:46.445Z"
   },
   {
    "duration": 21,
    "start_time": "2024-04-11T18:18:46.455Z"
   },
   {
    "duration": 10,
    "start_time": "2024-04-11T18:18:46.477Z"
   },
   {
    "duration": 7,
    "start_time": "2024-04-11T18:18:46.488Z"
   },
   {
    "duration": 27,
    "start_time": "2024-04-11T18:18:46.496Z"
   },
   {
    "duration": 4,
    "start_time": "2024-04-11T18:18:46.524Z"
   },
   {
    "duration": 5,
    "start_time": "2024-04-11T18:18:46.529Z"
   },
   {
    "duration": 11,
    "start_time": "2024-04-11T18:18:46.546Z"
   },
   {
    "duration": 3,
    "start_time": "2024-04-11T18:22:10.136Z"
   },
   {
    "duration": 89,
    "start_time": "2024-04-11T18:22:10.141Z"
   },
   {
    "duration": 13,
    "start_time": "2024-04-11T18:22:10.231Z"
   },
   {
    "duration": 26,
    "start_time": "2024-04-11T18:22:10.246Z"
   },
   {
    "duration": 39,
    "start_time": "2024-04-11T18:22:10.274Z"
   },
   {
    "duration": 32,
    "start_time": "2024-04-11T18:22:10.314Z"
   },
   {
    "duration": 21,
    "start_time": "2024-04-11T18:22:10.347Z"
   },
   {
    "duration": 38,
    "start_time": "2024-04-11T18:22:10.369Z"
   },
   {
    "duration": 6,
    "start_time": "2024-04-11T18:22:10.409Z"
   },
   {
    "duration": 27,
    "start_time": "2024-04-11T18:22:10.417Z"
   },
   {
    "duration": 40,
    "start_time": "2024-04-11T18:22:10.446Z"
   },
   {
    "duration": 36,
    "start_time": "2024-04-11T18:22:10.488Z"
   },
   {
    "duration": 11,
    "start_time": "2024-04-11T18:22:10.526Z"
   },
   {
    "duration": 31,
    "start_time": "2024-04-11T18:22:10.539Z"
   },
   {
    "duration": 19,
    "start_time": "2024-04-11T18:22:10.571Z"
   },
   {
    "duration": 3,
    "start_time": "2024-04-11T18:30:04.572Z"
   },
   {
    "duration": 71,
    "start_time": "2024-04-11T18:30:04.576Z"
   },
   {
    "duration": 16,
    "start_time": "2024-04-11T18:30:04.648Z"
   },
   {
    "duration": 19,
    "start_time": "2024-04-11T18:30:04.665Z"
   },
   {
    "duration": 8,
    "start_time": "2024-04-11T18:30:04.686Z"
   },
   {
    "duration": 14,
    "start_time": "2024-04-11T18:30:04.696Z"
   },
   {
    "duration": 11,
    "start_time": "2024-04-11T18:30:04.711Z"
   },
   {
    "duration": 32,
    "start_time": "2024-04-11T18:30:04.723Z"
   },
   {
    "duration": 4,
    "start_time": "2024-04-11T18:30:04.756Z"
   },
   {
    "duration": 69,
    "start_time": "2024-04-11T18:30:04.762Z"
   },
   {
    "duration": 23,
    "start_time": "2024-04-11T18:30:04.832Z"
   },
   {
    "duration": 13,
    "start_time": "2024-04-11T18:30:04.856Z"
   },
   {
    "duration": 28,
    "start_time": "2024-04-11T18:30:04.870Z"
   },
   {
    "duration": 37,
    "start_time": "2024-04-11T18:30:04.900Z"
   },
   {
    "duration": 29,
    "start_time": "2024-04-11T18:30:04.938Z"
   },
   {
    "duration": 33,
    "start_time": "2024-04-11T18:30:04.968Z"
   },
   {
    "duration": 3,
    "start_time": "2024-04-11T18:30:24.147Z"
   },
   {
    "duration": 70,
    "start_time": "2024-04-11T18:30:24.152Z"
   },
   {
    "duration": 17,
    "start_time": "2024-04-11T18:30:24.224Z"
   },
   {
    "duration": 16,
    "start_time": "2024-04-11T18:30:24.243Z"
   },
   {
    "duration": 8,
    "start_time": "2024-04-11T18:30:24.261Z"
   },
   {
    "duration": 23,
    "start_time": "2024-04-11T18:30:24.270Z"
   },
   {
    "duration": 14,
    "start_time": "2024-04-11T18:30:24.294Z"
   },
   {
    "duration": 18,
    "start_time": "2024-04-11T18:30:24.309Z"
   },
   {
    "duration": 4,
    "start_time": "2024-04-11T18:30:24.328Z"
   },
   {
    "duration": 15,
    "start_time": "2024-04-11T18:30:24.334Z"
   },
   {
    "duration": 34,
    "start_time": "2024-04-11T18:30:24.350Z"
   },
   {
    "duration": 4,
    "start_time": "2024-04-11T18:30:24.386Z"
   },
   {
    "duration": 22,
    "start_time": "2024-04-11T18:30:24.391Z"
   },
   {
    "duration": 46,
    "start_time": "2024-04-11T18:30:24.416Z"
   },
   {
    "duration": 22,
    "start_time": "2024-04-11T18:30:24.463Z"
   },
   {
    "duration": 26,
    "start_time": "2024-04-11T18:30:24.487Z"
   },
   {
    "duration": 4,
    "start_time": "2024-04-11T18:33:14.566Z"
   },
   {
    "duration": 65,
    "start_time": "2024-04-11T18:33:14.572Z"
   },
   {
    "duration": 12,
    "start_time": "2024-04-11T18:33:14.639Z"
   },
   {
    "duration": 13,
    "start_time": "2024-04-11T18:33:14.652Z"
   },
   {
    "duration": 11,
    "start_time": "2024-04-11T18:33:14.667Z"
   },
   {
    "duration": 9,
    "start_time": "2024-04-11T18:33:14.680Z"
   },
   {
    "duration": 19,
    "start_time": "2024-04-11T18:33:14.690Z"
   },
   {
    "duration": 20,
    "start_time": "2024-04-11T18:33:14.710Z"
   },
   {
    "duration": 15,
    "start_time": "2024-04-11T18:33:14.731Z"
   },
   {
    "duration": 7,
    "start_time": "2024-04-11T18:33:14.748Z"
   },
   {
    "duration": 42,
    "start_time": "2024-04-11T18:33:14.756Z"
   },
   {
    "duration": 4,
    "start_time": "2024-04-11T18:33:14.799Z"
   },
   {
    "duration": 7,
    "start_time": "2024-04-11T18:33:14.804Z"
   },
   {
    "duration": 15,
    "start_time": "2024-04-11T18:33:14.813Z"
   },
   {
    "duration": 16,
    "start_time": "2024-04-11T18:33:14.829Z"
   },
   {
    "duration": 20,
    "start_time": "2024-04-11T18:33:14.846Z"
   },
   {
    "duration": 3,
    "start_time": "2024-04-11T18:36:08.857Z"
   },
   {
    "duration": 80,
    "start_time": "2024-04-11T18:36:08.861Z"
   },
   {
    "duration": 12,
    "start_time": "2024-04-11T18:36:08.942Z"
   },
   {
    "duration": 12,
    "start_time": "2024-04-11T18:36:08.956Z"
   },
   {
    "duration": 39,
    "start_time": "2024-04-11T18:36:08.969Z"
   },
   {
    "duration": 8,
    "start_time": "2024-04-11T18:36:09.009Z"
   },
   {
    "duration": 24,
    "start_time": "2024-04-11T18:36:09.018Z"
   },
   {
    "duration": 15,
    "start_time": "2024-04-11T18:36:09.043Z"
   },
   {
    "duration": 34,
    "start_time": "2024-04-11T18:36:09.059Z"
   },
   {
    "duration": 4,
    "start_time": "2024-04-11T18:36:09.094Z"
   },
   {
    "duration": 16,
    "start_time": "2024-04-11T18:36:09.100Z"
   },
   {
    "duration": 31,
    "start_time": "2024-04-11T18:36:09.117Z"
   },
   {
    "duration": 4,
    "start_time": "2024-04-11T18:36:09.149Z"
   },
   {
    "duration": 36,
    "start_time": "2024-04-11T18:36:09.154Z"
   },
   {
    "duration": 30,
    "start_time": "2024-04-11T18:36:09.191Z"
   },
   {
    "duration": 12,
    "start_time": "2024-04-11T18:36:09.222Z"
   },
   {
    "duration": 30,
    "start_time": "2024-04-11T18:36:09.235Z"
   },
   {
    "duration": 3,
    "start_time": "2024-04-11T18:37:11.549Z"
   },
   {
    "duration": 69,
    "start_time": "2024-04-11T18:37:11.553Z"
   },
   {
    "duration": 12,
    "start_time": "2024-04-11T18:37:11.623Z"
   },
   {
    "duration": 16,
    "start_time": "2024-04-11T18:37:11.636Z"
   },
   {
    "duration": 14,
    "start_time": "2024-04-11T18:37:11.654Z"
   },
   {
    "duration": 7,
    "start_time": "2024-04-11T18:37:11.670Z"
   },
   {
    "duration": 11,
    "start_time": "2024-04-11T18:37:11.679Z"
   },
   {
    "duration": 10,
    "start_time": "2024-04-11T18:37:11.692Z"
   },
   {
    "duration": 14,
    "start_time": "2024-04-11T18:37:11.704Z"
   },
   {
    "duration": 4,
    "start_time": "2024-04-11T18:37:11.719Z"
   },
   {
    "duration": 4,
    "start_time": "2024-04-11T18:37:11.745Z"
   },
   {
    "duration": 25,
    "start_time": "2024-04-11T18:37:11.751Z"
   },
   {
    "duration": 5,
    "start_time": "2024-04-11T18:37:11.778Z"
   },
   {
    "duration": 4,
    "start_time": "2024-04-11T18:37:11.786Z"
   },
   {
    "duration": 33,
    "start_time": "2024-04-11T18:37:11.791Z"
   },
   {
    "duration": 41,
    "start_time": "2024-04-11T18:37:11.825Z"
   },
   {
    "duration": 44,
    "start_time": "2024-04-11T18:37:11.867Z"
   },
   {
    "duration": 3,
    "start_time": "2024-04-11T18:37:28.213Z"
   },
   {
    "duration": 72,
    "start_time": "2024-04-11T18:37:28.219Z"
   },
   {
    "duration": 13,
    "start_time": "2024-04-11T18:37:28.293Z"
   },
   {
    "duration": 13,
    "start_time": "2024-04-11T18:37:28.307Z"
   },
   {
    "duration": 14,
    "start_time": "2024-04-11T18:37:28.322Z"
   },
   {
    "duration": 17,
    "start_time": "2024-04-11T18:37:28.337Z"
   },
   {
    "duration": 20,
    "start_time": "2024-04-11T18:37:28.355Z"
   },
   {
    "duration": 38,
    "start_time": "2024-04-11T18:37:28.376Z"
   },
   {
    "duration": 27,
    "start_time": "2024-04-11T18:37:28.416Z"
   },
   {
    "duration": 6,
    "start_time": "2024-04-11T18:37:28.445Z"
   },
   {
    "duration": 14,
    "start_time": "2024-04-11T18:37:28.452Z"
   },
   {
    "duration": 27,
    "start_time": "2024-04-11T18:37:28.467Z"
   },
   {
    "duration": 4,
    "start_time": "2024-04-11T18:37:28.495Z"
   },
   {
    "duration": 10,
    "start_time": "2024-04-11T18:37:28.502Z"
   },
   {
    "duration": 19,
    "start_time": "2024-04-11T18:37:28.514Z"
   },
   {
    "duration": 13,
    "start_time": "2024-04-11T18:37:28.534Z"
   },
   {
    "duration": 31,
    "start_time": "2024-04-11T18:37:28.548Z"
   },
   {
    "duration": 2,
    "start_time": "2024-04-11T18:39:49.569Z"
   },
   {
    "duration": 80,
    "start_time": "2024-04-11T18:39:49.573Z"
   },
   {
    "duration": 12,
    "start_time": "2024-04-11T18:39:49.655Z"
   },
   {
    "duration": 36,
    "start_time": "2024-04-11T18:39:49.669Z"
   },
   {
    "duration": 32,
    "start_time": "2024-04-11T18:39:49.707Z"
   },
   {
    "duration": 20,
    "start_time": "2024-04-11T18:39:49.740Z"
   },
   {
    "duration": 29,
    "start_time": "2024-04-11T18:39:49.761Z"
   },
   {
    "duration": 35,
    "start_time": "2024-04-11T18:39:49.791Z"
   },
   {
    "duration": 33,
    "start_time": "2024-04-11T18:39:49.828Z"
   },
   {
    "duration": 34,
    "start_time": "2024-04-11T18:39:49.863Z"
   },
   {
    "duration": 28,
    "start_time": "2024-04-11T18:39:49.899Z"
   },
   {
    "duration": 44,
    "start_time": "2024-04-11T18:39:49.928Z"
   },
   {
    "duration": 16,
    "start_time": "2024-04-11T18:39:49.973Z"
   },
   {
    "duration": 37,
    "start_time": "2024-04-11T18:39:49.990Z"
   },
   {
    "duration": 30,
    "start_time": "2024-04-11T18:39:50.028Z"
   },
   {
    "duration": 17,
    "start_time": "2024-04-11T18:39:50.060Z"
   },
   {
    "duration": 41,
    "start_time": "2024-04-11T18:39:50.078Z"
   },
   {
    "duration": 15,
    "start_time": "2024-04-11T18:41:08.219Z"
   },
   {
    "duration": 2,
    "start_time": "2024-04-11T18:41:11.442Z"
   },
   {
    "duration": 72,
    "start_time": "2024-04-11T18:41:11.447Z"
   },
   {
    "duration": 13,
    "start_time": "2024-04-11T18:41:11.520Z"
   },
   {
    "duration": 16,
    "start_time": "2024-04-11T18:41:11.534Z"
   },
   {
    "duration": 15,
    "start_time": "2024-04-11T18:41:11.552Z"
   },
   {
    "duration": 12,
    "start_time": "2024-04-11T18:41:11.568Z"
   },
   {
    "duration": 9,
    "start_time": "2024-04-11T18:41:11.583Z"
   },
   {
    "duration": 8,
    "start_time": "2024-04-11T18:41:11.593Z"
   },
   {
    "duration": 41,
    "start_time": "2024-04-11T18:41:11.603Z"
   },
   {
    "duration": 6,
    "start_time": "2024-04-11T18:41:11.646Z"
   },
   {
    "duration": 7,
    "start_time": "2024-04-11T18:41:11.653Z"
   },
   {
    "duration": 19,
    "start_time": "2024-04-11T18:41:11.661Z"
   },
   {
    "duration": 6,
    "start_time": "2024-04-11T18:41:11.681Z"
   },
   {
    "duration": 8,
    "start_time": "2024-04-11T18:41:11.690Z"
   },
   {
    "duration": 27,
    "start_time": "2024-04-11T18:41:11.699Z"
   },
   {
    "duration": 24,
    "start_time": "2024-04-11T18:41:11.727Z"
   },
   {
    "duration": 26,
    "start_time": "2024-04-11T18:41:11.752Z"
   },
   {
    "duration": 13,
    "start_time": "2024-04-11T18:41:11.780Z"
   },
   {
    "duration": 3,
    "start_time": "2024-04-11T18:41:30.169Z"
   },
   {
    "duration": 130,
    "start_time": "2024-04-11T18:41:30.173Z"
   },
   {
    "duration": 95,
    "start_time": "2024-04-11T18:41:30.305Z"
   },
   {
    "duration": 90,
    "start_time": "2024-04-11T18:41:30.402Z"
   },
   {
    "duration": 92,
    "start_time": "2024-04-11T18:41:30.494Z"
   },
   {
    "duration": 54,
    "start_time": "2024-04-11T18:41:30.587Z"
   },
   {
    "duration": 68,
    "start_time": "2024-04-11T18:41:30.642Z"
   },
   {
    "duration": 73,
    "start_time": "2024-04-11T18:41:30.711Z"
   },
   {
    "duration": 91,
    "start_time": "2024-04-11T18:41:30.786Z"
   },
   {
    "duration": 40,
    "start_time": "2024-04-11T18:41:30.880Z"
   },
   {
    "duration": 57,
    "start_time": "2024-04-11T18:41:30.922Z"
   },
   {
    "duration": 90,
    "start_time": "2024-04-11T18:41:30.981Z"
   },
   {
    "duration": 51,
    "start_time": "2024-04-11T18:41:31.072Z"
   },
   {
    "duration": 52,
    "start_time": "2024-04-11T18:41:31.124Z"
   },
   {
    "duration": 183,
    "start_time": "2024-04-11T18:41:31.177Z"
   },
   {
    "duration": 150,
    "start_time": "2024-04-11T18:41:31.361Z"
   },
   {
    "duration": 194,
    "start_time": "2024-04-11T18:41:31.513Z"
   },
   {
    "duration": 34,
    "start_time": "2024-04-11T18:41:31.709Z"
   },
   {
    "duration": 4,
    "start_time": "2024-04-11T18:42:52.945Z"
   },
   {
    "duration": 77,
    "start_time": "2024-04-11T18:42:52.951Z"
   },
   {
    "duration": 17,
    "start_time": "2024-04-11T18:42:53.030Z"
   },
   {
    "duration": 35,
    "start_time": "2024-04-11T18:42:53.048Z"
   },
   {
    "duration": 31,
    "start_time": "2024-04-11T18:42:53.085Z"
   },
   {
    "duration": 21,
    "start_time": "2024-04-11T18:42:53.117Z"
   },
   {
    "duration": 50,
    "start_time": "2024-04-11T18:42:53.139Z"
   },
   {
    "duration": 18,
    "start_time": "2024-04-11T18:42:53.190Z"
   },
   {
    "duration": 31,
    "start_time": "2024-04-11T18:42:53.210Z"
   },
   {
    "duration": 36,
    "start_time": "2024-04-11T18:42:53.242Z"
   },
   {
    "duration": 25,
    "start_time": "2024-04-11T18:42:53.280Z"
   },
   {
    "duration": 24,
    "start_time": "2024-04-11T18:42:53.306Z"
   },
   {
    "duration": 16,
    "start_time": "2024-04-11T18:42:53.332Z"
   },
   {
    "duration": 17,
    "start_time": "2024-04-11T18:42:53.350Z"
   },
   {
    "duration": 37,
    "start_time": "2024-04-11T18:42:53.368Z"
   },
   {
    "duration": 26,
    "start_time": "2024-04-11T18:42:53.406Z"
   },
   {
    "duration": 30,
    "start_time": "2024-04-11T18:42:53.433Z"
   },
   {
    "duration": 65,
    "start_time": "2024-04-11T18:42:53.464Z"
   },
   {
    "duration": 4,
    "start_time": "2024-04-11T18:43:06.542Z"
   },
   {
    "duration": 71,
    "start_time": "2024-04-11T18:43:06.547Z"
   },
   {
    "duration": 12,
    "start_time": "2024-04-11T18:43:06.619Z"
   },
   {
    "duration": 18,
    "start_time": "2024-04-11T18:43:06.633Z"
   },
   {
    "duration": 13,
    "start_time": "2024-04-11T18:43:06.653Z"
   },
   {
    "duration": 8,
    "start_time": "2024-04-11T18:43:06.667Z"
   },
   {
    "duration": 8,
    "start_time": "2024-04-11T18:43:06.676Z"
   },
   {
    "duration": 8,
    "start_time": "2024-04-11T18:43:06.685Z"
   },
   {
    "duration": 15,
    "start_time": "2024-04-11T18:43:06.694Z"
   },
   {
    "duration": 4,
    "start_time": "2024-04-11T18:43:06.710Z"
   },
   {
    "duration": 30,
    "start_time": "2024-04-11T18:43:06.715Z"
   },
   {
    "duration": 32,
    "start_time": "2024-04-11T18:43:06.747Z"
   },
   {
    "duration": 4,
    "start_time": "2024-04-11T18:43:06.781Z"
   },
   {
    "duration": 5,
    "start_time": "2024-04-11T18:43:06.787Z"
   },
   {
    "duration": 22,
    "start_time": "2024-04-11T18:43:06.793Z"
   },
   {
    "duration": 21,
    "start_time": "2024-04-11T18:43:06.816Z"
   },
   {
    "duration": 82,
    "start_time": "2024-04-11T18:43:06.838Z"
   },
   {
    "duration": 52,
    "start_time": "2024-04-11T18:43:06.921Z"
   },
   {
    "duration": 2,
    "start_time": "2024-04-11T18:43:17.743Z"
   },
   {
    "duration": 68,
    "start_time": "2024-04-11T18:43:17.747Z"
   },
   {
    "duration": 11,
    "start_time": "2024-04-11T18:43:17.817Z"
   },
   {
    "duration": 12,
    "start_time": "2024-04-11T18:43:17.830Z"
   },
   {
    "duration": 15,
    "start_time": "2024-04-11T18:43:17.844Z"
   },
   {
    "duration": 7,
    "start_time": "2024-04-11T18:43:17.861Z"
   },
   {
    "duration": 6,
    "start_time": "2024-04-11T18:43:17.870Z"
   },
   {
    "duration": 8,
    "start_time": "2024-04-11T18:43:17.878Z"
   },
   {
    "duration": 17,
    "start_time": "2024-04-11T18:43:17.887Z"
   },
   {
    "duration": 5,
    "start_time": "2024-04-11T18:43:17.905Z"
   },
   {
    "duration": 4,
    "start_time": "2024-04-11T18:43:17.911Z"
   },
   {
    "duration": 43,
    "start_time": "2024-04-11T18:43:17.917Z"
   },
   {
    "duration": 4,
    "start_time": "2024-04-11T18:43:17.961Z"
   },
   {
    "duration": 6,
    "start_time": "2024-04-11T18:43:17.967Z"
   },
   {
    "duration": 13,
    "start_time": "2024-04-11T18:43:17.974Z"
   },
   {
    "duration": 11,
    "start_time": "2024-04-11T18:43:17.988Z"
   },
   {
    "duration": 21,
    "start_time": "2024-04-11T18:43:18.000Z"
   },
   {
    "duration": 136,
    "start_time": "2024-04-11T18:43:18.045Z"
   },
   {
    "duration": 2,
    "start_time": "2024-04-11T18:43:31.094Z"
   },
   {
    "duration": 145,
    "start_time": "2024-04-11T18:43:31.098Z"
   },
   {
    "duration": 13,
    "start_time": "2024-04-11T18:43:31.245Z"
   },
   {
    "duration": 50,
    "start_time": "2024-04-11T18:43:31.260Z"
   },
   {
    "duration": 64,
    "start_time": "2024-04-11T18:43:31.312Z"
   },
   {
    "duration": 46,
    "start_time": "2024-04-11T18:43:31.378Z"
   },
   {
    "duration": 60,
    "start_time": "2024-04-11T18:43:31.426Z"
   },
   {
    "duration": 50,
    "start_time": "2024-04-11T18:43:31.488Z"
   },
   {
    "duration": 47,
    "start_time": "2024-04-11T18:43:31.540Z"
   },
   {
    "duration": 24,
    "start_time": "2024-04-11T18:43:31.588Z"
   },
   {
    "duration": 28,
    "start_time": "2024-04-11T18:43:31.614Z"
   },
   {
    "duration": 28,
    "start_time": "2024-04-11T18:43:31.644Z"
   },
   {
    "duration": 16,
    "start_time": "2024-04-11T18:43:31.674Z"
   },
   {
    "duration": 39,
    "start_time": "2024-04-11T18:43:31.692Z"
   },
   {
    "duration": 27,
    "start_time": "2024-04-11T18:43:31.733Z"
   },
   {
    "duration": 21,
    "start_time": "2024-04-11T18:43:31.762Z"
   },
   {
    "duration": 30,
    "start_time": "2024-04-11T18:43:31.784Z"
   },
   {
    "duration": 311,
    "start_time": "2024-04-11T18:43:31.815Z"
   },
   {
    "duration": 3,
    "start_time": "2024-04-11T18:45:31.076Z"
   },
   {
    "duration": 142,
    "start_time": "2024-04-11T18:45:31.081Z"
   },
   {
    "duration": 43,
    "start_time": "2024-04-11T18:45:31.224Z"
   },
   {
    "duration": 140,
    "start_time": "2024-04-11T18:45:31.268Z"
   },
   {
    "duration": 71,
    "start_time": "2024-04-11T18:45:31.410Z"
   },
   {
    "duration": 17,
    "start_time": "2024-04-11T18:45:31.482Z"
   },
   {
    "duration": 84,
    "start_time": "2024-04-11T18:45:31.501Z"
   },
   {
    "duration": 38,
    "start_time": "2024-04-11T18:45:31.587Z"
   },
   {
    "duration": 47,
    "start_time": "2024-04-11T18:45:31.627Z"
   },
   {
    "duration": 45,
    "start_time": "2024-04-11T18:45:31.676Z"
   },
   {
    "duration": 44,
    "start_time": "2024-04-11T18:45:31.723Z"
   },
   {
    "duration": 28,
    "start_time": "2024-04-11T18:45:31.769Z"
   },
   {
    "duration": 12,
    "start_time": "2024-04-11T18:45:31.799Z"
   },
   {
    "duration": 42,
    "start_time": "2024-04-11T18:45:31.814Z"
   },
   {
    "duration": 26,
    "start_time": "2024-04-11T18:45:31.857Z"
   },
   {
    "duration": 14,
    "start_time": "2024-04-11T18:45:31.884Z"
   },
   {
    "duration": 41,
    "start_time": "2024-04-11T18:45:31.900Z"
   },
   {
    "duration": 338,
    "start_time": "2024-04-11T18:45:31.942Z"
   },
   {
    "duration": 3,
    "start_time": "2024-04-11T18:50:10.314Z"
   },
   {
    "duration": 90,
    "start_time": "2024-04-11T18:50:10.318Z"
   },
   {
    "duration": 11,
    "start_time": "2024-04-11T18:50:10.410Z"
   },
   {
    "duration": 29,
    "start_time": "2024-04-11T18:50:10.423Z"
   },
   {
    "duration": 25,
    "start_time": "2024-04-11T18:50:10.453Z"
   },
   {
    "duration": 8,
    "start_time": "2024-04-11T18:50:10.479Z"
   },
   {
    "duration": 12,
    "start_time": "2024-04-11T18:50:10.488Z"
   },
   {
    "duration": 20,
    "start_time": "2024-04-11T18:50:10.501Z"
   },
   {
    "duration": 26,
    "start_time": "2024-04-11T18:50:10.522Z"
   },
   {
    "duration": 20,
    "start_time": "2024-04-11T18:50:10.550Z"
   },
   {
    "duration": 23,
    "start_time": "2024-04-11T18:50:10.571Z"
   },
   {
    "duration": 27,
    "start_time": "2024-04-11T18:50:10.595Z"
   },
   {
    "duration": 4,
    "start_time": "2024-04-11T18:50:10.623Z"
   },
   {
    "duration": 9,
    "start_time": "2024-04-11T18:50:10.628Z"
   },
   {
    "duration": 11,
    "start_time": "2024-04-11T18:50:10.639Z"
   },
   {
    "duration": 11,
    "start_time": "2024-04-11T18:50:10.651Z"
   },
   {
    "duration": 20,
    "start_time": "2024-04-11T18:50:10.664Z"
   },
   {
    "duration": 341,
    "start_time": "2024-04-11T18:50:10.685Z"
   },
   {
    "duration": 3,
    "start_time": "2024-04-11T18:50:19.482Z"
   },
   {
    "duration": 68,
    "start_time": "2024-04-11T18:50:19.487Z"
   },
   {
    "duration": 11,
    "start_time": "2024-04-11T18:50:19.557Z"
   },
   {
    "duration": 14,
    "start_time": "2024-04-11T18:50:19.569Z"
   },
   {
    "duration": 18,
    "start_time": "2024-04-11T18:50:19.585Z"
   },
   {
    "duration": 7,
    "start_time": "2024-04-11T18:50:19.604Z"
   },
   {
    "duration": 32,
    "start_time": "2024-04-11T18:50:19.613Z"
   },
   {
    "duration": 10,
    "start_time": "2024-04-11T18:50:19.646Z"
   },
   {
    "duration": 23,
    "start_time": "2024-04-11T18:50:19.657Z"
   },
   {
    "duration": 5,
    "start_time": "2024-04-11T18:50:19.681Z"
   },
   {
    "duration": 7,
    "start_time": "2024-04-11T18:50:19.688Z"
   },
   {
    "duration": 17,
    "start_time": "2024-04-11T18:50:19.697Z"
   },
   {
    "duration": 4,
    "start_time": "2024-04-11T18:50:19.716Z"
   },
   {
    "duration": 7,
    "start_time": "2024-04-11T18:50:19.744Z"
   },
   {
    "duration": 13,
    "start_time": "2024-04-11T18:50:19.752Z"
   },
   {
    "duration": 13,
    "start_time": "2024-04-11T18:50:19.766Z"
   },
   {
    "duration": 26,
    "start_time": "2024-04-11T18:50:19.781Z"
   },
   {
    "duration": 396,
    "start_time": "2024-04-11T18:50:19.809Z"
   },
   {
    "duration": 3,
    "start_time": "2024-04-11T18:53:23.611Z"
   },
   {
    "duration": 61,
    "start_time": "2024-04-11T18:53:23.616Z"
   },
   {
    "duration": 13,
    "start_time": "2024-04-11T18:53:23.679Z"
   },
   {
    "duration": 18,
    "start_time": "2024-04-11T18:53:23.694Z"
   },
   {
    "duration": 32,
    "start_time": "2024-04-11T18:53:23.713Z"
   },
   {
    "duration": 7,
    "start_time": "2024-04-11T18:53:23.747Z"
   },
   {
    "duration": 7,
    "start_time": "2024-04-11T18:53:23.756Z"
   },
   {
    "duration": 7,
    "start_time": "2024-04-11T18:53:23.764Z"
   },
   {
    "duration": 12,
    "start_time": "2024-04-11T18:53:23.773Z"
   },
   {
    "duration": 4,
    "start_time": "2024-04-11T18:53:23.786Z"
   },
   {
    "duration": 5,
    "start_time": "2024-04-11T18:53:23.791Z"
   },
   {
    "duration": 49,
    "start_time": "2024-04-11T18:53:23.797Z"
   },
   {
    "duration": 5,
    "start_time": "2024-04-11T18:53:23.847Z"
   },
   {
    "duration": 4,
    "start_time": "2024-04-11T18:53:23.853Z"
   },
   {
    "duration": 18,
    "start_time": "2024-04-11T18:53:23.859Z"
   },
   {
    "duration": 11,
    "start_time": "2024-04-11T18:53:23.878Z"
   },
   {
    "duration": 18,
    "start_time": "2024-04-11T18:53:23.890Z"
   },
   {
    "duration": 330,
    "start_time": "2024-04-11T18:53:23.910Z"
   },
   {
    "duration": 253,
    "start_time": "2024-04-11T18:53:24.244Z"
   },
   {
    "duration": 2,
    "start_time": "2024-04-11T18:54:06.037Z"
   },
   {
    "duration": 82,
    "start_time": "2024-04-11T18:54:06.041Z"
   },
   {
    "duration": 12,
    "start_time": "2024-04-11T18:54:06.124Z"
   },
   {
    "duration": 24,
    "start_time": "2024-04-11T18:54:06.138Z"
   },
   {
    "duration": 23,
    "start_time": "2024-04-11T18:54:06.163Z"
   },
   {
    "duration": 34,
    "start_time": "2024-04-11T18:54:06.187Z"
   },
   {
    "duration": 26,
    "start_time": "2024-04-11T18:54:06.222Z"
   },
   {
    "duration": 20,
    "start_time": "2024-04-11T18:54:06.249Z"
   },
   {
    "duration": 67,
    "start_time": "2024-04-11T18:54:06.271Z"
   },
   {
    "duration": 16,
    "start_time": "2024-04-11T18:54:06.339Z"
   },
   {
    "duration": 15,
    "start_time": "2024-04-11T18:54:06.356Z"
   },
   {
    "duration": 48,
    "start_time": "2024-04-11T18:54:06.372Z"
   },
   {
    "duration": 8,
    "start_time": "2024-04-11T18:54:06.422Z"
   },
   {
    "duration": 31,
    "start_time": "2024-04-11T18:54:06.432Z"
   },
   {
    "duration": 36,
    "start_time": "2024-04-11T18:54:06.464Z"
   },
   {
    "duration": 48,
    "start_time": "2024-04-11T18:54:06.501Z"
   },
   {
    "duration": 41,
    "start_time": "2024-04-11T18:54:06.550Z"
   },
   {
    "duration": 295,
    "start_time": "2024-04-11T18:54:06.592Z"
   },
   {
    "duration": 14,
    "start_time": "2024-04-11T18:54:06.889Z"
   },
   {
    "duration": 3,
    "start_time": "2024-04-11T18:54:28.830Z"
   },
   {
    "duration": 69,
    "start_time": "2024-04-11T18:54:28.835Z"
   },
   {
    "duration": 12,
    "start_time": "2024-04-11T18:54:28.906Z"
   },
   {
    "duration": 15,
    "start_time": "2024-04-11T18:54:28.920Z"
   },
   {
    "duration": 16,
    "start_time": "2024-04-11T18:54:28.936Z"
   },
   {
    "duration": 9,
    "start_time": "2024-04-11T18:54:28.953Z"
   },
   {
    "duration": 8,
    "start_time": "2024-04-11T18:54:28.964Z"
   },
   {
    "duration": 9,
    "start_time": "2024-04-11T18:54:28.974Z"
   },
   {
    "duration": 13,
    "start_time": "2024-04-11T18:54:28.984Z"
   },
   {
    "duration": 4,
    "start_time": "2024-04-11T18:54:29.000Z"
   },
   {
    "duration": 39,
    "start_time": "2024-04-11T18:54:29.006Z"
   },
   {
    "duration": 20,
    "start_time": "2024-04-11T18:54:29.047Z"
   },
   {
    "duration": 5,
    "start_time": "2024-04-11T18:54:29.069Z"
   },
   {
    "duration": 15,
    "start_time": "2024-04-11T18:54:29.076Z"
   },
   {
    "duration": 13,
    "start_time": "2024-04-11T18:54:29.092Z"
   },
   {
    "duration": 12,
    "start_time": "2024-04-11T18:54:29.106Z"
   },
   {
    "duration": 42,
    "start_time": "2024-04-11T18:54:29.120Z"
   },
   {
    "duration": 321,
    "start_time": "2024-04-11T18:54:29.163Z"
   },
   {
    "duration": 278,
    "start_time": "2024-04-11T18:54:29.486Z"
   },
   {
    "duration": 3,
    "start_time": "2024-04-11T18:54:39.094Z"
   },
   {
    "duration": 73,
    "start_time": "2024-04-11T18:54:39.098Z"
   },
   {
    "duration": 12,
    "start_time": "2024-04-11T18:54:39.172Z"
   },
   {
    "duration": 17,
    "start_time": "2024-04-11T18:54:39.186Z"
   },
   {
    "duration": 15,
    "start_time": "2024-04-11T18:54:39.204Z"
   },
   {
    "duration": 28,
    "start_time": "2024-04-11T18:54:39.220Z"
   },
   {
    "duration": 11,
    "start_time": "2024-04-11T18:54:39.249Z"
   },
   {
    "duration": 9,
    "start_time": "2024-04-11T18:54:39.261Z"
   },
   {
    "duration": 16,
    "start_time": "2024-04-11T18:54:39.272Z"
   },
   {
    "duration": 88,
    "start_time": "2024-04-11T18:54:39.289Z"
   },
   {
    "duration": 14,
    "start_time": "2024-04-11T18:54:39.378Z"
   },
   {
    "duration": 18,
    "start_time": "2024-04-11T18:54:39.393Z"
   },
   {
    "duration": 4,
    "start_time": "2024-04-11T18:54:39.413Z"
   },
   {
    "duration": 5,
    "start_time": "2024-04-11T18:54:39.418Z"
   },
   {
    "duration": 29,
    "start_time": "2024-04-11T18:54:39.424Z"
   },
   {
    "duration": 20,
    "start_time": "2024-04-11T18:54:39.455Z"
   },
   {
    "duration": 34,
    "start_time": "2024-04-11T18:54:39.476Z"
   },
   {
    "duration": 306,
    "start_time": "2024-04-11T18:54:39.511Z"
   },
   {
    "duration": 285,
    "start_time": "2024-04-11T18:54:39.818Z"
   },
   {
    "duration": 2,
    "start_time": "2024-04-11T18:54:49.978Z"
   },
   {
    "duration": 72,
    "start_time": "2024-04-11T18:54:49.982Z"
   },
   {
    "duration": 13,
    "start_time": "2024-04-11T18:54:50.055Z"
   },
   {
    "duration": 18,
    "start_time": "2024-04-11T18:54:50.069Z"
   },
   {
    "duration": 15,
    "start_time": "2024-04-11T18:54:50.088Z"
   },
   {
    "duration": 13,
    "start_time": "2024-04-11T18:54:50.104Z"
   },
   {
    "duration": 61,
    "start_time": "2024-04-11T18:54:50.118Z"
   },
   {
    "duration": 11,
    "start_time": "2024-04-11T18:54:50.180Z"
   },
   {
    "duration": 20,
    "start_time": "2024-04-11T18:54:50.192Z"
   },
   {
    "duration": 6,
    "start_time": "2024-04-11T18:54:50.215Z"
   },
   {
    "duration": 24,
    "start_time": "2024-04-11T18:54:50.222Z"
   },
   {
    "duration": 42,
    "start_time": "2024-04-11T18:54:50.247Z"
   },
   {
    "duration": 6,
    "start_time": "2024-04-11T18:54:50.291Z"
   },
   {
    "duration": 7,
    "start_time": "2024-04-11T18:54:50.298Z"
   },
   {
    "duration": 21,
    "start_time": "2024-04-11T18:54:50.307Z"
   },
   {
    "duration": 26,
    "start_time": "2024-04-11T18:54:50.329Z"
   },
   {
    "duration": 26,
    "start_time": "2024-04-11T18:54:50.356Z"
   },
   {
    "duration": 324,
    "start_time": "2024-04-11T18:54:50.383Z"
   },
   {
    "duration": 281,
    "start_time": "2024-04-11T18:54:50.709Z"
   },
   {
    "duration": 4,
    "start_time": "2024-04-11T18:55:03.295Z"
   },
   {
    "duration": 79,
    "start_time": "2024-04-11T18:55:03.301Z"
   },
   {
    "duration": 12,
    "start_time": "2024-04-11T18:55:03.381Z"
   },
   {
    "duration": 27,
    "start_time": "2024-04-11T18:55:03.395Z"
   },
   {
    "duration": 22,
    "start_time": "2024-04-11T18:55:03.425Z"
   },
   {
    "duration": 9,
    "start_time": "2024-04-11T18:55:03.449Z"
   },
   {
    "duration": 12,
    "start_time": "2024-04-11T18:55:03.459Z"
   },
   {
    "duration": 11,
    "start_time": "2024-04-11T18:55:03.473Z"
   },
   {
    "duration": 14,
    "start_time": "2024-04-11T18:55:03.486Z"
   },
   {
    "duration": 14,
    "start_time": "2024-04-11T18:55:03.501Z"
   },
   {
    "duration": 29,
    "start_time": "2024-04-11T18:55:03.517Z"
   },
   {
    "duration": 26,
    "start_time": "2024-04-11T18:55:03.548Z"
   },
   {
    "duration": 5,
    "start_time": "2024-04-11T18:55:03.576Z"
   },
   {
    "duration": 6,
    "start_time": "2024-04-11T18:55:03.583Z"
   },
   {
    "duration": 21,
    "start_time": "2024-04-11T18:55:03.590Z"
   },
   {
    "duration": 22,
    "start_time": "2024-04-11T18:55:03.612Z"
   },
   {
    "duration": 29,
    "start_time": "2024-04-11T18:55:03.635Z"
   },
   {
    "duration": 318,
    "start_time": "2024-04-11T18:55:03.665Z"
   },
   {
    "duration": 276,
    "start_time": "2024-04-11T18:55:03.984Z"
   },
   {
    "duration": 2,
    "start_time": "2024-04-11T18:55:23.844Z"
   },
   {
    "duration": 75,
    "start_time": "2024-04-11T18:55:23.848Z"
   },
   {
    "duration": 12,
    "start_time": "2024-04-11T18:55:23.925Z"
   },
   {
    "duration": 15,
    "start_time": "2024-04-11T18:55:23.938Z"
   },
   {
    "duration": 14,
    "start_time": "2024-04-11T18:55:23.955Z"
   },
   {
    "duration": 8,
    "start_time": "2024-04-11T18:55:23.970Z"
   },
   {
    "duration": 9,
    "start_time": "2024-04-11T18:55:23.979Z"
   },
   {
    "duration": 8,
    "start_time": "2024-04-11T18:55:23.989Z"
   },
   {
    "duration": 16,
    "start_time": "2024-04-11T18:55:23.998Z"
   },
   {
    "duration": 101,
    "start_time": "2024-04-11T18:55:24.015Z"
   },
   {
    "duration": 5,
    "start_time": "2024-04-11T18:55:24.118Z"
   },
   {
    "duration": 29,
    "start_time": "2024-04-11T18:55:24.125Z"
   },
   {
    "duration": 4,
    "start_time": "2024-04-11T18:55:24.156Z"
   },
   {
    "duration": 9,
    "start_time": "2024-04-11T18:55:24.161Z"
   },
   {
    "duration": 12,
    "start_time": "2024-04-11T18:55:24.171Z"
   },
   {
    "duration": 12,
    "start_time": "2024-04-11T18:55:24.185Z"
   },
   {
    "duration": 34,
    "start_time": "2024-04-11T18:55:24.198Z"
   },
   {
    "duration": 326,
    "start_time": "2024-04-11T18:55:24.234Z"
   },
   {
    "duration": 14,
    "start_time": "2024-04-11T18:55:24.561Z"
   },
   {
    "duration": 3,
    "start_time": "2024-04-11T18:55:39.142Z"
   },
   {
    "duration": 76,
    "start_time": "2024-04-11T18:55:39.147Z"
   },
   {
    "duration": 14,
    "start_time": "2024-04-11T18:55:39.224Z"
   },
   {
    "duration": 26,
    "start_time": "2024-04-11T18:55:39.240Z"
   },
   {
    "duration": 23,
    "start_time": "2024-04-11T18:55:39.267Z"
   },
   {
    "duration": 19,
    "start_time": "2024-04-11T18:55:39.291Z"
   },
   {
    "duration": 18,
    "start_time": "2024-04-11T18:55:39.312Z"
   },
   {
    "duration": 13,
    "start_time": "2024-04-11T18:55:39.331Z"
   },
   {
    "duration": 36,
    "start_time": "2024-04-11T18:55:39.346Z"
   },
   {
    "duration": 5,
    "start_time": "2024-04-11T18:55:39.384Z"
   },
   {
    "duration": 25,
    "start_time": "2024-04-11T18:55:39.391Z"
   },
   {
    "duration": 20,
    "start_time": "2024-04-11T18:55:39.417Z"
   },
   {
    "duration": 4,
    "start_time": "2024-04-11T18:55:39.438Z"
   },
   {
    "duration": 17,
    "start_time": "2024-04-11T18:55:39.443Z"
   },
   {
    "duration": 25,
    "start_time": "2024-04-11T18:55:39.461Z"
   },
   {
    "duration": 12,
    "start_time": "2024-04-11T18:55:39.488Z"
   },
   {
    "duration": 38,
    "start_time": "2024-04-11T18:55:39.502Z"
   },
   {
    "duration": 307,
    "start_time": "2024-04-11T18:55:39.542Z"
   },
   {
    "duration": 291,
    "start_time": "2024-04-11T18:55:39.850Z"
   },
   {
    "duration": 3,
    "start_time": "2024-04-11T18:58:03.093Z"
   },
   {
    "duration": 95,
    "start_time": "2024-04-11T18:58:03.097Z"
   },
   {
    "duration": 12,
    "start_time": "2024-04-11T18:58:03.194Z"
   },
   {
    "duration": 13,
    "start_time": "2024-04-11T18:58:03.207Z"
   },
   {
    "duration": 14,
    "start_time": "2024-04-11T18:58:03.222Z"
   },
   {
    "duration": 12,
    "start_time": "2024-04-11T18:58:03.238Z"
   },
   {
    "duration": 11,
    "start_time": "2024-04-11T18:58:03.251Z"
   },
   {
    "duration": 18,
    "start_time": "2024-04-11T18:58:03.264Z"
   },
   {
    "duration": 15,
    "start_time": "2024-04-11T18:58:03.283Z"
   },
   {
    "duration": 9,
    "start_time": "2024-04-11T18:58:03.300Z"
   },
   {
    "duration": 15,
    "start_time": "2024-04-11T18:58:03.310Z"
   },
   {
    "duration": 25,
    "start_time": "2024-04-11T18:58:03.327Z"
   },
   {
    "duration": 5,
    "start_time": "2024-04-11T18:58:03.353Z"
   },
   {
    "duration": 9,
    "start_time": "2024-04-11T18:58:03.360Z"
   },
   {
    "duration": 13,
    "start_time": "2024-04-11T18:58:03.370Z"
   },
   {
    "duration": 13,
    "start_time": "2024-04-11T18:58:03.384Z"
   },
   {
    "duration": 49,
    "start_time": "2024-04-11T18:58:03.398Z"
   },
   {
    "duration": 322,
    "start_time": "2024-04-11T18:58:03.449Z"
   },
   {
    "duration": 289,
    "start_time": "2024-04-11T18:58:03.773Z"
   },
   {
    "duration": 3,
    "start_time": "2024-04-11T18:58:20.611Z"
   },
   {
    "duration": 69,
    "start_time": "2024-04-11T18:58:20.616Z"
   },
   {
    "duration": 12,
    "start_time": "2024-04-11T18:58:20.686Z"
   },
   {
    "duration": 14,
    "start_time": "2024-04-11T18:58:20.700Z"
   },
   {
    "duration": 14,
    "start_time": "2024-04-11T18:58:20.716Z"
   },
   {
    "duration": 22,
    "start_time": "2024-04-11T18:58:20.745Z"
   },
   {
    "duration": 8,
    "start_time": "2024-04-11T18:58:20.768Z"
   },
   {
    "duration": 9,
    "start_time": "2024-04-11T18:58:20.778Z"
   },
   {
    "duration": 38,
    "start_time": "2024-04-11T18:58:20.789Z"
   },
   {
    "duration": 5,
    "start_time": "2024-04-11T18:58:20.828Z"
   },
   {
    "duration": 6,
    "start_time": "2024-04-11T18:58:20.834Z"
   },
   {
    "duration": 24,
    "start_time": "2024-04-11T18:58:20.841Z"
   },
   {
    "duration": 4,
    "start_time": "2024-04-11T18:58:20.866Z"
   },
   {
    "duration": 5,
    "start_time": "2024-04-11T18:58:20.872Z"
   },
   {
    "duration": 13,
    "start_time": "2024-04-11T18:58:20.878Z"
   },
   {
    "duration": 17,
    "start_time": "2024-04-11T18:58:20.892Z"
   },
   {
    "duration": 28,
    "start_time": "2024-04-11T18:58:20.910Z"
   },
   {
    "duration": 406,
    "start_time": "2024-04-11T18:58:20.939Z"
   },
   {
    "duration": 308,
    "start_time": "2024-04-11T18:58:21.346Z"
   },
   {
    "duration": 3,
    "start_time": "2024-04-11T18:58:49.709Z"
   },
   {
    "duration": 63,
    "start_time": "2024-04-11T18:58:49.713Z"
   },
   {
    "duration": 13,
    "start_time": "2024-04-11T18:58:49.777Z"
   },
   {
    "duration": 13,
    "start_time": "2024-04-11T18:58:49.791Z"
   },
   {
    "duration": 17,
    "start_time": "2024-04-11T18:58:49.806Z"
   },
   {
    "duration": 24,
    "start_time": "2024-04-11T18:58:49.824Z"
   },
   {
    "duration": 17,
    "start_time": "2024-04-11T18:58:49.849Z"
   },
   {
    "duration": 14,
    "start_time": "2024-04-11T18:58:49.867Z"
   },
   {
    "duration": 13,
    "start_time": "2024-04-11T18:58:49.882Z"
   },
   {
    "duration": 4,
    "start_time": "2024-04-11T18:58:49.896Z"
   },
   {
    "duration": 12,
    "start_time": "2024-04-11T18:58:49.901Z"
   },
   {
    "duration": 20,
    "start_time": "2024-04-11T18:58:49.915Z"
   },
   {
    "duration": 11,
    "start_time": "2024-04-11T18:58:49.937Z"
   },
   {
    "duration": 9,
    "start_time": "2024-04-11T18:58:49.950Z"
   },
   {
    "duration": 41,
    "start_time": "2024-04-11T18:58:49.960Z"
   },
   {
    "duration": 36,
    "start_time": "2024-04-11T18:58:50.003Z"
   },
   {
    "duration": 21,
    "start_time": "2024-04-11T18:58:50.041Z"
   },
   {
    "duration": 317,
    "start_time": "2024-04-11T18:58:50.063Z"
   },
   {
    "duration": 303,
    "start_time": "2024-04-11T18:58:50.382Z"
   },
   {
    "duration": 28,
    "start_time": "2024-04-11T19:06:02.810Z"
   },
   {
    "duration": 16,
    "start_time": "2024-04-11T19:07:48.752Z"
   },
   {
    "duration": 3,
    "start_time": "2024-04-11T19:15:32.433Z"
   },
   {
    "duration": 93,
    "start_time": "2024-04-11T19:15:32.438Z"
   },
   {
    "duration": 12,
    "start_time": "2024-04-11T19:15:32.532Z"
   },
   {
    "duration": 25,
    "start_time": "2024-04-11T19:15:32.546Z"
   },
   {
    "duration": 13,
    "start_time": "2024-04-11T19:15:32.573Z"
   },
   {
    "duration": 8,
    "start_time": "2024-04-11T19:15:32.588Z"
   },
   {
    "duration": 14,
    "start_time": "2024-04-11T19:15:32.598Z"
   },
   {
    "duration": 23,
    "start_time": "2024-04-11T19:15:32.614Z"
   },
   {
    "duration": 59,
    "start_time": "2024-04-11T19:15:32.639Z"
   },
   {
    "duration": 31,
    "start_time": "2024-04-11T19:15:32.700Z"
   },
   {
    "duration": 28,
    "start_time": "2024-04-11T19:15:32.733Z"
   },
   {
    "duration": 36,
    "start_time": "2024-04-11T19:15:32.762Z"
   },
   {
    "duration": 22,
    "start_time": "2024-04-11T19:15:32.799Z"
   },
   {
    "duration": 9,
    "start_time": "2024-04-11T19:15:32.823Z"
   },
   {
    "duration": 42,
    "start_time": "2024-04-11T19:15:32.834Z"
   },
   {
    "duration": 125,
    "start_time": "2024-04-11T19:15:32.877Z"
   },
   {
    "duration": 32,
    "start_time": "2024-04-11T19:15:33.003Z"
   },
   {
    "duration": 329,
    "start_time": "2024-04-11T19:15:33.036Z"
   },
   {
    "duration": 295,
    "start_time": "2024-04-11T19:15:33.367Z"
   },
   {
    "duration": 16,
    "start_time": "2024-04-11T19:15:33.664Z"
   },
   {
    "duration": 3,
    "start_time": "2024-04-11T19:15:43.351Z"
   },
   {
    "duration": 63,
    "start_time": "2024-04-11T19:15:43.356Z"
   },
   {
    "duration": 13,
    "start_time": "2024-04-11T19:15:43.420Z"
   },
   {
    "duration": 14,
    "start_time": "2024-04-11T19:15:43.434Z"
   },
   {
    "duration": 14,
    "start_time": "2024-04-11T19:15:43.449Z"
   },
   {
    "duration": 12,
    "start_time": "2024-04-11T19:15:43.465Z"
   },
   {
    "duration": 17,
    "start_time": "2024-04-11T19:15:43.479Z"
   },
   {
    "duration": 10,
    "start_time": "2024-04-11T19:15:43.497Z"
   },
   {
    "duration": 38,
    "start_time": "2024-04-11T19:15:43.510Z"
   },
   {
    "duration": 112,
    "start_time": "2024-04-11T19:15:43.550Z"
   },
   {
    "duration": 6,
    "start_time": "2024-04-11T19:15:43.664Z"
   },
   {
    "duration": 18,
    "start_time": "2024-04-11T19:15:43.672Z"
   },
   {
    "duration": 5,
    "start_time": "2024-04-11T19:15:43.692Z"
   },
   {
    "duration": 5,
    "start_time": "2024-04-11T19:15:43.698Z"
   },
   {
    "duration": 41,
    "start_time": "2024-04-11T19:15:43.704Z"
   },
   {
    "duration": 11,
    "start_time": "2024-04-11T19:15:43.747Z"
   },
   {
    "duration": 21,
    "start_time": "2024-04-11T19:15:43.759Z"
   },
   {
    "duration": 331,
    "start_time": "2024-04-11T19:15:43.781Z"
   },
   {
    "duration": 290,
    "start_time": "2024-04-11T19:15:44.114Z"
   },
   {
    "duration": 15,
    "start_time": "2024-04-11T19:15:44.406Z"
   },
   {
    "duration": 2,
    "start_time": "2024-04-11T19:19:22.619Z"
   },
   {
    "duration": 69,
    "start_time": "2024-04-11T19:19:22.623Z"
   },
   {
    "duration": 13,
    "start_time": "2024-04-11T19:19:22.693Z"
   },
   {
    "duration": 29,
    "start_time": "2024-04-11T19:19:22.707Z"
   },
   {
    "duration": 22,
    "start_time": "2024-04-11T19:19:22.738Z"
   },
   {
    "duration": 27,
    "start_time": "2024-04-11T19:19:22.761Z"
   },
   {
    "duration": 10,
    "start_time": "2024-04-11T19:19:22.789Z"
   },
   {
    "duration": 22,
    "start_time": "2024-04-11T19:19:22.800Z"
   },
   {
    "duration": 32,
    "start_time": "2024-04-11T19:19:22.824Z"
   },
   {
    "duration": 6,
    "start_time": "2024-04-11T19:19:22.858Z"
   },
   {
    "duration": 31,
    "start_time": "2024-04-11T19:19:22.865Z"
   },
   {
    "duration": 23,
    "start_time": "2024-04-11T19:19:22.897Z"
   },
   {
    "duration": 12,
    "start_time": "2024-04-11T19:19:22.921Z"
   },
   {
    "duration": 21,
    "start_time": "2024-04-11T19:19:22.936Z"
   },
   {
    "duration": 18,
    "start_time": "2024-04-11T19:19:22.958Z"
   },
   {
    "duration": 19,
    "start_time": "2024-04-11T19:19:22.978Z"
   },
   {
    "duration": 33,
    "start_time": "2024-04-11T19:19:22.998Z"
   },
   {
    "duration": 317,
    "start_time": "2024-04-11T19:19:23.032Z"
   },
   {
    "duration": 298,
    "start_time": "2024-04-11T19:19:23.350Z"
   },
   {
    "duration": 18,
    "start_time": "2024-04-11T19:19:23.649Z"
   },
   {
    "duration": 180,
    "start_time": "2024-04-11T19:19:23.670Z"
   },
   {
    "duration": 3,
    "start_time": "2024-04-11T19:26:52.545Z"
   },
   {
    "duration": 79,
    "start_time": "2024-04-11T19:26:52.550Z"
   },
   {
    "duration": 12,
    "start_time": "2024-04-11T19:26:52.630Z"
   },
   {
    "duration": 18,
    "start_time": "2024-04-11T19:26:52.643Z"
   },
   {
    "duration": 13,
    "start_time": "2024-04-11T19:26:52.662Z"
   },
   {
    "duration": 7,
    "start_time": "2024-04-11T19:26:52.676Z"
   },
   {
    "duration": 18,
    "start_time": "2024-04-11T19:26:52.685Z"
   },
   {
    "duration": 19,
    "start_time": "2024-04-11T19:26:52.704Z"
   },
   {
    "duration": 16,
    "start_time": "2024-04-11T19:26:52.725Z"
   },
   {
    "duration": 5,
    "start_time": "2024-04-11T19:26:52.742Z"
   },
   {
    "duration": 7,
    "start_time": "2024-04-11T19:26:52.749Z"
   },
   {
    "duration": 25,
    "start_time": "2024-04-11T19:26:52.757Z"
   },
   {
    "duration": 4,
    "start_time": "2024-04-11T19:26:52.783Z"
   },
   {
    "duration": 12,
    "start_time": "2024-04-11T19:26:52.788Z"
   },
   {
    "duration": 21,
    "start_time": "2024-04-11T19:26:52.802Z"
   },
   {
    "duration": 12,
    "start_time": "2024-04-11T19:26:52.824Z"
   },
   {
    "duration": 24,
    "start_time": "2024-04-11T19:26:52.837Z"
   },
   {
    "duration": 305,
    "start_time": "2024-04-11T19:26:52.862Z"
   },
   {
    "duration": 404,
    "start_time": "2024-04-11T19:26:53.169Z"
   },
   {
    "duration": 9,
    "start_time": "2024-04-11T19:26:53.574Z"
   },
   {
    "duration": 0,
    "start_time": "2024-04-11T19:26:53.584Z"
   },
   {
    "duration": 1,
    "start_time": "2024-04-11T19:26:53.585Z"
   },
   {
    "duration": 2,
    "start_time": "2024-04-11T19:29:37.898Z"
   },
   {
    "duration": 70,
    "start_time": "2024-04-11T19:29:37.902Z"
   },
   {
    "duration": 13,
    "start_time": "2024-04-11T19:29:37.973Z"
   },
   {
    "duration": 13,
    "start_time": "2024-04-11T19:29:37.987Z"
   },
   {
    "duration": 13,
    "start_time": "2024-04-11T19:29:38.001Z"
   },
   {
    "duration": 30,
    "start_time": "2024-04-11T19:29:38.016Z"
   },
   {
    "duration": 8,
    "start_time": "2024-04-11T19:29:38.047Z"
   },
   {
    "duration": 9,
    "start_time": "2024-04-11T19:29:38.056Z"
   },
   {
    "duration": 12,
    "start_time": "2024-04-11T19:29:38.066Z"
   },
   {
    "duration": 4,
    "start_time": "2024-04-11T19:29:38.080Z"
   },
   {
    "duration": 6,
    "start_time": "2024-04-11T19:29:38.085Z"
   },
   {
    "duration": 20,
    "start_time": "2024-04-11T19:29:38.092Z"
   },
   {
    "duration": 5,
    "start_time": "2024-04-11T19:29:38.144Z"
   },
   {
    "duration": 4,
    "start_time": "2024-04-11T19:29:38.151Z"
   },
   {
    "duration": 14,
    "start_time": "2024-04-11T19:29:38.156Z"
   },
   {
    "duration": 12,
    "start_time": "2024-04-11T19:29:38.171Z"
   },
   {
    "duration": 20,
    "start_time": "2024-04-11T19:29:38.184Z"
   },
   {
    "duration": 354,
    "start_time": "2024-04-11T19:29:38.206Z"
   },
   {
    "duration": 286,
    "start_time": "2024-04-11T19:29:38.561Z"
   },
   {
    "duration": 9,
    "start_time": "2024-04-11T19:29:38.849Z"
   },
   {
    "duration": 0,
    "start_time": "2024-04-11T19:29:38.859Z"
   },
   {
    "duration": 0,
    "start_time": "2024-04-11T19:29:38.860Z"
   },
   {
    "duration": 3,
    "start_time": "2024-04-11T19:29:57.195Z"
   },
   {
    "duration": 92,
    "start_time": "2024-04-11T19:29:57.200Z"
   },
   {
    "duration": 13,
    "start_time": "2024-04-11T19:29:57.293Z"
   },
   {
    "duration": 30,
    "start_time": "2024-04-11T19:29:57.307Z"
   },
   {
    "duration": 15,
    "start_time": "2024-04-11T19:29:57.339Z"
   },
   {
    "duration": 14,
    "start_time": "2024-04-11T19:29:57.355Z"
   },
   {
    "duration": 9,
    "start_time": "2024-04-11T19:29:57.370Z"
   },
   {
    "duration": 12,
    "start_time": "2024-04-11T19:29:57.380Z"
   },
   {
    "duration": 15,
    "start_time": "2024-04-11T19:29:57.394Z"
   },
   {
    "duration": 5,
    "start_time": "2024-04-11T19:29:57.410Z"
   },
   {
    "duration": 29,
    "start_time": "2024-04-11T19:29:57.417Z"
   },
   {
    "duration": 21,
    "start_time": "2024-04-11T19:29:57.448Z"
   },
   {
    "duration": 4,
    "start_time": "2024-04-11T19:29:57.471Z"
   },
   {
    "duration": 5,
    "start_time": "2024-04-11T19:29:57.478Z"
   },
   {
    "duration": 14,
    "start_time": "2024-04-11T19:29:57.485Z"
   },
   {
    "duration": 12,
    "start_time": "2024-04-11T19:29:57.500Z"
   },
   {
    "duration": 50,
    "start_time": "2024-04-11T19:29:57.513Z"
   },
   {
    "duration": 383,
    "start_time": "2024-04-11T19:29:57.565Z"
   },
   {
    "duration": 316,
    "start_time": "2024-04-11T19:29:57.949Z"
   },
   {
    "duration": 183,
    "start_time": "2024-04-11T19:29:58.267Z"
   },
   {
    "duration": 16,
    "start_time": "2024-04-11T19:29:58.452Z"
   },
   {
    "duration": 264,
    "start_time": "2024-04-11T19:29:58.469Z"
   },
   {
    "duration": 3,
    "start_time": "2024-04-11T19:32:32.543Z"
   },
   {
    "duration": 71,
    "start_time": "2024-04-11T19:32:32.547Z"
   },
   {
    "duration": 12,
    "start_time": "2024-04-11T19:32:32.620Z"
   },
   {
    "duration": 15,
    "start_time": "2024-04-11T19:32:32.635Z"
   },
   {
    "duration": 14,
    "start_time": "2024-04-11T19:32:32.651Z"
   },
   {
    "duration": 9,
    "start_time": "2024-04-11T19:32:32.667Z"
   },
   {
    "duration": 9,
    "start_time": "2024-04-11T19:32:32.677Z"
   },
   {
    "duration": 9,
    "start_time": "2024-04-11T19:32:32.687Z"
   },
   {
    "duration": 30,
    "start_time": "2024-04-11T19:32:32.698Z"
   },
   {
    "duration": 16,
    "start_time": "2024-04-11T19:32:32.731Z"
   },
   {
    "duration": 8,
    "start_time": "2024-04-11T19:32:32.749Z"
   },
   {
    "duration": 26,
    "start_time": "2024-04-11T19:32:32.758Z"
   },
   {
    "duration": 5,
    "start_time": "2024-04-11T19:32:32.785Z"
   },
   {
    "duration": 13,
    "start_time": "2024-04-11T19:32:32.792Z"
   },
   {
    "duration": 14,
    "start_time": "2024-04-11T19:32:32.806Z"
   },
   {
    "duration": 24,
    "start_time": "2024-04-11T19:32:32.821Z"
   },
   {
    "duration": 19,
    "start_time": "2024-04-11T19:32:32.847Z"
   },
   {
    "duration": 319,
    "start_time": "2024-04-11T19:32:32.867Z"
   },
   {
    "duration": 299,
    "start_time": "2024-04-11T19:32:33.188Z"
   },
   {
    "duration": 181,
    "start_time": "2024-04-11T19:32:33.489Z"
   },
   {
    "duration": 15,
    "start_time": "2024-04-11T19:32:33.672Z"
   },
   {
    "duration": 182,
    "start_time": "2024-04-11T19:32:33.688Z"
   },
   {
    "duration": 3,
    "start_time": "2024-04-11T19:39:37.841Z"
   },
   {
    "duration": 73,
    "start_time": "2024-04-11T19:39:37.845Z"
   },
   {
    "duration": 12,
    "start_time": "2024-04-11T19:39:37.919Z"
   },
   {
    "duration": 22,
    "start_time": "2024-04-11T19:39:37.933Z"
   },
   {
    "duration": 12,
    "start_time": "2024-04-11T19:39:37.956Z"
   },
   {
    "duration": 8,
    "start_time": "2024-04-11T19:39:37.969Z"
   },
   {
    "duration": 22,
    "start_time": "2024-04-11T19:39:37.978Z"
   },
   {
    "duration": 8,
    "start_time": "2024-04-11T19:39:38.001Z"
   },
   {
    "duration": 13,
    "start_time": "2024-04-11T19:39:38.012Z"
   },
   {
    "duration": 21,
    "start_time": "2024-04-11T19:39:38.026Z"
   },
   {
    "duration": 5,
    "start_time": "2024-04-11T19:39:38.049Z"
   },
   {
    "duration": 17,
    "start_time": "2024-04-11T19:39:38.056Z"
   },
   {
    "duration": 5,
    "start_time": "2024-04-11T19:39:38.074Z"
   },
   {
    "duration": 7,
    "start_time": "2024-04-11T19:39:38.080Z"
   },
   {
    "duration": 12,
    "start_time": "2024-04-11T19:39:38.088Z"
   },
   {
    "duration": 11,
    "start_time": "2024-04-11T19:39:38.101Z"
   },
   {
    "duration": 50,
    "start_time": "2024-04-11T19:39:38.113Z"
   },
   {
    "duration": 317,
    "start_time": "2024-04-11T19:39:38.164Z"
   },
   {
    "duration": 276,
    "start_time": "2024-04-11T19:39:38.482Z"
   },
   {
    "duration": 6,
    "start_time": "2024-04-11T19:39:38.759Z"
   },
   {
    "duration": 257,
    "start_time": "2024-04-11T19:39:38.766Z"
   },
   {
    "duration": 28,
    "start_time": "2024-04-11T19:39:39.025Z"
   },
   {
    "duration": 183,
    "start_time": "2024-04-11T19:39:39.055Z"
   },
   {
    "duration": 2,
    "start_time": "2024-04-11T19:40:57.811Z"
   },
   {
    "duration": 90,
    "start_time": "2024-04-11T19:40:57.815Z"
   },
   {
    "duration": 14,
    "start_time": "2024-04-11T19:40:57.906Z"
   },
   {
    "duration": 13,
    "start_time": "2024-04-11T19:40:57.921Z"
   },
   {
    "duration": 13,
    "start_time": "2024-04-11T19:40:57.936Z"
   },
   {
    "duration": 8,
    "start_time": "2024-04-11T19:40:57.950Z"
   },
   {
    "duration": 27,
    "start_time": "2024-04-11T19:40:57.959Z"
   },
   {
    "duration": 8,
    "start_time": "2024-04-11T19:40:57.987Z"
   },
   {
    "duration": 14,
    "start_time": "2024-04-11T19:40:57.997Z"
   },
   {
    "duration": 18,
    "start_time": "2024-04-11T19:40:58.013Z"
   },
   {
    "duration": 9,
    "start_time": "2024-04-11T19:40:58.032Z"
   },
   {
    "duration": 20,
    "start_time": "2024-04-11T19:40:58.042Z"
   },
   {
    "duration": 5,
    "start_time": "2024-04-11T19:40:58.064Z"
   },
   {
    "duration": 8,
    "start_time": "2024-04-11T19:40:58.070Z"
   },
   {
    "duration": 20,
    "start_time": "2024-04-11T19:40:58.079Z"
   },
   {
    "duration": 30,
    "start_time": "2024-04-11T19:40:58.100Z"
   },
   {
    "duration": 23,
    "start_time": "2024-04-11T19:40:58.132Z"
   },
   {
    "duration": 355,
    "start_time": "2024-04-11T19:40:58.157Z"
   },
   {
    "duration": 285,
    "start_time": "2024-04-11T19:40:58.513Z"
   },
   {
    "duration": 5,
    "start_time": "2024-04-11T19:40:58.800Z"
   },
   {
    "duration": 16,
    "start_time": "2024-04-11T19:40:58.806Z"
   },
   {
    "duration": 26,
    "start_time": "2024-04-11T19:40:58.823Z"
   },
   {
    "duration": 174,
    "start_time": "2024-04-11T19:40:58.851Z"
   },
   {
    "duration": 5,
    "start_time": "2024-04-11T19:42:03.302Z"
   },
   {
    "duration": 10,
    "start_time": "2024-04-11T19:42:38.342Z"
   },
   {
    "duration": 3,
    "start_time": "2024-04-11T19:42:40.611Z"
   },
   {
    "duration": 72,
    "start_time": "2024-04-11T19:42:40.616Z"
   },
   {
    "duration": 13,
    "start_time": "2024-04-11T19:42:40.690Z"
   },
   {
    "duration": 19,
    "start_time": "2024-04-11T19:42:40.705Z"
   },
   {
    "duration": 26,
    "start_time": "2024-04-11T19:42:40.725Z"
   },
   {
    "duration": 9,
    "start_time": "2024-04-11T19:42:40.752Z"
   },
   {
    "duration": 14,
    "start_time": "2024-04-11T19:42:40.762Z"
   },
   {
    "duration": 10,
    "start_time": "2024-04-11T19:42:40.777Z"
   },
   {
    "duration": 15,
    "start_time": "2024-04-11T19:42:40.788Z"
   },
   {
    "duration": 5,
    "start_time": "2024-04-11T19:42:40.805Z"
   },
   {
    "duration": 34,
    "start_time": "2024-04-11T19:42:40.813Z"
   },
   {
    "duration": 21,
    "start_time": "2024-04-11T19:42:40.848Z"
   },
   {
    "duration": 4,
    "start_time": "2024-04-11T19:42:40.870Z"
   },
   {
    "duration": 7,
    "start_time": "2024-04-11T19:42:40.875Z"
   },
   {
    "duration": 15,
    "start_time": "2024-04-11T19:42:40.883Z"
   },
   {
    "duration": 13,
    "start_time": "2024-04-11T19:42:40.899Z"
   },
   {
    "duration": 41,
    "start_time": "2024-04-11T19:42:40.913Z"
   },
   {
    "duration": 350,
    "start_time": "2024-04-11T19:42:40.955Z"
   },
   {
    "duration": 322,
    "start_time": "2024-04-11T19:42:41.306Z"
   },
   {
    "duration": 17,
    "start_time": "2024-04-11T19:42:41.629Z"
   },
   {
    "duration": 0,
    "start_time": "2024-04-11T19:42:41.647Z"
   },
   {
    "duration": 0,
    "start_time": "2024-04-11T19:42:41.648Z"
   },
   {
    "duration": 0,
    "start_time": "2024-04-11T19:42:41.649Z"
   },
   {
    "duration": 4,
    "start_time": "2024-04-11T19:43:34.859Z"
   },
   {
    "duration": 3,
    "start_time": "2024-04-11T19:43:46.312Z"
   },
   {
    "duration": 94,
    "start_time": "2024-04-11T19:43:46.316Z"
   },
   {
    "duration": 12,
    "start_time": "2024-04-11T19:43:46.411Z"
   },
   {
    "duration": 40,
    "start_time": "2024-04-11T19:43:46.425Z"
   },
   {
    "duration": 34,
    "start_time": "2024-04-11T19:43:46.467Z"
   },
   {
    "duration": 27,
    "start_time": "2024-04-11T19:43:46.502Z"
   },
   {
    "duration": 42,
    "start_time": "2024-04-11T19:43:46.530Z"
   },
   {
    "duration": 41,
    "start_time": "2024-04-11T19:43:46.573Z"
   },
   {
    "duration": 127,
    "start_time": "2024-04-11T19:43:46.615Z"
   },
   {
    "duration": 5,
    "start_time": "2024-04-11T19:43:46.744Z"
   },
   {
    "duration": 28,
    "start_time": "2024-04-11T19:43:46.751Z"
   },
   {
    "duration": 45,
    "start_time": "2024-04-11T19:43:46.780Z"
   },
   {
    "duration": 24,
    "start_time": "2024-04-11T19:43:46.826Z"
   },
   {
    "duration": 40,
    "start_time": "2024-04-11T19:43:46.851Z"
   },
   {
    "duration": 25,
    "start_time": "2024-04-11T19:43:46.893Z"
   },
   {
    "duration": 28,
    "start_time": "2024-04-11T19:43:46.920Z"
   },
   {
    "duration": 36,
    "start_time": "2024-04-11T19:43:46.949Z"
   },
   {
    "duration": 319,
    "start_time": "2024-04-11T19:43:46.987Z"
   },
   {
    "duration": 294,
    "start_time": "2024-04-11T19:43:47.308Z"
   },
   {
    "duration": 5,
    "start_time": "2024-04-11T19:43:47.603Z"
   },
   {
    "duration": 34,
    "start_time": "2024-04-11T19:43:47.610Z"
   },
   {
    "duration": 53,
    "start_time": "2024-04-11T19:43:47.646Z"
   },
   {
    "duration": 200,
    "start_time": "2024-04-11T19:43:47.700Z"
   },
   {
    "duration": 2,
    "start_time": "2024-04-11T19:44:09.130Z"
   },
   {
    "duration": 61,
    "start_time": "2024-04-11T19:44:09.134Z"
   },
   {
    "duration": 13,
    "start_time": "2024-04-11T19:44:09.196Z"
   },
   {
    "duration": 14,
    "start_time": "2024-04-11T19:44:09.210Z"
   },
   {
    "duration": 13,
    "start_time": "2024-04-11T19:44:09.225Z"
   },
   {
    "duration": 13,
    "start_time": "2024-04-11T19:44:09.239Z"
   },
   {
    "duration": 8,
    "start_time": "2024-04-11T19:44:09.253Z"
   },
   {
    "duration": 10,
    "start_time": "2024-04-11T19:44:09.262Z"
   },
   {
    "duration": 13,
    "start_time": "2024-04-11T19:44:09.273Z"
   },
   {
    "duration": 4,
    "start_time": "2024-04-11T19:44:09.288Z"
   },
   {
    "duration": 19,
    "start_time": "2024-04-11T19:44:09.293Z"
   },
   {
    "duration": 32,
    "start_time": "2024-04-11T19:44:09.313Z"
   },
   {
    "duration": 4,
    "start_time": "2024-04-11T19:44:09.346Z"
   },
   {
    "duration": 6,
    "start_time": "2024-04-11T19:44:09.351Z"
   },
   {
    "duration": 14,
    "start_time": "2024-04-11T19:44:09.358Z"
   },
   {
    "duration": 10,
    "start_time": "2024-04-11T19:44:09.373Z"
   },
   {
    "duration": 21,
    "start_time": "2024-04-11T19:44:09.384Z"
   },
   {
    "duration": 327,
    "start_time": "2024-04-11T19:44:09.406Z"
   },
   {
    "duration": 295,
    "start_time": "2024-04-11T19:44:09.735Z"
   },
   {
    "duration": 6,
    "start_time": "2024-04-11T19:44:10.032Z"
   },
   {
    "duration": 15,
    "start_time": "2024-04-11T19:44:10.039Z"
   },
   {
    "duration": 26,
    "start_time": "2024-04-11T19:44:10.056Z"
   },
   {
    "duration": 193,
    "start_time": "2024-04-11T19:44:10.084Z"
   },
   {
    "duration": 2,
    "start_time": "2024-04-11T19:45:43.665Z"
   },
   {
    "duration": 64,
    "start_time": "2024-04-11T19:45:43.669Z"
   },
   {
    "duration": 13,
    "start_time": "2024-04-11T19:45:43.734Z"
   },
   {
    "duration": 14,
    "start_time": "2024-04-11T19:45:43.748Z"
   },
   {
    "duration": 13,
    "start_time": "2024-04-11T19:45:43.764Z"
   },
   {
    "duration": 9,
    "start_time": "2024-04-11T19:45:43.779Z"
   },
   {
    "duration": 9,
    "start_time": "2024-04-11T19:45:43.789Z"
   },
   {
    "duration": 8,
    "start_time": "2024-04-11T19:45:43.799Z"
   },
   {
    "duration": 45,
    "start_time": "2024-04-11T19:45:43.809Z"
   },
   {
    "duration": 6,
    "start_time": "2024-04-11T19:45:43.855Z"
   },
   {
    "duration": 5,
    "start_time": "2024-04-11T19:45:43.862Z"
   },
   {
    "duration": 18,
    "start_time": "2024-04-11T19:45:43.868Z"
   },
   {
    "duration": 4,
    "start_time": "2024-04-11T19:45:43.888Z"
   },
   {
    "duration": 4,
    "start_time": "2024-04-11T19:45:43.894Z"
   },
   {
    "duration": 13,
    "start_time": "2024-04-11T19:45:43.899Z"
   },
   {
    "duration": 12,
    "start_time": "2024-04-11T19:45:43.945Z"
   },
   {
    "duration": 21,
    "start_time": "2024-04-11T19:45:43.959Z"
   },
   {
    "duration": 437,
    "start_time": "2024-04-11T19:45:43.981Z"
   },
   {
    "duration": 292,
    "start_time": "2024-04-11T19:45:44.419Z"
   },
   {
    "duration": 6,
    "start_time": "2024-04-11T19:45:44.713Z"
   },
   {
    "duration": 4,
    "start_time": "2024-04-11T19:45:44.721Z"
   },
   {
    "duration": 27,
    "start_time": "2024-04-11T19:45:44.727Z"
   },
   {
    "duration": 194,
    "start_time": "2024-04-11T19:45:44.756Z"
   },
   {
    "duration": 3,
    "start_time": "2024-04-11T19:46:55.599Z"
   },
   {
    "duration": 68,
    "start_time": "2024-04-11T19:46:55.603Z"
   },
   {
    "duration": 12,
    "start_time": "2024-04-11T19:46:55.673Z"
   },
   {
    "duration": 13,
    "start_time": "2024-04-11T19:46:55.686Z"
   },
   {
    "duration": 12,
    "start_time": "2024-04-11T19:46:55.701Z"
   },
   {
    "duration": 8,
    "start_time": "2024-04-11T19:46:55.714Z"
   },
   {
    "duration": 8,
    "start_time": "2024-04-11T19:46:55.744Z"
   },
   {
    "duration": 8,
    "start_time": "2024-04-11T19:46:55.754Z"
   },
   {
    "duration": 13,
    "start_time": "2024-04-11T19:46:55.763Z"
   },
   {
    "duration": 4,
    "start_time": "2024-04-11T19:46:55.778Z"
   },
   {
    "duration": 4,
    "start_time": "2024-04-11T19:46:55.784Z"
   },
   {
    "duration": 17,
    "start_time": "2024-04-11T19:46:55.790Z"
   },
   {
    "duration": 4,
    "start_time": "2024-04-11T19:46:55.808Z"
   },
   {
    "duration": 4,
    "start_time": "2024-04-11T19:46:55.845Z"
   },
   {
    "duration": 13,
    "start_time": "2024-04-11T19:46:55.850Z"
   },
   {
    "duration": 12,
    "start_time": "2024-04-11T19:46:55.864Z"
   },
   {
    "duration": 23,
    "start_time": "2024-04-11T19:46:55.877Z"
   },
   {
    "duration": 325,
    "start_time": "2024-04-11T19:46:55.901Z"
   },
   {
    "duration": 303,
    "start_time": "2024-04-11T19:46:56.228Z"
   },
   {
    "duration": 14,
    "start_time": "2024-04-11T19:46:56.532Z"
   },
   {
    "duration": 139,
    "start_time": "2024-04-11T19:46:56.547Z"
   },
   {
    "duration": 14,
    "start_time": "2024-04-11T19:46:56.688Z"
   },
   {
    "duration": 186,
    "start_time": "2024-04-11T19:46:56.703Z"
   },
   {
    "duration": 2,
    "start_time": "2024-04-11T19:55:46.702Z"
   },
   {
    "duration": 66,
    "start_time": "2024-04-11T19:55:46.706Z"
   },
   {
    "duration": 12,
    "start_time": "2024-04-11T19:55:46.774Z"
   },
   {
    "duration": 14,
    "start_time": "2024-04-11T19:55:46.787Z"
   },
   {
    "duration": 13,
    "start_time": "2024-04-11T19:55:46.802Z"
   },
   {
    "duration": 29,
    "start_time": "2024-04-11T19:55:46.817Z"
   },
   {
    "duration": 9,
    "start_time": "2024-04-11T19:55:46.847Z"
   },
   {
    "duration": 8,
    "start_time": "2024-04-11T19:55:46.857Z"
   },
   {
    "duration": 12,
    "start_time": "2024-04-11T19:55:46.867Z"
   },
   {
    "duration": 10,
    "start_time": "2024-04-11T19:55:46.882Z"
   },
   {
    "duration": 5,
    "start_time": "2024-04-11T19:55:46.893Z"
   },
   {
    "duration": 19,
    "start_time": "2024-04-11T19:55:46.899Z"
   },
   {
    "duration": 27,
    "start_time": "2024-04-11T19:55:46.919Z"
   },
   {
    "duration": 4,
    "start_time": "2024-04-11T19:55:46.948Z"
   },
   {
    "duration": 29,
    "start_time": "2024-04-11T19:55:46.953Z"
   },
   {
    "duration": 11,
    "start_time": "2024-04-11T19:55:46.983Z"
   },
   {
    "duration": 18,
    "start_time": "2024-04-11T19:55:46.996Z"
   },
   {
    "duration": 394,
    "start_time": "2024-04-11T19:55:47.016Z"
   },
   {
    "duration": 391,
    "start_time": "2024-04-11T19:55:47.412Z"
   },
   {
    "duration": 14,
    "start_time": "2024-04-11T19:55:47.805Z"
   },
   {
    "duration": 0,
    "start_time": "2024-04-11T19:55:47.821Z"
   },
   {
    "duration": 0,
    "start_time": "2024-04-11T19:55:47.822Z"
   },
   {
    "duration": 0,
    "start_time": "2024-04-11T19:55:47.823Z"
   },
   {
    "duration": 2,
    "start_time": "2024-04-11T19:56:11.153Z"
   },
   {
    "duration": 80,
    "start_time": "2024-04-11T19:56:11.156Z"
   },
   {
    "duration": 13,
    "start_time": "2024-04-11T19:56:11.237Z"
   },
   {
    "duration": 18,
    "start_time": "2024-04-11T19:56:11.251Z"
   },
   {
    "duration": 12,
    "start_time": "2024-04-11T19:56:11.271Z"
   },
   {
    "duration": 11,
    "start_time": "2024-04-11T19:56:11.285Z"
   },
   {
    "duration": 7,
    "start_time": "2024-04-11T19:56:11.298Z"
   },
   {
    "duration": 8,
    "start_time": "2024-04-11T19:56:11.306Z"
   },
   {
    "duration": 32,
    "start_time": "2024-04-11T19:56:11.315Z"
   },
   {
    "duration": 4,
    "start_time": "2024-04-11T19:56:11.348Z"
   },
   {
    "duration": 11,
    "start_time": "2024-04-11T19:56:11.354Z"
   },
   {
    "duration": 18,
    "start_time": "2024-04-11T19:56:11.366Z"
   },
   {
    "duration": 7,
    "start_time": "2024-04-11T19:56:11.385Z"
   },
   {
    "duration": 16,
    "start_time": "2024-04-11T19:56:11.394Z"
   },
   {
    "duration": 16,
    "start_time": "2024-04-11T19:56:11.412Z"
   },
   {
    "duration": 16,
    "start_time": "2024-04-11T19:56:11.429Z"
   },
   {
    "duration": 26,
    "start_time": "2024-04-11T19:56:11.446Z"
   },
   {
    "duration": 323,
    "start_time": "2024-04-11T19:56:11.473Z"
   },
   {
    "duration": 288,
    "start_time": "2024-04-11T19:56:11.798Z"
   },
   {
    "duration": 10,
    "start_time": "2024-04-11T19:56:12.087Z"
   },
   {
    "duration": 153,
    "start_time": "2024-04-11T19:56:12.098Z"
   },
   {
    "duration": 14,
    "start_time": "2024-04-11T19:56:12.252Z"
   },
   {
    "duration": 184,
    "start_time": "2024-04-11T19:56:12.267Z"
   },
   {
    "duration": 3,
    "start_time": "2024-04-11T19:56:39.585Z"
   },
   {
    "duration": 78,
    "start_time": "2024-04-11T19:56:39.589Z"
   },
   {
    "duration": 12,
    "start_time": "2024-04-11T19:56:39.668Z"
   },
   {
    "duration": 41,
    "start_time": "2024-04-11T19:56:39.682Z"
   },
   {
    "duration": 56,
    "start_time": "2024-04-11T19:56:39.724Z"
   },
   {
    "duration": 24,
    "start_time": "2024-04-11T19:56:39.782Z"
   },
   {
    "duration": 33,
    "start_time": "2024-04-11T19:56:39.807Z"
   },
   {
    "duration": 59,
    "start_time": "2024-04-11T19:56:39.841Z"
   },
   {
    "duration": 40,
    "start_time": "2024-04-11T19:56:39.902Z"
   },
   {
    "duration": 12,
    "start_time": "2024-04-11T19:56:39.945Z"
   },
   {
    "duration": 26,
    "start_time": "2024-04-11T19:56:39.958Z"
   },
   {
    "duration": 42,
    "start_time": "2024-04-11T19:56:39.985Z"
   },
   {
    "duration": 40,
    "start_time": "2024-04-11T19:56:40.028Z"
   },
   {
    "duration": 25,
    "start_time": "2024-04-11T19:56:40.070Z"
   },
   {
    "duration": 52,
    "start_time": "2024-04-11T19:56:40.097Z"
   },
   {
    "duration": 41,
    "start_time": "2024-04-11T19:56:40.150Z"
   },
   {
    "duration": 29,
    "start_time": "2024-04-11T19:56:40.193Z"
   },
   {
    "duration": 337,
    "start_time": "2024-04-11T19:56:40.223Z"
   },
   {
    "duration": 291,
    "start_time": "2024-04-11T19:56:40.561Z"
   },
   {
    "duration": 11,
    "start_time": "2024-04-11T19:56:40.854Z"
   },
   {
    "duration": 41,
    "start_time": "2024-04-11T19:56:40.866Z"
   },
   {
    "duration": 25,
    "start_time": "2024-04-11T19:56:40.908Z"
   },
   {
    "duration": 265,
    "start_time": "2024-04-11T19:56:40.934Z"
   },
   {
    "duration": 11,
    "start_time": "2024-04-11T19:57:26.151Z"
   },
   {
    "duration": 3,
    "start_time": "2024-04-11T19:57:29.435Z"
   },
   {
    "duration": 67,
    "start_time": "2024-04-11T19:57:29.440Z"
   },
   {
    "duration": 13,
    "start_time": "2024-04-11T19:57:29.508Z"
   },
   {
    "duration": 18,
    "start_time": "2024-04-11T19:57:29.523Z"
   },
   {
    "duration": 14,
    "start_time": "2024-04-11T19:57:29.543Z"
   },
   {
    "duration": 10,
    "start_time": "2024-04-11T19:57:29.558Z"
   },
   {
    "duration": 17,
    "start_time": "2024-04-11T19:57:29.569Z"
   },
   {
    "duration": 8,
    "start_time": "2024-04-11T19:57:29.587Z"
   },
   {
    "duration": 17,
    "start_time": "2024-04-11T19:57:29.597Z"
   },
   {
    "duration": 4,
    "start_time": "2024-04-11T19:57:29.615Z"
   },
   {
    "duration": 30,
    "start_time": "2024-04-11T19:57:29.620Z"
   },
   {
    "duration": 19,
    "start_time": "2024-04-11T19:57:29.651Z"
   },
   {
    "duration": 5,
    "start_time": "2024-04-11T19:57:29.672Z"
   },
   {
    "duration": 6,
    "start_time": "2024-04-11T19:57:29.679Z"
   },
   {
    "duration": 13,
    "start_time": "2024-04-11T19:57:29.686Z"
   },
   {
    "duration": 12,
    "start_time": "2024-04-11T19:57:29.700Z"
   },
   {
    "duration": 48,
    "start_time": "2024-04-11T19:57:29.713Z"
   },
   {
    "duration": 313,
    "start_time": "2024-04-11T19:57:29.762Z"
   },
   {
    "duration": 294,
    "start_time": "2024-04-11T19:57:30.077Z"
   },
   {
    "duration": 12,
    "start_time": "2024-04-11T19:57:30.372Z"
   },
   {
    "duration": 115,
    "start_time": "2024-04-11T19:57:30.385Z"
   },
   {
    "duration": 139,
    "start_time": "2024-04-11T19:57:30.502Z"
   },
   {
    "duration": 226,
    "start_time": "2024-04-11T19:57:30.642Z"
   },
   {
    "duration": 3,
    "start_time": "2024-04-11T20:02:00.518Z"
   },
   {
    "duration": 151,
    "start_time": "2024-04-11T20:02:00.522Z"
   },
   {
    "duration": 12,
    "start_time": "2024-04-11T20:02:00.675Z"
   },
   {
    "duration": 62,
    "start_time": "2024-04-11T20:02:00.689Z"
   },
   {
    "duration": 51,
    "start_time": "2024-04-11T20:02:00.753Z"
   },
   {
    "duration": 80,
    "start_time": "2024-04-11T20:02:00.805Z"
   },
   {
    "duration": 40,
    "start_time": "2024-04-11T20:02:00.886Z"
   },
   {
    "duration": 45,
    "start_time": "2024-04-11T20:02:00.928Z"
   },
   {
    "duration": 124,
    "start_time": "2024-04-11T20:02:00.974Z"
   },
   {
    "duration": 50,
    "start_time": "2024-04-11T20:02:01.100Z"
   },
   {
    "duration": 76,
    "start_time": "2024-04-11T20:02:01.152Z"
   },
   {
    "duration": 36,
    "start_time": "2024-04-11T20:02:01.230Z"
   },
   {
    "duration": 37,
    "start_time": "2024-04-11T20:02:01.267Z"
   },
   {
    "duration": 37,
    "start_time": "2024-04-11T20:02:01.306Z"
   },
   {
    "duration": 43,
    "start_time": "2024-04-11T20:02:01.345Z"
   },
   {
    "duration": 29,
    "start_time": "2024-04-11T20:02:01.390Z"
   },
   {
    "duration": 63,
    "start_time": "2024-04-11T20:02:01.420Z"
   },
   {
    "duration": 338,
    "start_time": "2024-04-11T20:02:01.485Z"
   },
   {
    "duration": 298,
    "start_time": "2024-04-11T20:02:01.824Z"
   },
   {
    "duration": 11,
    "start_time": "2024-04-11T20:02:02.124Z"
   },
   {
    "duration": 0,
    "start_time": "2024-04-11T20:02:02.136Z"
   },
   {
    "duration": 0,
    "start_time": "2024-04-11T20:02:02.145Z"
   },
   {
    "duration": 2,
    "start_time": "2024-04-11T20:02:32.102Z"
   },
   {
    "duration": 93,
    "start_time": "2024-04-11T20:02:32.106Z"
   },
   {
    "duration": 13,
    "start_time": "2024-04-11T20:02:32.201Z"
   },
   {
    "duration": 15,
    "start_time": "2024-04-11T20:02:32.215Z"
   },
   {
    "duration": 25,
    "start_time": "2024-04-11T20:02:32.232Z"
   },
   {
    "duration": 9,
    "start_time": "2024-04-11T20:02:32.258Z"
   },
   {
    "duration": 24,
    "start_time": "2024-04-11T20:02:32.268Z"
   },
   {
    "duration": 22,
    "start_time": "2024-04-11T20:02:32.293Z"
   },
   {
    "duration": 35,
    "start_time": "2024-04-11T20:02:32.317Z"
   },
   {
    "duration": 4,
    "start_time": "2024-04-11T20:02:32.354Z"
   },
   {
    "duration": 8,
    "start_time": "2024-04-11T20:02:32.360Z"
   },
   {
    "duration": 18,
    "start_time": "2024-04-11T20:02:32.369Z"
   },
   {
    "duration": 4,
    "start_time": "2024-04-11T20:02:32.389Z"
   },
   {
    "duration": 23,
    "start_time": "2024-04-11T20:02:32.395Z"
   },
   {
    "duration": 28,
    "start_time": "2024-04-11T20:02:32.419Z"
   },
   {
    "duration": 21,
    "start_time": "2024-04-11T20:02:32.448Z"
   },
   {
    "duration": 39,
    "start_time": "2024-04-11T20:02:32.471Z"
   },
   {
    "duration": 473,
    "start_time": "2024-04-11T20:02:32.512Z"
   },
   {
    "duration": 304,
    "start_time": "2024-04-11T20:02:32.986Z"
   },
   {
    "duration": 155,
    "start_time": "2024-04-11T20:02:33.292Z"
   },
   {
    "duration": 16,
    "start_time": "2024-04-11T20:02:33.449Z"
   },
   {
    "duration": 196,
    "start_time": "2024-04-11T20:02:33.467Z"
   },
   {
    "duration": 3,
    "start_time": "2024-04-11T20:09:53.609Z"
   },
   {
    "duration": 73,
    "start_time": "2024-04-11T20:09:53.614Z"
   },
   {
    "duration": 13,
    "start_time": "2024-04-11T20:09:53.688Z"
   },
   {
    "duration": 38,
    "start_time": "2024-04-11T20:09:53.702Z"
   },
   {
    "duration": 13,
    "start_time": "2024-04-11T20:09:53.742Z"
   },
   {
    "duration": 14,
    "start_time": "2024-04-11T20:09:53.756Z"
   },
   {
    "duration": 8,
    "start_time": "2024-04-11T20:09:53.771Z"
   },
   {
    "duration": 26,
    "start_time": "2024-04-11T20:09:53.780Z"
   },
   {
    "duration": 15,
    "start_time": "2024-04-11T20:09:53.807Z"
   },
   {
    "duration": 6,
    "start_time": "2024-04-11T20:09:53.824Z"
   },
   {
    "duration": 14,
    "start_time": "2024-04-11T20:09:53.831Z"
   },
   {
    "duration": 29,
    "start_time": "2024-04-11T20:09:53.846Z"
   },
   {
    "duration": 4,
    "start_time": "2024-04-11T20:09:53.876Z"
   },
   {
    "duration": 17,
    "start_time": "2024-04-11T20:09:53.883Z"
   },
   {
    "duration": 15,
    "start_time": "2024-04-11T20:09:53.902Z"
   },
   {
    "duration": 34,
    "start_time": "2024-04-11T20:09:53.919Z"
   },
   {
    "duration": 22,
    "start_time": "2024-04-11T20:09:53.955Z"
   },
   {
    "duration": 334,
    "start_time": "2024-04-11T20:09:53.978Z"
   },
   {
    "duration": 281,
    "start_time": "2024-04-11T20:09:54.313Z"
   },
   {
    "duration": 160,
    "start_time": "2024-04-11T20:09:54.595Z"
   },
   {
    "duration": 15,
    "start_time": "2024-04-11T20:09:54.756Z"
   },
   {
    "duration": 179,
    "start_time": "2024-04-11T20:09:54.772Z"
   },
   {
    "duration": 3,
    "start_time": "2024-04-11T20:12:28.950Z"
   },
   {
    "duration": 70,
    "start_time": "2024-04-11T20:12:28.954Z"
   },
   {
    "duration": 12,
    "start_time": "2024-04-11T20:12:29.025Z"
   },
   {
    "duration": 29,
    "start_time": "2024-04-11T20:12:29.038Z"
   },
   {
    "duration": 30,
    "start_time": "2024-04-11T20:12:29.068Z"
   },
   {
    "duration": 27,
    "start_time": "2024-04-11T20:12:29.099Z"
   },
   {
    "duration": 18,
    "start_time": "2024-04-11T20:12:29.128Z"
   },
   {
    "duration": 30,
    "start_time": "2024-04-11T20:12:29.147Z"
   },
   {
    "duration": 47,
    "start_time": "2024-04-11T20:12:29.178Z"
   },
   {
    "duration": 21,
    "start_time": "2024-04-11T20:12:29.228Z"
   },
   {
    "duration": 36,
    "start_time": "2024-04-11T20:12:29.251Z"
   },
   {
    "duration": 43,
    "start_time": "2024-04-11T20:12:29.289Z"
   },
   {
    "duration": 4,
    "start_time": "2024-04-11T20:12:29.334Z"
   },
   {
    "duration": 26,
    "start_time": "2024-04-11T20:12:29.340Z"
   },
   {
    "duration": 18,
    "start_time": "2024-04-11T20:12:29.367Z"
   },
   {
    "duration": 31,
    "start_time": "2024-04-11T20:12:29.386Z"
   },
   {
    "duration": 32,
    "start_time": "2024-04-11T20:12:29.418Z"
   },
   {
    "duration": 328,
    "start_time": "2024-04-11T20:12:29.452Z"
   },
   {
    "duration": 387,
    "start_time": "2024-04-11T20:12:29.781Z"
   },
   {
    "duration": 176,
    "start_time": "2024-04-11T20:12:30.169Z"
   },
   {
    "duration": 16,
    "start_time": "2024-04-11T20:12:30.346Z"
   },
   {
    "duration": 268,
    "start_time": "2024-04-11T20:12:30.363Z"
   },
   {
    "duration": 3,
    "start_time": "2024-04-11T20:14:14.923Z"
   },
   {
    "duration": 60,
    "start_time": "2024-04-11T20:14:14.928Z"
   },
   {
    "duration": 13,
    "start_time": "2024-04-11T20:14:14.990Z"
   },
   {
    "duration": 15,
    "start_time": "2024-04-11T20:14:15.004Z"
   },
   {
    "duration": 42,
    "start_time": "2024-04-11T20:14:15.021Z"
   },
   {
    "duration": 29,
    "start_time": "2024-04-11T20:14:15.065Z"
   },
   {
    "duration": 30,
    "start_time": "2024-04-11T20:14:15.096Z"
   },
   {
    "duration": 30,
    "start_time": "2024-04-11T20:14:15.128Z"
   },
   {
    "duration": 35,
    "start_time": "2024-04-11T20:14:15.160Z"
   },
   {
    "duration": 10,
    "start_time": "2024-04-11T20:14:15.196Z"
   },
   {
    "duration": 29,
    "start_time": "2024-04-11T20:14:15.207Z"
   },
   {
    "duration": 37,
    "start_time": "2024-04-11T20:14:15.238Z"
   },
   {
    "duration": 5,
    "start_time": "2024-04-11T20:14:15.276Z"
   },
   {
    "duration": 23,
    "start_time": "2024-04-11T20:14:15.283Z"
   },
   {
    "duration": 45,
    "start_time": "2024-04-11T20:14:15.307Z"
   },
   {
    "duration": 38,
    "start_time": "2024-04-11T20:14:15.354Z"
   },
   {
    "duration": 58,
    "start_time": "2024-04-11T20:14:15.395Z"
   },
   {
    "duration": 333,
    "start_time": "2024-04-11T20:14:15.455Z"
   },
   {
    "duration": 278,
    "start_time": "2024-04-11T20:14:15.790Z"
   },
   {
    "duration": 168,
    "start_time": "2024-04-11T20:14:16.070Z"
   },
   {
    "duration": 18,
    "start_time": "2024-04-11T20:14:16.240Z"
   },
   {
    "duration": 190,
    "start_time": "2024-04-11T20:14:16.259Z"
   },
   {
    "duration": 1030,
    "start_time": "2024-04-11T20:31:00.764Z"
   },
   {
    "duration": 69,
    "start_time": "2024-04-11T20:31:01.796Z"
   },
   {
    "duration": 13,
    "start_time": "2024-04-11T20:31:01.866Z"
   },
   {
    "duration": 18,
    "start_time": "2024-04-11T20:31:01.881Z"
   },
   {
    "duration": 14,
    "start_time": "2024-04-11T20:31:01.901Z"
   },
   {
    "duration": 29,
    "start_time": "2024-04-11T20:31:01.917Z"
   },
   {
    "duration": 18,
    "start_time": "2024-04-11T20:31:01.947Z"
   },
   {
    "duration": 19,
    "start_time": "2024-04-11T20:31:01.966Z"
   },
   {
    "duration": 39,
    "start_time": "2024-04-11T20:31:01.986Z"
   },
   {
    "duration": 13,
    "start_time": "2024-04-11T20:31:02.026Z"
   },
   {
    "duration": 12,
    "start_time": "2024-04-11T20:31:02.040Z"
   },
   {
    "duration": 18,
    "start_time": "2024-04-11T20:31:02.053Z"
   },
   {
    "duration": 9,
    "start_time": "2024-04-11T20:31:02.073Z"
   },
   {
    "duration": 6,
    "start_time": "2024-04-11T20:31:02.085Z"
   },
   {
    "duration": 32,
    "start_time": "2024-04-11T20:31:02.092Z"
   },
   {
    "duration": 13,
    "start_time": "2024-04-11T20:31:02.126Z"
   },
   {
    "duration": 36,
    "start_time": "2024-04-11T20:31:02.141Z"
   },
   {
    "duration": 331,
    "start_time": "2024-04-11T20:31:02.179Z"
   },
   {
    "duration": 303,
    "start_time": "2024-04-11T20:31:02.511Z"
   },
   {
    "duration": 179,
    "start_time": "2024-04-11T20:31:02.815Z"
   },
   {
    "duration": 15,
    "start_time": "2024-04-11T20:31:02.995Z"
   },
   {
    "duration": 206,
    "start_time": "2024-04-11T20:31:03.011Z"
   },
   {
    "duration": 3,
    "start_time": "2024-04-11T20:33:06.112Z"
   },
   {
    "duration": 80,
    "start_time": "2024-04-11T20:33:06.116Z"
   },
   {
    "duration": 12,
    "start_time": "2024-04-11T20:33:06.198Z"
   },
   {
    "duration": 16,
    "start_time": "2024-04-11T20:33:06.212Z"
   },
   {
    "duration": 17,
    "start_time": "2024-04-11T20:33:06.229Z"
   },
   {
    "duration": 21,
    "start_time": "2024-04-11T20:33:06.247Z"
   },
   {
    "duration": 8,
    "start_time": "2024-04-11T20:33:06.269Z"
   },
   {
    "duration": 15,
    "start_time": "2024-04-11T20:33:06.278Z"
   },
   {
    "duration": 23,
    "start_time": "2024-04-11T20:33:06.294Z"
   },
   {
    "duration": 18,
    "start_time": "2024-04-11T20:33:06.319Z"
   },
   {
    "duration": 20,
    "start_time": "2024-04-11T20:33:06.339Z"
   },
   {
    "duration": 46,
    "start_time": "2024-04-11T20:33:06.361Z"
   },
   {
    "duration": 4,
    "start_time": "2024-04-11T20:33:06.408Z"
   },
   {
    "duration": 11,
    "start_time": "2024-04-11T20:33:06.414Z"
   },
   {
    "duration": 13,
    "start_time": "2024-04-11T20:33:06.426Z"
   },
   {
    "duration": 12,
    "start_time": "2024-04-11T20:33:06.440Z"
   },
   {
    "duration": 21,
    "start_time": "2024-04-11T20:33:06.453Z"
   },
   {
    "duration": 328,
    "start_time": "2024-04-11T20:33:06.475Z"
   },
   {
    "duration": 341,
    "start_time": "2024-04-11T20:33:06.805Z"
   },
   {
    "duration": 186,
    "start_time": "2024-04-11T20:33:07.147Z"
   },
   {
    "duration": 24,
    "start_time": "2024-04-11T20:33:07.334Z"
   },
   {
    "duration": 201,
    "start_time": "2024-04-11T20:33:07.359Z"
   },
   {
    "duration": 108,
    "start_time": "2024-04-11T20:33:07.561Z"
   },
   {
    "duration": 2,
    "start_time": "2024-04-11T20:34:10.377Z"
   },
   {
    "duration": 73,
    "start_time": "2024-04-11T20:34:10.381Z"
   },
   {
    "duration": 12,
    "start_time": "2024-04-11T20:34:10.456Z"
   },
   {
    "duration": 13,
    "start_time": "2024-04-11T20:34:10.469Z"
   },
   {
    "duration": 12,
    "start_time": "2024-04-11T20:34:10.483Z"
   },
   {
    "duration": 8,
    "start_time": "2024-04-11T20:34:10.496Z"
   },
   {
    "duration": 7,
    "start_time": "2024-04-11T20:34:10.505Z"
   },
   {
    "duration": 37,
    "start_time": "2024-04-11T20:34:10.513Z"
   },
   {
    "duration": 31,
    "start_time": "2024-04-11T20:34:10.551Z"
   },
   {
    "duration": 5,
    "start_time": "2024-04-11T20:34:10.583Z"
   },
   {
    "duration": 13,
    "start_time": "2024-04-11T20:34:10.589Z"
   },
   {
    "duration": 23,
    "start_time": "2024-04-11T20:34:10.603Z"
   },
   {
    "duration": 7,
    "start_time": "2024-04-11T20:34:10.627Z"
   },
   {
    "duration": 8,
    "start_time": "2024-04-11T20:34:10.635Z"
   },
   {
    "duration": 14,
    "start_time": "2024-04-11T20:34:10.644Z"
   },
   {
    "duration": 11,
    "start_time": "2024-04-11T20:34:10.659Z"
   },
   {
    "duration": 21,
    "start_time": "2024-04-11T20:34:10.671Z"
   },
   {
    "duration": 344,
    "start_time": "2024-04-11T20:34:10.693Z"
   },
   {
    "duration": 291,
    "start_time": "2024-04-11T20:34:11.039Z"
   },
   {
    "duration": 171,
    "start_time": "2024-04-11T20:34:11.331Z"
   },
   {
    "duration": 15,
    "start_time": "2024-04-11T20:34:11.503Z"
   },
   {
    "duration": 182,
    "start_time": "2024-04-11T20:34:11.519Z"
   },
   {
    "duration": 13,
    "start_time": "2024-04-11T20:34:11.702Z"
   },
   {
    "duration": 2,
    "start_time": "2024-04-11T20:34:51.411Z"
   },
   {
    "duration": 80,
    "start_time": "2024-04-11T20:34:51.415Z"
   },
   {
    "duration": 12,
    "start_time": "2024-04-11T20:34:51.497Z"
   },
   {
    "duration": 15,
    "start_time": "2024-04-11T20:34:51.510Z"
   },
   {
    "duration": 20,
    "start_time": "2024-04-11T20:34:51.527Z"
   },
   {
    "duration": 8,
    "start_time": "2024-04-11T20:34:51.549Z"
   },
   {
    "duration": 12,
    "start_time": "2024-04-11T20:34:51.558Z"
   },
   {
    "duration": 30,
    "start_time": "2024-04-11T20:34:51.571Z"
   },
   {
    "duration": 22,
    "start_time": "2024-04-11T20:34:51.602Z"
   },
   {
    "duration": 22,
    "start_time": "2024-04-11T20:34:51.626Z"
   },
   {
    "duration": 22,
    "start_time": "2024-04-11T20:34:51.650Z"
   },
   {
    "duration": 36,
    "start_time": "2024-04-11T20:34:51.674Z"
   },
   {
    "duration": 20,
    "start_time": "2024-04-11T20:34:51.712Z"
   },
   {
    "duration": 49,
    "start_time": "2024-04-11T20:34:51.733Z"
   },
   {
    "duration": 34,
    "start_time": "2024-04-11T20:34:51.784Z"
   },
   {
    "duration": 17,
    "start_time": "2024-04-11T20:34:51.819Z"
   },
   {
    "duration": 49,
    "start_time": "2024-04-11T20:34:51.837Z"
   },
   {
    "duration": 319,
    "start_time": "2024-04-11T20:34:51.887Z"
   },
   {
    "duration": 369,
    "start_time": "2024-04-11T20:34:52.208Z"
   },
   {
    "duration": 174,
    "start_time": "2024-04-11T20:34:52.579Z"
   },
   {
    "duration": 15,
    "start_time": "2024-04-11T20:34:52.754Z"
   },
   {
    "duration": 188,
    "start_time": "2024-04-11T20:34:52.771Z"
   },
   {
    "duration": 11,
    "start_time": "2024-04-11T20:34:52.961Z"
   },
   {
    "duration": 6,
    "start_time": "2024-04-11T20:37:37.652Z"
   },
   {
    "duration": 3,
    "start_time": "2024-04-11T20:37:47.416Z"
   },
   {
    "duration": 69,
    "start_time": "2024-04-11T20:37:47.421Z"
   },
   {
    "duration": 12,
    "start_time": "2024-04-11T20:37:47.491Z"
   },
   {
    "duration": 17,
    "start_time": "2024-04-11T20:37:47.505Z"
   },
   {
    "duration": 14,
    "start_time": "2024-04-11T20:37:47.524Z"
   },
   {
    "duration": 8,
    "start_time": "2024-04-11T20:37:47.545Z"
   },
   {
    "duration": 8,
    "start_time": "2024-04-11T20:37:47.554Z"
   },
   {
    "duration": 9,
    "start_time": "2024-04-11T20:37:47.563Z"
   },
   {
    "duration": 13,
    "start_time": "2024-04-11T20:37:47.574Z"
   },
   {
    "duration": 5,
    "start_time": "2024-04-11T20:37:47.588Z"
   },
   {
    "duration": 6,
    "start_time": "2024-04-11T20:37:47.595Z"
   },
   {
    "duration": 55,
    "start_time": "2024-04-11T20:37:47.602Z"
   },
   {
    "duration": 4,
    "start_time": "2024-04-11T20:37:47.659Z"
   },
   {
    "duration": 3,
    "start_time": "2024-04-11T20:37:47.666Z"
   },
   {
    "duration": 11,
    "start_time": "2024-04-11T20:37:47.671Z"
   },
   {
    "duration": 11,
    "start_time": "2024-04-11T20:37:47.684Z"
   },
   {
    "duration": 55,
    "start_time": "2024-04-11T20:37:47.697Z"
   },
   {
    "duration": 342,
    "start_time": "2024-04-11T20:37:47.753Z"
   },
   {
    "duration": 295,
    "start_time": "2024-04-11T20:37:48.096Z"
   },
   {
    "duration": 171,
    "start_time": "2024-04-11T20:37:48.392Z"
   },
   {
    "duration": 14,
    "start_time": "2024-04-11T20:37:48.565Z"
   },
   {
    "duration": 186,
    "start_time": "2024-04-11T20:37:48.580Z"
   },
   {
    "duration": 4,
    "start_time": "2024-04-11T20:37:48.768Z"
   },
   {
    "duration": 331,
    "start_time": "2024-04-11T20:38:12.840Z"
   },
   {
    "duration": 3,
    "start_time": "2024-04-11T20:38:46.259Z"
   },
   {
    "duration": 93,
    "start_time": "2024-04-11T20:38:46.264Z"
   },
   {
    "duration": 13,
    "start_time": "2024-04-11T20:38:46.358Z"
   },
   {
    "duration": 20,
    "start_time": "2024-04-11T20:38:46.372Z"
   },
   {
    "duration": 32,
    "start_time": "2024-04-11T20:38:46.394Z"
   },
   {
    "duration": 10,
    "start_time": "2024-04-11T20:38:46.427Z"
   },
   {
    "duration": 12,
    "start_time": "2024-04-11T20:38:46.438Z"
   },
   {
    "duration": 22,
    "start_time": "2024-04-11T20:38:46.451Z"
   },
   {
    "duration": 30,
    "start_time": "2024-04-11T20:38:46.474Z"
   },
   {
    "duration": 5,
    "start_time": "2024-04-11T20:38:46.506Z"
   },
   {
    "duration": 12,
    "start_time": "2024-04-11T20:38:46.512Z"
   },
   {
    "duration": 16,
    "start_time": "2024-04-11T20:38:46.525Z"
   },
   {
    "duration": 4,
    "start_time": "2024-04-11T20:38:46.542Z"
   },
   {
    "duration": 4,
    "start_time": "2024-04-11T20:38:46.548Z"
   },
   {
    "duration": 16,
    "start_time": "2024-04-11T20:38:46.553Z"
   },
   {
    "duration": 12,
    "start_time": "2024-04-11T20:38:46.570Z"
   },
   {
    "duration": 21,
    "start_time": "2024-04-11T20:38:46.584Z"
   },
   {
    "duration": 389,
    "start_time": "2024-04-11T20:38:46.606Z"
   },
   {
    "duration": 341,
    "start_time": "2024-04-11T20:38:46.997Z"
   },
   {
    "duration": 189,
    "start_time": "2024-04-11T20:38:47.340Z"
   },
   {
    "duration": 28,
    "start_time": "2024-04-11T20:38:47.531Z"
   },
   {
    "duration": 203,
    "start_time": "2024-04-11T20:38:47.561Z"
   },
   {
    "duration": 193,
    "start_time": "2024-04-11T20:38:47.765Z"
   },
   {
    "duration": 2,
    "start_time": "2024-04-11T20:39:07.913Z"
   },
   {
    "duration": 74,
    "start_time": "2024-04-11T20:39:07.917Z"
   },
   {
    "duration": 12,
    "start_time": "2024-04-11T20:39:07.993Z"
   },
   {
    "duration": 26,
    "start_time": "2024-04-11T20:39:08.006Z"
   },
   {
    "duration": 43,
    "start_time": "2024-04-11T20:39:08.034Z"
   },
   {
    "duration": 34,
    "start_time": "2024-04-11T20:39:08.079Z"
   },
   {
    "duration": 29,
    "start_time": "2024-04-11T20:39:08.114Z"
   },
   {
    "duration": 26,
    "start_time": "2024-04-11T20:39:08.144Z"
   },
   {
    "duration": 33,
    "start_time": "2024-04-11T20:39:08.172Z"
   },
   {
    "duration": 7,
    "start_time": "2024-04-11T20:39:08.207Z"
   },
   {
    "duration": 38,
    "start_time": "2024-04-11T20:39:08.215Z"
   },
   {
    "duration": 31,
    "start_time": "2024-04-11T20:39:08.254Z"
   },
   {
    "duration": 55,
    "start_time": "2024-04-11T20:39:08.286Z"
   },
   {
    "duration": 44,
    "start_time": "2024-04-11T20:39:08.344Z"
   },
   {
    "duration": 60,
    "start_time": "2024-04-11T20:39:08.389Z"
   },
   {
    "duration": 33,
    "start_time": "2024-04-11T20:39:08.451Z"
   },
   {
    "duration": 62,
    "start_time": "2024-04-11T20:39:08.485Z"
   },
   {
    "duration": 361,
    "start_time": "2024-04-11T20:39:08.549Z"
   },
   {
    "duration": 287,
    "start_time": "2024-04-11T20:39:08.911Z"
   },
   {
    "duration": 240,
    "start_time": "2024-04-11T20:39:09.199Z"
   },
   {
    "duration": 18,
    "start_time": "2024-04-11T20:39:09.440Z"
   },
   {
    "duration": 212,
    "start_time": "2024-04-11T20:39:09.459Z"
   },
   {
    "duration": 254,
    "start_time": "2024-04-11T20:39:09.672Z"
   },
   {
    "duration": 994,
    "start_time": "2024-04-11T20:45:41.791Z"
   },
   {
    "duration": 65,
    "start_time": "2024-04-11T20:45:42.787Z"
   },
   {
    "duration": 13,
    "start_time": "2024-04-11T20:45:42.854Z"
   },
   {
    "duration": 18,
    "start_time": "2024-04-11T20:45:42.869Z"
   },
   {
    "duration": 13,
    "start_time": "2024-04-11T20:45:42.888Z"
   },
   {
    "duration": 15,
    "start_time": "2024-04-11T20:45:42.903Z"
   },
   {
    "duration": 10,
    "start_time": "2024-04-11T20:45:42.920Z"
   },
   {
    "duration": 23,
    "start_time": "2024-04-11T20:45:42.931Z"
   },
   {
    "duration": 25,
    "start_time": "2024-04-11T20:45:42.955Z"
   },
   {
    "duration": 5,
    "start_time": "2024-04-11T20:45:42.983Z"
   },
   {
    "duration": 29,
    "start_time": "2024-04-11T20:45:42.990Z"
   },
   {
    "duration": 32,
    "start_time": "2024-04-11T20:45:43.020Z"
   },
   {
    "duration": 13,
    "start_time": "2024-04-11T20:45:43.053Z"
   },
   {
    "duration": 19,
    "start_time": "2024-04-11T20:45:43.067Z"
   },
   {
    "duration": 20,
    "start_time": "2024-04-11T20:45:43.087Z"
   },
   {
    "duration": 22,
    "start_time": "2024-04-11T20:45:43.108Z"
   },
   {
    "duration": 34,
    "start_time": "2024-04-11T20:45:43.131Z"
   },
   {
    "duration": 334,
    "start_time": "2024-04-11T20:45:43.166Z"
   },
   {
    "duration": 287,
    "start_time": "2024-04-11T20:45:43.501Z"
   },
   {
    "duration": 187,
    "start_time": "2024-04-11T20:45:43.789Z"
   },
   {
    "duration": 15,
    "start_time": "2024-04-11T20:45:43.978Z"
   },
   {
    "duration": 181,
    "start_time": "2024-04-11T20:45:43.995Z"
   },
   {
    "duration": 11,
    "start_time": "2024-04-11T20:45:44.178Z"
   },
   {
    "duration": 3,
    "start_time": "2024-04-11T20:45:59.933Z"
   },
   {
    "duration": 69,
    "start_time": "2024-04-11T20:45:59.937Z"
   },
   {
    "duration": 12,
    "start_time": "2024-04-11T20:46:00.008Z"
   },
   {
    "duration": 67,
    "start_time": "2024-04-11T20:46:00.022Z"
   },
   {
    "duration": 47,
    "start_time": "2024-04-11T20:46:00.091Z"
   },
   {
    "duration": 38,
    "start_time": "2024-04-11T20:46:00.140Z"
   },
   {
    "duration": 35,
    "start_time": "2024-04-11T20:46:00.179Z"
   },
   {
    "duration": 36,
    "start_time": "2024-04-11T20:46:00.215Z"
   },
   {
    "duration": 67,
    "start_time": "2024-04-11T20:46:00.253Z"
   },
   {
    "duration": 34,
    "start_time": "2024-04-11T20:46:00.321Z"
   },
   {
    "duration": 126,
    "start_time": "2024-04-11T20:46:00.356Z"
   },
   {
    "duration": 45,
    "start_time": "2024-04-11T20:46:00.483Z"
   },
   {
    "duration": 71,
    "start_time": "2024-04-11T20:46:00.529Z"
   },
   {
    "duration": 47,
    "start_time": "2024-04-11T20:46:00.602Z"
   },
   {
    "duration": 49,
    "start_time": "2024-04-11T20:46:00.650Z"
   },
   {
    "duration": 49,
    "start_time": "2024-04-11T20:46:00.701Z"
   },
   {
    "duration": 96,
    "start_time": "2024-04-11T20:46:00.751Z"
   },
   {
    "duration": 377,
    "start_time": "2024-04-11T20:46:00.849Z"
   },
   {
    "duration": 359,
    "start_time": "2024-04-11T20:46:01.227Z"
   },
   {
    "duration": 183,
    "start_time": "2024-04-11T20:46:01.588Z"
   },
   {
    "duration": 16,
    "start_time": "2024-04-11T20:46:01.773Z"
   },
   {
    "duration": 203,
    "start_time": "2024-04-11T20:46:01.790Z"
   },
   {
    "duration": 11,
    "start_time": "2024-04-11T20:46:01.994Z"
   },
   {
    "duration": 2,
    "start_time": "2024-04-11T20:47:25.716Z"
   },
   {
    "duration": 73,
    "start_time": "2024-04-11T20:47:25.720Z"
   },
   {
    "duration": 12,
    "start_time": "2024-04-11T20:47:25.795Z"
   },
   {
    "duration": 26,
    "start_time": "2024-04-11T20:47:25.808Z"
   },
   {
    "duration": 28,
    "start_time": "2024-04-11T20:47:25.836Z"
   },
   {
    "duration": 9,
    "start_time": "2024-04-11T20:47:25.865Z"
   },
   {
    "duration": 19,
    "start_time": "2024-04-11T20:47:25.875Z"
   },
   {
    "duration": 29,
    "start_time": "2024-04-11T20:47:25.895Z"
   },
   {
    "duration": 25,
    "start_time": "2024-04-11T20:47:25.926Z"
   },
   {
    "duration": 9,
    "start_time": "2024-04-11T20:47:25.952Z"
   },
   {
    "duration": 19,
    "start_time": "2024-04-11T20:47:25.962Z"
   },
   {
    "duration": 28,
    "start_time": "2024-04-11T20:47:25.982Z"
   },
   {
    "duration": 14,
    "start_time": "2024-04-11T20:47:26.011Z"
   },
   {
    "duration": 12,
    "start_time": "2024-04-11T20:47:26.027Z"
   },
   {
    "duration": 14,
    "start_time": "2024-04-11T20:47:26.041Z"
   },
   {
    "duration": 15,
    "start_time": "2024-04-11T20:47:26.058Z"
   },
   {
    "duration": 37,
    "start_time": "2024-04-11T20:47:26.075Z"
   },
   {
    "duration": 307,
    "start_time": "2024-04-11T20:47:26.113Z"
   },
   {
    "duration": 283,
    "start_time": "2024-04-11T20:47:26.422Z"
   },
   {
    "duration": 169,
    "start_time": "2024-04-11T20:47:26.707Z"
   },
   {
    "duration": 16,
    "start_time": "2024-04-11T20:47:26.877Z"
   },
   {
    "duration": 184,
    "start_time": "2024-04-11T20:47:26.895Z"
   },
   {
    "duration": 11,
    "start_time": "2024-04-11T20:47:27.080Z"
   },
   {
    "duration": 302,
    "start_time": "2024-04-11T20:47:27.093Z"
   },
   {
    "duration": 2,
    "start_time": "2024-04-11T20:48:07.098Z"
   },
   {
    "duration": 67,
    "start_time": "2024-04-11T20:48:07.102Z"
   },
   {
    "duration": 14,
    "start_time": "2024-04-11T20:48:07.170Z"
   },
   {
    "duration": 25,
    "start_time": "2024-04-11T20:48:07.185Z"
   },
   {
    "duration": 15,
    "start_time": "2024-04-11T20:48:07.213Z"
   },
   {
    "duration": 21,
    "start_time": "2024-04-11T20:48:07.229Z"
   },
   {
    "duration": 11,
    "start_time": "2024-04-11T20:48:07.251Z"
   },
   {
    "duration": 29,
    "start_time": "2024-04-11T20:48:07.264Z"
   },
   {
    "duration": 17,
    "start_time": "2024-04-11T20:48:07.295Z"
   },
   {
    "duration": 77,
    "start_time": "2024-04-11T20:48:07.314Z"
   },
   {
    "duration": 14,
    "start_time": "2024-04-11T20:48:07.392Z"
   },
   {
    "duration": 22,
    "start_time": "2024-04-11T20:48:07.408Z"
   },
   {
    "duration": 5,
    "start_time": "2024-04-11T20:48:07.431Z"
   },
   {
    "duration": 8,
    "start_time": "2024-04-11T20:48:07.438Z"
   },
   {
    "duration": 18,
    "start_time": "2024-04-11T20:48:07.447Z"
   },
   {
    "duration": 12,
    "start_time": "2024-04-11T20:48:07.470Z"
   },
   {
    "duration": 42,
    "start_time": "2024-04-11T20:48:07.483Z"
   },
   {
    "duration": 335,
    "start_time": "2024-04-11T20:48:07.526Z"
   },
   {
    "duration": 274,
    "start_time": "2024-04-11T20:48:07.863Z"
   },
   {
    "duration": 166,
    "start_time": "2024-04-11T20:48:08.139Z"
   },
   {
    "duration": 15,
    "start_time": "2024-04-11T20:48:08.307Z"
   },
   {
    "duration": 181,
    "start_time": "2024-04-11T20:48:08.323Z"
   },
   {
    "duration": 10,
    "start_time": "2024-04-11T20:48:08.505Z"
   },
   {
    "duration": 257,
    "start_time": "2024-04-11T20:48:08.516Z"
   },
   {
    "duration": 3,
    "start_time": "2024-04-11T20:48:16.896Z"
   },
   {
    "duration": 80,
    "start_time": "2024-04-11T20:48:16.900Z"
   },
   {
    "duration": 13,
    "start_time": "2024-04-11T20:48:16.981Z"
   },
   {
    "duration": 43,
    "start_time": "2024-04-11T20:48:16.995Z"
   },
   {
    "duration": 19,
    "start_time": "2024-04-11T20:48:17.040Z"
   },
   {
    "duration": 19,
    "start_time": "2024-04-11T20:48:17.060Z"
   },
   {
    "duration": 21,
    "start_time": "2024-04-11T20:48:17.081Z"
   },
   {
    "duration": 12,
    "start_time": "2024-04-11T20:48:17.104Z"
   },
   {
    "duration": 19,
    "start_time": "2024-04-11T20:48:17.117Z"
   },
   {
    "duration": 20,
    "start_time": "2024-04-11T20:48:17.137Z"
   },
   {
    "duration": 20,
    "start_time": "2024-04-11T20:48:17.159Z"
   },
   {
    "duration": 36,
    "start_time": "2024-04-11T20:48:17.180Z"
   },
   {
    "duration": 36,
    "start_time": "2024-04-11T20:48:17.218Z"
   },
   {
    "duration": 17,
    "start_time": "2024-04-11T20:48:17.257Z"
   },
   {
    "duration": 32,
    "start_time": "2024-04-11T20:48:17.275Z"
   },
   {
    "duration": 15,
    "start_time": "2024-04-11T20:48:17.309Z"
   },
   {
    "duration": 22,
    "start_time": "2024-04-11T20:48:17.325Z"
   },
   {
    "duration": 316,
    "start_time": "2024-04-11T20:48:17.348Z"
   },
   {
    "duration": 347,
    "start_time": "2024-04-11T20:48:17.665Z"
   },
   {
    "duration": 242,
    "start_time": "2024-04-11T20:48:18.013Z"
   },
   {
    "duration": 14,
    "start_time": "2024-04-11T20:48:18.257Z"
   },
   {
    "duration": 189,
    "start_time": "2024-04-11T20:48:18.273Z"
   },
   {
    "duration": 11,
    "start_time": "2024-04-11T20:48:18.464Z"
   },
   {
    "duration": 265,
    "start_time": "2024-04-11T20:48:18.476Z"
   },
   {
    "duration": 262,
    "start_time": "2024-04-11T20:48:26.586Z"
   },
   {
    "duration": 2,
    "start_time": "2024-04-11T20:50:23.078Z"
   },
   {
    "duration": 62,
    "start_time": "2024-04-11T20:50:23.082Z"
   },
   {
    "duration": 12,
    "start_time": "2024-04-11T20:50:23.145Z"
   },
   {
    "duration": 12,
    "start_time": "2024-04-11T20:50:23.159Z"
   },
   {
    "duration": 12,
    "start_time": "2024-04-11T20:50:23.173Z"
   },
   {
    "duration": 8,
    "start_time": "2024-04-11T20:50:23.187Z"
   },
   {
    "duration": 15,
    "start_time": "2024-04-11T20:50:23.196Z"
   },
   {
    "duration": 32,
    "start_time": "2024-04-11T20:50:23.213Z"
   },
   {
    "duration": 14,
    "start_time": "2024-04-11T20:50:23.246Z"
   },
   {
    "duration": 4,
    "start_time": "2024-04-11T20:50:23.262Z"
   },
   {
    "duration": 7,
    "start_time": "2024-04-11T20:50:23.267Z"
   },
   {
    "duration": 20,
    "start_time": "2024-04-11T20:50:23.276Z"
   },
   {
    "duration": 4,
    "start_time": "2024-04-11T20:50:23.298Z"
   },
   {
    "duration": 7,
    "start_time": "2024-04-11T20:50:23.304Z"
   },
   {
    "duration": 33,
    "start_time": "2024-04-11T20:50:23.312Z"
   },
   {
    "duration": 12,
    "start_time": "2024-04-11T20:50:23.346Z"
   },
   {
    "duration": 22,
    "start_time": "2024-04-11T20:50:23.359Z"
   },
   {
    "duration": 343,
    "start_time": "2024-04-11T20:50:23.382Z"
   },
   {
    "duration": 302,
    "start_time": "2024-04-11T20:50:23.726Z"
   },
   {
    "duration": 18,
    "start_time": "2024-04-11T20:50:24.030Z"
   },
   {
    "duration": 231,
    "start_time": "2024-04-11T20:50:24.050Z"
   },
   {
    "duration": 227,
    "start_time": "2024-04-11T20:50:24.283Z"
   },
   {
    "duration": 14,
    "start_time": "2024-04-11T20:50:24.511Z"
   },
   {
    "duration": 184,
    "start_time": "2024-04-11T20:50:24.526Z"
   },
   {
    "duration": 3,
    "start_time": "2024-04-11T20:52:26.891Z"
   },
   {
    "duration": 69,
    "start_time": "2024-04-11T20:52:26.896Z"
   },
   {
    "duration": 12,
    "start_time": "2024-04-11T20:52:26.966Z"
   },
   {
    "duration": 14,
    "start_time": "2024-04-11T20:52:26.980Z"
   },
   {
    "duration": 13,
    "start_time": "2024-04-11T20:52:26.995Z"
   },
   {
    "duration": 9,
    "start_time": "2024-04-11T20:52:27.009Z"
   },
   {
    "duration": 27,
    "start_time": "2024-04-11T20:52:27.019Z"
   },
   {
    "duration": 9,
    "start_time": "2024-04-11T20:52:27.047Z"
   },
   {
    "duration": 27,
    "start_time": "2024-04-11T20:52:27.057Z"
   },
   {
    "duration": 4,
    "start_time": "2024-04-11T20:52:27.086Z"
   },
   {
    "duration": 19,
    "start_time": "2024-04-11T20:52:27.091Z"
   },
   {
    "duration": 21,
    "start_time": "2024-04-11T20:52:27.111Z"
   },
   {
    "duration": 4,
    "start_time": "2024-04-11T20:52:27.133Z"
   },
   {
    "duration": 12,
    "start_time": "2024-04-11T20:52:27.139Z"
   },
   {
    "duration": 20,
    "start_time": "2024-04-11T20:52:27.152Z"
   },
   {
    "duration": 19,
    "start_time": "2024-04-11T20:52:27.174Z"
   },
   {
    "duration": 20,
    "start_time": "2024-04-11T20:52:27.195Z"
   },
   {
    "duration": 328,
    "start_time": "2024-04-11T20:52:27.217Z"
   },
   {
    "duration": 298,
    "start_time": "2024-04-11T20:52:27.547Z"
   },
   {
    "duration": 12,
    "start_time": "2024-04-11T20:52:27.846Z"
   },
   {
    "duration": 241,
    "start_time": "2024-04-11T20:52:27.859Z"
   },
   {
    "duration": 181,
    "start_time": "2024-04-11T20:52:28.102Z"
   },
   {
    "duration": 14,
    "start_time": "2024-04-11T20:52:28.285Z"
   },
   {
    "duration": 186,
    "start_time": "2024-04-11T20:52:28.301Z"
   },
   {
    "duration": 214,
    "start_time": "2024-04-11T20:52:46.857Z"
   },
   {
    "duration": 3,
    "start_time": "2024-04-11T20:53:15.185Z"
   },
   {
    "duration": 70,
    "start_time": "2024-04-11T20:53:15.190Z"
   },
   {
    "duration": 12,
    "start_time": "2024-04-11T20:53:15.261Z"
   },
   {
    "duration": 34,
    "start_time": "2024-04-11T20:53:15.275Z"
   },
   {
    "duration": 23,
    "start_time": "2024-04-11T20:53:15.311Z"
   },
   {
    "duration": 27,
    "start_time": "2024-04-11T20:53:15.335Z"
   },
   {
    "duration": 23,
    "start_time": "2024-04-11T20:53:15.364Z"
   },
   {
    "duration": 51,
    "start_time": "2024-04-11T20:53:15.389Z"
   },
   {
    "duration": 45,
    "start_time": "2024-04-11T20:53:15.442Z"
   },
   {
    "duration": 45,
    "start_time": "2024-04-11T20:53:15.489Z"
   },
   {
    "duration": 48,
    "start_time": "2024-04-11T20:53:15.536Z"
   },
   {
    "duration": 45,
    "start_time": "2024-04-11T20:53:15.585Z"
   },
   {
    "duration": 4,
    "start_time": "2024-04-11T20:53:15.632Z"
   },
   {
    "duration": 10,
    "start_time": "2024-04-11T20:53:15.638Z"
   },
   {
    "duration": 15,
    "start_time": "2024-04-11T20:53:15.650Z"
   },
   {
    "duration": 11,
    "start_time": "2024-04-11T20:53:15.666Z"
   },
   {
    "duration": 22,
    "start_time": "2024-04-11T20:53:15.678Z"
   },
   {
    "duration": 403,
    "start_time": "2024-04-11T20:53:15.701Z"
   },
   {
    "duration": 294,
    "start_time": "2024-04-11T20:53:16.106Z"
   },
   {
    "duration": 12,
    "start_time": "2024-04-11T20:53:16.401Z"
   },
   {
    "duration": 283,
    "start_time": "2024-04-11T20:53:16.414Z"
   },
   {
    "duration": 168,
    "start_time": "2024-04-11T20:53:16.698Z"
   },
   {
    "duration": 15,
    "start_time": "2024-04-11T20:53:16.867Z"
   },
   {
    "duration": 188,
    "start_time": "2024-04-11T20:53:16.883Z"
   },
   {
    "duration": 223,
    "start_time": "2024-04-11T20:53:37.386Z"
   },
   {
    "duration": 231,
    "start_time": "2024-04-11T20:53:49.871Z"
   },
   {
    "duration": 237,
    "start_time": "2024-04-11T20:53:57.186Z"
   },
   {
    "duration": 223,
    "start_time": "2024-04-11T20:54:32.819Z"
   },
   {
    "duration": 2,
    "start_time": "2024-04-11T20:56:08.913Z"
   },
   {
    "duration": 68,
    "start_time": "2024-04-11T20:56:08.917Z"
   },
   {
    "duration": 12,
    "start_time": "2024-04-11T20:56:08.986Z"
   },
   {
    "duration": 38,
    "start_time": "2024-04-11T20:56:09.000Z"
   },
   {
    "duration": 13,
    "start_time": "2024-04-11T20:56:09.039Z"
   },
   {
    "duration": 11,
    "start_time": "2024-04-11T20:56:09.053Z"
   },
   {
    "duration": 14,
    "start_time": "2024-04-11T20:56:09.065Z"
   },
   {
    "duration": 8,
    "start_time": "2024-04-11T20:56:09.081Z"
   },
   {
    "duration": 38,
    "start_time": "2024-04-11T20:56:09.090Z"
   },
   {
    "duration": 4,
    "start_time": "2024-04-11T20:56:09.131Z"
   },
   {
    "duration": 25,
    "start_time": "2024-04-11T20:56:09.136Z"
   },
   {
    "duration": 30,
    "start_time": "2024-04-11T20:56:09.162Z"
   },
   {
    "duration": 4,
    "start_time": "2024-04-11T20:56:09.194Z"
   },
   {
    "duration": 5,
    "start_time": "2024-04-11T20:56:09.200Z"
   },
   {
    "duration": 19,
    "start_time": "2024-04-11T20:56:09.207Z"
   },
   {
    "duration": 85,
    "start_time": "2024-04-11T20:56:09.227Z"
   },
   {
    "duration": 19,
    "start_time": "2024-04-11T20:56:09.314Z"
   },
   {
    "duration": 338,
    "start_time": "2024-04-11T20:56:09.335Z"
   },
   {
    "duration": 283,
    "start_time": "2024-04-11T20:56:09.675Z"
   },
   {
    "duration": 10,
    "start_time": "2024-04-11T20:56:09.959Z"
   },
   {
    "duration": 233,
    "start_time": "2024-04-11T20:56:09.971Z"
   },
   {
    "duration": 169,
    "start_time": "2024-04-11T20:56:10.205Z"
   },
   {
    "duration": 15,
    "start_time": "2024-04-11T20:56:10.376Z"
   },
   {
    "duration": 189,
    "start_time": "2024-04-11T20:56:10.392Z"
   },
   {
    "duration": 1106,
    "start_time": "2024-04-12T20:40:14.539Z"
   },
   {
    "duration": 111,
    "start_time": "2024-04-12T20:40:15.646Z"
   },
   {
    "duration": 11,
    "start_time": "2024-04-12T20:40:15.759Z"
   },
   {
    "duration": 14,
    "start_time": "2024-04-12T20:40:15.771Z"
   },
   {
    "duration": 11,
    "start_time": "2024-04-12T20:40:15.787Z"
   },
   {
    "duration": 9,
    "start_time": "2024-04-12T20:40:15.799Z"
   },
   {
    "duration": 9,
    "start_time": "2024-04-12T20:40:15.809Z"
   },
   {
    "duration": 18,
    "start_time": "2024-04-12T20:40:15.819Z"
   },
   {
    "duration": 21,
    "start_time": "2024-04-12T20:40:15.838Z"
   },
   {
    "duration": 4,
    "start_time": "2024-04-12T20:40:15.860Z"
   },
   {
    "duration": 6,
    "start_time": "2024-04-12T20:40:15.866Z"
   },
   {
    "duration": 14,
    "start_time": "2024-04-12T20:40:15.873Z"
   },
   {
    "duration": 4,
    "start_time": "2024-04-12T20:40:15.888Z"
   },
   {
    "duration": 9,
    "start_time": "2024-04-12T20:40:15.894Z"
   },
   {
    "duration": 14,
    "start_time": "2024-04-12T20:40:15.904Z"
   },
   {
    "duration": 10,
    "start_time": "2024-04-12T20:40:15.919Z"
   },
   {
    "duration": 18,
    "start_time": "2024-04-12T20:40:15.930Z"
   },
   {
    "duration": 298,
    "start_time": "2024-04-12T20:40:15.949Z"
   },
   {
    "duration": 268,
    "start_time": "2024-04-12T20:40:16.248Z"
   },
   {
    "duration": 12,
    "start_time": "2024-04-12T20:40:16.517Z"
   },
   {
    "duration": 223,
    "start_time": "2024-04-12T20:40:16.530Z"
   },
   {
    "duration": 155,
    "start_time": "2024-04-12T20:40:16.754Z"
   },
   {
    "duration": 14,
    "start_time": "2024-04-12T20:40:16.910Z"
   },
   {
    "duration": 177,
    "start_time": "2024-04-12T20:40:16.925Z"
   },
   {
    "duration": 185,
    "start_time": "2024-04-12T20:40:17.103Z"
   },
   {
    "duration": 3,
    "start_time": "2024-04-12T20:40:53.438Z"
   },
   {
    "duration": 61,
    "start_time": "2024-04-12T20:40:53.442Z"
   },
   {
    "duration": 10,
    "start_time": "2024-04-12T20:40:53.504Z"
   },
   {
    "duration": 11,
    "start_time": "2024-04-12T20:40:53.515Z"
   },
   {
    "duration": 11,
    "start_time": "2024-04-12T20:40:53.528Z"
   },
   {
    "duration": 6,
    "start_time": "2024-04-12T20:40:53.540Z"
   },
   {
    "duration": 6,
    "start_time": "2024-04-12T20:40:53.548Z"
   },
   {
    "duration": 13,
    "start_time": "2024-04-12T20:40:53.555Z"
   },
   {
    "duration": 38,
    "start_time": "2024-04-12T20:40:53.569Z"
   },
   {
    "duration": 4,
    "start_time": "2024-04-12T20:40:53.609Z"
   },
   {
    "duration": 10,
    "start_time": "2024-04-12T20:40:53.614Z"
   },
   {
    "duration": 21,
    "start_time": "2024-04-12T20:40:53.625Z"
   },
   {
    "duration": 4,
    "start_time": "2024-04-12T20:40:53.648Z"
   },
   {
    "duration": 7,
    "start_time": "2024-04-12T20:40:53.655Z"
   },
   {
    "duration": 33,
    "start_time": "2024-04-12T20:40:53.663Z"
   },
   {
    "duration": 18,
    "start_time": "2024-04-12T20:40:53.697Z"
   },
   {
    "duration": 28,
    "start_time": "2024-04-12T20:40:53.717Z"
   },
   {
    "duration": 329,
    "start_time": "2024-04-12T20:40:53.747Z"
   },
   {
    "duration": 252,
    "start_time": "2024-04-12T20:40:54.077Z"
   },
   {
    "duration": 10,
    "start_time": "2024-04-12T20:40:54.330Z"
   },
   {
    "duration": 223,
    "start_time": "2024-04-12T20:40:54.341Z"
   },
   {
    "duration": 167,
    "start_time": "2024-04-12T20:40:54.565Z"
   },
   {
    "duration": 12,
    "start_time": "2024-04-12T20:40:54.734Z"
   },
   {
    "duration": 185,
    "start_time": "2024-04-12T20:40:54.748Z"
   },
   {
    "duration": 99,
    "start_time": "2024-04-12T20:40:54.934Z"
   },
   {
    "duration": 9,
    "start_time": "2024-04-12T20:47:51.050Z"
   },
   {
    "duration": 2,
    "start_time": "2024-04-12T20:47:54.861Z"
   },
   {
    "duration": 62,
    "start_time": "2024-04-12T20:47:54.864Z"
   },
   {
    "duration": 10,
    "start_time": "2024-04-12T20:47:54.927Z"
   },
   {
    "duration": 12,
    "start_time": "2024-04-12T20:47:54.939Z"
   },
   {
    "duration": 11,
    "start_time": "2024-04-12T20:47:54.953Z"
   },
   {
    "duration": 7,
    "start_time": "2024-04-12T20:47:54.966Z"
   },
   {
    "duration": 28,
    "start_time": "2024-04-12T20:47:54.974Z"
   },
   {
    "duration": 8,
    "start_time": "2024-04-12T20:47:55.003Z"
   },
   {
    "duration": 21,
    "start_time": "2024-04-12T20:47:55.012Z"
   },
   {
    "duration": 4,
    "start_time": "2024-04-12T20:47:55.035Z"
   },
   {
    "duration": 23,
    "start_time": "2024-04-12T20:47:55.041Z"
   },
   {
    "duration": 27,
    "start_time": "2024-04-12T20:47:55.065Z"
   },
   {
    "duration": 4,
    "start_time": "2024-04-12T20:47:55.095Z"
   },
   {
    "duration": 28,
    "start_time": "2024-04-12T20:47:55.100Z"
   },
   {
    "duration": 27,
    "start_time": "2024-04-12T20:47:55.129Z"
   },
   {
    "duration": 11,
    "start_time": "2024-04-12T20:47:55.157Z"
   },
   {
    "duration": 35,
    "start_time": "2024-04-12T20:47:55.170Z"
   },
   {
    "duration": 306,
    "start_time": "2024-04-12T20:47:55.206Z"
   },
   {
    "duration": 265,
    "start_time": "2024-04-12T20:47:55.514Z"
   },
   {
    "duration": 10,
    "start_time": "2024-04-12T20:47:55.781Z"
   },
   {
    "duration": 269,
    "start_time": "2024-04-12T20:47:55.792Z"
   },
   {
    "duration": 159,
    "start_time": "2024-04-12T20:47:56.062Z"
   },
   {
    "duration": 13,
    "start_time": "2024-04-12T20:47:56.222Z"
   },
   {
    "duration": 175,
    "start_time": "2024-04-12T20:47:56.236Z"
   },
   {
    "duration": 9,
    "start_time": "2024-04-12T20:47:56.412Z"
   },
   {
    "duration": 2,
    "start_time": "2024-04-12T20:48:31.169Z"
   },
   {
    "duration": 92,
    "start_time": "2024-04-12T20:48:31.172Z"
   },
   {
    "duration": 28,
    "start_time": "2024-04-12T20:48:31.265Z"
   },
   {
    "duration": 46,
    "start_time": "2024-04-12T20:48:31.294Z"
   },
   {
    "duration": 56,
    "start_time": "2024-04-12T20:48:31.342Z"
   },
   {
    "duration": 49,
    "start_time": "2024-04-12T20:48:31.400Z"
   },
   {
    "duration": 58,
    "start_time": "2024-04-12T20:48:31.451Z"
   },
   {
    "duration": 82,
    "start_time": "2024-04-12T20:48:31.510Z"
   },
   {
    "duration": 89,
    "start_time": "2024-04-12T20:48:31.593Z"
   },
   {
    "duration": 77,
    "start_time": "2024-04-12T20:48:31.683Z"
   },
   {
    "duration": 52,
    "start_time": "2024-04-12T20:48:31.762Z"
   },
   {
    "duration": 110,
    "start_time": "2024-04-12T20:48:31.816Z"
   },
   {
    "duration": 11,
    "start_time": "2024-04-12T20:48:31.927Z"
   },
   {
    "duration": 31,
    "start_time": "2024-04-12T20:48:31.941Z"
   },
   {
    "duration": 35,
    "start_time": "2024-04-12T20:48:31.974Z"
   },
   {
    "duration": 24,
    "start_time": "2024-04-12T20:48:32.011Z"
   },
   {
    "duration": 28,
    "start_time": "2024-04-12T20:48:32.037Z"
   },
   {
    "duration": 269,
    "start_time": "2024-04-12T20:48:32.067Z"
   },
   {
    "duration": 258,
    "start_time": "2024-04-12T20:48:32.338Z"
   },
   {
    "duration": 12,
    "start_time": "2024-04-12T20:48:32.598Z"
   },
   {
    "duration": 218,
    "start_time": "2024-04-12T20:48:32.611Z"
   },
   {
    "duration": 156,
    "start_time": "2024-04-12T20:48:32.831Z"
   },
   {
    "duration": 19,
    "start_time": "2024-04-12T20:48:32.989Z"
   },
   {
    "duration": 170,
    "start_time": "2024-04-12T20:48:33.010Z"
   },
   {
    "duration": 313,
    "start_time": "2024-04-12T20:48:33.181Z"
   },
   {
    "duration": 3,
    "start_time": "2024-04-12T20:50:07.692Z"
   },
   {
    "duration": 68,
    "start_time": "2024-04-12T20:50:07.696Z"
   },
   {
    "duration": 11,
    "start_time": "2024-04-12T20:50:07.765Z"
   },
   {
    "duration": 26,
    "start_time": "2024-04-12T20:50:07.778Z"
   },
   {
    "duration": 23,
    "start_time": "2024-04-12T20:50:07.805Z"
   },
   {
    "duration": 8,
    "start_time": "2024-04-12T20:50:07.829Z"
   },
   {
    "duration": 27,
    "start_time": "2024-04-12T20:50:07.839Z"
   },
   {
    "duration": 11,
    "start_time": "2024-04-12T20:50:07.867Z"
   },
   {
    "duration": 11,
    "start_time": "2024-04-12T20:50:07.879Z"
   },
   {
    "duration": 4,
    "start_time": "2024-04-12T20:50:07.893Z"
   },
   {
    "duration": 6,
    "start_time": "2024-04-12T20:50:07.898Z"
   },
   {
    "duration": 16,
    "start_time": "2024-04-12T20:50:07.905Z"
   },
   {
    "duration": 5,
    "start_time": "2024-04-12T20:50:07.922Z"
   },
   {
    "duration": 9,
    "start_time": "2024-04-12T20:50:07.928Z"
   },
   {
    "duration": 25,
    "start_time": "2024-04-12T20:50:07.938Z"
   },
   {
    "duration": 14,
    "start_time": "2024-04-12T20:50:07.965Z"
   },
   {
    "duration": 24,
    "start_time": "2024-04-12T20:50:07.980Z"
   },
   {
    "duration": 285,
    "start_time": "2024-04-12T20:50:08.005Z"
   },
   {
    "duration": 266,
    "start_time": "2024-04-12T20:50:08.291Z"
   },
   {
    "duration": 10,
    "start_time": "2024-04-12T20:50:08.558Z"
   },
   {
    "duration": 231,
    "start_time": "2024-04-12T20:50:08.570Z"
   },
   {
    "duration": 159,
    "start_time": "2024-04-12T20:50:08.803Z"
   },
   {
    "duration": 15,
    "start_time": "2024-04-12T20:50:08.964Z"
   },
   {
    "duration": 182,
    "start_time": "2024-04-12T20:50:08.980Z"
   },
   {
    "duration": 266,
    "start_time": "2024-04-12T20:50:09.164Z"
   },
   {
    "duration": 2,
    "start_time": "2024-04-12T20:52:04.892Z"
   },
   {
    "duration": 69,
    "start_time": "2024-04-12T20:52:04.896Z"
   },
   {
    "duration": 11,
    "start_time": "2024-04-12T20:52:04.966Z"
   },
   {
    "duration": 12,
    "start_time": "2024-04-12T20:52:04.978Z"
   },
   {
    "duration": 14,
    "start_time": "2024-04-12T20:52:04.992Z"
   },
   {
    "duration": 15,
    "start_time": "2024-04-12T20:52:05.007Z"
   },
   {
    "duration": 24,
    "start_time": "2024-04-12T20:52:05.024Z"
   },
   {
    "duration": 10,
    "start_time": "2024-04-12T20:52:05.049Z"
   },
   {
    "duration": 20,
    "start_time": "2024-04-12T20:52:05.060Z"
   },
   {
    "duration": 4,
    "start_time": "2024-04-12T20:52:05.081Z"
   },
   {
    "duration": 10,
    "start_time": "2024-04-12T20:52:05.086Z"
   },
   {
    "duration": 15,
    "start_time": "2024-04-12T20:52:05.097Z"
   },
   {
    "duration": 4,
    "start_time": "2024-04-12T20:52:05.114Z"
   },
   {
    "duration": 7,
    "start_time": "2024-04-12T20:52:05.119Z"
   },
   {
    "duration": 20,
    "start_time": "2024-04-12T20:52:05.127Z"
   },
   {
    "duration": 10,
    "start_time": "2024-04-12T20:52:05.148Z"
   },
   {
    "duration": 29,
    "start_time": "2024-04-12T20:52:05.159Z"
   },
   {
    "duration": 292,
    "start_time": "2024-04-12T20:52:05.189Z"
   },
   {
    "duration": 249,
    "start_time": "2024-04-12T20:52:05.483Z"
   },
   {
    "duration": 10,
    "start_time": "2024-04-12T20:52:05.733Z"
   },
   {
    "duration": 212,
    "start_time": "2024-04-12T20:52:05.744Z"
   },
   {
    "duration": 154,
    "start_time": "2024-04-12T20:52:05.957Z"
   },
   {
    "duration": 13,
    "start_time": "2024-04-12T20:52:06.113Z"
   },
   {
    "duration": 183,
    "start_time": "2024-04-12T20:52:06.127Z"
   },
   {
    "duration": 208,
    "start_time": "2024-04-12T20:52:06.311Z"
   },
   {
    "duration": 3,
    "start_time": "2024-04-12T20:53:15.818Z"
   },
   {
    "duration": 63,
    "start_time": "2024-04-12T20:53:15.823Z"
   },
   {
    "duration": 12,
    "start_time": "2024-04-12T20:53:15.887Z"
   },
   {
    "duration": 13,
    "start_time": "2024-04-12T20:53:15.900Z"
   },
   {
    "duration": 18,
    "start_time": "2024-04-12T20:53:15.915Z"
   },
   {
    "duration": 8,
    "start_time": "2024-04-12T20:53:15.934Z"
   },
   {
    "duration": 7,
    "start_time": "2024-04-12T20:53:15.943Z"
   },
   {
    "duration": 7,
    "start_time": "2024-04-12T20:53:15.951Z"
   },
   {
    "duration": 12,
    "start_time": "2024-04-12T20:53:15.959Z"
   },
   {
    "duration": 32,
    "start_time": "2024-04-12T20:53:15.972Z"
   },
   {
    "duration": 4,
    "start_time": "2024-04-12T20:53:16.005Z"
   },
   {
    "duration": 22,
    "start_time": "2024-04-12T20:53:16.010Z"
   },
   {
    "duration": 3,
    "start_time": "2024-04-12T20:53:16.033Z"
   },
   {
    "duration": 3,
    "start_time": "2024-04-12T20:53:16.038Z"
   },
   {
    "duration": 11,
    "start_time": "2024-04-12T20:53:16.043Z"
   },
   {
    "duration": 9,
    "start_time": "2024-04-12T20:53:16.055Z"
   },
   {
    "duration": 40,
    "start_time": "2024-04-12T20:53:16.066Z"
   },
   {
    "duration": 328,
    "start_time": "2024-04-12T20:53:16.107Z"
   },
   {
    "duration": 249,
    "start_time": "2024-04-12T20:53:16.436Z"
   },
   {
    "duration": 16,
    "start_time": "2024-04-12T20:53:16.686Z"
   },
   {
    "duration": 210,
    "start_time": "2024-04-12T20:53:16.703Z"
   },
   {
    "duration": 152,
    "start_time": "2024-04-12T20:53:16.915Z"
   },
   {
    "duration": 14,
    "start_time": "2024-04-12T20:53:17.068Z"
   },
   {
    "duration": 176,
    "start_time": "2024-04-12T20:53:17.083Z"
   },
   {
    "duration": 197,
    "start_time": "2024-04-12T20:53:17.260Z"
   },
   {
    "duration": 2,
    "start_time": "2024-04-12T20:53:32.823Z"
   },
   {
    "duration": 70,
    "start_time": "2024-04-12T20:53:32.827Z"
   },
   {
    "duration": 10,
    "start_time": "2024-04-12T20:53:32.899Z"
   },
   {
    "duration": 11,
    "start_time": "2024-04-12T20:53:32.911Z"
   },
   {
    "duration": 12,
    "start_time": "2024-04-12T20:53:32.923Z"
   },
   {
    "duration": 6,
    "start_time": "2024-04-12T20:53:32.937Z"
   },
   {
    "duration": 6,
    "start_time": "2024-04-12T20:53:32.944Z"
   },
   {
    "duration": 7,
    "start_time": "2024-04-12T20:53:32.951Z"
   },
   {
    "duration": 10,
    "start_time": "2024-04-12T20:53:32.959Z"
   },
   {
    "duration": 31,
    "start_time": "2024-04-12T20:53:32.971Z"
   },
   {
    "duration": 6,
    "start_time": "2024-04-12T20:53:33.003Z"
   },
   {
    "duration": 23,
    "start_time": "2024-04-12T20:53:33.010Z"
   },
   {
    "duration": 4,
    "start_time": "2024-04-12T20:53:33.034Z"
   },
   {
    "duration": 16,
    "start_time": "2024-04-12T20:53:33.039Z"
   },
   {
    "duration": 12,
    "start_time": "2024-04-12T20:53:33.056Z"
   },
   {
    "duration": 18,
    "start_time": "2024-04-12T20:53:33.069Z"
   },
   {
    "duration": 49,
    "start_time": "2024-04-12T20:53:33.088Z"
   },
   {
    "duration": 287,
    "start_time": "2024-04-12T20:53:33.138Z"
   },
   {
    "duration": 256,
    "start_time": "2024-04-12T20:53:33.427Z"
   },
   {
    "duration": 17,
    "start_time": "2024-04-12T20:53:33.685Z"
   },
   {
    "duration": 278,
    "start_time": "2024-04-12T20:53:33.704Z"
   },
   {
    "duration": 160,
    "start_time": "2024-04-12T20:53:33.984Z"
   },
   {
    "duration": 14,
    "start_time": "2024-04-12T20:53:34.145Z"
   },
   {
    "duration": 177,
    "start_time": "2024-04-12T20:53:34.160Z"
   },
   {
    "duration": 209,
    "start_time": "2024-04-12T20:53:34.339Z"
   },
   {
    "duration": 3,
    "start_time": "2024-04-12T20:53:47.439Z"
   },
   {
    "duration": 59,
    "start_time": "2024-04-12T20:53:47.443Z"
   },
   {
    "duration": 11,
    "start_time": "2024-04-12T20:53:47.503Z"
   },
   {
    "duration": 11,
    "start_time": "2024-04-12T20:53:47.515Z"
   },
   {
    "duration": 12,
    "start_time": "2024-04-12T20:53:47.527Z"
   },
   {
    "duration": 7,
    "start_time": "2024-04-12T20:53:47.540Z"
   },
   {
    "duration": 7,
    "start_time": "2024-04-12T20:53:47.547Z"
   },
   {
    "duration": 6,
    "start_time": "2024-04-12T20:53:47.555Z"
   },
   {
    "duration": 41,
    "start_time": "2024-04-12T20:53:47.563Z"
   },
   {
    "duration": 3,
    "start_time": "2024-04-12T20:53:47.606Z"
   },
   {
    "duration": 6,
    "start_time": "2024-04-12T20:53:47.610Z"
   },
   {
    "duration": 20,
    "start_time": "2024-04-12T20:53:47.617Z"
   },
   {
    "duration": 4,
    "start_time": "2024-04-12T20:53:47.638Z"
   },
   {
    "duration": 8,
    "start_time": "2024-04-12T20:53:47.643Z"
   },
   {
    "duration": 11,
    "start_time": "2024-04-12T20:53:47.652Z"
   },
   {
    "duration": 10,
    "start_time": "2024-04-12T20:53:47.664Z"
   },
   {
    "duration": 35,
    "start_time": "2024-04-12T20:53:47.675Z"
   },
   {
    "duration": 270,
    "start_time": "2024-04-12T20:53:47.712Z"
   },
   {
    "duration": 254,
    "start_time": "2024-04-12T20:53:47.984Z"
   },
   {
    "duration": 11,
    "start_time": "2024-04-12T20:53:48.239Z"
   },
   {
    "duration": 218,
    "start_time": "2024-04-12T20:53:48.252Z"
   },
   {
    "duration": 160,
    "start_time": "2024-04-12T20:53:48.472Z"
   },
   {
    "duration": 13,
    "start_time": "2024-04-12T20:53:48.633Z"
   },
   {
    "duration": 229,
    "start_time": "2024-04-12T20:53:48.648Z"
   },
   {
    "duration": 197,
    "start_time": "2024-04-12T20:53:48.878Z"
   },
   {
    "duration": 193,
    "start_time": "2024-04-12T20:53:56.762Z"
   },
   {
    "duration": 191,
    "start_time": "2024-04-12T20:54:15.520Z"
   },
   {
    "duration": 200,
    "start_time": "2024-04-12T20:54:23.713Z"
   },
   {
    "duration": 195,
    "start_time": "2024-04-12T20:54:33.085Z"
   },
   {
    "duration": 259,
    "start_time": "2024-04-12T20:54:40.553Z"
   },
   {
    "duration": 208,
    "start_time": "2024-04-12T20:54:50.952Z"
   },
   {
    "duration": 3,
    "start_time": "2024-04-12T20:55:06.976Z"
   },
   {
    "duration": 204,
    "start_time": "2024-04-12T20:55:46.103Z"
   },
   {
    "duration": 201,
    "start_time": "2024-04-12T20:56:11.120Z"
   },
   {
    "duration": 192,
    "start_time": "2024-04-12T20:56:18.185Z"
   },
   {
    "duration": 194,
    "start_time": "2024-04-12T20:56:26.551Z"
   },
   {
    "duration": 3,
    "start_time": "2024-04-12T20:57:34.893Z"
   },
   {
    "duration": 76,
    "start_time": "2024-04-12T20:57:34.897Z"
   },
   {
    "duration": 10,
    "start_time": "2024-04-12T20:57:34.974Z"
   },
   {
    "duration": 11,
    "start_time": "2024-04-12T20:57:34.986Z"
   },
   {
    "duration": 12,
    "start_time": "2024-04-12T20:57:34.998Z"
   },
   {
    "duration": 7,
    "start_time": "2024-04-12T20:57:35.011Z"
   },
   {
    "duration": 7,
    "start_time": "2024-04-12T20:57:35.020Z"
   },
   {
    "duration": 7,
    "start_time": "2024-04-12T20:57:35.028Z"
   },
   {
    "duration": 13,
    "start_time": "2024-04-12T20:57:35.036Z"
   },
   {
    "duration": 3,
    "start_time": "2024-04-12T20:57:35.051Z"
   },
   {
    "duration": 14,
    "start_time": "2024-04-12T20:57:35.055Z"
   },
   {
    "duration": 15,
    "start_time": "2024-04-12T20:57:35.070Z"
   },
   {
    "duration": 18,
    "start_time": "2024-04-12T20:57:35.086Z"
   },
   {
    "duration": 4,
    "start_time": "2024-04-12T20:57:35.106Z"
   },
   {
    "duration": 11,
    "start_time": "2024-04-12T20:57:35.111Z"
   },
   {
    "duration": 11,
    "start_time": "2024-04-12T20:57:35.124Z"
   },
   {
    "duration": 23,
    "start_time": "2024-04-12T20:57:35.136Z"
   },
   {
    "duration": 364,
    "start_time": "2024-04-12T20:57:35.160Z"
   },
   {
    "duration": 255,
    "start_time": "2024-04-12T20:57:35.525Z"
   },
   {
    "duration": 10,
    "start_time": "2024-04-12T20:57:35.782Z"
   },
   {
    "duration": 217,
    "start_time": "2024-04-12T20:57:35.801Z"
   },
   {
    "duration": 155,
    "start_time": "2024-04-12T20:57:36.019Z"
   },
   {
    "duration": 14,
    "start_time": "2024-04-12T20:57:36.175Z"
   },
   {
    "duration": 170,
    "start_time": "2024-04-12T20:57:36.190Z"
   },
   {
    "duration": 194,
    "start_time": "2024-04-12T20:57:36.361Z"
   },
   {
    "duration": 2,
    "start_time": "2024-04-12T20:58:35.714Z"
   },
   {
    "duration": 73,
    "start_time": "2024-04-12T20:58:35.717Z"
   },
   {
    "duration": 10,
    "start_time": "2024-04-12T20:58:35.791Z"
   },
   {
    "duration": 12,
    "start_time": "2024-04-12T20:58:35.802Z"
   },
   {
    "duration": 11,
    "start_time": "2024-04-12T20:58:35.815Z"
   },
   {
    "duration": 13,
    "start_time": "2024-04-12T20:58:35.827Z"
   },
   {
    "duration": 16,
    "start_time": "2024-04-12T20:58:35.842Z"
   },
   {
    "duration": 7,
    "start_time": "2024-04-12T20:58:35.860Z"
   },
   {
    "duration": 13,
    "start_time": "2024-04-12T20:58:35.868Z"
   },
   {
    "duration": 19,
    "start_time": "2024-04-12T20:58:35.883Z"
   },
   {
    "duration": 24,
    "start_time": "2024-04-12T20:58:35.903Z"
   },
   {
    "duration": 39,
    "start_time": "2024-04-12T20:58:35.929Z"
   },
   {
    "duration": 15,
    "start_time": "2024-04-12T20:58:35.969Z"
   },
   {
    "duration": 4,
    "start_time": "2024-04-12T20:58:35.987Z"
   },
   {
    "duration": 28,
    "start_time": "2024-04-12T20:58:35.992Z"
   },
   {
    "duration": 16,
    "start_time": "2024-04-12T20:58:36.021Z"
   },
   {
    "duration": 33,
    "start_time": "2024-04-12T20:58:36.039Z"
   },
   {
    "duration": 312,
    "start_time": "2024-04-12T20:58:36.073Z"
   },
   {
    "duration": 276,
    "start_time": "2024-04-12T20:58:36.387Z"
   },
   {
    "duration": 10,
    "start_time": "2024-04-12T20:58:36.664Z"
   },
   {
    "duration": 222,
    "start_time": "2024-04-12T20:58:36.675Z"
   },
   {
    "duration": 163,
    "start_time": "2024-04-12T20:58:36.899Z"
   },
   {
    "duration": 13,
    "start_time": "2024-04-12T20:58:37.063Z"
   },
   {
    "duration": 171,
    "start_time": "2024-04-12T20:58:37.077Z"
   },
   {
    "duration": 192,
    "start_time": "2024-04-12T20:58:37.249Z"
   },
   {
    "duration": 23,
    "start_time": "2024-04-12T20:58:37.442Z"
   },
   {
    "duration": 4,
    "start_time": "2024-04-12T21:01:35.807Z"
   },
   {
    "duration": 5,
    "start_time": "2024-04-12T21:02:03.418Z"
   },
   {
    "duration": 4,
    "start_time": "2024-04-12T21:02:53.683Z"
   },
   {
    "duration": 6,
    "start_time": "2024-04-12T21:02:58.514Z"
   },
   {
    "duration": 12,
    "start_time": "2024-04-12T21:11:47.628Z"
   },
   {
    "duration": 2,
    "start_time": "2024-04-12T21:12:51.399Z"
   },
   {
    "duration": 84,
    "start_time": "2024-04-12T21:12:51.403Z"
   },
   {
    "duration": 11,
    "start_time": "2024-04-12T21:12:51.488Z"
   },
   {
    "duration": 27,
    "start_time": "2024-04-12T21:12:51.501Z"
   },
   {
    "duration": 20,
    "start_time": "2024-04-12T21:12:51.529Z"
   },
   {
    "duration": 7,
    "start_time": "2024-04-12T21:12:51.551Z"
   },
   {
    "duration": 30,
    "start_time": "2024-04-12T21:12:51.559Z"
   },
   {
    "duration": 23,
    "start_time": "2024-04-12T21:12:51.590Z"
   },
   {
    "duration": 17,
    "start_time": "2024-04-12T21:12:51.614Z"
   },
   {
    "duration": 119,
    "start_time": "2024-04-12T21:12:51.633Z"
   },
   {
    "duration": 5,
    "start_time": "2024-04-12T21:12:51.753Z"
   },
   {
    "duration": 49,
    "start_time": "2024-04-12T21:12:51.759Z"
   },
   {
    "duration": 29,
    "start_time": "2024-04-12T21:12:51.809Z"
   },
   {
    "duration": 48,
    "start_time": "2024-04-12T21:12:51.839Z"
   },
   {
    "duration": 13,
    "start_time": "2024-04-12T21:12:51.888Z"
   },
   {
    "duration": 10,
    "start_time": "2024-04-12T21:12:51.902Z"
   },
   {
    "duration": 23,
    "start_time": "2024-04-12T21:12:51.913Z"
   },
   {
    "duration": 276,
    "start_time": "2024-04-12T21:12:51.937Z"
   },
   {
    "duration": 252,
    "start_time": "2024-04-12T21:12:52.214Z"
   },
   {
    "duration": 10,
    "start_time": "2024-04-12T21:12:52.467Z"
   },
   {
    "duration": 233,
    "start_time": "2024-04-12T21:12:52.478Z"
   },
   {
    "duration": 175,
    "start_time": "2024-04-12T21:12:52.713Z"
   },
   {
    "duration": 21,
    "start_time": "2024-04-12T21:12:52.890Z"
   },
   {
    "duration": 173,
    "start_time": "2024-04-12T21:12:52.912Z"
   },
   {
    "duration": 207,
    "start_time": "2024-04-12T21:12:53.086Z"
   },
   {
    "duration": 25,
    "start_time": "2024-04-12T21:12:53.295Z"
   },
   {
    "duration": 52,
    "start_time": "2024-04-12T21:12:53.321Z"
   },
   {
    "duration": 141,
    "start_time": "2024-04-12T21:12:53.375Z"
   },
   {
    "duration": 1050,
    "start_time": "2024-04-13T07:51:40.256Z"
   },
   {
    "duration": 115,
    "start_time": "2024-04-13T07:51:41.307Z"
   },
   {
    "duration": 12,
    "start_time": "2024-04-13T07:51:41.423Z"
   },
   {
    "duration": 12,
    "start_time": "2024-04-13T07:51:41.437Z"
   },
   {
    "duration": 14,
    "start_time": "2024-04-13T07:51:41.450Z"
   },
   {
    "duration": 7,
    "start_time": "2024-04-13T07:51:41.465Z"
   },
   {
    "duration": 9,
    "start_time": "2024-04-13T07:51:41.474Z"
   },
   {
    "duration": 21,
    "start_time": "2024-04-13T07:51:41.484Z"
   },
   {
    "duration": 17,
    "start_time": "2024-04-13T07:51:41.506Z"
   },
   {
    "duration": 4,
    "start_time": "2024-04-13T07:51:41.524Z"
   },
   {
    "duration": 5,
    "start_time": "2024-04-13T07:51:41.529Z"
   },
   {
    "duration": 19,
    "start_time": "2024-04-13T07:51:41.536Z"
   },
   {
    "duration": 4,
    "start_time": "2024-04-13T07:51:41.557Z"
   },
   {
    "duration": 5,
    "start_time": "2024-04-13T07:51:41.563Z"
   },
   {
    "duration": 36,
    "start_time": "2024-04-13T07:51:41.569Z"
   },
   {
    "duration": 10,
    "start_time": "2024-04-13T07:51:41.606Z"
   },
   {
    "duration": 19,
    "start_time": "2024-04-13T07:51:41.617Z"
   },
   {
    "duration": 308,
    "start_time": "2024-04-13T07:51:41.637Z"
   },
   {
    "duration": 255,
    "start_time": "2024-04-13T07:51:41.946Z"
   },
   {
    "duration": 10,
    "start_time": "2024-04-13T07:51:42.203Z"
   },
   {
    "duration": 231,
    "start_time": "2024-04-13T07:51:42.214Z"
   },
   {
    "duration": 156,
    "start_time": "2024-04-13T07:51:42.447Z"
   },
   {
    "duration": 13,
    "start_time": "2024-04-13T07:51:42.604Z"
   },
   {
    "duration": 181,
    "start_time": "2024-04-13T07:51:42.618Z"
   },
   {
    "duration": 330,
    "start_time": "2024-04-13T07:51:42.802Z"
   },
   {
    "duration": 23,
    "start_time": "2024-04-13T07:51:43.133Z"
   },
   {
    "duration": 5,
    "start_time": "2024-04-13T07:51:43.158Z"
   },
   {
    "duration": 10,
    "start_time": "2024-04-13T07:51:43.164Z"
   },
   {
    "duration": 160,
    "start_time": "2024-04-13T07:51:43.175Z"
   },
   {
    "duration": 111,
    "start_time": "2024-04-13T07:51:50.124Z"
   },
   {
    "duration": 3,
    "start_time": "2024-04-13T08:31:09.025Z"
   },
   {
    "duration": 66,
    "start_time": "2024-04-13T08:31:09.030Z"
   },
   {
    "duration": 10,
    "start_time": "2024-04-13T08:31:09.098Z"
   },
   {
    "duration": 15,
    "start_time": "2024-04-13T08:31:09.109Z"
   },
   {
    "duration": 11,
    "start_time": "2024-04-13T08:31:09.126Z"
   },
   {
    "duration": 8,
    "start_time": "2024-04-13T08:31:09.138Z"
   },
   {
    "duration": 9,
    "start_time": "2024-04-13T08:31:09.147Z"
   },
   {
    "duration": 12,
    "start_time": "2024-04-13T08:31:09.158Z"
   },
   {
    "duration": 33,
    "start_time": "2024-04-13T08:31:09.171Z"
   },
   {
    "duration": 4,
    "start_time": "2024-04-13T08:31:09.206Z"
   },
   {
    "duration": 6,
    "start_time": "2024-04-13T08:31:09.212Z"
   },
   {
    "duration": 16,
    "start_time": "2024-04-13T08:31:09.220Z"
   },
   {
    "duration": 4,
    "start_time": "2024-04-13T08:31:09.237Z"
   },
   {
    "duration": 11,
    "start_time": "2024-04-13T08:31:09.244Z"
   },
   {
    "duration": 18,
    "start_time": "2024-04-13T08:31:09.256Z"
   },
   {
    "duration": 11,
    "start_time": "2024-04-13T08:31:09.275Z"
   },
   {
    "duration": 28,
    "start_time": "2024-04-13T08:31:09.288Z"
   },
   {
    "duration": 284,
    "start_time": "2024-04-13T08:31:09.317Z"
   },
   {
    "duration": 245,
    "start_time": "2024-04-13T08:31:09.603Z"
   },
   {
    "duration": 10,
    "start_time": "2024-04-13T08:31:09.849Z"
   },
   {
    "duration": 216,
    "start_time": "2024-04-13T08:31:09.860Z"
   },
   {
    "duration": 157,
    "start_time": "2024-04-13T08:31:10.077Z"
   },
   {
    "duration": 13,
    "start_time": "2024-04-13T08:31:10.236Z"
   },
   {
    "duration": 202,
    "start_time": "2024-04-13T08:31:10.250Z"
   },
   {
    "duration": 203,
    "start_time": "2024-04-13T08:31:10.453Z"
   },
   {
    "duration": 23,
    "start_time": "2024-04-13T08:31:10.658Z"
   },
   {
    "duration": 5,
    "start_time": "2024-04-13T08:31:10.683Z"
   },
   {
    "duration": 4,
    "start_time": "2024-04-13T08:31:10.702Z"
   },
   {
    "duration": 1243,
    "start_time": "2024-04-13T08:31:10.707Z"
   },
   {
    "duration": 2,
    "start_time": "2024-04-13T08:31:49.239Z"
   },
   {
    "duration": 82,
    "start_time": "2024-04-13T08:31:49.243Z"
   },
   {
    "duration": 11,
    "start_time": "2024-04-13T08:31:49.326Z"
   },
   {
    "duration": 13,
    "start_time": "2024-04-13T08:31:49.338Z"
   },
   {
    "duration": 12,
    "start_time": "2024-04-13T08:31:49.352Z"
   },
   {
    "duration": 7,
    "start_time": "2024-04-13T08:31:49.366Z"
   },
   {
    "duration": 33,
    "start_time": "2024-04-13T08:31:49.374Z"
   },
   {
    "duration": 10,
    "start_time": "2024-04-13T08:31:49.409Z"
   },
   {
    "duration": 24,
    "start_time": "2024-04-13T08:31:49.421Z"
   },
   {
    "duration": 5,
    "start_time": "2024-04-13T08:31:49.446Z"
   },
   {
    "duration": 23,
    "start_time": "2024-04-13T08:31:49.452Z"
   },
   {
    "duration": 29,
    "start_time": "2024-04-13T08:31:49.477Z"
   },
   {
    "duration": 4,
    "start_time": "2024-04-13T08:31:49.507Z"
   },
   {
    "duration": 16,
    "start_time": "2024-04-13T08:31:49.513Z"
   },
   {
    "duration": 16,
    "start_time": "2024-04-13T08:31:49.531Z"
   },
   {
    "duration": 30,
    "start_time": "2024-04-13T08:31:49.549Z"
   },
   {
    "duration": 20,
    "start_time": "2024-04-13T08:31:49.581Z"
   },
   {
    "duration": 304,
    "start_time": "2024-04-13T08:31:49.602Z"
   },
   {
    "duration": 264,
    "start_time": "2024-04-13T08:31:49.907Z"
   },
   {
    "duration": 10,
    "start_time": "2024-04-13T08:31:50.172Z"
   },
   {
    "duration": 240,
    "start_time": "2024-04-13T08:31:50.183Z"
   },
   {
    "duration": 155,
    "start_time": "2024-04-13T08:31:50.424Z"
   },
   {
    "duration": 12,
    "start_time": "2024-04-13T08:31:50.581Z"
   },
   {
    "duration": 229,
    "start_time": "2024-04-13T08:31:50.603Z"
   },
   {
    "duration": 199,
    "start_time": "2024-04-13T08:31:50.834Z"
   },
   {
    "duration": 22,
    "start_time": "2024-04-13T08:31:51.034Z"
   },
   {
    "duration": 5,
    "start_time": "2024-04-13T08:31:51.058Z"
   },
   {
    "duration": 5,
    "start_time": "2024-04-13T08:31:51.064Z"
   },
   {
    "duration": 1215,
    "start_time": "2024-04-13T08:31:51.070Z"
   },
   {
    "duration": 1291,
    "start_time": "2024-04-13T08:33:28.134Z"
   },
   {
    "duration": 2,
    "start_time": "2024-04-13T08:36:28.954Z"
   },
   {
    "duration": 66,
    "start_time": "2024-04-13T08:36:28.957Z"
   },
   {
    "duration": 12,
    "start_time": "2024-04-13T08:36:29.024Z"
   },
   {
    "duration": 11,
    "start_time": "2024-04-13T08:36:29.038Z"
   },
   {
    "duration": 35,
    "start_time": "2024-04-13T08:36:29.050Z"
   },
   {
    "duration": 20,
    "start_time": "2024-04-13T08:36:29.086Z"
   },
   {
    "duration": 8,
    "start_time": "2024-04-13T08:36:29.107Z"
   },
   {
    "duration": 18,
    "start_time": "2024-04-13T08:36:29.116Z"
   },
   {
    "duration": 11,
    "start_time": "2024-04-13T08:36:29.136Z"
   },
   {
    "duration": 14,
    "start_time": "2024-04-13T08:36:29.149Z"
   },
   {
    "duration": 8,
    "start_time": "2024-04-13T08:36:29.165Z"
   },
   {
    "duration": 28,
    "start_time": "2024-04-13T08:36:29.174Z"
   },
   {
    "duration": 5,
    "start_time": "2024-04-13T08:36:29.203Z"
   },
   {
    "duration": 16,
    "start_time": "2024-04-13T08:36:29.210Z"
   },
   {
    "duration": 16,
    "start_time": "2024-04-13T08:36:29.228Z"
   },
   {
    "duration": 10,
    "start_time": "2024-04-13T08:36:29.245Z"
   },
   {
    "duration": 22,
    "start_time": "2024-04-13T08:36:29.257Z"
   },
   {
    "duration": 278,
    "start_time": "2024-04-13T08:36:29.281Z"
   },
   {
    "duration": 255,
    "start_time": "2024-04-13T08:36:29.561Z"
   },
   {
    "duration": 10,
    "start_time": "2024-04-13T08:36:29.817Z"
   },
   {
    "duration": 216,
    "start_time": "2024-04-13T08:36:29.829Z"
   },
   {
    "duration": 167,
    "start_time": "2024-04-13T08:36:30.047Z"
   },
   {
    "duration": 13,
    "start_time": "2024-04-13T08:36:30.215Z"
   },
   {
    "duration": 235,
    "start_time": "2024-04-13T08:36:30.231Z"
   },
   {
    "duration": 196,
    "start_time": "2024-04-13T08:36:30.468Z"
   },
   {
    "duration": 23,
    "start_time": "2024-04-13T08:36:30.666Z"
   },
   {
    "duration": 68,
    "start_time": "2024-04-13T08:36:30.691Z"
   },
   {
    "duration": 133,
    "start_time": "2024-04-13T08:36:30.760Z"
   },
   {
    "duration": 325,
    "start_time": "2024-04-13T08:36:30.895Z"
   },
   {
    "duration": 91,
    "start_time": "2024-04-13T08:37:15.910Z"
   },
   {
    "duration": 2,
    "start_time": "2024-04-13T08:37:40.984Z"
   },
   {
    "duration": 68,
    "start_time": "2024-04-13T08:37:40.988Z"
   },
   {
    "duration": 11,
    "start_time": "2024-04-13T08:37:41.058Z"
   },
   {
    "duration": 12,
    "start_time": "2024-04-13T08:37:41.071Z"
   },
   {
    "duration": 12,
    "start_time": "2024-04-13T08:37:41.084Z"
   },
   {
    "duration": 10,
    "start_time": "2024-04-13T08:37:41.098Z"
   },
   {
    "duration": 15,
    "start_time": "2024-04-13T08:37:41.109Z"
   },
   {
    "duration": 7,
    "start_time": "2024-04-13T08:37:41.125Z"
   },
   {
    "duration": 11,
    "start_time": "2024-04-13T08:37:41.135Z"
   },
   {
    "duration": 4,
    "start_time": "2024-04-13T08:37:41.148Z"
   },
   {
    "duration": 6,
    "start_time": "2024-04-13T08:37:41.153Z"
   },
   {
    "duration": 45,
    "start_time": "2024-04-13T08:37:41.161Z"
   },
   {
    "duration": 5,
    "start_time": "2024-04-13T08:37:41.208Z"
   },
   {
    "duration": 18,
    "start_time": "2024-04-13T08:37:41.214Z"
   },
   {
    "duration": 15,
    "start_time": "2024-04-13T08:37:41.236Z"
   },
   {
    "duration": 12,
    "start_time": "2024-04-13T08:37:41.253Z"
   },
   {
    "duration": 24,
    "start_time": "2024-04-13T08:37:41.266Z"
   },
   {
    "duration": 290,
    "start_time": "2024-04-13T08:37:41.291Z"
   },
   {
    "duration": 257,
    "start_time": "2024-04-13T08:37:41.583Z"
   },
   {
    "duration": 9,
    "start_time": "2024-04-13T08:37:41.841Z"
   },
   {
    "duration": 216,
    "start_time": "2024-04-13T08:37:41.852Z"
   },
   {
    "duration": 156,
    "start_time": "2024-04-13T08:37:42.070Z"
   },
   {
    "duration": 14,
    "start_time": "2024-04-13T08:37:42.227Z"
   },
   {
    "duration": 180,
    "start_time": "2024-04-13T08:37:42.243Z"
   },
   {
    "duration": 196,
    "start_time": "2024-04-13T08:37:42.424Z"
   },
   {
    "duration": 33,
    "start_time": "2024-04-13T08:37:42.622Z"
   },
   {
    "duration": 6,
    "start_time": "2024-04-13T08:37:42.657Z"
   },
   {
    "duration": 8,
    "start_time": "2024-04-13T08:37:42.665Z"
   },
   {
    "duration": 32,
    "start_time": "2024-04-13T08:37:42.675Z"
   },
   {
    "duration": 2,
    "start_time": "2024-04-13T08:38:31.998Z"
   },
   {
    "duration": 102,
    "start_time": "2024-04-13T08:38:32.002Z"
   },
   {
    "duration": 11,
    "start_time": "2024-04-13T08:38:32.105Z"
   },
   {
    "duration": 46,
    "start_time": "2024-04-13T08:38:32.118Z"
   },
   {
    "duration": 33,
    "start_time": "2024-04-13T08:38:32.166Z"
   },
   {
    "duration": 27,
    "start_time": "2024-04-13T08:38:32.200Z"
   },
   {
    "duration": 25,
    "start_time": "2024-04-13T08:38:32.228Z"
   },
   {
    "duration": 13,
    "start_time": "2024-04-13T08:38:32.254Z"
   },
   {
    "duration": 14,
    "start_time": "2024-04-13T08:38:32.268Z"
   },
   {
    "duration": 60,
    "start_time": "2024-04-13T08:38:32.284Z"
   },
   {
    "duration": 23,
    "start_time": "2024-04-13T08:38:32.345Z"
   },
   {
    "duration": 31,
    "start_time": "2024-04-13T08:38:32.369Z"
   },
   {
    "duration": 4,
    "start_time": "2024-04-13T08:38:32.402Z"
   },
   {
    "duration": 5,
    "start_time": "2024-04-13T08:38:32.407Z"
   },
   {
    "duration": 18,
    "start_time": "2024-04-13T08:38:32.413Z"
   },
   {
    "duration": 10,
    "start_time": "2024-04-13T08:38:32.432Z"
   },
   {
    "duration": 17,
    "start_time": "2024-04-13T08:38:32.443Z"
   },
   {
    "duration": 289,
    "start_time": "2024-04-13T08:38:32.461Z"
   },
   {
    "duration": 251,
    "start_time": "2024-04-13T08:38:32.752Z"
   },
   {
    "duration": 10,
    "start_time": "2024-04-13T08:38:33.004Z"
   },
   {
    "duration": 214,
    "start_time": "2024-04-13T08:38:33.015Z"
   },
   {
    "duration": 159,
    "start_time": "2024-04-13T08:38:33.230Z"
   },
   {
    "duration": 20,
    "start_time": "2024-04-13T08:38:33.390Z"
   },
   {
    "duration": 166,
    "start_time": "2024-04-13T08:38:33.411Z"
   },
   {
    "duration": 193,
    "start_time": "2024-04-13T08:38:33.578Z"
   },
   {
    "duration": 39,
    "start_time": "2024-04-13T08:38:33.772Z"
   },
   {
    "duration": 6,
    "start_time": "2024-04-13T08:38:33.813Z"
   },
   {
    "duration": 8,
    "start_time": "2024-04-13T08:38:33.822Z"
   },
   {
    "duration": 138,
    "start_time": "2024-04-13T08:38:33.831Z"
   },
   {
    "duration": 149,
    "start_time": "2024-04-13T08:40:32.763Z"
   },
   {
    "duration": 237,
    "start_time": "2024-04-13T08:40:46.404Z"
   },
   {
    "duration": 4,
    "start_time": "2024-04-13T08:44:57.863Z"
   },
   {
    "duration": 5,
    "start_time": "2024-04-13T08:46:00.373Z"
   },
   {
    "duration": 3,
    "start_time": "2024-04-13T08:47:45.977Z"
   },
   {
    "duration": 69,
    "start_time": "2024-04-13T08:47:45.984Z"
   },
   {
    "duration": 11,
    "start_time": "2024-04-13T08:47:46.054Z"
   },
   {
    "duration": 17,
    "start_time": "2024-04-13T08:47:46.066Z"
   },
   {
    "duration": 12,
    "start_time": "2024-04-13T08:47:46.084Z"
   },
   {
    "duration": 7,
    "start_time": "2024-04-13T08:47:46.098Z"
   },
   {
    "duration": 11,
    "start_time": "2024-04-13T08:47:46.106Z"
   },
   {
    "duration": 21,
    "start_time": "2024-04-13T08:47:46.118Z"
   },
   {
    "duration": 29,
    "start_time": "2024-04-13T08:47:46.141Z"
   },
   {
    "duration": 5,
    "start_time": "2024-04-13T08:47:46.171Z"
   },
   {
    "duration": 19,
    "start_time": "2024-04-13T08:47:46.177Z"
   },
   {
    "duration": 33,
    "start_time": "2024-04-13T08:47:46.197Z"
   },
   {
    "duration": 6,
    "start_time": "2024-04-13T08:47:46.231Z"
   },
   {
    "duration": 4,
    "start_time": "2024-04-13T08:47:46.238Z"
   },
   {
    "duration": 20,
    "start_time": "2024-04-13T08:47:46.245Z"
   },
   {
    "duration": 12,
    "start_time": "2024-04-13T08:47:46.266Z"
   },
   {
    "duration": 25,
    "start_time": "2024-04-13T08:47:46.280Z"
   },
   {
    "duration": 283,
    "start_time": "2024-04-13T08:47:46.306Z"
   },
   {
    "duration": 256,
    "start_time": "2024-04-13T08:47:46.591Z"
   },
   {
    "duration": 10,
    "start_time": "2024-04-13T08:47:46.849Z"
   },
   {
    "duration": 244,
    "start_time": "2024-04-13T08:47:46.860Z"
   },
   {
    "duration": 172,
    "start_time": "2024-04-13T08:47:47.106Z"
   },
   {
    "duration": 21,
    "start_time": "2024-04-13T08:47:47.280Z"
   },
   {
    "duration": 168,
    "start_time": "2024-04-13T08:47:47.303Z"
   },
   {
    "duration": 195,
    "start_time": "2024-04-13T08:47:47.473Z"
   },
   {
    "duration": 22,
    "start_time": "2024-04-13T08:47:47.670Z"
   },
   {
    "duration": 12,
    "start_time": "2024-04-13T08:47:47.693Z"
   },
   {
    "duration": 15,
    "start_time": "2024-04-13T08:47:47.706Z"
   },
   {
    "duration": 140,
    "start_time": "2024-04-13T08:47:47.722Z"
   },
   {
    "duration": 4,
    "start_time": "2024-04-13T08:47:47.864Z"
   },
   {
    "duration": 207,
    "start_time": "2024-04-13T08:47:47.869Z"
   },
   {
    "duration": 2,
    "start_time": "2024-04-13T08:48:29.848Z"
   },
   {
    "duration": 63,
    "start_time": "2024-04-13T08:48:29.852Z"
   },
   {
    "duration": 10,
    "start_time": "2024-04-13T08:48:29.917Z"
   },
   {
    "duration": 11,
    "start_time": "2024-04-13T08:48:29.928Z"
   },
   {
    "duration": 11,
    "start_time": "2024-04-13T08:48:29.940Z"
   },
   {
    "duration": 25,
    "start_time": "2024-04-13T08:48:29.952Z"
   },
   {
    "duration": 24,
    "start_time": "2024-04-13T08:48:29.978Z"
   },
   {
    "duration": 100,
    "start_time": "2024-04-13T08:48:30.003Z"
   },
   {
    "duration": 60,
    "start_time": "2024-04-13T08:48:30.106Z"
   },
   {
    "duration": 50,
    "start_time": "2024-04-13T08:48:30.168Z"
   },
   {
    "duration": 61,
    "start_time": "2024-04-13T08:48:30.220Z"
   },
   {
    "duration": 48,
    "start_time": "2024-04-13T08:48:30.282Z"
   },
   {
    "duration": 79,
    "start_time": "2024-04-13T08:48:30.332Z"
   },
   {
    "duration": 53,
    "start_time": "2024-04-13T08:48:30.412Z"
   },
   {
    "duration": 41,
    "start_time": "2024-04-13T08:48:30.466Z"
   },
   {
    "duration": 39,
    "start_time": "2024-04-13T08:48:30.508Z"
   },
   {
    "duration": 57,
    "start_time": "2024-04-13T08:48:30.549Z"
   },
   {
    "duration": 293,
    "start_time": "2024-04-13T08:48:30.607Z"
   },
   {
    "duration": 252,
    "start_time": "2024-04-13T08:48:30.901Z"
   },
   {
    "duration": 11,
    "start_time": "2024-04-13T08:48:31.154Z"
   },
   {
    "duration": 418,
    "start_time": "2024-04-13T08:48:31.166Z"
   },
   {
    "duration": 239,
    "start_time": "2024-04-13T08:48:31.586Z"
   },
   {
    "duration": 13,
    "start_time": "2024-04-13T08:48:31.826Z"
   },
   {
    "duration": 168,
    "start_time": "2024-04-13T08:48:31.842Z"
   },
   {
    "duration": 194,
    "start_time": "2024-04-13T08:48:32.011Z"
   },
   {
    "duration": 26,
    "start_time": "2024-04-13T08:48:32.206Z"
   },
   {
    "duration": 35,
    "start_time": "2024-04-13T08:48:32.233Z"
   },
   {
    "duration": 15,
    "start_time": "2024-04-13T08:48:32.269Z"
   },
   {
    "duration": 149,
    "start_time": "2024-04-13T08:48:32.285Z"
   },
   {
    "duration": 3,
    "start_time": "2024-04-13T08:48:32.435Z"
   },
   {
    "duration": 248,
    "start_time": "2024-04-13T08:48:32.439Z"
   },
   {
    "duration": 3,
    "start_time": "2024-04-13T08:48:32.689Z"
   },
   {
    "duration": 2,
    "start_time": "2024-04-13T09:32:02.566Z"
   },
   {
    "duration": 94,
    "start_time": "2024-04-13T09:32:02.570Z"
   },
   {
    "duration": 10,
    "start_time": "2024-04-13T09:32:02.665Z"
   },
   {
    "duration": 11,
    "start_time": "2024-04-13T09:32:02.677Z"
   },
   {
    "duration": 16,
    "start_time": "2024-04-13T09:32:02.689Z"
   },
   {
    "duration": 8,
    "start_time": "2024-04-13T09:32:02.706Z"
   },
   {
    "duration": 8,
    "start_time": "2024-04-13T09:32:02.715Z"
   },
   {
    "duration": 7,
    "start_time": "2024-04-13T09:32:02.725Z"
   },
   {
    "duration": 20,
    "start_time": "2024-04-13T09:32:02.733Z"
   },
   {
    "duration": 4,
    "start_time": "2024-04-13T09:32:02.754Z"
   },
   {
    "duration": 9,
    "start_time": "2024-04-13T09:32:02.759Z"
   },
   {
    "duration": 16,
    "start_time": "2024-04-13T09:32:02.769Z"
   },
   {
    "duration": 4,
    "start_time": "2024-04-13T09:32:02.786Z"
   },
   {
    "duration": 3,
    "start_time": "2024-04-13T09:32:02.801Z"
   },
   {
    "duration": 17,
    "start_time": "2024-04-13T09:32:02.805Z"
   },
   {
    "duration": 10,
    "start_time": "2024-04-13T09:32:02.824Z"
   },
   {
    "duration": 16,
    "start_time": "2024-04-13T09:32:02.836Z"
   },
   {
    "duration": 292,
    "start_time": "2024-04-13T09:32:02.853Z"
   },
   {
    "duration": 259,
    "start_time": "2024-04-13T09:32:03.147Z"
   },
   {
    "duration": 10,
    "start_time": "2024-04-13T09:32:03.407Z"
   },
   {
    "duration": 233,
    "start_time": "2024-04-13T09:32:03.418Z"
   },
   {
    "duration": 153,
    "start_time": "2024-04-13T09:32:03.653Z"
   },
   {
    "duration": 13,
    "start_time": "2024-04-13T09:32:03.808Z"
   },
   {
    "duration": 167,
    "start_time": "2024-04-13T09:32:03.823Z"
   },
   {
    "duration": 193,
    "start_time": "2024-04-13T09:32:03.991Z"
   },
   {
    "duration": 28,
    "start_time": "2024-04-13T09:32:04.185Z"
   },
   {
    "duration": 5,
    "start_time": "2024-04-13T09:32:04.214Z"
   },
   {
    "duration": 21,
    "start_time": "2024-04-13T09:32:04.220Z"
   },
   {
    "duration": 161,
    "start_time": "2024-04-13T09:32:04.242Z"
   },
   {
    "duration": 3,
    "start_time": "2024-04-13T09:32:04.405Z"
   },
   {
    "duration": 203,
    "start_time": "2024-04-13T09:32:04.409Z"
   },
   {
    "duration": 3,
    "start_time": "2024-04-13T09:32:04.614Z"
   },
   {
    "duration": 200,
    "start_time": "2024-04-13T09:32:04.618Z"
   },
   {
    "duration": 183,
    "start_time": "2024-04-13T09:32:34.252Z"
   },
   {
    "duration": 194,
    "start_time": "2024-04-13T10:06:13.251Z"
   },
   {
    "duration": 134,
    "start_time": "2024-04-13T10:06:36.061Z"
   },
   {
    "duration": 134,
    "start_time": "2024-04-13T10:06:55.853Z"
   },
   {
    "duration": 147,
    "start_time": "2024-04-13T10:07:22.199Z"
   },
   {
    "duration": 2,
    "start_time": "2024-04-13T10:09:05.841Z"
   },
   {
    "duration": 72,
    "start_time": "2024-04-13T10:09:05.844Z"
   },
   {
    "duration": 11,
    "start_time": "2024-04-13T10:09:05.918Z"
   },
   {
    "duration": 11,
    "start_time": "2024-04-13T10:09:05.931Z"
   },
   {
    "duration": 11,
    "start_time": "2024-04-13T10:09:05.943Z"
   },
   {
    "duration": 6,
    "start_time": "2024-04-13T10:09:05.956Z"
   },
   {
    "duration": 18,
    "start_time": "2024-04-13T10:09:05.963Z"
   },
   {
    "duration": 22,
    "start_time": "2024-04-13T10:09:05.982Z"
   },
   {
    "duration": 12,
    "start_time": "2024-04-13T10:09:06.005Z"
   },
   {
    "duration": 16,
    "start_time": "2024-04-13T10:09:06.020Z"
   },
   {
    "duration": 5,
    "start_time": "2024-04-13T10:09:06.038Z"
   },
   {
    "duration": 16,
    "start_time": "2024-04-13T10:09:06.045Z"
   },
   {
    "duration": 4,
    "start_time": "2024-04-13T10:09:06.062Z"
   },
   {
    "duration": 6,
    "start_time": "2024-04-13T10:09:06.067Z"
   },
   {
    "duration": 23,
    "start_time": "2024-04-13T10:09:06.074Z"
   },
   {
    "duration": 9,
    "start_time": "2024-04-13T10:09:06.101Z"
   },
   {
    "duration": 40,
    "start_time": "2024-04-13T10:09:06.112Z"
   },
   {
    "duration": 267,
    "start_time": "2024-04-13T10:09:06.153Z"
   },
   {
    "duration": 273,
    "start_time": "2024-04-13T10:09:06.421Z"
   },
   {
    "duration": 14,
    "start_time": "2024-04-13T10:09:06.695Z"
   },
   {
    "duration": 286,
    "start_time": "2024-04-13T10:09:06.711Z"
   },
   {
    "duration": 152,
    "start_time": "2024-04-13T10:09:06.998Z"
   },
   {
    "duration": 15,
    "start_time": "2024-04-13T10:09:07.151Z"
   },
   {
    "duration": 174,
    "start_time": "2024-04-13T10:09:07.168Z"
   },
   {
    "duration": 190,
    "start_time": "2024-04-13T10:09:07.343Z"
   },
   {
    "duration": 21,
    "start_time": "2024-04-13T10:09:07.535Z"
   },
   {
    "duration": 5,
    "start_time": "2024-04-13T10:09:07.557Z"
   },
   {
    "duration": 4,
    "start_time": "2024-04-13T10:09:07.565Z"
   },
   {
    "duration": 156,
    "start_time": "2024-04-13T10:09:07.570Z"
   },
   {
    "duration": 3,
    "start_time": "2024-04-13T10:09:07.728Z"
   },
   {
    "duration": 150,
    "start_time": "2024-04-13T10:09:07.733Z"
   },
   {
    "duration": 4,
    "start_time": "2024-04-13T10:09:07.884Z"
   },
   {
    "duration": 206,
    "start_time": "2024-04-13T10:09:07.889Z"
   },
   {
    "duration": 154,
    "start_time": "2024-04-13T10:09:08.097Z"
   },
   {
    "duration": 3,
    "start_time": "2024-04-13T10:15:15.127Z"
   },
   {
    "duration": 104,
    "start_time": "2024-04-13T10:15:15.131Z"
   },
   {
    "duration": 17,
    "start_time": "2024-04-13T10:15:15.237Z"
   },
   {
    "duration": 46,
    "start_time": "2024-04-13T10:15:15.255Z"
   },
   {
    "duration": 42,
    "start_time": "2024-04-13T10:15:15.302Z"
   },
   {
    "duration": 22,
    "start_time": "2024-04-13T10:15:15.345Z"
   },
   {
    "duration": 28,
    "start_time": "2024-04-13T10:15:15.369Z"
   },
   {
    "duration": 24,
    "start_time": "2024-04-13T10:15:15.399Z"
   },
   {
    "duration": 30,
    "start_time": "2024-04-13T10:15:15.425Z"
   },
   {
    "duration": 24,
    "start_time": "2024-04-13T10:15:15.456Z"
   },
   {
    "duration": 9,
    "start_time": "2024-04-13T10:15:15.481Z"
   },
   {
    "duration": 27,
    "start_time": "2024-04-13T10:15:15.492Z"
   },
   {
    "duration": 12,
    "start_time": "2024-04-13T10:15:15.520Z"
   },
   {
    "duration": 13,
    "start_time": "2024-04-13T10:15:15.533Z"
   },
   {
    "duration": 26,
    "start_time": "2024-04-13T10:15:15.548Z"
   },
   {
    "duration": 32,
    "start_time": "2024-04-13T10:15:15.576Z"
   },
   {
    "duration": 28,
    "start_time": "2024-04-13T10:15:15.609Z"
   },
   {
    "duration": 280,
    "start_time": "2024-04-13T10:15:15.639Z"
   },
   {
    "duration": 349,
    "start_time": "2024-04-13T10:15:15.922Z"
   },
   {
    "duration": 10,
    "start_time": "2024-04-13T10:15:16.272Z"
   },
   {
    "duration": 226,
    "start_time": "2024-04-13T10:15:16.283Z"
   },
   {
    "duration": 162,
    "start_time": "2024-04-13T10:15:16.510Z"
   },
   {
    "duration": 14,
    "start_time": "2024-04-13T10:15:16.673Z"
   },
   {
    "duration": 162,
    "start_time": "2024-04-13T10:15:16.702Z"
   },
   {
    "duration": 203,
    "start_time": "2024-04-13T10:15:16.866Z"
   },
   {
    "duration": 34,
    "start_time": "2024-04-13T10:15:17.070Z"
   },
   {
    "duration": 6,
    "start_time": "2024-04-13T10:15:17.105Z"
   },
   {
    "duration": 21,
    "start_time": "2024-04-13T10:15:17.112Z"
   },
   {
    "duration": 140,
    "start_time": "2024-04-13T10:15:17.134Z"
   },
   {
    "duration": 4,
    "start_time": "2024-04-13T10:15:17.276Z"
   },
   {
    "duration": 173,
    "start_time": "2024-04-13T10:15:17.282Z"
   },
   {
    "duration": 4,
    "start_time": "2024-04-13T10:15:17.456Z"
   },
   {
    "duration": 207,
    "start_time": "2024-04-13T10:15:17.461Z"
   },
   {
    "duration": 168,
    "start_time": "2024-04-13T10:15:17.670Z"
   },
   {
    "duration": 270,
    "start_time": "2024-04-13T10:15:17.840Z"
   },
   {
    "duration": 147,
    "start_time": "2024-04-13T10:17:04.750Z"
   },
   {
    "duration": 3,
    "start_time": "2024-04-13T10:18:33.096Z"
   },
   {
    "duration": 87,
    "start_time": "2024-04-13T10:18:33.101Z"
   },
   {
    "duration": 20,
    "start_time": "2024-04-13T10:18:33.189Z"
   },
   {
    "duration": 16,
    "start_time": "2024-04-13T10:18:33.212Z"
   },
   {
    "duration": 13,
    "start_time": "2024-04-13T10:18:33.229Z"
   },
   {
    "duration": 7,
    "start_time": "2024-04-13T10:18:33.243Z"
   },
   {
    "duration": 9,
    "start_time": "2024-04-13T10:18:33.252Z"
   },
   {
    "duration": 40,
    "start_time": "2024-04-13T10:18:33.262Z"
   },
   {
    "duration": 12,
    "start_time": "2024-04-13T10:18:33.304Z"
   },
   {
    "duration": 5,
    "start_time": "2024-04-13T10:18:33.319Z"
   },
   {
    "duration": 12,
    "start_time": "2024-04-13T10:18:33.325Z"
   },
   {
    "duration": 23,
    "start_time": "2024-04-13T10:18:33.339Z"
   },
   {
    "duration": 5,
    "start_time": "2024-04-13T10:18:33.363Z"
   },
   {
    "duration": 4,
    "start_time": "2024-04-13T10:18:33.369Z"
   },
   {
    "duration": 29,
    "start_time": "2024-04-13T10:18:33.374Z"
   },
   {
    "duration": 19,
    "start_time": "2024-04-13T10:18:33.405Z"
   },
   {
    "duration": 18,
    "start_time": "2024-04-13T10:18:33.425Z"
   },
   {
    "duration": 295,
    "start_time": "2024-04-13T10:18:33.444Z"
   },
   {
    "duration": 263,
    "start_time": "2024-04-13T10:18:33.740Z"
   },
   {
    "duration": 10,
    "start_time": "2024-04-13T10:18:34.005Z"
   },
   {
    "duration": 222,
    "start_time": "2024-04-13T10:18:34.016Z"
   },
   {
    "duration": 154,
    "start_time": "2024-04-13T10:18:34.240Z"
   },
   {
    "duration": 16,
    "start_time": "2024-04-13T10:18:34.396Z"
   },
   {
    "duration": 176,
    "start_time": "2024-04-13T10:18:34.413Z"
   },
   {
    "duration": 189,
    "start_time": "2024-04-13T10:18:34.590Z"
   },
   {
    "duration": 33,
    "start_time": "2024-04-13T10:18:34.781Z"
   },
   {
    "duration": 6,
    "start_time": "2024-04-13T10:18:34.815Z"
   },
   {
    "duration": 18,
    "start_time": "2024-04-13T10:18:34.823Z"
   },
   {
    "duration": 272,
    "start_time": "2024-04-13T10:18:34.842Z"
   },
   {
    "duration": 4,
    "start_time": "2024-04-13T10:18:35.115Z"
   },
   {
    "duration": 255,
    "start_time": "2024-04-13T10:18:35.132Z"
   },
   {
    "duration": 4,
    "start_time": "2024-04-13T10:18:35.388Z"
   },
   {
    "duration": 240,
    "start_time": "2024-04-13T10:18:35.393Z"
   },
   {
    "duration": 242,
    "start_time": "2024-04-13T10:18:35.634Z"
   },
   {
    "duration": 192,
    "start_time": "2024-04-13T10:18:35.877Z"
   },
   {
    "duration": 161,
    "start_time": "2024-04-13T10:18:36.071Z"
   },
   {
    "duration": 216,
    "start_time": "2024-04-13T10:18:36.234Z"
   },
   {
    "duration": 872,
    "start_time": "2024-04-13T10:20:16.637Z"
   },
   {
    "duration": 3,
    "start_time": "2024-04-13T10:20:25.980Z"
   },
   {
    "duration": 63,
    "start_time": "2024-04-13T10:20:25.985Z"
   },
   {
    "duration": 12,
    "start_time": "2024-04-13T10:20:26.049Z"
   },
   {
    "duration": 29,
    "start_time": "2024-04-13T10:20:26.062Z"
   },
   {
    "duration": 12,
    "start_time": "2024-04-13T10:20:26.093Z"
   },
   {
    "duration": 11,
    "start_time": "2024-04-13T10:20:26.106Z"
   },
   {
    "duration": 9,
    "start_time": "2024-04-13T10:20:26.118Z"
   },
   {
    "duration": 7,
    "start_time": "2024-04-13T10:20:26.129Z"
   },
   {
    "duration": 16,
    "start_time": "2024-04-13T10:20:26.137Z"
   },
   {
    "duration": 5,
    "start_time": "2024-04-13T10:20:26.154Z"
   },
   {
    "duration": 22,
    "start_time": "2024-04-13T10:20:26.160Z"
   },
   {
    "duration": 29,
    "start_time": "2024-04-13T10:20:26.183Z"
   },
   {
    "duration": 5,
    "start_time": "2024-04-13T10:20:26.214Z"
   },
   {
    "duration": 35,
    "start_time": "2024-04-13T10:20:26.222Z"
   },
   {
    "duration": 21,
    "start_time": "2024-04-13T10:20:26.258Z"
   },
   {
    "duration": 18,
    "start_time": "2024-04-13T10:20:26.281Z"
   },
   {
    "duration": 31,
    "start_time": "2024-04-13T10:20:26.301Z"
   },
   {
    "duration": 279,
    "start_time": "2024-04-13T10:20:26.334Z"
   },
   {
    "duration": 272,
    "start_time": "2024-04-13T10:20:26.615Z"
   },
   {
    "duration": 13,
    "start_time": "2024-04-13T10:20:26.889Z"
   },
   {
    "duration": 248,
    "start_time": "2024-04-13T10:20:26.903Z"
   },
   {
    "duration": 254,
    "start_time": "2024-04-13T10:20:27.153Z"
   },
   {
    "duration": 13,
    "start_time": "2024-04-13T10:20:27.408Z"
   },
   {
    "duration": 183,
    "start_time": "2024-04-13T10:20:27.422Z"
   },
   {
    "duration": 193,
    "start_time": "2024-04-13T10:20:27.606Z"
   },
   {
    "duration": 22,
    "start_time": "2024-04-13T10:20:27.801Z"
   },
   {
    "duration": 5,
    "start_time": "2024-04-13T10:20:27.824Z"
   },
   {
    "duration": 11,
    "start_time": "2024-04-13T10:20:27.830Z"
   },
   {
    "duration": 151,
    "start_time": "2024-04-13T10:20:27.842Z"
   },
   {
    "duration": 8,
    "start_time": "2024-04-13T10:20:27.995Z"
   },
   {
    "duration": 147,
    "start_time": "2024-04-13T10:20:28.004Z"
   },
   {
    "duration": 4,
    "start_time": "2024-04-13T10:20:28.153Z"
   },
   {
    "duration": 217,
    "start_time": "2024-04-13T10:20:28.158Z"
   },
   {
    "duration": 157,
    "start_time": "2024-04-13T10:20:28.376Z"
   },
   {
    "duration": 200,
    "start_time": "2024-04-13T10:20:28.534Z"
   },
   {
    "duration": 914,
    "start_time": "2024-04-13T10:20:28.736Z"
   },
   {
    "duration": 3,
    "start_time": "2024-04-13T10:21:01.618Z"
   },
   {
    "duration": 143,
    "start_time": "2024-04-13T10:21:01.622Z"
   },
   {
    "duration": 25,
    "start_time": "2024-04-13T10:21:01.767Z"
   },
   {
    "duration": 56,
    "start_time": "2024-04-13T10:21:01.795Z"
   },
   {
    "duration": 51,
    "start_time": "2024-04-13T10:21:01.853Z"
   },
   {
    "duration": 28,
    "start_time": "2024-04-13T10:21:01.906Z"
   },
   {
    "duration": 17,
    "start_time": "2024-04-13T10:21:01.936Z"
   },
   {
    "duration": 54,
    "start_time": "2024-04-13T10:21:01.955Z"
   },
   {
    "duration": 22,
    "start_time": "2024-04-13T10:21:02.011Z"
   },
   {
    "duration": 41,
    "start_time": "2024-04-13T10:21:02.034Z"
   },
   {
    "duration": 57,
    "start_time": "2024-04-13T10:21:02.076Z"
   },
   {
    "duration": 78,
    "start_time": "2024-04-13T10:21:02.134Z"
   },
   {
    "duration": 32,
    "start_time": "2024-04-13T10:21:02.213Z"
   },
   {
    "duration": 62,
    "start_time": "2024-04-13T10:21:02.246Z"
   },
   {
    "duration": 66,
    "start_time": "2024-04-13T10:21:02.309Z"
   },
   {
    "duration": 75,
    "start_time": "2024-04-13T10:21:02.377Z"
   },
   {
    "duration": 70,
    "start_time": "2024-04-13T10:21:02.454Z"
   },
   {
    "duration": 378,
    "start_time": "2024-04-13T10:21:02.525Z"
   },
   {
    "duration": 412,
    "start_time": "2024-04-13T10:21:02.904Z"
   },
   {
    "duration": 11,
    "start_time": "2024-04-13T10:21:03.317Z"
   },
   {
    "duration": 240,
    "start_time": "2024-04-13T10:21:03.330Z"
   },
   {
    "duration": 177,
    "start_time": "2024-04-13T10:21:03.571Z"
   },
   {
    "duration": 13,
    "start_time": "2024-04-13T10:21:03.749Z"
   },
   {
    "duration": 173,
    "start_time": "2024-04-13T10:21:03.764Z"
   },
   {
    "duration": 199,
    "start_time": "2024-04-13T10:21:03.938Z"
   },
   {
    "duration": 24,
    "start_time": "2024-04-13T10:21:04.138Z"
   },
   {
    "duration": 5,
    "start_time": "2024-04-13T10:21:04.163Z"
   },
   {
    "duration": 6,
    "start_time": "2024-04-13T10:21:04.169Z"
   },
   {
    "duration": 172,
    "start_time": "2024-04-13T10:21:04.176Z"
   },
   {
    "duration": 4,
    "start_time": "2024-04-13T10:21:04.349Z"
   },
   {
    "duration": 154,
    "start_time": "2024-04-13T10:21:04.354Z"
   },
   {
    "duration": 4,
    "start_time": "2024-04-13T10:21:04.510Z"
   },
   {
    "duration": 247,
    "start_time": "2024-04-13T10:21:04.516Z"
   },
   {
    "duration": 180,
    "start_time": "2024-04-13T10:21:04.765Z"
   },
   {
    "duration": 285,
    "start_time": "2024-04-13T10:21:04.946Z"
   },
   {
    "duration": 175,
    "start_time": "2024-04-13T10:21:05.233Z"
   },
   {
    "duration": 160,
    "start_time": "2024-04-13T10:21:33.251Z"
   },
   {
    "duration": 2,
    "start_time": "2024-04-13T10:34:05.304Z"
   },
   {
    "duration": 67,
    "start_time": "2024-04-13T10:34:05.308Z"
   },
   {
    "duration": 11,
    "start_time": "2024-04-13T10:34:05.376Z"
   },
   {
    "duration": 12,
    "start_time": "2024-04-13T10:34:05.388Z"
   },
   {
    "duration": 11,
    "start_time": "2024-04-13T10:34:05.402Z"
   },
   {
    "duration": 7,
    "start_time": "2024-04-13T10:34:05.414Z"
   },
   {
    "duration": 13,
    "start_time": "2024-04-13T10:34:05.422Z"
   },
   {
    "duration": 6,
    "start_time": "2024-04-13T10:34:05.437Z"
   },
   {
    "duration": 14,
    "start_time": "2024-04-13T10:34:05.444Z"
   },
   {
    "duration": 4,
    "start_time": "2024-04-13T10:34:05.459Z"
   },
   {
    "duration": 20,
    "start_time": "2024-04-13T10:34:05.464Z"
   },
   {
    "duration": 32,
    "start_time": "2024-04-13T10:34:05.485Z"
   },
   {
    "duration": 4,
    "start_time": "2024-04-13T10:34:05.519Z"
   },
   {
    "duration": 9,
    "start_time": "2024-04-13T10:34:05.524Z"
   },
   {
    "duration": 13,
    "start_time": "2024-04-13T10:34:05.534Z"
   },
   {
    "duration": 10,
    "start_time": "2024-04-13T10:34:05.548Z"
   },
   {
    "duration": 22,
    "start_time": "2024-04-13T10:34:05.560Z"
   },
   {
    "duration": 278,
    "start_time": "2024-04-13T10:34:05.583Z"
   },
   {
    "duration": 254,
    "start_time": "2024-04-13T10:34:05.862Z"
   },
   {
    "duration": 9,
    "start_time": "2024-04-13T10:34:06.118Z"
   },
   {
    "duration": 223,
    "start_time": "2024-04-13T10:34:06.128Z"
   },
   {
    "duration": 155,
    "start_time": "2024-04-13T10:34:06.352Z"
   },
   {
    "duration": 12,
    "start_time": "2024-04-13T10:34:06.509Z"
   },
   {
    "duration": 169,
    "start_time": "2024-04-13T10:34:06.523Z"
   },
   {
    "duration": 190,
    "start_time": "2024-04-13T10:34:06.693Z"
   },
   {
    "duration": 29,
    "start_time": "2024-04-13T10:34:06.885Z"
   },
   {
    "duration": 5,
    "start_time": "2024-04-13T10:34:06.915Z"
   },
   {
    "duration": 7,
    "start_time": "2024-04-13T10:34:06.921Z"
   },
   {
    "duration": 216,
    "start_time": "2024-04-13T10:34:06.929Z"
   },
   {
    "duration": 4,
    "start_time": "2024-04-13T10:34:07.146Z"
   },
   {
    "duration": 158,
    "start_time": "2024-04-13T10:34:07.151Z"
   },
   {
    "duration": 4,
    "start_time": "2024-04-13T10:34:07.311Z"
   },
   {
    "duration": 210,
    "start_time": "2024-04-13T10:34:07.316Z"
   },
   {
    "duration": 157,
    "start_time": "2024-04-13T10:34:07.527Z"
   },
   {
    "duration": 190,
    "start_time": "2024-04-13T10:34:07.685Z"
   },
   {
    "duration": 157,
    "start_time": "2024-04-13T10:34:07.876Z"
   },
   {
    "duration": 3,
    "start_time": "2024-04-13T10:40:50.400Z"
   },
   {
    "duration": 73,
    "start_time": "2024-04-13T10:40:50.405Z"
   },
   {
    "duration": 16,
    "start_time": "2024-04-13T10:40:50.480Z"
   },
   {
    "duration": 35,
    "start_time": "2024-04-13T10:40:50.497Z"
   },
   {
    "duration": 12,
    "start_time": "2024-04-13T10:40:50.534Z"
   },
   {
    "duration": 8,
    "start_time": "2024-04-13T10:40:50.547Z"
   },
   {
    "duration": 10,
    "start_time": "2024-04-13T10:40:50.556Z"
   },
   {
    "duration": 23,
    "start_time": "2024-04-13T10:40:50.567Z"
   },
   {
    "duration": 12,
    "start_time": "2024-04-13T10:40:50.591Z"
   },
   {
    "duration": 5,
    "start_time": "2024-04-13T10:40:50.604Z"
   },
   {
    "duration": 10,
    "start_time": "2024-04-13T10:40:50.610Z"
   },
   {
    "duration": 39,
    "start_time": "2024-04-13T10:40:50.621Z"
   },
   {
    "duration": 4,
    "start_time": "2024-04-13T10:40:50.661Z"
   },
   {
    "duration": 17,
    "start_time": "2024-04-13T10:40:50.667Z"
   },
   {
    "duration": 15,
    "start_time": "2024-04-13T10:40:50.685Z"
   },
   {
    "duration": 14,
    "start_time": "2024-04-13T10:40:50.701Z"
   },
   {
    "duration": 31,
    "start_time": "2024-04-13T10:40:50.716Z"
   },
   {
    "duration": 285,
    "start_time": "2024-04-13T10:40:50.748Z"
   },
   {
    "duration": 273,
    "start_time": "2024-04-13T10:40:51.035Z"
   },
   {
    "duration": 10,
    "start_time": "2024-04-13T10:40:51.309Z"
   },
   {
    "duration": 221,
    "start_time": "2024-04-13T10:40:51.320Z"
   },
   {
    "duration": 242,
    "start_time": "2024-04-13T10:40:51.542Z"
   },
   {
    "duration": 19,
    "start_time": "2024-04-13T10:40:51.786Z"
   },
   {
    "duration": 174,
    "start_time": "2024-04-13T10:40:51.807Z"
   },
   {
    "duration": 198,
    "start_time": "2024-04-13T10:40:51.983Z"
   },
   {
    "duration": 29,
    "start_time": "2024-04-13T10:40:52.183Z"
   },
   {
    "duration": 10,
    "start_time": "2024-04-13T10:40:52.213Z"
   },
   {
    "duration": 15,
    "start_time": "2024-04-13T10:40:52.224Z"
   },
   {
    "duration": 143,
    "start_time": "2024-04-13T10:40:52.240Z"
   },
   {
    "duration": 4,
    "start_time": "2024-04-13T10:40:52.384Z"
   },
   {
    "duration": 150,
    "start_time": "2024-04-13T10:40:52.389Z"
   },
   {
    "duration": 3,
    "start_time": "2024-04-13T10:40:52.541Z"
   },
   {
    "duration": 196,
    "start_time": "2024-04-13T10:40:52.546Z"
   },
   {
    "duration": 163,
    "start_time": "2024-04-13T10:40:52.743Z"
   },
   {
    "duration": 196,
    "start_time": "2024-04-13T10:40:52.907Z"
   },
   {
    "duration": 164,
    "start_time": "2024-04-13T10:40:53.105Z"
   },
   {
    "duration": 3,
    "start_time": "2024-04-13T10:43:31.950Z"
   },
   {
    "duration": 81,
    "start_time": "2024-04-13T10:43:31.954Z"
   },
   {
    "duration": 10,
    "start_time": "2024-04-13T10:43:32.036Z"
   },
   {
    "duration": 32,
    "start_time": "2024-04-13T10:43:32.047Z"
   },
   {
    "duration": 30,
    "start_time": "2024-04-13T10:43:32.080Z"
   },
   {
    "duration": 27,
    "start_time": "2024-04-13T10:43:32.112Z"
   },
   {
    "duration": 13,
    "start_time": "2024-04-13T10:43:32.140Z"
   },
   {
    "duration": 20,
    "start_time": "2024-04-13T10:43:32.154Z"
   },
   {
    "duration": 12,
    "start_time": "2024-04-13T10:43:32.176Z"
   },
   {
    "duration": 4,
    "start_time": "2024-04-13T10:43:32.190Z"
   },
   {
    "duration": 22,
    "start_time": "2024-04-13T10:43:32.195Z"
   },
   {
    "duration": 26,
    "start_time": "2024-04-13T10:43:32.218Z"
   },
   {
    "duration": 3,
    "start_time": "2024-04-13T10:43:32.247Z"
   },
   {
    "duration": 10,
    "start_time": "2024-04-13T10:43:32.251Z"
   },
   {
    "duration": 10,
    "start_time": "2024-04-13T10:43:32.263Z"
   },
   {
    "duration": 18,
    "start_time": "2024-04-13T10:43:32.275Z"
   },
   {
    "duration": 31,
    "start_time": "2024-04-13T10:43:32.294Z"
   },
   {
    "duration": 348,
    "start_time": "2024-04-13T10:43:32.326Z"
   },
   {
    "duration": 250,
    "start_time": "2024-04-13T10:43:32.676Z"
   },
   {
    "duration": 10,
    "start_time": "2024-04-13T10:43:32.928Z"
   },
   {
    "duration": 221,
    "start_time": "2024-04-13T10:43:32.939Z"
   },
   {
    "duration": 164,
    "start_time": "2024-04-13T10:43:33.161Z"
   },
   {
    "duration": 12,
    "start_time": "2024-04-13T10:43:33.326Z"
   },
   {
    "duration": 189,
    "start_time": "2024-04-13T10:43:33.340Z"
   },
   {
    "duration": 197,
    "start_time": "2024-04-13T10:43:33.530Z"
   },
   {
    "duration": 22,
    "start_time": "2024-04-13T10:43:33.729Z"
   },
   {
    "duration": 5,
    "start_time": "2024-04-13T10:43:33.753Z"
   },
   {
    "duration": 7,
    "start_time": "2024-04-13T10:43:33.760Z"
   },
   {
    "duration": 166,
    "start_time": "2024-04-13T10:43:33.768Z"
   },
   {
    "duration": 4,
    "start_time": "2024-04-13T10:43:33.936Z"
   },
   {
    "duration": 144,
    "start_time": "2024-04-13T10:43:33.941Z"
   },
   {
    "duration": 3,
    "start_time": "2024-04-13T10:43:34.087Z"
   },
   {
    "duration": 198,
    "start_time": "2024-04-13T10:43:34.092Z"
   },
   {
    "duration": 159,
    "start_time": "2024-04-13T10:43:34.291Z"
   },
   {
    "duration": 277,
    "start_time": "2024-04-13T10:43:34.451Z"
   },
   {
    "duration": 162,
    "start_time": "2024-04-13T10:43:34.729Z"
   },
   {
    "duration": 3,
    "start_time": "2024-04-13T10:46:46.884Z"
   },
   {
    "duration": 59,
    "start_time": "2024-04-13T10:46:46.890Z"
   },
   {
    "duration": 10,
    "start_time": "2024-04-13T10:46:46.951Z"
   },
   {
    "duration": 13,
    "start_time": "2024-04-13T10:46:46.962Z"
   },
   {
    "duration": 13,
    "start_time": "2024-04-13T10:46:46.976Z"
   },
   {
    "duration": 17,
    "start_time": "2024-04-13T10:46:46.990Z"
   },
   {
    "duration": 15,
    "start_time": "2024-04-13T10:46:47.008Z"
   },
   {
    "duration": 39,
    "start_time": "2024-04-13T10:46:47.024Z"
   },
   {
    "duration": 21,
    "start_time": "2024-04-13T10:46:47.065Z"
   },
   {
    "duration": 4,
    "start_time": "2024-04-13T10:46:47.087Z"
   },
   {
    "duration": 20,
    "start_time": "2024-04-13T10:46:47.093Z"
   },
   {
    "duration": 31,
    "start_time": "2024-04-13T10:46:47.114Z"
   },
   {
    "duration": 5,
    "start_time": "2024-04-13T10:46:47.146Z"
   },
   {
    "duration": 7,
    "start_time": "2024-04-13T10:46:47.152Z"
   },
   {
    "duration": 12,
    "start_time": "2024-04-13T10:46:47.162Z"
   },
   {
    "duration": 13,
    "start_time": "2024-04-13T10:46:47.176Z"
   },
   {
    "duration": 20,
    "start_time": "2024-04-13T10:46:47.190Z"
   },
   {
    "duration": 282,
    "start_time": "2024-04-13T10:46:47.211Z"
   },
   {
    "duration": 264,
    "start_time": "2024-04-13T10:46:47.494Z"
   },
   {
    "duration": 10,
    "start_time": "2024-04-13T10:46:47.760Z"
   },
   {
    "duration": 236,
    "start_time": "2024-04-13T10:46:47.771Z"
   },
   {
    "duration": 150,
    "start_time": "2024-04-13T10:46:48.008Z"
   },
   {
    "duration": 14,
    "start_time": "2024-04-13T10:46:48.159Z"
   },
   {
    "duration": 180,
    "start_time": "2024-04-13T10:46:48.175Z"
   },
   {
    "duration": 197,
    "start_time": "2024-04-13T10:46:48.356Z"
   },
   {
    "duration": 23,
    "start_time": "2024-04-13T10:46:48.554Z"
   },
   {
    "duration": 5,
    "start_time": "2024-04-13T10:46:48.579Z"
   },
   {
    "duration": 19,
    "start_time": "2024-04-13T10:46:48.585Z"
   },
   {
    "duration": 216,
    "start_time": "2024-04-13T10:46:48.606Z"
   },
   {
    "duration": 4,
    "start_time": "2024-04-13T10:46:48.823Z"
   },
   {
    "duration": 215,
    "start_time": "2024-04-13T10:46:48.828Z"
   },
   {
    "duration": 4,
    "start_time": "2024-04-13T10:46:49.044Z"
   },
   {
    "duration": 207,
    "start_time": "2024-04-13T10:46:49.049Z"
   },
   {
    "duration": 155,
    "start_time": "2024-04-13T10:46:49.257Z"
   },
   {
    "duration": 206,
    "start_time": "2024-04-13T10:46:49.413Z"
   },
   {
    "duration": 151,
    "start_time": "2024-04-13T10:46:49.621Z"
   },
   {
    "duration": 2,
    "start_time": "2024-04-13T10:46:52.832Z"
   },
   {
    "duration": 63,
    "start_time": "2024-04-13T10:46:52.836Z"
   },
   {
    "duration": 14,
    "start_time": "2024-04-13T10:46:52.900Z"
   },
   {
    "duration": 11,
    "start_time": "2024-04-13T10:46:52.916Z"
   },
   {
    "duration": 11,
    "start_time": "2024-04-13T10:46:52.930Z"
   },
   {
    "duration": 18,
    "start_time": "2024-04-13T10:46:52.943Z"
   },
   {
    "duration": 12,
    "start_time": "2024-04-13T10:46:52.962Z"
   },
   {
    "duration": 28,
    "start_time": "2024-04-13T10:46:52.976Z"
   },
   {
    "duration": 13,
    "start_time": "2024-04-13T10:46:53.005Z"
   },
   {
    "duration": 5,
    "start_time": "2024-04-13T10:46:53.019Z"
   },
   {
    "duration": 6,
    "start_time": "2024-04-13T10:46:53.025Z"
   },
   {
    "duration": 17,
    "start_time": "2024-04-13T10:46:53.033Z"
   },
   {
    "duration": 4,
    "start_time": "2024-04-13T10:46:53.051Z"
   },
   {
    "duration": 15,
    "start_time": "2024-04-13T10:46:53.057Z"
   },
   {
    "duration": 27,
    "start_time": "2024-04-13T10:46:53.074Z"
   },
   {
    "duration": 10,
    "start_time": "2024-04-13T10:46:53.103Z"
   },
   {
    "duration": 19,
    "start_time": "2024-04-13T10:46:53.114Z"
   },
   {
    "duration": 305,
    "start_time": "2024-04-13T10:46:53.134Z"
   },
   {
    "duration": 258,
    "start_time": "2024-04-13T10:46:53.440Z"
   },
   {
    "duration": 10,
    "start_time": "2024-04-13T10:46:53.701Z"
   },
   {
    "duration": 217,
    "start_time": "2024-04-13T10:46:53.712Z"
   },
   {
    "duration": 248,
    "start_time": "2024-04-13T10:46:53.930Z"
   },
   {
    "duration": 14,
    "start_time": "2024-04-13T10:46:54.180Z"
   },
   {
    "duration": 169,
    "start_time": "2024-04-13T10:46:54.202Z"
   },
   {
    "duration": 202,
    "start_time": "2024-04-13T10:46:54.372Z"
   },
   {
    "duration": 34,
    "start_time": "2024-04-13T10:46:54.575Z"
   },
   {
    "duration": 5,
    "start_time": "2024-04-13T10:46:54.610Z"
   },
   {
    "duration": 39,
    "start_time": "2024-04-13T10:46:54.617Z"
   },
   {
    "duration": 171,
    "start_time": "2024-04-13T10:46:54.657Z"
   },
   {
    "duration": 4,
    "start_time": "2024-04-13T10:46:54.829Z"
   },
   {
    "duration": 155,
    "start_time": "2024-04-13T10:46:54.834Z"
   },
   {
    "duration": 4,
    "start_time": "2024-04-13T10:46:54.990Z"
   },
   {
    "duration": 209,
    "start_time": "2024-04-13T10:46:54.995Z"
   },
   {
    "duration": 171,
    "start_time": "2024-04-13T10:46:55.205Z"
   },
   {
    "duration": 204,
    "start_time": "2024-04-13T10:46:55.377Z"
   },
   {
    "duration": 174,
    "start_time": "2024-04-13T10:46:55.583Z"
   },
   {
    "duration": 230,
    "start_time": "2024-04-13T10:46:55.759Z"
   },
   {
    "duration": 160,
    "start_time": "2024-04-13T10:48:03.613Z"
   },
   {
    "duration": 272,
    "start_time": "2024-04-13T10:48:42.758Z"
   },
   {
    "duration": 2,
    "start_time": "2024-04-13T10:48:44.435Z"
   },
   {
    "duration": 63,
    "start_time": "2024-04-13T10:48:44.438Z"
   },
   {
    "duration": 10,
    "start_time": "2024-04-13T10:48:44.502Z"
   },
   {
    "duration": 15,
    "start_time": "2024-04-13T10:48:44.513Z"
   },
   {
    "duration": 11,
    "start_time": "2024-04-13T10:48:44.529Z"
   },
   {
    "duration": 7,
    "start_time": "2024-04-13T10:48:44.541Z"
   },
   {
    "duration": 8,
    "start_time": "2024-04-13T10:48:44.549Z"
   },
   {
    "duration": 8,
    "start_time": "2024-04-13T10:48:44.558Z"
   },
   {
    "duration": 12,
    "start_time": "2024-04-13T10:48:44.568Z"
   },
   {
    "duration": 4,
    "start_time": "2024-04-13T10:48:44.602Z"
   },
   {
    "duration": 4,
    "start_time": "2024-04-13T10:48:44.607Z"
   },
   {
    "duration": 16,
    "start_time": "2024-04-13T10:48:44.612Z"
   },
   {
    "duration": 3,
    "start_time": "2024-04-13T10:48:44.629Z"
   },
   {
    "duration": 13,
    "start_time": "2024-04-13T10:48:44.633Z"
   },
   {
    "duration": 12,
    "start_time": "2024-04-13T10:48:44.647Z"
   },
   {
    "duration": 10,
    "start_time": "2024-04-13T10:48:44.661Z"
   },
   {
    "duration": 35,
    "start_time": "2024-04-13T10:48:44.672Z"
   },
   {
    "duration": 279,
    "start_time": "2024-04-13T10:48:44.708Z"
   },
   {
    "duration": 261,
    "start_time": "2024-04-13T10:48:44.988Z"
   },
   {
    "duration": 11,
    "start_time": "2024-04-13T10:48:45.250Z"
   },
   {
    "duration": 218,
    "start_time": "2024-04-13T10:48:45.262Z"
   },
   {
    "duration": 164,
    "start_time": "2024-04-13T10:48:45.481Z"
   },
   {
    "duration": 21,
    "start_time": "2024-04-13T10:48:45.647Z"
   },
   {
    "duration": 175,
    "start_time": "2024-04-13T10:48:45.672Z"
   },
   {
    "duration": 192,
    "start_time": "2024-04-13T10:48:45.848Z"
   },
   {
    "duration": 23,
    "start_time": "2024-04-13T10:48:46.041Z"
   },
   {
    "duration": 5,
    "start_time": "2024-04-13T10:48:46.065Z"
   },
   {
    "duration": 6,
    "start_time": "2024-04-13T10:48:46.071Z"
   },
   {
    "duration": 150,
    "start_time": "2024-04-13T10:48:46.078Z"
   },
   {
    "duration": 3,
    "start_time": "2024-04-13T10:48:46.230Z"
   },
   {
    "duration": 228,
    "start_time": "2024-04-13T10:48:46.234Z"
   },
   {
    "duration": 4,
    "start_time": "2024-04-13T10:48:46.463Z"
   },
   {
    "duration": 198,
    "start_time": "2024-04-13T10:48:46.468Z"
   },
   {
    "duration": 155,
    "start_time": "2024-04-13T10:48:46.667Z"
   },
   {
    "duration": 199,
    "start_time": "2024-04-13T10:48:46.823Z"
   },
   {
    "duration": 169,
    "start_time": "2024-04-13T10:48:47.024Z"
   },
   {
    "duration": 172,
    "start_time": "2024-04-13T10:48:47.194Z"
   },
   {
    "duration": 189,
    "start_time": "2024-04-13T10:48:47.367Z"
   },
   {
    "duration": 2,
    "start_time": "2024-04-13T10:49:38.421Z"
   },
   {
    "duration": 64,
    "start_time": "2024-04-13T10:49:38.426Z"
   },
   {
    "duration": 11,
    "start_time": "2024-04-13T10:49:38.492Z"
   },
   {
    "duration": 13,
    "start_time": "2024-04-13T10:49:38.506Z"
   },
   {
    "duration": 12,
    "start_time": "2024-04-13T10:49:38.521Z"
   },
   {
    "duration": 8,
    "start_time": "2024-04-13T10:49:38.534Z"
   },
   {
    "duration": 6,
    "start_time": "2024-04-13T10:49:38.543Z"
   },
   {
    "duration": 7,
    "start_time": "2024-04-13T10:49:38.551Z"
   },
   {
    "duration": 11,
    "start_time": "2024-04-13T10:49:38.561Z"
   },
   {
    "duration": 31,
    "start_time": "2024-04-13T10:49:38.573Z"
   },
   {
    "duration": 4,
    "start_time": "2024-04-13T10:49:38.605Z"
   },
   {
    "duration": 19,
    "start_time": "2024-04-13T10:49:38.610Z"
   },
   {
    "duration": 5,
    "start_time": "2024-04-13T10:49:38.630Z"
   },
   {
    "duration": 5,
    "start_time": "2024-04-13T10:49:38.636Z"
   },
   {
    "duration": 12,
    "start_time": "2024-04-13T10:49:38.642Z"
   },
   {
    "duration": 10,
    "start_time": "2024-04-13T10:49:38.655Z"
   },
   {
    "duration": 49,
    "start_time": "2024-04-13T10:49:38.666Z"
   },
   {
    "duration": 277,
    "start_time": "2024-04-13T10:49:38.716Z"
   },
   {
    "duration": 259,
    "start_time": "2024-04-13T10:49:38.995Z"
   },
   {
    "duration": 9,
    "start_time": "2024-04-13T10:49:39.256Z"
   },
   {
    "duration": 312,
    "start_time": "2024-04-13T10:49:39.267Z"
   },
   {
    "duration": 159,
    "start_time": "2024-04-13T10:49:39.581Z"
   },
   {
    "duration": 12,
    "start_time": "2024-04-13T10:49:39.741Z"
   },
   {
    "duration": 173,
    "start_time": "2024-04-13T10:49:39.757Z"
   },
   {
    "duration": 203,
    "start_time": "2024-04-13T10:49:39.931Z"
   },
   {
    "duration": 24,
    "start_time": "2024-04-13T10:49:40.136Z"
   },
   {
    "duration": 5,
    "start_time": "2024-04-13T10:49:40.162Z"
   },
   {
    "duration": 8,
    "start_time": "2024-04-13T10:49:40.168Z"
   },
   {
    "duration": 157,
    "start_time": "2024-04-13T10:49:40.177Z"
   },
   {
    "duration": 5,
    "start_time": "2024-04-13T10:49:40.335Z"
   },
   {
    "duration": 163,
    "start_time": "2024-04-13T10:49:40.342Z"
   },
   {
    "duration": 3,
    "start_time": "2024-04-13T10:49:40.506Z"
   },
   {
    "duration": 208,
    "start_time": "2024-04-13T10:49:40.511Z"
   },
   {
    "duration": 155,
    "start_time": "2024-04-13T10:49:40.720Z"
   },
   {
    "duration": 192,
    "start_time": "2024-04-13T10:49:40.876Z"
   },
   {
    "duration": 157,
    "start_time": "2024-04-13T10:49:41.069Z"
   },
   {
    "duration": 162,
    "start_time": "2024-04-13T10:49:41.227Z"
   },
   {
    "duration": 273,
    "start_time": "2024-04-13T10:49:41.391Z"
   },
   {
    "duration": 162,
    "start_time": "2024-04-13T10:49:41.665Z"
   },
   {
    "duration": 3,
    "start_time": "2024-04-13T10:52:06.021Z"
   },
   {
    "duration": 70,
    "start_time": "2024-04-13T10:52:06.026Z"
   },
   {
    "duration": 13,
    "start_time": "2024-04-13T10:52:06.097Z"
   },
   {
    "duration": 28,
    "start_time": "2024-04-13T10:52:06.111Z"
   },
   {
    "duration": 13,
    "start_time": "2024-04-13T10:52:06.140Z"
   },
   {
    "duration": 30,
    "start_time": "2024-04-13T10:52:06.155Z"
   },
   {
    "duration": 8,
    "start_time": "2024-04-13T10:52:06.186Z"
   },
   {
    "duration": 40,
    "start_time": "2024-04-13T10:52:06.196Z"
   },
   {
    "duration": 22,
    "start_time": "2024-04-13T10:52:06.238Z"
   },
   {
    "duration": 3,
    "start_time": "2024-04-13T10:52:06.262Z"
   },
   {
    "duration": 13,
    "start_time": "2024-04-13T10:52:06.267Z"
   },
   {
    "duration": 28,
    "start_time": "2024-04-13T10:52:06.281Z"
   },
   {
    "duration": 4,
    "start_time": "2024-04-13T10:52:06.310Z"
   },
   {
    "duration": 12,
    "start_time": "2024-04-13T10:52:06.315Z"
   },
   {
    "duration": 11,
    "start_time": "2024-04-13T10:52:06.328Z"
   },
   {
    "duration": 10,
    "start_time": "2024-04-13T10:52:06.340Z"
   },
   {
    "duration": 16,
    "start_time": "2024-04-13T10:52:06.351Z"
   },
   {
    "duration": 284,
    "start_time": "2024-04-13T10:52:06.368Z"
   },
   {
    "duration": 253,
    "start_time": "2024-04-13T10:52:06.654Z"
   },
   {
    "duration": 10,
    "start_time": "2024-04-13T10:52:06.909Z"
   },
   {
    "duration": 219,
    "start_time": "2024-04-13T10:52:06.920Z"
   },
   {
    "duration": 186,
    "start_time": "2024-04-13T10:52:07.140Z"
   },
   {
    "duration": 13,
    "start_time": "2024-04-13T10:52:07.328Z"
   },
   {
    "duration": 174,
    "start_time": "2024-04-13T10:52:07.344Z"
   },
   {
    "duration": 190,
    "start_time": "2024-04-13T10:52:07.520Z"
   },
   {
    "duration": 21,
    "start_time": "2024-04-13T10:52:07.712Z"
   },
   {
    "duration": 5,
    "start_time": "2024-04-13T10:52:07.734Z"
   },
   {
    "duration": 17,
    "start_time": "2024-04-13T10:52:07.740Z"
   },
   {
    "duration": 216,
    "start_time": "2024-04-13T10:52:07.758Z"
   },
   {
    "duration": 3,
    "start_time": "2024-04-13T10:52:07.975Z"
   },
   {
    "duration": 146,
    "start_time": "2024-04-13T10:52:07.979Z"
   },
   {
    "duration": 4,
    "start_time": "2024-04-13T10:52:08.126Z"
   },
   {
    "duration": 195,
    "start_time": "2024-04-13T10:52:08.131Z"
   },
   {
    "duration": 157,
    "start_time": "2024-04-13T10:52:08.328Z"
   },
   {
    "duration": 201,
    "start_time": "2024-04-13T10:52:08.486Z"
   },
   {
    "duration": 168,
    "start_time": "2024-04-13T10:52:08.689Z"
   },
   {
    "duration": 165,
    "start_time": "2024-04-13T10:52:08.858Z"
   },
   {
    "duration": 193,
    "start_time": "2024-04-13T10:52:09.024Z"
   },
   {
    "duration": 162,
    "start_time": "2024-04-13T10:52:09.218Z"
   },
   {
    "duration": 5,
    "start_time": "2024-04-13T10:54:15.745Z"
   },
   {
    "duration": 3,
    "start_time": "2024-04-13T10:54:39.854Z"
   },
   {
    "duration": 60,
    "start_time": "2024-04-13T10:54:39.858Z"
   },
   {
    "duration": 11,
    "start_time": "2024-04-13T10:54:39.919Z"
   },
   {
    "duration": 12,
    "start_time": "2024-04-13T10:54:39.932Z"
   },
   {
    "duration": 13,
    "start_time": "2024-04-13T10:54:39.946Z"
   },
   {
    "duration": 8,
    "start_time": "2024-04-13T10:54:39.961Z"
   },
   {
    "duration": 31,
    "start_time": "2024-04-13T10:54:39.971Z"
   },
   {
    "duration": 8,
    "start_time": "2024-04-13T10:54:40.003Z"
   },
   {
    "duration": 21,
    "start_time": "2024-04-13T10:54:40.012Z"
   },
   {
    "duration": 14,
    "start_time": "2024-04-13T10:54:40.034Z"
   },
   {
    "duration": 8,
    "start_time": "2024-04-13T10:54:40.049Z"
   },
   {
    "duration": 21,
    "start_time": "2024-04-13T10:54:40.058Z"
   },
   {
    "duration": 4,
    "start_time": "2024-04-13T10:54:40.080Z"
   },
   {
    "duration": 3,
    "start_time": "2024-04-13T10:54:40.087Z"
   },
   {
    "duration": 16,
    "start_time": "2024-04-13T10:54:40.091Z"
   },
   {
    "duration": 16,
    "start_time": "2024-04-13T10:54:40.108Z"
   },
   {
    "duration": 23,
    "start_time": "2024-04-13T10:54:40.126Z"
   },
   {
    "duration": 303,
    "start_time": "2024-04-13T10:54:40.151Z"
   },
   {
    "duration": 359,
    "start_time": "2024-04-13T10:54:40.456Z"
   },
   {
    "duration": 9,
    "start_time": "2024-04-13T10:54:40.817Z"
   },
   {
    "duration": 211,
    "start_time": "2024-04-13T10:54:40.827Z"
   },
   {
    "duration": 152,
    "start_time": "2024-04-13T10:54:41.039Z"
   },
   {
    "duration": 20,
    "start_time": "2024-04-13T10:54:41.192Z"
   },
   {
    "duration": 165,
    "start_time": "2024-04-13T10:54:41.213Z"
   },
   {
    "duration": 187,
    "start_time": "2024-04-13T10:54:41.379Z"
   },
   {
    "duration": 24,
    "start_time": "2024-04-13T10:54:41.567Z"
   },
   {
    "duration": 12,
    "start_time": "2024-04-13T10:54:41.592Z"
   },
   {
    "duration": 4,
    "start_time": "2024-04-13T10:54:41.606Z"
   },
   {
    "duration": 145,
    "start_time": "2024-04-13T10:54:41.611Z"
   },
   {
    "duration": 4,
    "start_time": "2024-04-13T10:54:41.757Z"
   },
   {
    "duration": 173,
    "start_time": "2024-04-13T10:54:41.762Z"
   },
   {
    "duration": 4,
    "start_time": "2024-04-13T10:54:41.936Z"
   },
   {
    "duration": 197,
    "start_time": "2024-04-13T10:54:41.941Z"
   },
   {
    "duration": 158,
    "start_time": "2024-04-13T10:54:42.140Z"
   },
   {
    "duration": 196,
    "start_time": "2024-04-13T10:54:42.301Z"
   },
   {
    "duration": 236,
    "start_time": "2024-04-13T10:54:42.498Z"
   },
   {
    "duration": 167,
    "start_time": "2024-04-13T10:54:42.736Z"
   },
   {
    "duration": 4,
    "start_time": "2024-04-13T10:54:42.905Z"
   },
   {
    "duration": 199,
    "start_time": "2024-04-13T10:54:42.911Z"
   },
   {
    "duration": 179,
    "start_time": "2024-04-13T10:54:43.111Z"
   },
   {
    "duration": 3,
    "start_time": "2024-04-13T10:54:49.244Z"
   },
   {
    "duration": 65,
    "start_time": "2024-04-13T10:54:49.248Z"
   },
   {
    "duration": 11,
    "start_time": "2024-04-13T10:54:49.314Z"
   },
   {
    "duration": 12,
    "start_time": "2024-04-13T10:54:49.326Z"
   },
   {
    "duration": 12,
    "start_time": "2024-04-13T10:54:49.339Z"
   },
   {
    "duration": 7,
    "start_time": "2024-04-13T10:54:49.352Z"
   },
   {
    "duration": 23,
    "start_time": "2024-04-13T10:54:49.360Z"
   },
   {
    "duration": 8,
    "start_time": "2024-04-13T10:54:49.384Z"
   },
   {
    "duration": 19,
    "start_time": "2024-04-13T10:54:49.401Z"
   },
   {
    "duration": 4,
    "start_time": "2024-04-13T10:54:49.422Z"
   },
   {
    "duration": 7,
    "start_time": "2024-04-13T10:54:49.427Z"
   },
   {
    "duration": 15,
    "start_time": "2024-04-13T10:54:49.435Z"
   },
   {
    "duration": 3,
    "start_time": "2024-04-13T10:54:49.452Z"
   },
   {
    "duration": 14,
    "start_time": "2024-04-13T10:54:49.456Z"
   },
   {
    "duration": 17,
    "start_time": "2024-04-13T10:54:49.472Z"
   },
   {
    "duration": 13,
    "start_time": "2024-04-13T10:54:49.490Z"
   },
   {
    "duration": 18,
    "start_time": "2024-04-13T10:54:49.504Z"
   },
   {
    "duration": 284,
    "start_time": "2024-04-13T10:54:49.523Z"
   },
   {
    "duration": 256,
    "start_time": "2024-04-13T10:54:49.809Z"
   },
   {
    "duration": 11,
    "start_time": "2024-04-13T10:54:50.067Z"
   },
   {
    "duration": 223,
    "start_time": "2024-04-13T10:54:50.079Z"
   },
   {
    "duration": 182,
    "start_time": "2024-04-13T10:54:50.303Z"
   },
   {
    "duration": 19,
    "start_time": "2024-04-13T10:54:50.486Z"
   },
   {
    "duration": 183,
    "start_time": "2024-04-13T10:54:50.507Z"
   },
   {
    "duration": 262,
    "start_time": "2024-04-13T10:54:50.691Z"
   },
   {
    "duration": 21,
    "start_time": "2024-04-13T10:54:50.955Z"
   },
   {
    "duration": 54,
    "start_time": "2024-04-13T10:54:50.978Z"
   },
   {
    "duration": 105,
    "start_time": "2024-04-13T10:54:51.033Z"
   },
   {
    "duration": 166,
    "start_time": "2024-04-13T10:54:51.139Z"
   },
   {
    "duration": 4,
    "start_time": "2024-04-13T10:54:51.307Z"
   },
   {
    "duration": 173,
    "start_time": "2024-04-13T10:54:51.313Z"
   },
   {
    "duration": 4,
    "start_time": "2024-04-13T10:54:51.487Z"
   },
   {
    "duration": 198,
    "start_time": "2024-04-13T10:54:51.501Z"
   },
   {
    "duration": 169,
    "start_time": "2024-04-13T10:54:51.701Z"
   },
   {
    "duration": 201,
    "start_time": "2024-04-13T10:54:51.872Z"
   },
   {
    "duration": 164,
    "start_time": "2024-04-13T10:54:52.075Z"
   },
   {
    "duration": 170,
    "start_time": "2024-04-13T10:54:52.241Z"
   },
   {
    "duration": 5,
    "start_time": "2024-04-13T10:54:52.412Z"
   },
   {
    "duration": 202,
    "start_time": "2024-04-13T10:54:52.418Z"
   },
   {
    "duration": 174,
    "start_time": "2024-04-13T10:54:52.621Z"
   },
   {
    "duration": 3,
    "start_time": "2024-04-13T11:18:47.221Z"
   },
   {
    "duration": 67,
    "start_time": "2024-04-13T11:18:47.225Z"
   },
   {
    "duration": 11,
    "start_time": "2024-04-13T11:18:47.293Z"
   },
   {
    "duration": 11,
    "start_time": "2024-04-13T11:18:47.305Z"
   },
   {
    "duration": 17,
    "start_time": "2024-04-13T11:18:47.318Z"
   },
   {
    "duration": 7,
    "start_time": "2024-04-13T11:18:47.336Z"
   },
   {
    "duration": 14,
    "start_time": "2024-04-13T11:18:47.344Z"
   },
   {
    "duration": 7,
    "start_time": "2024-04-13T11:18:47.359Z"
   },
   {
    "duration": 12,
    "start_time": "2024-04-13T11:18:47.367Z"
   },
   {
    "duration": 4,
    "start_time": "2024-04-13T11:18:47.380Z"
   },
   {
    "duration": 4,
    "start_time": "2024-04-13T11:18:47.402Z"
   },
   {
    "duration": 19,
    "start_time": "2024-04-13T11:18:47.407Z"
   },
   {
    "duration": 3,
    "start_time": "2024-04-13T11:18:47.427Z"
   },
   {
    "duration": 10,
    "start_time": "2024-04-13T11:18:47.434Z"
   },
   {
    "duration": 11,
    "start_time": "2024-04-13T11:18:47.445Z"
   },
   {
    "duration": 11,
    "start_time": "2024-04-13T11:18:47.457Z"
   },
   {
    "duration": 37,
    "start_time": "2024-04-13T11:18:47.470Z"
   },
   {
    "duration": 376,
    "start_time": "2024-04-13T11:18:47.508Z"
   },
   {
    "duration": 253,
    "start_time": "2024-04-13T11:18:47.886Z"
   },
   {
    "duration": 10,
    "start_time": "2024-04-13T11:18:48.141Z"
   },
   {
    "duration": 217,
    "start_time": "2024-04-13T11:18:48.152Z"
   },
   {
    "duration": 155,
    "start_time": "2024-04-13T11:18:48.370Z"
   },
   {
    "duration": 12,
    "start_time": "2024-04-13T11:18:48.526Z"
   },
   {
    "duration": 168,
    "start_time": "2024-04-13T11:18:48.540Z"
   },
   {
    "duration": 195,
    "start_time": "2024-04-13T11:18:48.709Z"
   },
   {
    "duration": 22,
    "start_time": "2024-04-13T11:18:48.906Z"
   },
   {
    "duration": 5,
    "start_time": "2024-04-13T11:18:48.929Z"
   },
   {
    "duration": 14,
    "start_time": "2024-04-13T11:18:48.935Z"
   },
   {
    "duration": 147,
    "start_time": "2024-04-13T11:18:48.950Z"
   },
   {
    "duration": 6,
    "start_time": "2024-04-13T11:18:49.098Z"
   },
   {
    "duration": 148,
    "start_time": "2024-04-13T11:18:49.106Z"
   },
   {
    "duration": 4,
    "start_time": "2024-04-13T11:18:49.256Z"
   },
   {
    "duration": 199,
    "start_time": "2024-04-13T11:18:49.261Z"
   },
   {
    "duration": 154,
    "start_time": "2024-04-13T11:18:49.461Z"
   },
   {
    "duration": 261,
    "start_time": "2024-04-13T11:18:49.617Z"
   },
   {
    "duration": 161,
    "start_time": "2024-04-13T11:18:49.880Z"
   },
   {
    "duration": 168,
    "start_time": "2024-04-13T11:18:50.043Z"
   },
   {
    "duration": 221,
    "start_time": "2024-04-13T11:18:50.213Z"
   },
   {
    "duration": 176,
    "start_time": "2024-04-13T11:18:50.436Z"
   },
   {
    "duration": 3,
    "start_time": "2024-04-13T11:19:59.486Z"
   },
   {
    "duration": 64,
    "start_time": "2024-04-13T11:19:59.490Z"
   },
   {
    "duration": 11,
    "start_time": "2024-04-13T11:19:59.555Z"
   },
   {
    "duration": 14,
    "start_time": "2024-04-13T11:19:59.568Z"
   },
   {
    "duration": 16,
    "start_time": "2024-04-13T11:19:59.585Z"
   },
   {
    "duration": 12,
    "start_time": "2024-04-13T11:19:59.602Z"
   },
   {
    "duration": 6,
    "start_time": "2024-04-13T11:19:59.615Z"
   },
   {
    "duration": 8,
    "start_time": "2024-04-13T11:19:59.623Z"
   },
   {
    "duration": 27,
    "start_time": "2024-04-13T11:19:59.632Z"
   },
   {
    "duration": 6,
    "start_time": "2024-04-13T11:19:59.661Z"
   },
   {
    "duration": 10,
    "start_time": "2024-04-13T11:19:59.668Z"
   },
   {
    "duration": 16,
    "start_time": "2024-04-13T11:19:59.679Z"
   },
   {
    "duration": 4,
    "start_time": "2024-04-13T11:19:59.696Z"
   },
   {
    "duration": 4,
    "start_time": "2024-04-13T11:19:59.702Z"
   },
   {
    "duration": 11,
    "start_time": "2024-04-13T11:19:59.708Z"
   },
   {
    "duration": 10,
    "start_time": "2024-04-13T11:19:59.720Z"
   },
   {
    "duration": 17,
    "start_time": "2024-04-13T11:19:59.732Z"
   },
   {
    "duration": 304,
    "start_time": "2024-04-13T11:19:59.751Z"
   },
   {
    "duration": 260,
    "start_time": "2024-04-13T11:20:00.057Z"
   },
   {
    "duration": 13,
    "start_time": "2024-04-13T11:20:00.318Z"
   },
   {
    "duration": 265,
    "start_time": "2024-04-13T11:20:00.332Z"
   },
   {
    "duration": 158,
    "start_time": "2024-04-13T11:20:00.598Z"
   },
   {
    "duration": 12,
    "start_time": "2024-04-13T11:20:00.758Z"
   },
   {
    "duration": 291,
    "start_time": "2024-04-13T11:20:00.771Z"
   },
   {
    "duration": 203,
    "start_time": "2024-04-13T11:20:01.063Z"
   },
   {
    "duration": 21,
    "start_time": "2024-04-13T11:20:01.268Z"
   },
   {
    "duration": 187,
    "start_time": "2024-04-13T11:20:01.290Z"
   },
   {
    "duration": 41,
    "start_time": "2024-04-13T11:20:01.478Z"
   },
   {
    "duration": 161,
    "start_time": "2024-04-13T11:20:01.520Z"
   },
   {
    "duration": 4,
    "start_time": "2024-04-13T11:20:01.682Z"
   },
   {
    "duration": 164,
    "start_time": "2024-04-13T11:20:01.687Z"
   },
   {
    "duration": 4,
    "start_time": "2024-04-13T11:20:01.853Z"
   },
   {
    "duration": 230,
    "start_time": "2024-04-13T11:20:01.858Z"
   },
   {
    "duration": 161,
    "start_time": "2024-04-13T11:20:02.089Z"
   },
   {
    "duration": 201,
    "start_time": "2024-04-13T11:20:02.251Z"
   },
   {
    "duration": 158,
    "start_time": "2024-04-13T11:20:02.454Z"
   },
   {
    "duration": 162,
    "start_time": "2024-04-13T11:20:02.613Z"
   },
   {
    "duration": 188,
    "start_time": "2024-04-13T11:20:02.776Z"
   },
   {
    "duration": 161,
    "start_time": "2024-04-13T11:20:02.965Z"
   },
   {
    "duration": 3,
    "start_time": "2024-04-13T11:21:24.033Z"
   },
   {
    "duration": 61,
    "start_time": "2024-04-13T11:21:24.037Z"
   },
   {
    "duration": 10,
    "start_time": "2024-04-13T11:21:24.100Z"
   },
   {
    "duration": 30,
    "start_time": "2024-04-13T11:21:24.112Z"
   },
   {
    "duration": 26,
    "start_time": "2024-04-13T11:21:24.143Z"
   },
   {
    "duration": 7,
    "start_time": "2024-04-13T11:21:24.170Z"
   },
   {
    "duration": 7,
    "start_time": "2024-04-13T11:21:24.178Z"
   },
   {
    "duration": 7,
    "start_time": "2024-04-13T11:21:24.186Z"
   },
   {
    "duration": 37,
    "start_time": "2024-04-13T11:21:24.195Z"
   },
   {
    "duration": 91,
    "start_time": "2024-04-13T11:21:24.234Z"
   },
   {
    "duration": 7,
    "start_time": "2024-04-13T11:21:24.327Z"
   },
   {
    "duration": 25,
    "start_time": "2024-04-13T11:21:24.335Z"
   },
   {
    "duration": 3,
    "start_time": "2024-04-13T11:21:24.361Z"
   },
   {
    "duration": 19,
    "start_time": "2024-04-13T11:21:24.365Z"
   },
   {
    "duration": 20,
    "start_time": "2024-04-13T11:21:24.385Z"
   },
   {
    "duration": 10,
    "start_time": "2024-04-13T11:21:24.407Z"
   },
   {
    "duration": 18,
    "start_time": "2024-04-13T11:21:24.418Z"
   },
   {
    "duration": 293,
    "start_time": "2024-04-13T11:21:24.438Z"
   },
   {
    "duration": 271,
    "start_time": "2024-04-13T11:21:24.733Z"
   },
   {
    "duration": 9,
    "start_time": "2024-04-13T11:21:25.005Z"
   },
   {
    "duration": 225,
    "start_time": "2024-04-13T11:21:25.015Z"
   },
   {
    "duration": 162,
    "start_time": "2024-04-13T11:21:25.241Z"
   },
   {
    "duration": 13,
    "start_time": "2024-04-13T11:21:25.404Z"
   },
   {
    "duration": 223,
    "start_time": "2024-04-13T11:21:25.420Z"
   },
   {
    "duration": 190,
    "start_time": "2024-04-13T11:21:25.644Z"
   },
   {
    "duration": 29,
    "start_time": "2024-04-13T11:21:25.835Z"
   },
   {
    "duration": 5,
    "start_time": "2024-04-13T11:21:25.866Z"
   },
   {
    "duration": 28,
    "start_time": "2024-04-13T11:21:25.872Z"
   },
   {
    "duration": 146,
    "start_time": "2024-04-13T11:21:25.902Z"
   },
   {
    "duration": 4,
    "start_time": "2024-04-13T11:21:26.049Z"
   },
   {
    "duration": 180,
    "start_time": "2024-04-13T11:21:26.054Z"
   },
   {
    "duration": 3,
    "start_time": "2024-04-13T11:21:26.236Z"
   },
   {
    "duration": 272,
    "start_time": "2024-04-13T11:21:26.240Z"
   },
   {
    "duration": 156,
    "start_time": "2024-04-13T11:21:26.513Z"
   },
   {
    "duration": 191,
    "start_time": "2024-04-13T11:21:26.670Z"
   },
   {
    "duration": 158,
    "start_time": "2024-04-13T11:21:26.862Z"
   },
   {
    "duration": 159,
    "start_time": "2024-04-13T11:21:27.021Z"
   },
   {
    "duration": 196,
    "start_time": "2024-04-13T11:21:27.182Z"
   },
   {
    "duration": 176,
    "start_time": "2024-04-13T11:21:27.380Z"
   },
   {
    "duration": 2,
    "start_time": "2024-04-13T11:22:30.865Z"
   },
   {
    "duration": 108,
    "start_time": "2024-04-13T11:22:30.869Z"
   },
   {
    "duration": 14,
    "start_time": "2024-04-13T11:22:30.978Z"
   },
   {
    "duration": 51,
    "start_time": "2024-04-13T11:22:30.993Z"
   },
   {
    "duration": 65,
    "start_time": "2024-04-13T11:22:31.045Z"
   },
   {
    "duration": 61,
    "start_time": "2024-04-13T11:22:31.112Z"
   },
   {
    "duration": 98,
    "start_time": "2024-04-13T11:22:31.174Z"
   },
   {
    "duration": 44,
    "start_time": "2024-04-13T11:22:31.274Z"
   },
   {
    "duration": 98,
    "start_time": "2024-04-13T11:22:31.319Z"
   },
   {
    "duration": 41,
    "start_time": "2024-04-13T11:22:31.419Z"
   },
   {
    "duration": 117,
    "start_time": "2024-04-13T11:22:31.461Z"
   },
   {
    "duration": 77,
    "start_time": "2024-04-13T11:22:31.579Z"
   },
   {
    "duration": 33,
    "start_time": "2024-04-13T11:22:31.657Z"
   },
   {
    "duration": 31,
    "start_time": "2024-04-13T11:22:31.693Z"
   },
   {
    "duration": 36,
    "start_time": "2024-04-13T11:22:31.726Z"
   },
   {
    "duration": 22,
    "start_time": "2024-04-13T11:22:31.763Z"
   },
   {
    "duration": 56,
    "start_time": "2024-04-13T11:22:31.786Z"
   },
   {
    "duration": 278,
    "start_time": "2024-04-13T11:22:31.844Z"
   },
   {
    "duration": 252,
    "start_time": "2024-04-13T11:22:32.123Z"
   },
   {
    "duration": 10,
    "start_time": "2024-04-13T11:22:32.377Z"
   },
   {
    "duration": 335,
    "start_time": "2024-04-13T11:22:32.388Z"
   },
   {
    "duration": 149,
    "start_time": "2024-04-13T11:22:32.725Z"
   },
   {
    "duration": 13,
    "start_time": "2024-04-13T11:22:32.875Z"
   },
   {
    "duration": 271,
    "start_time": "2024-04-13T11:22:32.889Z"
   },
   {
    "duration": 252,
    "start_time": "2024-04-13T11:22:33.161Z"
   },
   {
    "duration": 22,
    "start_time": "2024-04-13T11:22:33.414Z"
   },
   {
    "duration": 5,
    "start_time": "2024-04-13T11:22:33.437Z"
   },
   {
    "duration": 20,
    "start_time": "2024-04-13T11:22:33.443Z"
   },
   {
    "duration": 154,
    "start_time": "2024-04-13T11:22:33.464Z"
   },
   {
    "duration": 3,
    "start_time": "2024-04-13T11:22:33.619Z"
   },
   {
    "duration": 143,
    "start_time": "2024-04-13T11:22:33.623Z"
   },
   {
    "duration": 3,
    "start_time": "2024-04-13T11:22:33.767Z"
   },
   {
    "duration": 195,
    "start_time": "2024-04-13T11:22:33.771Z"
   },
   {
    "duration": 167,
    "start_time": "2024-04-13T11:22:33.967Z"
   },
   {
    "duration": 189,
    "start_time": "2024-04-13T11:22:34.136Z"
   },
   {
    "duration": 156,
    "start_time": "2024-04-13T11:22:34.326Z"
   },
   {
    "duration": 163,
    "start_time": "2024-04-13T11:22:34.484Z"
   },
   {
    "duration": 289,
    "start_time": "2024-04-13T11:22:34.649Z"
   },
   {
    "duration": 166,
    "start_time": "2024-04-13T11:22:34.939Z"
   },
   {
    "duration": 2,
    "start_time": "2024-04-13T11:23:43.763Z"
   },
   {
    "duration": 68,
    "start_time": "2024-04-13T11:23:43.767Z"
   },
   {
    "duration": 10,
    "start_time": "2024-04-13T11:23:43.836Z"
   },
   {
    "duration": 10,
    "start_time": "2024-04-13T11:23:43.848Z"
   },
   {
    "duration": 11,
    "start_time": "2024-04-13T11:23:43.860Z"
   },
   {
    "duration": 6,
    "start_time": "2024-04-13T11:23:43.872Z"
   },
   {
    "duration": 26,
    "start_time": "2024-04-13T11:23:43.879Z"
   },
   {
    "duration": 6,
    "start_time": "2024-04-13T11:23:43.907Z"
   },
   {
    "duration": 10,
    "start_time": "2024-04-13T11:23:43.915Z"
   },
   {
    "duration": 10,
    "start_time": "2024-04-13T11:23:43.926Z"
   },
   {
    "duration": 5,
    "start_time": "2024-04-13T11:23:43.937Z"
   },
   {
    "duration": 20,
    "start_time": "2024-04-13T11:23:43.943Z"
   },
   {
    "duration": 4,
    "start_time": "2024-04-13T11:23:43.964Z"
   },
   {
    "duration": 5,
    "start_time": "2024-04-13T11:23:43.971Z"
   },
   {
    "duration": 25,
    "start_time": "2024-04-13T11:23:43.977Z"
   },
   {
    "duration": 10,
    "start_time": "2024-04-13T11:23:44.003Z"
   },
   {
    "duration": 21,
    "start_time": "2024-04-13T11:23:44.014Z"
   },
   {
    "duration": 278,
    "start_time": "2024-04-13T11:23:44.037Z"
   },
   {
    "duration": 258,
    "start_time": "2024-04-13T11:23:44.316Z"
   },
   {
    "duration": 9,
    "start_time": "2024-04-13T11:23:44.575Z"
   },
   {
    "duration": 225,
    "start_time": "2024-04-13T11:23:44.586Z"
   },
   {
    "duration": 158,
    "start_time": "2024-04-13T11:23:44.812Z"
   },
   {
    "duration": 12,
    "start_time": "2024-04-13T11:23:44.972Z"
   },
   {
    "duration": 175,
    "start_time": "2024-04-13T11:23:44.986Z"
   },
   {
    "duration": 193,
    "start_time": "2024-04-13T11:23:45.162Z"
   },
   {
    "duration": 23,
    "start_time": "2024-04-13T11:23:45.356Z"
   },
   {
    "duration": 5,
    "start_time": "2024-04-13T11:23:45.381Z"
   },
   {
    "duration": 21,
    "start_time": "2024-04-13T11:23:45.387Z"
   },
   {
    "duration": 214,
    "start_time": "2024-04-13T11:23:45.410Z"
   },
   {
    "duration": 4,
    "start_time": "2024-04-13T11:23:45.626Z"
   },
   {
    "duration": 145,
    "start_time": "2024-04-13T11:23:45.631Z"
   },
   {
    "duration": 4,
    "start_time": "2024-04-13T11:23:45.777Z"
   },
   {
    "duration": 198,
    "start_time": "2024-04-13T11:23:45.782Z"
   },
   {
    "duration": 161,
    "start_time": "2024-04-13T11:23:45.982Z"
   },
   {
    "duration": 201,
    "start_time": "2024-04-13T11:23:46.144Z"
   },
   {
    "duration": 161,
    "start_time": "2024-04-13T11:23:46.346Z"
   },
   {
    "duration": 159,
    "start_time": "2024-04-13T11:23:46.508Z"
   },
   {
    "duration": 187,
    "start_time": "2024-04-13T11:23:46.668Z"
   },
   {
    "duration": 163,
    "start_time": "2024-04-13T11:23:46.856Z"
   },
   {
    "duration": 169,
    "start_time": "2024-04-13T11:23:47.020Z"
   },
   {
    "duration": 3,
    "start_time": "2024-04-13T11:27:50.302Z"
   },
   {
    "duration": 99,
    "start_time": "2024-04-13T11:27:50.306Z"
   },
   {
    "duration": 11,
    "start_time": "2024-04-13T11:27:50.406Z"
   },
   {
    "duration": 12,
    "start_time": "2024-04-13T11:27:50.418Z"
   },
   {
    "duration": 11,
    "start_time": "2024-04-13T11:27:50.431Z"
   },
   {
    "duration": 7,
    "start_time": "2024-04-13T11:27:50.443Z"
   },
   {
    "duration": 7,
    "start_time": "2024-04-13T11:27:50.452Z"
   },
   {
    "duration": 7,
    "start_time": "2024-04-13T11:27:50.460Z"
   },
   {
    "duration": 39,
    "start_time": "2024-04-13T11:27:50.469Z"
   },
   {
    "duration": 4,
    "start_time": "2024-04-13T11:27:50.510Z"
   },
   {
    "duration": 19,
    "start_time": "2024-04-13T11:27:50.515Z"
   },
   {
    "duration": 16,
    "start_time": "2024-04-13T11:27:50.535Z"
   },
   {
    "duration": 13,
    "start_time": "2024-04-13T11:27:50.552Z"
   },
   {
    "duration": 26,
    "start_time": "2024-04-13T11:27:50.566Z"
   },
   {
    "duration": 19,
    "start_time": "2024-04-13T11:27:50.593Z"
   },
   {
    "duration": 19,
    "start_time": "2024-04-13T11:27:50.613Z"
   },
   {
    "duration": 22,
    "start_time": "2024-04-13T11:27:50.633Z"
   },
   {
    "duration": 360,
    "start_time": "2024-04-13T11:27:50.656Z"
   },
   {
    "duration": 259,
    "start_time": "2024-04-13T11:27:51.017Z"
   },
   {
    "duration": 10,
    "start_time": "2024-04-13T11:27:51.278Z"
   },
   {
    "duration": 215,
    "start_time": "2024-04-13T11:27:51.289Z"
   },
   {
    "duration": 153,
    "start_time": "2024-04-13T11:27:51.505Z"
   },
   {
    "duration": 13,
    "start_time": "2024-04-13T11:27:51.659Z"
   },
   {
    "duration": 168,
    "start_time": "2024-04-13T11:27:51.675Z"
   },
   {
    "duration": 205,
    "start_time": "2024-04-13T11:27:51.845Z"
   },
   {
    "duration": 22,
    "start_time": "2024-04-13T11:27:52.051Z"
   },
   {
    "duration": 5,
    "start_time": "2024-04-13T11:27:52.074Z"
   },
   {
    "duration": 13,
    "start_time": "2024-04-13T11:27:52.080Z"
   },
   {
    "duration": 151,
    "start_time": "2024-04-13T11:27:52.102Z"
   },
   {
    "duration": 4,
    "start_time": "2024-04-13T11:27:52.255Z"
   },
   {
    "duration": 169,
    "start_time": "2024-04-13T11:27:52.260Z"
   },
   {
    "duration": 4,
    "start_time": "2024-04-13T11:27:52.430Z"
   },
   {
    "duration": 193,
    "start_time": "2024-04-13T11:27:52.435Z"
   },
   {
    "duration": 160,
    "start_time": "2024-04-13T11:27:52.629Z"
   },
   {
    "duration": 281,
    "start_time": "2024-04-13T11:27:52.790Z"
   },
   {
    "duration": 158,
    "start_time": "2024-04-13T11:27:53.073Z"
   },
   {
    "duration": 174,
    "start_time": "2024-04-13T11:27:53.233Z"
   },
   {
    "duration": 201,
    "start_time": "2024-04-13T11:27:53.408Z"
   },
   {
    "duration": 162,
    "start_time": "2024-04-13T11:27:53.610Z"
   },
   {
    "duration": 167,
    "start_time": "2024-04-13T11:27:53.774Z"
   },
   {
    "duration": 188,
    "start_time": "2024-04-13T11:27:53.942Z"
   },
   {
    "duration": 3,
    "start_time": "2024-04-13T11:29:01.265Z"
   },
   {
    "duration": 141,
    "start_time": "2024-04-13T11:29:01.269Z"
   },
   {
    "duration": 11,
    "start_time": "2024-04-13T11:29:01.412Z"
   },
   {
    "duration": 39,
    "start_time": "2024-04-13T11:29:01.425Z"
   },
   {
    "duration": 44,
    "start_time": "2024-04-13T11:29:01.466Z"
   },
   {
    "duration": 42,
    "start_time": "2024-04-13T11:29:01.511Z"
   },
   {
    "duration": 43,
    "start_time": "2024-04-13T11:29:01.554Z"
   },
   {
    "duration": 36,
    "start_time": "2024-04-13T11:29:01.598Z"
   },
   {
    "duration": 44,
    "start_time": "2024-04-13T11:29:01.635Z"
   },
   {
    "duration": 28,
    "start_time": "2024-04-13T11:29:01.680Z"
   },
   {
    "duration": 31,
    "start_time": "2024-04-13T11:29:01.711Z"
   },
   {
    "duration": 49,
    "start_time": "2024-04-13T11:29:01.743Z"
   },
   {
    "duration": 5,
    "start_time": "2024-04-13T11:29:01.793Z"
   },
   {
    "duration": 48,
    "start_time": "2024-04-13T11:29:01.799Z"
   },
   {
    "duration": 48,
    "start_time": "2024-04-13T11:29:01.848Z"
   },
   {
    "duration": 32,
    "start_time": "2024-04-13T11:29:01.898Z"
   },
   {
    "duration": 52,
    "start_time": "2024-04-13T11:29:01.932Z"
   },
   {
    "duration": 290,
    "start_time": "2024-04-13T11:29:01.985Z"
   },
   {
    "duration": 253,
    "start_time": "2024-04-13T11:29:02.276Z"
   },
   {
    "duration": 10,
    "start_time": "2024-04-13T11:29:02.530Z"
   },
   {
    "duration": 308,
    "start_time": "2024-04-13T11:29:02.541Z"
   },
   {
    "duration": 156,
    "start_time": "2024-04-13T11:29:02.850Z"
   },
   {
    "duration": 13,
    "start_time": "2024-04-13T11:29:03.007Z"
   },
   {
    "duration": 171,
    "start_time": "2024-04-13T11:29:03.021Z"
   },
   {
    "duration": 202,
    "start_time": "2024-04-13T11:29:03.194Z"
   },
   {
    "duration": 25,
    "start_time": "2024-04-13T11:29:03.397Z"
   },
   {
    "duration": 5,
    "start_time": "2024-04-13T11:29:03.423Z"
   },
   {
    "duration": 8,
    "start_time": "2024-04-13T11:29:03.429Z"
   },
   {
    "duration": 143,
    "start_time": "2024-04-13T11:29:03.439Z"
   },
   {
    "duration": 4,
    "start_time": "2024-04-13T11:29:03.583Z"
   },
   {
    "duration": 146,
    "start_time": "2024-04-13T11:29:03.588Z"
   },
   {
    "duration": 3,
    "start_time": "2024-04-13T11:29:03.736Z"
   },
   {
    "duration": 209,
    "start_time": "2024-04-13T11:29:03.741Z"
   },
   {
    "duration": 167,
    "start_time": "2024-04-13T11:29:03.952Z"
   },
   {
    "duration": 208,
    "start_time": "2024-04-13T11:29:04.121Z"
   },
   {
    "duration": 162,
    "start_time": "2024-04-13T11:29:04.330Z"
   },
   {
    "duration": 165,
    "start_time": "2024-04-13T11:29:04.493Z"
   },
   {
    "duration": 272,
    "start_time": "2024-04-13T11:29:04.660Z"
   },
   {
    "duration": 160,
    "start_time": "2024-04-13T11:29:04.933Z"
   },
   {
    "duration": 168,
    "start_time": "2024-04-13T11:29:05.095Z"
   },
   {
    "duration": 187,
    "start_time": "2024-04-13T11:29:05.264Z"
   },
   {
    "duration": 167,
    "start_time": "2024-04-13T11:29:05.452Z"
   },
   {
    "duration": 3,
    "start_time": "2024-04-13T11:45:09.819Z"
   },
   {
    "duration": 75,
    "start_time": "2024-04-13T11:45:09.823Z"
   },
   {
    "duration": 11,
    "start_time": "2024-04-13T11:45:09.899Z"
   },
   {
    "duration": 11,
    "start_time": "2024-04-13T11:45:09.912Z"
   },
   {
    "duration": 12,
    "start_time": "2024-04-13T11:45:09.925Z"
   },
   {
    "duration": 7,
    "start_time": "2024-04-13T11:45:09.938Z"
   },
   {
    "duration": 26,
    "start_time": "2024-04-13T11:45:09.946Z"
   },
   {
    "duration": 11,
    "start_time": "2024-04-13T11:45:09.973Z"
   },
   {
    "duration": 21,
    "start_time": "2024-04-13T11:45:09.986Z"
   },
   {
    "duration": 5,
    "start_time": "2024-04-13T11:45:10.010Z"
   },
   {
    "duration": 12,
    "start_time": "2024-04-13T11:45:10.016Z"
   },
   {
    "duration": 42,
    "start_time": "2024-04-13T11:45:10.029Z"
   },
   {
    "duration": 14,
    "start_time": "2024-04-13T11:45:10.073Z"
   },
   {
    "duration": 24,
    "start_time": "2024-04-13T11:45:10.088Z"
   },
   {
    "duration": 11,
    "start_time": "2024-04-13T11:45:10.114Z"
   },
   {
    "duration": 11,
    "start_time": "2024-04-13T11:45:10.126Z"
   },
   {
    "duration": 28,
    "start_time": "2024-04-13T11:45:10.138Z"
   },
   {
    "duration": 304,
    "start_time": "2024-04-13T11:45:10.168Z"
   },
   {
    "duration": 260,
    "start_time": "2024-04-13T11:45:10.474Z"
   },
   {
    "duration": 12,
    "start_time": "2024-04-13T11:45:10.736Z"
   },
   {
    "duration": 235,
    "start_time": "2024-04-13T11:45:10.750Z"
   },
   {
    "duration": 172,
    "start_time": "2024-04-13T11:45:10.986Z"
   },
   {
    "duration": 13,
    "start_time": "2024-04-13T11:45:11.160Z"
   },
   {
    "duration": 262,
    "start_time": "2024-04-13T11:45:11.175Z"
   },
   {
    "duration": 197,
    "start_time": "2024-04-13T11:45:11.438Z"
   },
   {
    "duration": 23,
    "start_time": "2024-04-13T11:45:11.636Z"
   },
   {
    "duration": 5,
    "start_time": "2024-04-13T11:45:11.660Z"
   },
   {
    "duration": 4,
    "start_time": "2024-04-13T11:45:11.668Z"
   },
   {
    "duration": 152,
    "start_time": "2024-04-13T11:45:11.673Z"
   },
   {
    "duration": 4,
    "start_time": "2024-04-13T11:45:11.827Z"
   },
   {
    "duration": 145,
    "start_time": "2024-04-13T11:45:11.832Z"
   },
   {
    "duration": 3,
    "start_time": "2024-04-13T11:45:11.979Z"
   },
   {
    "duration": 198,
    "start_time": "2024-04-13T11:45:11.984Z"
   },
   {
    "duration": 165,
    "start_time": "2024-04-13T11:45:12.184Z"
   },
   {
    "duration": 196,
    "start_time": "2024-04-13T11:45:12.351Z"
   },
   {
    "duration": 156,
    "start_time": "2024-04-13T11:45:12.548Z"
   },
   {
    "duration": 162,
    "start_time": "2024-04-13T11:45:12.705Z"
   },
   {
    "duration": 194,
    "start_time": "2024-04-13T11:45:12.868Z"
   },
   {
    "duration": 172,
    "start_time": "2024-04-13T11:45:13.063Z"
   },
   {
    "duration": 269,
    "start_time": "2024-04-13T11:45:13.236Z"
   },
   {
    "duration": 187,
    "start_time": "2024-04-13T11:45:13.507Z"
   },
   {
    "duration": 159,
    "start_time": "2024-04-13T11:45:13.696Z"
   },
   {
    "duration": 2,
    "start_time": "2024-04-13T11:45:32.712Z"
   },
   {
    "duration": 65,
    "start_time": "2024-04-13T11:45:32.716Z"
   },
   {
    "duration": 10,
    "start_time": "2024-04-13T11:45:32.783Z"
   },
   {
    "duration": 18,
    "start_time": "2024-04-13T11:45:32.794Z"
   },
   {
    "duration": 12,
    "start_time": "2024-04-13T11:45:32.813Z"
   },
   {
    "duration": 9,
    "start_time": "2024-04-13T11:45:32.826Z"
   },
   {
    "duration": 8,
    "start_time": "2024-04-13T11:45:32.836Z"
   },
   {
    "duration": 12,
    "start_time": "2024-04-13T11:45:32.845Z"
   },
   {
    "duration": 11,
    "start_time": "2024-04-13T11:45:32.858Z"
   },
   {
    "duration": 3,
    "start_time": "2024-04-13T11:45:32.871Z"
   },
   {
    "duration": 27,
    "start_time": "2024-04-13T11:45:32.875Z"
   },
   {
    "duration": 16,
    "start_time": "2024-04-13T11:45:32.903Z"
   },
   {
    "duration": 4,
    "start_time": "2024-04-13T11:45:32.920Z"
   },
   {
    "duration": 3,
    "start_time": "2024-04-13T11:45:32.927Z"
   },
   {
    "duration": 12,
    "start_time": "2024-04-13T11:45:32.931Z"
   },
   {
    "duration": 10,
    "start_time": "2024-04-13T11:45:32.944Z"
   },
   {
    "duration": 54,
    "start_time": "2024-04-13T11:45:32.955Z"
   },
   {
    "duration": 296,
    "start_time": "2024-04-13T11:45:33.011Z"
   },
   {
    "duration": 268,
    "start_time": "2024-04-13T11:45:33.309Z"
   },
   {
    "duration": 11,
    "start_time": "2024-04-13T11:45:33.578Z"
   },
   {
    "duration": 215,
    "start_time": "2024-04-13T11:45:33.590Z"
   },
   {
    "duration": 155,
    "start_time": "2024-04-13T11:45:33.806Z"
   },
   {
    "duration": 12,
    "start_time": "2024-04-13T11:45:33.962Z"
   },
   {
    "duration": 171,
    "start_time": "2024-04-13T11:45:33.976Z"
   },
   {
    "duration": 190,
    "start_time": "2024-04-13T11:45:34.148Z"
   },
   {
    "duration": 21,
    "start_time": "2024-04-13T11:45:34.339Z"
   },
   {
    "duration": 35,
    "start_time": "2024-04-13T11:45:34.361Z"
   },
   {
    "duration": 5,
    "start_time": "2024-04-13T11:45:34.397Z"
   },
   {
    "duration": 215,
    "start_time": "2024-04-13T11:45:34.403Z"
   },
   {
    "duration": 9,
    "start_time": "2024-04-13T11:45:34.619Z"
   },
   {
    "duration": 155,
    "start_time": "2024-04-13T11:45:34.630Z"
   },
   {
    "duration": 3,
    "start_time": "2024-04-13T11:45:34.786Z"
   },
   {
    "duration": 187,
    "start_time": "2024-04-13T11:45:34.791Z"
   },
   {
    "duration": 161,
    "start_time": "2024-04-13T11:45:34.980Z"
   },
   {
    "duration": 192,
    "start_time": "2024-04-13T11:45:35.142Z"
   },
   {
    "duration": 154,
    "start_time": "2024-04-13T11:45:35.336Z"
   },
   {
    "duration": 162,
    "start_time": "2024-04-13T11:45:35.492Z"
   },
   {
    "duration": 190,
    "start_time": "2024-04-13T11:45:35.655Z"
   },
   {
    "duration": 184,
    "start_time": "2024-04-13T11:45:35.846Z"
   },
   {
    "duration": 169,
    "start_time": "2024-04-13T11:45:36.032Z"
   },
   {
    "duration": 188,
    "start_time": "2024-04-13T11:45:36.205Z"
   },
   {
    "duration": 162,
    "start_time": "2024-04-13T11:45:36.395Z"
   },
   {
    "duration": 3,
    "start_time": "2024-04-13T11:45:44.161Z"
   },
   {
    "duration": 102,
    "start_time": "2024-04-13T11:45:44.165Z"
   },
   {
    "duration": 10,
    "start_time": "2024-04-13T11:45:44.269Z"
   },
   {
    "duration": 63,
    "start_time": "2024-04-13T11:45:44.281Z"
   },
   {
    "duration": 50,
    "start_time": "2024-04-13T11:45:44.345Z"
   },
   {
    "duration": 10,
    "start_time": "2024-04-13T11:45:44.396Z"
   },
   {
    "duration": 8,
    "start_time": "2024-04-13T11:45:44.407Z"
   },
   {
    "duration": 10,
    "start_time": "2024-04-13T11:45:44.416Z"
   },
   {
    "duration": 103,
    "start_time": "2024-04-13T11:45:44.428Z"
   },
   {
    "duration": 4,
    "start_time": "2024-04-13T11:45:44.533Z"
   },
   {
    "duration": 10,
    "start_time": "2024-04-13T11:45:44.538Z"
   },
   {
    "duration": 18,
    "start_time": "2024-04-13T11:45:44.549Z"
   },
   {
    "duration": 3,
    "start_time": "2024-04-13T11:45:44.569Z"
   },
   {
    "duration": 15,
    "start_time": "2024-04-13T11:45:44.573Z"
   },
   {
    "duration": 14,
    "start_time": "2024-04-13T11:45:44.590Z"
   },
   {
    "duration": 22,
    "start_time": "2024-04-13T11:45:44.605Z"
   },
   {
    "duration": 20,
    "start_time": "2024-04-13T11:45:44.628Z"
   },
   {
    "duration": 281,
    "start_time": "2024-04-13T11:45:44.650Z"
   },
   {
    "duration": 271,
    "start_time": "2024-04-13T11:45:44.932Z"
   },
   {
    "duration": 10,
    "start_time": "2024-04-13T11:45:45.205Z"
   },
   {
    "duration": 215,
    "start_time": "2024-04-13T11:45:45.216Z"
   },
   {
    "duration": 157,
    "start_time": "2024-04-13T11:45:45.433Z"
   },
   {
    "duration": 19,
    "start_time": "2024-04-13T11:45:45.592Z"
   },
   {
    "duration": 166,
    "start_time": "2024-04-13T11:45:45.614Z"
   },
   {
    "duration": 195,
    "start_time": "2024-04-13T11:45:45.781Z"
   },
   {
    "duration": 28,
    "start_time": "2024-04-13T11:45:45.977Z"
   },
   {
    "duration": 44,
    "start_time": "2024-04-13T11:45:46.006Z"
   },
   {
    "duration": 20,
    "start_time": "2024-04-13T11:45:46.051Z"
   },
   {
    "duration": 160,
    "start_time": "2024-04-13T11:45:46.072Z"
   },
   {
    "duration": 3,
    "start_time": "2024-04-13T11:45:46.234Z"
   },
   {
    "duration": 154,
    "start_time": "2024-04-13T11:45:46.238Z"
   },
   {
    "duration": 8,
    "start_time": "2024-04-13T11:45:46.393Z"
   },
   {
    "duration": 277,
    "start_time": "2024-04-13T11:45:46.402Z"
   },
   {
    "duration": 157,
    "start_time": "2024-04-13T11:45:46.680Z"
   },
   {
    "duration": 191,
    "start_time": "2024-04-13T11:45:46.838Z"
   },
   {
    "duration": 168,
    "start_time": "2024-04-13T11:45:47.030Z"
   },
   {
    "duration": 164,
    "start_time": "2024-04-13T11:45:47.202Z"
   },
   {
    "duration": 203,
    "start_time": "2024-04-13T11:45:47.367Z"
   },
   {
    "duration": 168,
    "start_time": "2024-04-13T11:45:47.572Z"
   },
   {
    "duration": 169,
    "start_time": "2024-04-13T11:45:47.742Z"
   },
   {
    "duration": 182,
    "start_time": "2024-04-13T11:45:47.912Z"
   },
   {
    "duration": 167,
    "start_time": "2024-04-13T11:45:48.096Z"
   },
   {
    "duration": 961,
    "start_time": "2024-04-13T11:46:44.567Z"
   },
   {
    "duration": 62,
    "start_time": "2024-04-13T11:46:45.530Z"
   },
   {
    "duration": 11,
    "start_time": "2024-04-13T11:46:45.594Z"
   },
   {
    "duration": 19,
    "start_time": "2024-04-13T11:46:45.606Z"
   },
   {
    "duration": 20,
    "start_time": "2024-04-13T11:46:45.626Z"
   },
   {
    "duration": 24,
    "start_time": "2024-04-13T11:46:45.647Z"
   },
   {
    "duration": 71,
    "start_time": "2024-04-13T11:46:45.672Z"
   },
   {
    "duration": 25,
    "start_time": "2024-04-13T11:46:45.744Z"
   },
   {
    "duration": 17,
    "start_time": "2024-04-13T11:46:45.770Z"
   },
   {
    "duration": 6,
    "start_time": "2024-04-13T11:46:45.789Z"
   },
   {
    "duration": 5,
    "start_time": "2024-04-13T11:46:45.796Z"
   },
   {
    "duration": 38,
    "start_time": "2024-04-13T11:46:45.802Z"
   },
   {
    "duration": 3,
    "start_time": "2024-04-13T11:46:45.842Z"
   },
   {
    "duration": 14,
    "start_time": "2024-04-13T11:46:45.846Z"
   },
   {
    "duration": 10,
    "start_time": "2024-04-13T11:46:45.861Z"
   },
   {
    "duration": 9,
    "start_time": "2024-04-13T11:46:45.873Z"
   },
   {
    "duration": 18,
    "start_time": "2024-04-13T11:46:45.883Z"
   },
   {
    "duration": 288,
    "start_time": "2024-04-13T11:46:45.902Z"
   },
   {
    "duration": 255,
    "start_time": "2024-04-13T11:46:46.192Z"
   },
   {
    "duration": 10,
    "start_time": "2024-04-13T11:46:46.449Z"
   },
   {
    "duration": 224,
    "start_time": "2024-04-13T11:46:46.461Z"
   },
   {
    "duration": 192,
    "start_time": "2024-04-13T11:46:46.686Z"
   },
   {
    "duration": 15,
    "start_time": "2024-04-13T11:46:46.879Z"
   },
   {
    "duration": 183,
    "start_time": "2024-04-13T11:46:46.901Z"
   },
   {
    "duration": 284,
    "start_time": "2024-04-13T11:46:47.085Z"
   },
   {
    "duration": 23,
    "start_time": "2024-04-13T11:46:47.370Z"
   },
   {
    "duration": 5,
    "start_time": "2024-04-13T11:46:47.402Z"
   },
   {
    "duration": 15,
    "start_time": "2024-04-13T11:46:47.410Z"
   },
   {
    "duration": 137,
    "start_time": "2024-04-13T11:46:47.426Z"
   },
   {
    "duration": 3,
    "start_time": "2024-04-13T11:46:47.564Z"
   },
   {
    "duration": 147,
    "start_time": "2024-04-13T11:46:47.568Z"
   },
   {
    "duration": 3,
    "start_time": "2024-04-13T11:46:47.717Z"
   },
   {
    "duration": 212,
    "start_time": "2024-04-13T11:46:47.721Z"
   },
   {
    "duration": 172,
    "start_time": "2024-04-13T11:46:47.934Z"
   },
   {
    "duration": 198,
    "start_time": "2024-04-13T11:46:48.107Z"
   },
   {
    "duration": 154,
    "start_time": "2024-04-13T11:46:48.306Z"
   },
   {
    "duration": 162,
    "start_time": "2024-04-13T11:46:48.462Z"
   },
   {
    "duration": 191,
    "start_time": "2024-04-13T11:46:48.626Z"
   },
   {
    "duration": 161,
    "start_time": "2024-04-13T11:46:48.818Z"
   },
   {
    "duration": 170,
    "start_time": "2024-04-13T11:46:48.980Z"
   },
   {
    "duration": 257,
    "start_time": "2024-04-13T11:46:49.152Z"
   },
   {
    "duration": 165,
    "start_time": "2024-04-13T11:46:49.410Z"
   },
   {
    "duration": 103,
    "start_time": "2024-04-13T12:00:09.507Z"
   },
   {
    "duration": 5,
    "start_time": "2024-04-13T12:00:32.177Z"
   },
   {
    "duration": 25,
    "start_time": "2024-04-13T12:01:00.104Z"
   },
   {
    "duration": 2,
    "start_time": "2024-04-13T12:03:56.812Z"
   },
   {
    "duration": 66,
    "start_time": "2024-04-13T12:03:56.816Z"
   },
   {
    "duration": 11,
    "start_time": "2024-04-13T12:03:56.884Z"
   },
   {
    "duration": 31,
    "start_time": "2024-04-13T12:03:56.897Z"
   },
   {
    "duration": 11,
    "start_time": "2024-04-13T12:03:56.929Z"
   },
   {
    "duration": 15,
    "start_time": "2024-04-13T12:03:56.941Z"
   },
   {
    "duration": 6,
    "start_time": "2024-04-13T12:03:56.957Z"
   },
   {
    "duration": 8,
    "start_time": "2024-04-13T12:03:56.964Z"
   },
   {
    "duration": 14,
    "start_time": "2024-04-13T12:03:56.974Z"
   },
   {
    "duration": 3,
    "start_time": "2024-04-13T12:03:56.989Z"
   },
   {
    "duration": 8,
    "start_time": "2024-04-13T12:03:56.993Z"
   },
   {
    "duration": 29,
    "start_time": "2024-04-13T12:03:57.002Z"
   },
   {
    "duration": 4,
    "start_time": "2024-04-13T12:03:57.032Z"
   },
   {
    "duration": 42,
    "start_time": "2024-04-13T12:03:57.037Z"
   },
   {
    "duration": 30,
    "start_time": "2024-04-13T12:03:57.080Z"
   },
   {
    "duration": 11,
    "start_time": "2024-04-13T12:03:57.112Z"
   },
   {
    "duration": 18,
    "start_time": "2024-04-13T12:03:57.124Z"
   },
   {
    "duration": 284,
    "start_time": "2024-04-13T12:03:57.144Z"
   },
   {
    "duration": 248,
    "start_time": "2024-04-13T12:03:57.429Z"
   },
   {
    "duration": 9,
    "start_time": "2024-04-13T12:03:57.678Z"
   },
   {
    "duration": 231,
    "start_time": "2024-04-13T12:03:57.688Z"
   },
   {
    "duration": 153,
    "start_time": "2024-04-13T12:03:57.920Z"
   },
   {
    "duration": 13,
    "start_time": "2024-04-13T12:03:58.074Z"
   },
   {
    "duration": 167,
    "start_time": "2024-04-13T12:03:58.089Z"
   },
   {
    "duration": 200,
    "start_time": "2024-04-13T12:03:58.257Z"
   },
   {
    "duration": 21,
    "start_time": "2024-04-13T12:03:58.459Z"
   },
   {
    "duration": 4,
    "start_time": "2024-04-13T12:03:58.482Z"
   },
   {
    "duration": 4,
    "start_time": "2024-04-13T12:03:58.501Z"
   },
   {
    "duration": 196,
    "start_time": "2024-04-13T12:03:58.506Z"
   },
   {
    "duration": 3,
    "start_time": "2024-04-13T12:03:58.704Z"
   },
   {
    "duration": 140,
    "start_time": "2024-04-13T12:03:58.708Z"
   },
   {
    "duration": 3,
    "start_time": "2024-04-13T12:03:58.850Z"
   },
   {
    "duration": 189,
    "start_time": "2024-04-13T12:03:58.855Z"
   },
   {
    "duration": 151,
    "start_time": "2024-04-13T12:03:59.045Z"
   },
   {
    "duration": 181,
    "start_time": "2024-04-13T12:03:59.207Z"
   },
   {
    "duration": 156,
    "start_time": "2024-04-13T12:03:59.390Z"
   },
   {
    "duration": 172,
    "start_time": "2024-04-13T12:03:59.547Z"
   },
   {
    "duration": 190,
    "start_time": "2024-04-13T12:03:59.720Z"
   },
   {
    "duration": 169,
    "start_time": "2024-04-13T12:03:59.911Z"
   },
   {
    "duration": 178,
    "start_time": "2024-04-13T12:04:00.081Z"
   },
   {
    "duration": 206,
    "start_time": "2024-04-13T12:04:00.260Z"
   },
   {
    "duration": 234,
    "start_time": "2024-04-13T12:04:00.467Z"
   },
   {
    "duration": 27,
    "start_time": "2024-04-13T12:04:00.702Z"
   },
   {
    "duration": 38,
    "start_time": "2024-04-13T12:04:00.731Z"
   },
   {
    "duration": 3,
    "start_time": "2024-04-13T12:04:17.442Z"
   },
   {
    "duration": 65,
    "start_time": "2024-04-13T12:04:17.446Z"
   },
   {
    "duration": 10,
    "start_time": "2024-04-13T12:04:17.513Z"
   },
   {
    "duration": 36,
    "start_time": "2024-04-13T12:04:17.524Z"
   },
   {
    "duration": 38,
    "start_time": "2024-04-13T12:04:17.562Z"
   },
   {
    "duration": 8,
    "start_time": "2024-04-13T12:04:17.601Z"
   },
   {
    "duration": 29,
    "start_time": "2024-04-13T12:04:17.610Z"
   },
   {
    "duration": 30,
    "start_time": "2024-04-13T12:04:17.640Z"
   },
   {
    "duration": 16,
    "start_time": "2024-04-13T12:04:17.671Z"
   },
   {
    "duration": 4,
    "start_time": "2024-04-13T12:04:17.688Z"
   },
   {
    "duration": 8,
    "start_time": "2024-04-13T12:04:17.694Z"
   },
   {
    "duration": 34,
    "start_time": "2024-04-13T12:04:17.703Z"
   },
   {
    "duration": 8,
    "start_time": "2024-04-13T12:04:17.738Z"
   },
   {
    "duration": 24,
    "start_time": "2024-04-13T12:04:17.747Z"
   },
   {
    "duration": 12,
    "start_time": "2024-04-13T12:04:17.772Z"
   },
   {
    "duration": 10,
    "start_time": "2024-04-13T12:04:17.785Z"
   },
   {
    "duration": 20,
    "start_time": "2024-04-13T12:04:17.796Z"
   },
   {
    "duration": 276,
    "start_time": "2024-04-13T12:04:17.817Z"
   },
   {
    "duration": 250,
    "start_time": "2024-04-13T12:04:18.094Z"
   },
   {
    "duration": 11,
    "start_time": "2024-04-13T12:04:18.346Z"
   },
   {
    "duration": 279,
    "start_time": "2024-04-13T12:04:18.359Z"
   },
   {
    "duration": 155,
    "start_time": "2024-04-13T12:04:18.639Z"
   },
   {
    "duration": 13,
    "start_time": "2024-04-13T12:04:18.801Z"
   },
   {
    "duration": 172,
    "start_time": "2024-04-13T12:04:18.816Z"
   },
   {
    "duration": 195,
    "start_time": "2024-04-13T12:04:18.990Z"
   },
   {
    "duration": 35,
    "start_time": "2024-04-13T12:04:19.186Z"
   },
   {
    "duration": 9,
    "start_time": "2024-04-13T12:04:19.223Z"
   },
   {
    "duration": 10,
    "start_time": "2024-04-13T12:04:19.234Z"
   },
   {
    "duration": 154,
    "start_time": "2024-04-13T12:04:19.247Z"
   },
   {
    "duration": 4,
    "start_time": "2024-04-13T12:04:19.402Z"
   },
   {
    "duration": 239,
    "start_time": "2024-04-13T12:04:19.407Z"
   },
   {
    "duration": 3,
    "start_time": "2024-04-13T12:04:19.648Z"
   },
   {
    "duration": 197,
    "start_time": "2024-04-13T12:04:19.652Z"
   },
   {
    "duration": 170,
    "start_time": "2024-04-13T12:04:19.850Z"
   },
   {
    "duration": 188,
    "start_time": "2024-04-13T12:04:20.022Z"
   },
   {
    "duration": 180,
    "start_time": "2024-04-13T12:04:20.212Z"
   },
   {
    "duration": 167,
    "start_time": "2024-04-13T12:04:20.394Z"
   },
   {
    "duration": 212,
    "start_time": "2024-04-13T12:04:20.563Z"
   },
   {
    "duration": 161,
    "start_time": "2024-04-13T12:04:20.776Z"
   },
   {
    "duration": 168,
    "start_time": "2024-04-13T12:04:20.938Z"
   },
   {
    "duration": 188,
    "start_time": "2024-04-13T12:04:21.108Z"
   },
   {
    "duration": 165,
    "start_time": "2024-04-13T12:04:21.297Z"
   },
   {
    "duration": 23,
    "start_time": "2024-04-13T12:04:21.463Z"
   },
   {
    "duration": 28,
    "start_time": "2024-04-13T12:04:21.487Z"
   },
   {
    "duration": 3,
    "start_time": "2024-04-13T12:08:23.879Z"
   },
   {
    "duration": 63,
    "start_time": "2024-04-13T12:08:23.883Z"
   },
   {
    "duration": 10,
    "start_time": "2024-04-13T12:08:23.947Z"
   },
   {
    "duration": 13,
    "start_time": "2024-04-13T12:08:23.959Z"
   },
   {
    "duration": 25,
    "start_time": "2024-04-13T12:08:23.974Z"
   },
   {
    "duration": 8,
    "start_time": "2024-04-13T12:08:24.001Z"
   },
   {
    "duration": 7,
    "start_time": "2024-04-13T12:08:24.010Z"
   },
   {
    "duration": 9,
    "start_time": "2024-04-13T12:08:24.019Z"
   },
   {
    "duration": 12,
    "start_time": "2024-04-13T12:08:24.030Z"
   },
   {
    "duration": 4,
    "start_time": "2024-04-13T12:08:24.044Z"
   },
   {
    "duration": 99,
    "start_time": "2024-04-13T12:08:24.051Z"
   },
   {
    "duration": 26,
    "start_time": "2024-04-13T12:08:24.152Z"
   },
   {
    "duration": 5,
    "start_time": "2024-04-13T12:08:24.180Z"
   },
   {
    "duration": 20,
    "start_time": "2024-04-13T12:08:24.186Z"
   },
   {
    "duration": 25,
    "start_time": "2024-04-13T12:08:24.207Z"
   },
   {
    "duration": 15,
    "start_time": "2024-04-13T12:08:24.233Z"
   },
   {
    "duration": 25,
    "start_time": "2024-04-13T12:08:24.249Z"
   },
   {
    "duration": 288,
    "start_time": "2024-04-13T12:08:24.276Z"
   },
   {
    "duration": 258,
    "start_time": "2024-04-13T12:08:24.565Z"
   },
   {
    "duration": 11,
    "start_time": "2024-04-13T12:08:24.825Z"
   },
   {
    "duration": 224,
    "start_time": "2024-04-13T12:08:24.838Z"
   },
   {
    "duration": 165,
    "start_time": "2024-04-13T12:08:25.064Z"
   },
   {
    "duration": 13,
    "start_time": "2024-04-13T12:08:25.230Z"
   },
   {
    "duration": 172,
    "start_time": "2024-04-13T12:08:25.244Z"
   },
   {
    "duration": 195,
    "start_time": "2024-04-13T12:08:25.417Z"
   },
   {
    "duration": 22,
    "start_time": "2024-04-13T12:08:25.613Z"
   },
   {
    "duration": 5,
    "start_time": "2024-04-13T12:08:25.636Z"
   },
   {
    "duration": 16,
    "start_time": "2024-04-13T12:08:25.642Z"
   },
   {
    "duration": 148,
    "start_time": "2024-04-13T12:08:25.660Z"
   },
   {
    "duration": 3,
    "start_time": "2024-04-13T12:08:25.809Z"
   },
   {
    "duration": 146,
    "start_time": "2024-04-13T12:08:25.813Z"
   },
   {
    "duration": 3,
    "start_time": "2024-04-13T12:08:25.960Z"
   },
   {
    "duration": 262,
    "start_time": "2024-04-13T12:08:25.964Z"
   },
   {
    "duration": 156,
    "start_time": "2024-04-13T12:08:26.228Z"
   },
   {
    "duration": 187,
    "start_time": "2024-04-13T12:08:26.385Z"
   },
   {
    "duration": 159,
    "start_time": "2024-04-13T12:08:26.573Z"
   },
   {
    "duration": 161,
    "start_time": "2024-04-13T12:08:26.733Z"
   },
   {
    "duration": 190,
    "start_time": "2024-04-13T12:08:26.896Z"
   },
   {
    "duration": 174,
    "start_time": "2024-04-13T12:08:27.087Z"
   },
   {
    "duration": 167,
    "start_time": "2024-04-13T12:08:27.262Z"
   },
   {
    "duration": 180,
    "start_time": "2024-04-13T12:08:27.431Z"
   },
   {
    "duration": 163,
    "start_time": "2024-04-13T12:08:27.612Z"
   },
   {
    "duration": 33,
    "start_time": "2024-04-13T12:08:27.776Z"
   },
   {
    "duration": 7,
    "start_time": "2024-04-13T12:08:27.810Z"
   },
   {
    "duration": 2,
    "start_time": "2024-04-13T12:11:52.913Z"
   },
   {
    "duration": 63,
    "start_time": "2024-04-13T12:11:52.917Z"
   },
   {
    "duration": 11,
    "start_time": "2024-04-13T12:11:52.982Z"
   },
   {
    "duration": 17,
    "start_time": "2024-04-13T12:11:52.995Z"
   },
   {
    "duration": 13,
    "start_time": "2024-04-13T12:11:53.014Z"
   },
   {
    "duration": 8,
    "start_time": "2024-04-13T12:11:53.028Z"
   },
   {
    "duration": 8,
    "start_time": "2024-04-13T12:11:53.038Z"
   },
   {
    "duration": 25,
    "start_time": "2024-04-13T12:11:53.048Z"
   },
   {
    "duration": 31,
    "start_time": "2024-04-13T12:11:53.074Z"
   },
   {
    "duration": 5,
    "start_time": "2024-04-13T12:11:53.107Z"
   },
   {
    "duration": 7,
    "start_time": "2024-04-13T12:11:53.113Z"
   },
   {
    "duration": 19,
    "start_time": "2024-04-13T12:11:53.121Z"
   },
   {
    "duration": 5,
    "start_time": "2024-04-13T12:11:53.141Z"
   },
   {
    "duration": 9,
    "start_time": "2024-04-13T12:11:53.148Z"
   },
   {
    "duration": 12,
    "start_time": "2024-04-13T12:11:53.159Z"
   },
   {
    "duration": 15,
    "start_time": "2024-04-13T12:11:53.172Z"
   },
   {
    "duration": 39,
    "start_time": "2024-04-13T12:11:53.188Z"
   },
   {
    "duration": 351,
    "start_time": "2024-04-13T12:11:53.229Z"
   },
   {
    "duration": 251,
    "start_time": "2024-04-13T12:11:53.581Z"
   },
   {
    "duration": 14,
    "start_time": "2024-04-13T12:11:53.833Z"
   },
   {
    "duration": 219,
    "start_time": "2024-04-13T12:11:53.849Z"
   },
   {
    "duration": 155,
    "start_time": "2024-04-13T12:11:54.069Z"
   },
   {
    "duration": 14,
    "start_time": "2024-04-13T12:11:54.225Z"
   },
   {
    "duration": 261,
    "start_time": "2024-04-13T12:11:54.240Z"
   },
   {
    "duration": 204,
    "start_time": "2024-04-13T12:11:54.503Z"
   },
   {
    "duration": 22,
    "start_time": "2024-04-13T12:11:54.709Z"
   },
   {
    "duration": 5,
    "start_time": "2024-04-13T12:11:54.732Z"
   },
   {
    "duration": 26,
    "start_time": "2024-04-13T12:11:54.739Z"
   },
   {
    "duration": 152,
    "start_time": "2024-04-13T12:11:54.767Z"
   },
   {
    "duration": 4,
    "start_time": "2024-04-13T12:11:54.921Z"
   },
   {
    "duration": 157,
    "start_time": "2024-04-13T12:11:54.927Z"
   },
   {
    "duration": 4,
    "start_time": "2024-04-13T12:11:55.086Z"
   },
   {
    "duration": 197,
    "start_time": "2024-04-13T12:11:55.091Z"
   },
   {
    "duration": 222,
    "start_time": "2024-04-13T12:11:55.289Z"
   },
   {
    "duration": 203,
    "start_time": "2024-04-13T12:11:55.513Z"
   },
   {
    "duration": 181,
    "start_time": "2024-04-13T12:11:55.717Z"
   },
   {
    "duration": 158,
    "start_time": "2024-04-13T12:11:55.901Z"
   },
   {
    "duration": 191,
    "start_time": "2024-04-13T12:11:56.060Z"
   },
   {
    "duration": 167,
    "start_time": "2024-04-13T12:11:56.253Z"
   },
   {
    "duration": 170,
    "start_time": "2024-04-13T12:11:56.422Z"
   },
   {
    "duration": 186,
    "start_time": "2024-04-13T12:11:56.595Z"
   },
   {
    "duration": 176,
    "start_time": "2024-04-13T12:11:56.783Z"
   },
   {
    "duration": 23,
    "start_time": "2024-04-13T12:11:56.960Z"
   },
   {
    "duration": 4,
    "start_time": "2024-04-13T12:11:56.984Z"
   },
   {
    "duration": 23,
    "start_time": "2024-04-13T12:14:04.562Z"
   },
   {
    "duration": 3,
    "start_time": "2024-04-13T12:17:11.354Z"
   },
   {
    "duration": 221,
    "start_time": "2024-04-13T12:17:11.358Z"
   },
   {
    "duration": 89,
    "start_time": "2024-04-13T12:17:11.581Z"
   },
   {
    "duration": 97,
    "start_time": "2024-04-13T12:17:11.672Z"
   },
   {
    "duration": 24,
    "start_time": "2024-04-13T12:17:11.771Z"
   },
   {
    "duration": 9,
    "start_time": "2024-04-13T12:17:11.796Z"
   },
   {
    "duration": 24,
    "start_time": "2024-04-13T12:17:11.806Z"
   },
   {
    "duration": 19,
    "start_time": "2024-04-13T12:17:11.832Z"
   },
   {
    "duration": 20,
    "start_time": "2024-04-13T12:17:11.853Z"
   },
   {
    "duration": 5,
    "start_time": "2024-04-13T12:17:11.875Z"
   },
   {
    "duration": 33,
    "start_time": "2024-04-13T12:17:11.882Z"
   },
   {
    "duration": 25,
    "start_time": "2024-04-13T12:17:11.917Z"
   },
   {
    "duration": 24,
    "start_time": "2024-04-13T12:17:11.944Z"
   },
   {
    "duration": 28,
    "start_time": "2024-04-13T12:17:11.971Z"
   },
   {
    "duration": 40,
    "start_time": "2024-04-13T12:17:12.000Z"
   },
   {
    "duration": 55,
    "start_time": "2024-04-13T12:17:12.042Z"
   },
   {
    "duration": 29,
    "start_time": "2024-04-13T12:17:12.099Z"
   },
   {
    "duration": 275,
    "start_time": "2024-04-13T12:17:12.130Z"
   },
   {
    "duration": 325,
    "start_time": "2024-04-13T12:17:12.407Z"
   },
   {
    "duration": 11,
    "start_time": "2024-04-13T12:17:12.734Z"
   },
   {
    "duration": 229,
    "start_time": "2024-04-13T12:17:12.746Z"
   },
   {
    "duration": 164,
    "start_time": "2024-04-13T12:17:12.977Z"
   },
   {
    "duration": 13,
    "start_time": "2024-04-13T12:17:13.142Z"
   },
   {
    "duration": 179,
    "start_time": "2024-04-13T12:17:13.156Z"
   },
   {
    "duration": 194,
    "start_time": "2024-04-13T12:17:13.336Z"
   },
   {
    "duration": 22,
    "start_time": "2024-04-13T12:17:13.532Z"
   },
   {
    "duration": 6,
    "start_time": "2024-04-13T12:17:13.555Z"
   },
   {
    "duration": 20,
    "start_time": "2024-04-13T12:17:13.562Z"
   },
   {
    "duration": 144,
    "start_time": "2024-04-13T12:17:13.584Z"
   },
   {
    "duration": 4,
    "start_time": "2024-04-13T12:17:13.729Z"
   },
   {
    "duration": 148,
    "start_time": "2024-04-13T12:17:13.734Z"
   },
   {
    "duration": 3,
    "start_time": "2024-04-13T12:17:13.884Z"
   },
   {
    "duration": 193,
    "start_time": "2024-04-13T12:17:13.889Z"
   },
   {
    "duration": 159,
    "start_time": "2024-04-13T12:17:14.084Z"
   },
   {
    "duration": 256,
    "start_time": "2024-04-13T12:17:14.244Z"
   },
   {
    "duration": 154,
    "start_time": "2024-04-13T12:17:14.503Z"
   },
   {
    "duration": 174,
    "start_time": "2024-04-13T12:17:14.658Z"
   },
   {
    "duration": 189,
    "start_time": "2024-04-13T12:17:14.834Z"
   },
   {
    "duration": 168,
    "start_time": "2024-04-13T12:17:15.025Z"
   },
   {
    "duration": 164,
    "start_time": "2024-04-13T12:17:15.194Z"
   },
   {
    "duration": 185,
    "start_time": "2024-04-13T12:17:15.361Z"
   },
   {
    "duration": 173,
    "start_time": "2024-04-13T12:17:15.548Z"
   },
   {
    "duration": 24,
    "start_time": "2024-04-13T12:17:15.722Z"
   },
   {
    "duration": 13,
    "start_time": "2024-04-13T12:17:15.747Z"
   },
   {
    "duration": 32,
    "start_time": "2024-04-13T12:17:15.761Z"
   },
   {
    "duration": 4,
    "start_time": "2024-04-13T12:17:15.795Z"
   },
   {
    "duration": 2,
    "start_time": "2024-04-13T12:19:53.109Z"
   },
   {
    "duration": 73,
    "start_time": "2024-04-13T12:19:53.112Z"
   },
   {
    "duration": 14,
    "start_time": "2024-04-13T12:19:53.187Z"
   },
   {
    "duration": 29,
    "start_time": "2024-04-13T12:19:53.203Z"
   },
   {
    "duration": 11,
    "start_time": "2024-04-13T12:19:53.234Z"
   },
   {
    "duration": 32,
    "start_time": "2024-04-13T12:19:53.246Z"
   },
   {
    "duration": 21,
    "start_time": "2024-04-13T12:19:53.279Z"
   },
   {
    "duration": 17,
    "start_time": "2024-04-13T12:19:53.301Z"
   },
   {
    "duration": 28,
    "start_time": "2024-04-13T12:19:53.319Z"
   },
   {
    "duration": 9,
    "start_time": "2024-04-13T12:19:53.348Z"
   },
   {
    "duration": 8,
    "start_time": "2024-04-13T12:19:53.359Z"
   },
   {
    "duration": 27,
    "start_time": "2024-04-13T12:19:53.368Z"
   },
   {
    "duration": 4,
    "start_time": "2024-04-13T12:19:53.396Z"
   },
   {
    "duration": 14,
    "start_time": "2024-04-13T12:19:53.401Z"
   },
   {
    "duration": 20,
    "start_time": "2024-04-13T12:19:53.416Z"
   },
   {
    "duration": 28,
    "start_time": "2024-04-13T12:19:53.438Z"
   },
   {
    "duration": 43,
    "start_time": "2024-04-13T12:19:53.468Z"
   },
   {
    "duration": 276,
    "start_time": "2024-04-13T12:19:53.512Z"
   },
   {
    "duration": 262,
    "start_time": "2024-04-13T12:19:53.789Z"
   },
   {
    "duration": 11,
    "start_time": "2024-04-13T12:19:54.052Z"
   },
   {
    "duration": 278,
    "start_time": "2024-04-13T12:19:54.065Z"
   },
   {
    "duration": 153,
    "start_time": "2024-04-13T12:19:54.344Z"
   },
   {
    "duration": 14,
    "start_time": "2024-04-13T12:19:54.501Z"
   },
   {
    "duration": 175,
    "start_time": "2024-04-13T12:19:54.516Z"
   },
   {
    "duration": 189,
    "start_time": "2024-04-13T12:19:54.692Z"
   },
   {
    "duration": 28,
    "start_time": "2024-04-13T12:19:54.882Z"
   },
   {
    "duration": 9,
    "start_time": "2024-04-13T12:19:54.912Z"
   },
   {
    "duration": 9,
    "start_time": "2024-04-13T12:19:54.923Z"
   },
   {
    "duration": 147,
    "start_time": "2024-04-13T12:19:54.935Z"
   },
   {
    "duration": 4,
    "start_time": "2024-04-13T12:19:55.083Z"
   },
   {
    "duration": 172,
    "start_time": "2024-04-13T12:19:55.101Z"
   },
   {
    "duration": 3,
    "start_time": "2024-04-13T12:19:55.275Z"
   },
   {
    "duration": 200,
    "start_time": "2024-04-13T12:19:55.280Z"
   },
   {
    "duration": 163,
    "start_time": "2024-04-13T12:19:55.482Z"
   },
   {
    "duration": 192,
    "start_time": "2024-04-13T12:19:55.647Z"
   },
   {
    "duration": 162,
    "start_time": "2024-04-13T12:19:55.841Z"
   },
   {
    "duration": 230,
    "start_time": "2024-04-13T12:19:56.005Z"
   },
   {
    "duration": 191,
    "start_time": "2024-04-13T12:19:56.237Z"
   },
   {
    "duration": 180,
    "start_time": "2024-04-13T12:19:56.429Z"
   },
   {
    "duration": 166,
    "start_time": "2024-04-13T12:19:56.611Z"
   },
   {
    "duration": 183,
    "start_time": "2024-04-13T12:19:56.779Z"
   },
   {
    "duration": 162,
    "start_time": "2024-04-13T12:19:56.964Z"
   },
   {
    "duration": 24,
    "start_time": "2024-04-13T12:19:57.128Z"
   },
   {
    "duration": 5,
    "start_time": "2024-04-13T12:19:57.153Z"
   },
   {
    "duration": 42,
    "start_time": "2024-04-13T12:19:57.159Z"
   },
   {
    "duration": 4,
    "start_time": "2024-04-13T12:19:57.203Z"
   },
   {
    "duration": 48,
    "start_time": "2024-04-13T12:19:57.209Z"
   },
   {
    "duration": 2,
    "start_time": "2024-04-13T12:22:18.631Z"
   },
   {
    "duration": 66,
    "start_time": "2024-04-13T12:22:18.634Z"
   },
   {
    "duration": 10,
    "start_time": "2024-04-13T12:22:18.702Z"
   },
   {
    "duration": 16,
    "start_time": "2024-04-13T12:22:18.714Z"
   },
   {
    "duration": 12,
    "start_time": "2024-04-13T12:22:18.732Z"
   },
   {
    "duration": 7,
    "start_time": "2024-04-13T12:22:18.746Z"
   },
   {
    "duration": 12,
    "start_time": "2024-04-13T12:22:18.755Z"
   },
   {
    "duration": 22,
    "start_time": "2024-04-13T12:22:18.768Z"
   },
   {
    "duration": 25,
    "start_time": "2024-04-13T12:22:18.791Z"
   },
   {
    "duration": 5,
    "start_time": "2024-04-13T12:22:18.817Z"
   },
   {
    "duration": 4,
    "start_time": "2024-04-13T12:22:18.824Z"
   },
   {
    "duration": 18,
    "start_time": "2024-04-13T12:22:18.829Z"
   },
   {
    "duration": 4,
    "start_time": "2024-04-13T12:22:18.848Z"
   },
   {
    "duration": 34,
    "start_time": "2024-04-13T12:22:18.853Z"
   },
   {
    "duration": 17,
    "start_time": "2024-04-13T12:22:18.888Z"
   },
   {
    "duration": 11,
    "start_time": "2024-04-13T12:22:18.906Z"
   },
   {
    "duration": 19,
    "start_time": "2024-04-13T12:22:18.918Z"
   },
   {
    "duration": 298,
    "start_time": "2024-04-13T12:22:18.938Z"
   },
   {
    "duration": 255,
    "start_time": "2024-04-13T12:22:19.237Z"
   },
   {
    "duration": 14,
    "start_time": "2024-04-13T12:22:19.493Z"
   },
   {
    "duration": 225,
    "start_time": "2024-04-13T12:22:19.508Z"
   },
   {
    "duration": 228,
    "start_time": "2024-04-13T12:22:19.734Z"
   },
   {
    "duration": 14,
    "start_time": "2024-04-13T12:22:19.963Z"
   },
   {
    "duration": 188,
    "start_time": "2024-04-13T12:22:19.979Z"
   },
   {
    "duration": 216,
    "start_time": "2024-04-13T12:22:20.168Z"
   },
   {
    "duration": 33,
    "start_time": "2024-04-13T12:22:20.385Z"
   },
   {
    "duration": 5,
    "start_time": "2024-04-13T12:22:20.420Z"
   },
   {
    "duration": 21,
    "start_time": "2024-04-13T12:22:20.427Z"
   },
   {
    "duration": 144,
    "start_time": "2024-04-13T12:22:20.452Z"
   },
   {
    "duration": 5,
    "start_time": "2024-04-13T12:22:20.598Z"
   },
   {
    "duration": 157,
    "start_time": "2024-04-13T12:22:20.604Z"
   },
   {
    "duration": 3,
    "start_time": "2024-04-13T12:22:20.763Z"
   },
   {
    "duration": 189,
    "start_time": "2024-04-13T12:22:20.768Z"
   },
   {
    "duration": 159,
    "start_time": "2024-04-13T12:22:20.959Z"
   },
   {
    "duration": 200,
    "start_time": "2024-04-13T12:22:21.119Z"
   },
   {
    "duration": 165,
    "start_time": "2024-04-13T12:22:21.321Z"
   },
   {
    "duration": 170,
    "start_time": "2024-04-13T12:22:21.487Z"
   },
   {
    "duration": 259,
    "start_time": "2024-04-13T12:22:21.659Z"
   },
   {
    "duration": 168,
    "start_time": "2024-04-13T12:22:21.919Z"
   },
   {
    "duration": 171,
    "start_time": "2024-04-13T12:22:22.088Z"
   },
   {
    "duration": 178,
    "start_time": "2024-04-13T12:22:22.260Z"
   },
   {
    "duration": 164,
    "start_time": "2024-04-13T12:22:22.440Z"
   },
   {
    "duration": 23,
    "start_time": "2024-04-13T12:22:22.606Z"
   },
   {
    "duration": 4,
    "start_time": "2024-04-13T12:22:22.630Z"
   },
   {
    "duration": 27,
    "start_time": "2024-04-13T12:22:22.635Z"
   },
   {
    "duration": 10,
    "start_time": "2024-04-13T12:22:22.663Z"
   },
   {
    "duration": 6,
    "start_time": "2024-04-13T12:22:22.674Z"
   },
   {
    "duration": 2,
    "start_time": "2024-04-13T12:22:29.545Z"
   },
   {
    "duration": 73,
    "start_time": "2024-04-13T12:22:29.549Z"
   },
   {
    "duration": 11,
    "start_time": "2024-04-13T12:22:29.624Z"
   },
   {
    "duration": 22,
    "start_time": "2024-04-13T12:22:29.636Z"
   },
   {
    "duration": 12,
    "start_time": "2024-04-13T12:22:29.659Z"
   },
   {
    "duration": 19,
    "start_time": "2024-04-13T12:22:29.672Z"
   },
   {
    "duration": 8,
    "start_time": "2024-04-13T12:22:29.693Z"
   },
   {
    "duration": 7,
    "start_time": "2024-04-13T12:22:29.702Z"
   },
   {
    "duration": 14,
    "start_time": "2024-04-13T12:22:29.710Z"
   },
   {
    "duration": 4,
    "start_time": "2024-04-13T12:22:29.725Z"
   },
   {
    "duration": 14,
    "start_time": "2024-04-13T12:22:29.730Z"
   },
   {
    "duration": 15,
    "start_time": "2024-04-13T12:22:29.745Z"
   },
   {
    "duration": 3,
    "start_time": "2024-04-13T12:22:29.762Z"
   },
   {
    "duration": 16,
    "start_time": "2024-04-13T12:22:29.767Z"
   },
   {
    "duration": 13,
    "start_time": "2024-04-13T12:22:29.784Z"
   },
   {
    "duration": 12,
    "start_time": "2024-04-13T12:22:29.798Z"
   },
   {
    "duration": 20,
    "start_time": "2024-04-13T12:22:29.811Z"
   },
   {
    "duration": 286,
    "start_time": "2024-04-13T12:22:29.833Z"
   },
   {
    "duration": 296,
    "start_time": "2024-04-13T12:22:30.120Z"
   },
   {
    "duration": 10,
    "start_time": "2024-04-13T12:22:30.418Z"
   },
   {
    "duration": 276,
    "start_time": "2024-04-13T12:22:30.430Z"
   },
   {
    "duration": 169,
    "start_time": "2024-04-13T12:22:30.707Z"
   },
   {
    "duration": 13,
    "start_time": "2024-04-13T12:22:30.878Z"
   },
   {
    "duration": 263,
    "start_time": "2024-04-13T12:22:30.893Z"
   },
   {
    "duration": 210,
    "start_time": "2024-04-13T12:22:31.157Z"
   },
   {
    "duration": 34,
    "start_time": "2024-04-13T12:22:31.368Z"
   },
   {
    "duration": 16,
    "start_time": "2024-04-13T12:22:31.404Z"
   },
   {
    "duration": 24,
    "start_time": "2024-04-13T12:22:31.421Z"
   },
   {
    "duration": 177,
    "start_time": "2024-04-13T12:22:31.447Z"
   },
   {
    "duration": 4,
    "start_time": "2024-04-13T12:22:31.625Z"
   },
   {
    "duration": 173,
    "start_time": "2024-04-13T12:22:31.630Z"
   },
   {
    "duration": 4,
    "start_time": "2024-04-13T12:22:31.804Z"
   },
   {
    "duration": 205,
    "start_time": "2024-04-13T12:22:31.810Z"
   },
   {
    "duration": 165,
    "start_time": "2024-04-13T12:22:32.016Z"
   },
   {
    "duration": 199,
    "start_time": "2024-04-13T12:22:32.182Z"
   },
   {
    "duration": 160,
    "start_time": "2024-04-13T12:22:32.382Z"
   },
   {
    "duration": 172,
    "start_time": "2024-04-13T12:22:32.546Z"
   },
   {
    "duration": 199,
    "start_time": "2024-04-13T12:22:32.719Z"
   },
   {
    "duration": 227,
    "start_time": "2024-04-13T12:22:32.920Z"
   },
   {
    "duration": 173,
    "start_time": "2024-04-13T12:22:33.149Z"
   },
   {
    "duration": 188,
    "start_time": "2024-04-13T12:22:33.324Z"
   },
   {
    "duration": 179,
    "start_time": "2024-04-13T12:22:33.514Z"
   },
   {
    "duration": 26,
    "start_time": "2024-04-13T12:22:33.694Z"
   },
   {
    "duration": 5,
    "start_time": "2024-04-13T12:22:33.721Z"
   },
   {
    "duration": 29,
    "start_time": "2024-04-13T12:22:33.727Z"
   },
   {
    "duration": 4,
    "start_time": "2024-04-13T12:22:33.757Z"
   },
   {
    "duration": 7,
    "start_time": "2024-04-13T12:22:33.762Z"
   },
   {
    "duration": 975,
    "start_time": "2024-04-13T12:24:03.511Z"
   },
   {
    "duration": 61,
    "start_time": "2024-04-13T12:24:04.488Z"
   },
   {
    "duration": 11,
    "start_time": "2024-04-13T12:24:04.550Z"
   },
   {
    "duration": 12,
    "start_time": "2024-04-13T12:24:04.562Z"
   },
   {
    "duration": 12,
    "start_time": "2024-04-13T12:24:04.575Z"
   },
   {
    "duration": 14,
    "start_time": "2024-04-13T12:24:04.588Z"
   },
   {
    "duration": 8,
    "start_time": "2024-04-13T12:24:04.603Z"
   },
   {
    "duration": 9,
    "start_time": "2024-04-13T12:24:04.612Z"
   },
   {
    "duration": 12,
    "start_time": "2024-04-13T12:24:04.623Z"
   },
   {
    "duration": 5,
    "start_time": "2024-04-13T12:24:04.638Z"
   },
   {
    "duration": 5,
    "start_time": "2024-04-13T12:24:04.644Z"
   },
   {
    "duration": 15,
    "start_time": "2024-04-13T12:24:04.651Z"
   },
   {
    "duration": 35,
    "start_time": "2024-04-13T12:24:04.667Z"
   },
   {
    "duration": 8,
    "start_time": "2024-04-13T12:24:04.703Z"
   },
   {
    "duration": 46,
    "start_time": "2024-04-13T12:24:04.713Z"
   },
   {
    "duration": 11,
    "start_time": "2024-04-13T12:24:04.760Z"
   },
   {
    "duration": 21,
    "start_time": "2024-04-13T12:24:04.772Z"
   },
   {
    "duration": 290,
    "start_time": "2024-04-13T12:24:04.794Z"
   },
   {
    "duration": 275,
    "start_time": "2024-04-13T12:24:05.085Z"
   },
   {
    "duration": 10,
    "start_time": "2024-04-13T12:24:05.362Z"
   },
   {
    "duration": 253,
    "start_time": "2024-04-13T12:24:05.373Z"
   },
   {
    "duration": 155,
    "start_time": "2024-04-13T12:24:05.628Z"
   },
   {
    "duration": 20,
    "start_time": "2024-04-13T12:24:05.784Z"
   },
   {
    "duration": 164,
    "start_time": "2024-04-13T12:24:05.805Z"
   },
   {
    "duration": 285,
    "start_time": "2024-04-13T12:24:05.970Z"
   },
   {
    "duration": 22,
    "start_time": "2024-04-13T12:24:06.257Z"
   },
   {
    "duration": 15,
    "start_time": "2024-04-13T12:24:06.280Z"
   },
   {
    "duration": 28,
    "start_time": "2024-04-13T12:24:06.301Z"
   },
   {
    "duration": 153,
    "start_time": "2024-04-13T12:24:06.330Z"
   },
   {
    "duration": 3,
    "start_time": "2024-04-13T12:24:06.484Z"
   },
   {
    "duration": 146,
    "start_time": "2024-04-13T12:24:06.488Z"
   },
   {
    "duration": 4,
    "start_time": "2024-04-13T12:24:06.635Z"
   },
   {
    "duration": 199,
    "start_time": "2024-04-13T12:24:06.640Z"
   },
   {
    "duration": 161,
    "start_time": "2024-04-13T12:24:06.841Z"
   },
   {
    "duration": 189,
    "start_time": "2024-04-13T12:24:07.003Z"
   },
   {
    "duration": 176,
    "start_time": "2024-04-13T12:24:07.194Z"
   },
   {
    "duration": 174,
    "start_time": "2024-04-13T12:24:07.371Z"
   },
   {
    "duration": 208,
    "start_time": "2024-04-13T12:24:07.546Z"
   },
   {
    "duration": 193,
    "start_time": "2024-04-13T12:24:07.755Z"
   },
   {
    "duration": 168,
    "start_time": "2024-04-13T12:24:07.949Z"
   },
   {
    "duration": 246,
    "start_time": "2024-04-13T12:24:08.118Z"
   },
   {
    "duration": 170,
    "start_time": "2024-04-13T12:24:08.366Z"
   },
   {
    "duration": 26,
    "start_time": "2024-04-13T12:24:08.538Z"
   },
   {
    "duration": 6,
    "start_time": "2024-04-13T12:24:08.565Z"
   },
   {
    "duration": 46,
    "start_time": "2024-04-13T12:24:08.572Z"
   },
   {
    "duration": 14,
    "start_time": "2024-04-13T12:24:08.620Z"
   },
   {
    "duration": 15,
    "start_time": "2024-04-13T12:24:08.635Z"
   },
   {
    "duration": 3,
    "start_time": "2024-04-13T12:26:01.782Z"
   },
   {
    "duration": 2,
    "start_time": "2024-04-13T12:55:33.805Z"
   },
   {
    "duration": 60,
    "start_time": "2024-04-13T12:55:33.808Z"
   },
   {
    "duration": 11,
    "start_time": "2024-04-13T12:55:33.869Z"
   },
   {
    "duration": 12,
    "start_time": "2024-04-13T12:55:33.881Z"
   },
   {
    "duration": 20,
    "start_time": "2024-04-13T12:55:33.895Z"
   },
   {
    "duration": 8,
    "start_time": "2024-04-13T12:55:33.916Z"
   },
   {
    "duration": 7,
    "start_time": "2024-04-13T12:55:33.925Z"
   },
   {
    "duration": 8,
    "start_time": "2024-04-13T12:55:33.933Z"
   },
   {
    "duration": 29,
    "start_time": "2024-04-13T12:55:33.942Z"
   },
   {
    "duration": 9,
    "start_time": "2024-04-13T12:55:33.972Z"
   },
   {
    "duration": 5,
    "start_time": "2024-04-13T12:55:33.982Z"
   },
   {
    "duration": 16,
    "start_time": "2024-04-13T12:55:33.989Z"
   },
   {
    "duration": 5,
    "start_time": "2024-04-13T12:55:34.006Z"
   },
   {
    "duration": 3,
    "start_time": "2024-04-13T12:55:34.014Z"
   },
   {
    "duration": 14,
    "start_time": "2024-04-13T12:55:34.019Z"
   },
   {
    "duration": 17,
    "start_time": "2024-04-13T12:55:34.034Z"
   },
   {
    "duration": 17,
    "start_time": "2024-04-13T12:55:34.052Z"
   },
   {
    "duration": 292,
    "start_time": "2024-04-13T12:55:34.070Z"
   },
   {
    "duration": 260,
    "start_time": "2024-04-13T12:55:34.364Z"
   },
   {
    "duration": 11,
    "start_time": "2024-04-13T12:55:34.625Z"
   },
   {
    "duration": 225,
    "start_time": "2024-04-13T12:55:34.637Z"
   },
   {
    "duration": 168,
    "start_time": "2024-04-13T12:55:34.863Z"
   },
   {
    "duration": 13,
    "start_time": "2024-04-13T12:55:35.033Z"
   },
   {
    "duration": 176,
    "start_time": "2024-04-13T12:55:35.047Z"
   },
   {
    "duration": 226,
    "start_time": "2024-04-13T12:55:35.225Z"
   },
   {
    "duration": 24,
    "start_time": "2024-04-13T12:55:35.452Z"
   },
   {
    "duration": 5,
    "start_time": "2024-04-13T12:55:35.477Z"
   },
   {
    "duration": 17,
    "start_time": "2024-04-13T12:55:35.483Z"
   },
   {
    "duration": 266,
    "start_time": "2024-04-13T12:55:35.501Z"
   },
   {
    "duration": 3,
    "start_time": "2024-04-13T12:55:35.802Z"
   },
   {
    "duration": 145,
    "start_time": "2024-04-13T12:55:35.806Z"
   },
   {
    "duration": 4,
    "start_time": "2024-04-13T12:55:35.952Z"
   },
   {
    "duration": 192,
    "start_time": "2024-04-13T12:55:35.958Z"
   },
   {
    "duration": 172,
    "start_time": "2024-04-13T12:55:36.151Z"
   },
   {
    "duration": 197,
    "start_time": "2024-04-13T12:55:36.325Z"
   },
   {
    "duration": 158,
    "start_time": "2024-04-13T12:55:36.523Z"
   },
   {
    "duration": 164,
    "start_time": "2024-04-13T12:55:36.683Z"
   },
   {
    "duration": 196,
    "start_time": "2024-04-13T12:55:36.848Z"
   },
   {
    "duration": 168,
    "start_time": "2024-04-13T12:55:37.046Z"
   },
   {
    "duration": 168,
    "start_time": "2024-04-13T12:55:37.215Z"
   },
   {
    "duration": 200,
    "start_time": "2024-04-13T12:55:37.388Z"
   },
   {
    "duration": 224,
    "start_time": "2024-04-13T12:55:37.590Z"
   },
   {
    "duration": 23,
    "start_time": "2024-04-13T12:55:37.816Z"
   },
   {
    "duration": 5,
    "start_time": "2024-04-13T12:55:37.840Z"
   },
   {
    "duration": 28,
    "start_time": "2024-04-13T12:55:37.846Z"
   },
   {
    "duration": 27,
    "start_time": "2024-04-13T12:55:37.875Z"
   },
   {
    "duration": 7,
    "start_time": "2024-04-13T12:55:37.904Z"
   },
   {
    "duration": 3,
    "start_time": "2024-04-13T12:58:58.805Z"
   },
   {
    "duration": 67,
    "start_time": "2024-04-13T12:58:58.809Z"
   },
   {
    "duration": 11,
    "start_time": "2024-04-13T12:58:58.877Z"
   },
   {
    "duration": 13,
    "start_time": "2024-04-13T12:58:58.889Z"
   },
   {
    "duration": 12,
    "start_time": "2024-04-13T12:58:58.903Z"
   },
   {
    "duration": 7,
    "start_time": "2024-04-13T12:58:58.916Z"
   },
   {
    "duration": 8,
    "start_time": "2024-04-13T12:58:58.924Z"
   },
   {
    "duration": 26,
    "start_time": "2024-04-13T12:58:58.933Z"
   },
   {
    "duration": 19,
    "start_time": "2024-04-13T12:58:58.960Z"
   },
   {
    "duration": 3,
    "start_time": "2024-04-13T12:58:58.981Z"
   },
   {
    "duration": 11,
    "start_time": "2024-04-13T12:58:58.986Z"
   },
   {
    "duration": 17,
    "start_time": "2024-04-13T12:58:58.999Z"
   },
   {
    "duration": 3,
    "start_time": "2024-04-13T12:58:59.018Z"
   },
   {
    "duration": 13,
    "start_time": "2024-04-13T12:58:59.023Z"
   },
   {
    "duration": 12,
    "start_time": "2024-04-13T12:58:59.037Z"
   },
   {
    "duration": 17,
    "start_time": "2024-04-13T12:58:59.050Z"
   },
   {
    "duration": 26,
    "start_time": "2024-04-13T12:58:59.069Z"
   },
   {
    "duration": 283,
    "start_time": "2024-04-13T12:58:59.097Z"
   },
   {
    "duration": 248,
    "start_time": "2024-04-13T12:58:59.382Z"
   },
   {
    "duration": 11,
    "start_time": "2024-04-13T12:58:59.631Z"
   },
   {
    "duration": 224,
    "start_time": "2024-04-13T12:58:59.643Z"
   },
   {
    "duration": 167,
    "start_time": "2024-04-13T12:58:59.869Z"
   },
   {
    "duration": 19,
    "start_time": "2024-04-13T12:59:00.037Z"
   },
   {
    "duration": 190,
    "start_time": "2024-04-13T12:59:00.058Z"
   },
   {
    "duration": 220,
    "start_time": "2024-04-13T12:59:00.249Z"
   },
   {
    "duration": 22,
    "start_time": "2024-04-13T12:59:00.470Z"
   },
   {
    "duration": 20,
    "start_time": "2024-04-13T12:59:00.501Z"
   },
   {
    "duration": 86,
    "start_time": "2024-04-13T12:59:00.522Z"
   },
   {
    "duration": 220,
    "start_time": "2024-04-13T12:59:00.609Z"
   },
   {
    "duration": 4,
    "start_time": "2024-04-13T12:59:00.830Z"
   },
   {
    "duration": 293,
    "start_time": "2024-04-13T12:59:00.835Z"
   },
   {
    "duration": 3,
    "start_time": "2024-04-13T12:59:01.130Z"
   },
   {
    "duration": 341,
    "start_time": "2024-04-13T12:59:01.134Z"
   },
   {
    "duration": 163,
    "start_time": "2024-04-13T12:59:01.477Z"
   },
   {
    "duration": 191,
    "start_time": "2024-04-13T12:59:01.642Z"
   },
   {
    "duration": 158,
    "start_time": "2024-04-13T12:59:01.834Z"
   },
   {
    "duration": 165,
    "start_time": "2024-04-13T12:59:01.993Z"
   },
   {
    "duration": 190,
    "start_time": "2024-04-13T12:59:02.160Z"
   },
   {
    "duration": 163,
    "start_time": "2024-04-13T12:59:02.352Z"
   },
   {
    "duration": 176,
    "start_time": "2024-04-13T12:59:02.516Z"
   },
   {
    "duration": 197,
    "start_time": "2024-04-13T12:59:02.696Z"
   },
   {
    "duration": 164,
    "start_time": "2024-04-13T12:59:02.895Z"
   },
   {
    "duration": 23,
    "start_time": "2024-04-13T12:59:03.060Z"
   },
   {
    "duration": 18,
    "start_time": "2024-04-13T12:59:03.084Z"
   },
   {
    "duration": 31,
    "start_time": "2024-04-13T12:59:03.104Z"
   },
   {
    "duration": 5,
    "start_time": "2024-04-13T12:59:03.136Z"
   },
   {
    "duration": 24,
    "start_time": "2024-04-13T12:59:03.142Z"
   },
   {
    "duration": 936,
    "start_time": "2024-04-13T12:59:17.871Z"
   },
   {
    "duration": 63,
    "start_time": "2024-04-13T12:59:18.808Z"
   },
   {
    "duration": 10,
    "start_time": "2024-04-13T12:59:18.872Z"
   },
   {
    "duration": 12,
    "start_time": "2024-04-13T12:59:18.883Z"
   },
   {
    "duration": 12,
    "start_time": "2024-04-13T12:59:18.896Z"
   },
   {
    "duration": 7,
    "start_time": "2024-04-13T12:59:18.909Z"
   },
   {
    "duration": 12,
    "start_time": "2024-04-13T12:59:18.917Z"
   },
   {
    "duration": 9,
    "start_time": "2024-04-13T12:59:18.930Z"
   },
   {
    "duration": 11,
    "start_time": "2024-04-13T12:59:18.940Z"
   },
   {
    "duration": 4,
    "start_time": "2024-04-13T12:59:18.952Z"
   },
   {
    "duration": 7,
    "start_time": "2024-04-13T12:59:18.957Z"
   },
   {
    "duration": 19,
    "start_time": "2024-04-13T12:59:18.965Z"
   },
   {
    "duration": 4,
    "start_time": "2024-04-13T12:59:19.002Z"
   },
   {
    "duration": 4,
    "start_time": "2024-04-13T12:59:19.009Z"
   },
   {
    "duration": 14,
    "start_time": "2024-04-13T12:59:19.014Z"
   },
   {
    "duration": 20,
    "start_time": "2024-04-13T12:59:19.029Z"
   },
   {
    "duration": 23,
    "start_time": "2024-04-13T12:59:19.051Z"
   },
   {
    "duration": 316,
    "start_time": "2024-04-13T12:59:19.075Z"
   },
   {
    "duration": 275,
    "start_time": "2024-04-13T12:59:19.392Z"
   },
   {
    "duration": 10,
    "start_time": "2024-04-13T12:59:19.669Z"
   },
   {
    "duration": 226,
    "start_time": "2024-04-13T12:59:19.680Z"
   },
   {
    "duration": 167,
    "start_time": "2024-04-13T12:59:19.908Z"
   },
   {
    "duration": 13,
    "start_time": "2024-04-13T12:59:20.077Z"
   },
   {
    "duration": 178,
    "start_time": "2024-04-13T12:59:20.091Z"
   },
   {
    "duration": 318,
    "start_time": "2024-04-13T12:59:20.271Z"
   },
   {
    "duration": 27,
    "start_time": "2024-04-13T12:59:20.591Z"
   },
   {
    "duration": 5,
    "start_time": "2024-04-13T12:59:20.619Z"
   },
   {
    "duration": 20,
    "start_time": "2024-04-13T12:59:20.625Z"
   },
   {
    "duration": 163,
    "start_time": "2024-04-13T12:59:20.646Z"
   },
   {
    "duration": 4,
    "start_time": "2024-04-13T12:59:20.810Z"
   },
   {
    "duration": 152,
    "start_time": "2024-04-13T12:59:20.815Z"
   },
   {
    "duration": 4,
    "start_time": "2024-04-13T12:59:20.968Z"
   },
   {
    "duration": 217,
    "start_time": "2024-04-13T12:59:20.973Z"
   },
   {
    "duration": 163,
    "start_time": "2024-04-13T12:59:21.191Z"
   },
   {
    "duration": 194,
    "start_time": "2024-04-13T12:59:21.355Z"
   },
   {
    "duration": 162,
    "start_time": "2024-04-13T12:59:21.550Z"
   },
   {
    "duration": 162,
    "start_time": "2024-04-13T12:59:21.713Z"
   },
   {
    "duration": 206,
    "start_time": "2024-04-13T12:59:21.877Z"
   },
   {
    "duration": 160,
    "start_time": "2024-04-13T12:59:22.084Z"
   },
   {
    "duration": 170,
    "start_time": "2024-04-13T12:59:22.246Z"
   },
   {
    "duration": 240,
    "start_time": "2024-04-13T12:59:22.419Z"
   },
   {
    "duration": 164,
    "start_time": "2024-04-13T12:59:22.660Z"
   },
   {
    "duration": 23,
    "start_time": "2024-04-13T12:59:22.825Z"
   },
   {
    "duration": 5,
    "start_time": "2024-04-13T12:59:22.849Z"
   },
   {
    "duration": 29,
    "start_time": "2024-04-13T12:59:22.855Z"
   },
   {
    "duration": 5,
    "start_time": "2024-04-13T12:59:22.902Z"
   },
   {
    "duration": 4,
    "start_time": "2024-04-13T12:59:22.908Z"
   },
   {
    "duration": 1391,
    "start_time": "2024-04-14T07:37:58.345Z"
   },
   {
    "duration": 127,
    "start_time": "2024-04-14T07:37:59.739Z"
   },
   {
    "duration": 15,
    "start_time": "2024-04-14T07:37:59.867Z"
   },
   {
    "duration": 21,
    "start_time": "2024-04-14T07:37:59.884Z"
   },
   {
    "duration": 16,
    "start_time": "2024-04-14T07:37:59.907Z"
   },
   {
    "duration": 38,
    "start_time": "2024-04-14T07:37:59.924Z"
   },
   {
    "duration": 12,
    "start_time": "2024-04-14T07:37:59.963Z"
   },
   {
    "duration": 9,
    "start_time": "2024-04-14T07:37:59.977Z"
   },
   {
    "duration": 15,
    "start_time": "2024-04-14T07:37:59.987Z"
   },
   {
    "duration": 5,
    "start_time": "2024-04-14T07:38:00.004Z"
   },
   {
    "duration": 13,
    "start_time": "2024-04-14T07:38:00.010Z"
   },
   {
    "duration": 71,
    "start_time": "2024-04-14T07:38:00.026Z"
   },
   {
    "duration": 23,
    "start_time": "2024-04-14T07:38:00.099Z"
   },
   {
    "duration": 41,
    "start_time": "2024-04-14T07:38:00.125Z"
   },
   {
    "duration": 51,
    "start_time": "2024-04-14T07:38:00.167Z"
   },
   {
    "duration": 42,
    "start_time": "2024-04-14T07:38:00.220Z"
   },
   {
    "duration": 62,
    "start_time": "2024-04-14T07:38:00.263Z"
   },
   {
    "duration": 442,
    "start_time": "2024-04-14T07:38:00.327Z"
   },
   {
    "duration": 335,
    "start_time": "2024-04-14T07:38:00.771Z"
   },
   {
    "duration": 13,
    "start_time": "2024-04-14T07:38:01.107Z"
   },
   {
    "duration": 338,
    "start_time": "2024-04-14T07:38:01.122Z"
   },
   {
    "duration": 201,
    "start_time": "2024-04-14T07:38:01.462Z"
   },
   {
    "duration": 17,
    "start_time": "2024-04-14T07:38:01.665Z"
   },
   {
    "duration": 302,
    "start_time": "2024-04-14T07:38:01.684Z"
   },
   {
    "duration": 400,
    "start_time": "2024-04-14T07:38:01.988Z"
   },
   {
    "duration": 32,
    "start_time": "2024-04-14T07:38:02.390Z"
   },
   {
    "duration": 7,
    "start_time": "2024-04-14T07:38:02.423Z"
   },
   {
    "duration": 19,
    "start_time": "2024-04-14T07:38:02.432Z"
   },
   {
    "duration": 169,
    "start_time": "2024-04-14T07:38:02.461Z"
   },
   {
    "duration": 5,
    "start_time": "2024-04-14T07:38:02.631Z"
   },
   {
    "duration": 191,
    "start_time": "2024-04-14T07:38:02.637Z"
   },
   {
    "duration": 5,
    "start_time": "2024-04-14T07:38:02.830Z"
   },
   {
    "duration": 253,
    "start_time": "2024-04-14T07:38:02.836Z"
   },
   {
    "duration": 213,
    "start_time": "2024-04-14T07:38:03.091Z"
   },
   {
    "duration": 273,
    "start_time": "2024-04-14T07:38:03.305Z"
   },
   {
    "duration": 229,
    "start_time": "2024-04-14T07:38:03.580Z"
   },
   {
    "duration": 212,
    "start_time": "2024-04-14T07:38:03.811Z"
   },
   {
    "duration": 232,
    "start_time": "2024-04-14T07:38:04.025Z"
   },
   {
    "duration": 203,
    "start_time": "2024-04-14T07:38:04.261Z"
   },
   {
    "duration": 213,
    "start_time": "2024-04-14T07:38:04.466Z"
   },
   {
    "duration": 313,
    "start_time": "2024-04-14T07:38:04.683Z"
   },
   {
    "duration": 251,
    "start_time": "2024-04-14T07:38:04.998Z"
   },
   {
    "duration": 39,
    "start_time": "2024-04-14T07:38:05.251Z"
   },
   {
    "duration": 6,
    "start_time": "2024-04-14T07:38:05.292Z"
   },
   {
    "duration": 36,
    "start_time": "2024-04-14T07:38:05.300Z"
   },
   {
    "duration": 31,
    "start_time": "2024-04-14T07:38:05.338Z"
   },
   {
    "duration": 8,
    "start_time": "2024-04-14T07:38:05.371Z"
   },
   {
    "duration": 3,
    "start_time": "2024-04-14T07:39:24.468Z"
   },
   {
    "duration": 79,
    "start_time": "2024-04-14T07:39:24.474Z"
   },
   {
    "duration": 14,
    "start_time": "2024-04-14T07:39:24.555Z"
   },
   {
    "duration": 15,
    "start_time": "2024-04-14T07:39:24.571Z"
   },
   {
    "duration": 17,
    "start_time": "2024-04-14T07:39:24.588Z"
   },
   {
    "duration": 10,
    "start_time": "2024-04-14T07:39:24.608Z"
   },
   {
    "duration": 44,
    "start_time": "2024-04-14T07:39:24.620Z"
   },
   {
    "duration": 24,
    "start_time": "2024-04-14T07:39:24.666Z"
   },
   {
    "duration": 23,
    "start_time": "2024-04-14T07:39:24.691Z"
   },
   {
    "duration": 7,
    "start_time": "2024-04-14T07:39:24.718Z"
   },
   {
    "duration": 20,
    "start_time": "2024-04-14T07:39:24.727Z"
   },
   {
    "duration": 38,
    "start_time": "2024-04-14T07:39:24.749Z"
   },
   {
    "duration": 5,
    "start_time": "2024-04-14T07:39:24.789Z"
   },
   {
    "duration": 20,
    "start_time": "2024-04-14T07:39:24.796Z"
   },
   {
    "duration": 15,
    "start_time": "2024-04-14T07:39:24.818Z"
   },
   {
    "duration": 13,
    "start_time": "2024-04-14T07:39:24.835Z"
   },
   {
    "duration": 33,
    "start_time": "2024-04-14T07:39:24.849Z"
   },
   {
    "duration": 378,
    "start_time": "2024-04-14T07:39:24.884Z"
   },
   {
    "duration": 335,
    "start_time": "2024-04-14T07:39:25.264Z"
   },
   {
    "duration": 14,
    "start_time": "2024-04-14T07:39:25.601Z"
   },
   {
    "duration": 302,
    "start_time": "2024-04-14T07:39:25.616Z"
   },
   {
    "duration": 221,
    "start_time": "2024-04-14T07:39:25.921Z"
   },
   {
    "duration": 25,
    "start_time": "2024-04-14T07:39:26.144Z"
   },
   {
    "duration": 241,
    "start_time": "2024-04-14T07:39:26.171Z"
   },
   {
    "duration": 268,
    "start_time": "2024-04-14T07:39:26.413Z"
   },
   {
    "duration": 31,
    "start_time": "2024-04-14T07:39:26.683Z"
   },
   {
    "duration": 7,
    "start_time": "2024-04-14T07:39:26.717Z"
   },
   {
    "duration": 5,
    "start_time": "2024-04-14T07:39:26.727Z"
   },
   {
    "duration": 271,
    "start_time": "2024-04-14T07:39:26.734Z"
   },
   {
    "duration": 5,
    "start_time": "2024-04-14T07:39:27.007Z"
   },
   {
    "duration": 204,
    "start_time": "2024-04-14T07:39:27.014Z"
   },
   {
    "duration": 5,
    "start_time": "2024-04-14T07:39:27.220Z"
   },
   {
    "duration": 240,
    "start_time": "2024-04-14T07:39:27.226Z"
   },
   {
    "duration": 207,
    "start_time": "2024-04-14T07:39:27.468Z"
   },
   {
    "duration": 261,
    "start_time": "2024-04-14T07:39:27.677Z"
   },
   {
    "duration": 264,
    "start_time": "2024-04-14T07:39:27.940Z"
   },
   {
    "duration": 241,
    "start_time": "2024-04-14T07:39:28.206Z"
   },
   {
    "duration": 267,
    "start_time": "2024-04-14T07:39:28.449Z"
   },
   {
    "duration": 214,
    "start_time": "2024-04-14T07:39:28.718Z"
   },
   {
    "duration": 204,
    "start_time": "2024-04-14T07:39:28.934Z"
   },
   {
    "duration": 235,
    "start_time": "2024-04-14T07:39:29.139Z"
   },
   {
    "duration": 312,
    "start_time": "2024-04-14T07:39:29.376Z"
   },
   {
    "duration": 31,
    "start_time": "2024-04-14T07:39:29.690Z"
   },
   {
    "duration": 35,
    "start_time": "2024-04-14T07:39:29.722Z"
   },
   {
    "duration": 55,
    "start_time": "2024-04-14T07:39:29.759Z"
   },
   {
    "duration": 25,
    "start_time": "2024-04-14T07:39:29.815Z"
   },
   {
    "duration": 35,
    "start_time": "2024-04-14T07:39:29.842Z"
   },
   {
    "duration": 119,
    "start_time": "2024-04-14T07:41:58.264Z"
   },
   {
    "duration": 44,
    "start_time": "2024-04-14T07:42:41.271Z"
   },
   {
    "duration": 45,
    "start_time": "2024-04-14T07:42:47.195Z"
   },
   {
    "duration": 240,
    "start_time": "2024-04-14T07:43:06.239Z"
   },
   {
    "duration": 34,
    "start_time": "2024-04-14T07:45:53.001Z"
   },
   {
    "duration": 4,
    "start_time": "2024-04-14T07:46:01.304Z"
   },
   {
    "duration": 133,
    "start_time": "2024-04-14T07:46:01.310Z"
   },
   {
    "duration": 16,
    "start_time": "2024-04-14T07:46:01.445Z"
   },
   {
    "duration": 73,
    "start_time": "2024-04-14T07:46:01.464Z"
   },
   {
    "duration": 37,
    "start_time": "2024-04-14T07:46:01.539Z"
   },
   {
    "duration": 95,
    "start_time": "2024-04-14T07:46:01.578Z"
   },
   {
    "duration": 35,
    "start_time": "2024-04-14T07:46:01.674Z"
   },
   {
    "duration": 36,
    "start_time": "2024-04-14T07:46:01.710Z"
   },
   {
    "duration": 51,
    "start_time": "2024-04-14T07:46:01.749Z"
   },
   {
    "duration": 17,
    "start_time": "2024-04-14T07:46:01.802Z"
   },
   {
    "duration": 27,
    "start_time": "2024-04-14T07:46:01.821Z"
   },
   {
    "duration": 83,
    "start_time": "2024-04-14T07:46:01.850Z"
   },
   {
    "duration": 15,
    "start_time": "2024-04-14T07:46:01.934Z"
   },
   {
    "duration": 30,
    "start_time": "2024-04-14T07:46:01.951Z"
   },
   {
    "duration": 30,
    "start_time": "2024-04-14T07:46:01.982Z"
   },
   {
    "duration": 45,
    "start_time": "2024-04-14T07:46:02.014Z"
   },
   {
    "duration": 42,
    "start_time": "2024-04-14T07:46:02.061Z"
   },
   {
    "duration": 432,
    "start_time": "2024-04-14T07:46:02.105Z"
   },
   {
    "duration": 370,
    "start_time": "2024-04-14T07:46:02.539Z"
   },
   {
    "duration": 14,
    "start_time": "2024-04-14T07:46:02.911Z"
   },
   {
    "duration": 282,
    "start_time": "2024-04-14T07:46:02.927Z"
   },
   {
    "duration": 196,
    "start_time": "2024-04-14T07:46:03.210Z"
   },
   {
    "duration": 17,
    "start_time": "2024-04-14T07:46:03.408Z"
   },
   {
    "duration": 209,
    "start_time": "2024-04-14T07:46:03.428Z"
   },
   {
    "duration": 35,
    "start_time": "2024-04-14T07:46:03.639Z"
   },
   {
    "duration": 0,
    "start_time": "2024-04-14T07:46:03.676Z"
   },
   {
    "duration": 0,
    "start_time": "2024-04-14T07:46:03.677Z"
   },
   {
    "duration": 1,
    "start_time": "2024-04-14T07:46:03.678Z"
   },
   {
    "duration": 0,
    "start_time": "2024-04-14T07:46:03.680Z"
   },
   {
    "duration": 0,
    "start_time": "2024-04-14T07:46:03.681Z"
   },
   {
    "duration": 0,
    "start_time": "2024-04-14T07:46:03.684Z"
   },
   {
    "duration": 0,
    "start_time": "2024-04-14T07:46:03.685Z"
   },
   {
    "duration": 0,
    "start_time": "2024-04-14T07:46:03.686Z"
   },
   {
    "duration": 0,
    "start_time": "2024-04-14T07:46:03.688Z"
   },
   {
    "duration": 0,
    "start_time": "2024-04-14T07:46:03.689Z"
   },
   {
    "duration": 0,
    "start_time": "2024-04-14T07:46:03.691Z"
   },
   {
    "duration": 0,
    "start_time": "2024-04-14T07:46:03.692Z"
   },
   {
    "duration": 0,
    "start_time": "2024-04-14T07:46:03.694Z"
   },
   {
    "duration": 0,
    "start_time": "2024-04-14T07:46:03.696Z"
   },
   {
    "duration": 0,
    "start_time": "2024-04-14T07:46:03.697Z"
   },
   {
    "duration": 0,
    "start_time": "2024-04-14T07:46:03.699Z"
   },
   {
    "duration": 0,
    "start_time": "2024-04-14T07:46:03.824Z"
   },
   {
    "duration": 0,
    "start_time": "2024-04-14T07:46:03.826Z"
   },
   {
    "duration": 0,
    "start_time": "2024-04-14T07:46:03.827Z"
   },
   {
    "duration": 0,
    "start_time": "2024-04-14T07:46:03.829Z"
   },
   {
    "duration": 0,
    "start_time": "2024-04-14T07:46:03.830Z"
   },
   {
    "duration": 0,
    "start_time": "2024-04-14T07:46:03.831Z"
   },
   {
    "duration": 3,
    "start_time": "2024-04-14T07:46:35.099Z"
   },
   {
    "duration": 73,
    "start_time": "2024-04-14T07:46:35.104Z"
   },
   {
    "duration": 15,
    "start_time": "2024-04-14T07:46:35.179Z"
   },
   {
    "duration": 17,
    "start_time": "2024-04-14T07:46:35.196Z"
   },
   {
    "duration": 47,
    "start_time": "2024-04-14T07:46:35.215Z"
   },
   {
    "duration": 15,
    "start_time": "2024-04-14T07:46:35.264Z"
   },
   {
    "duration": 16,
    "start_time": "2024-04-14T07:46:35.281Z"
   },
   {
    "duration": 22,
    "start_time": "2024-04-14T07:46:35.299Z"
   },
   {
    "duration": 24,
    "start_time": "2024-04-14T07:46:35.324Z"
   },
   {
    "duration": 14,
    "start_time": "2024-04-14T07:46:35.350Z"
   },
   {
    "duration": 15,
    "start_time": "2024-04-14T07:46:35.366Z"
   },
   {
    "duration": 35,
    "start_time": "2024-04-14T07:46:35.383Z"
   },
   {
    "duration": 6,
    "start_time": "2024-04-14T07:46:35.420Z"
   },
   {
    "duration": 13,
    "start_time": "2024-04-14T07:46:35.428Z"
   },
   {
    "duration": 30,
    "start_time": "2024-04-14T07:46:35.443Z"
   },
   {
    "duration": 19,
    "start_time": "2024-04-14T07:46:35.475Z"
   },
   {
    "duration": 42,
    "start_time": "2024-04-14T07:46:35.496Z"
   },
   {
    "duration": 376,
    "start_time": "2024-04-14T07:46:35.540Z"
   },
   {
    "duration": 331,
    "start_time": "2024-04-14T07:46:35.917Z"
   },
   {
    "duration": 17,
    "start_time": "2024-04-14T07:46:36.250Z"
   },
   {
    "duration": 273,
    "start_time": "2024-04-14T07:46:36.269Z"
   },
   {
    "duration": 196,
    "start_time": "2024-04-14T07:46:36.544Z"
   },
   {
    "duration": 26,
    "start_time": "2024-04-14T07:46:36.742Z"
   },
   {
    "duration": 229,
    "start_time": "2024-04-14T07:46:36.772Z"
   },
   {
    "duration": 303,
    "start_time": "2024-04-14T07:46:37.003Z"
   },
   {
    "duration": 31,
    "start_time": "2024-04-14T07:46:37.308Z"
   },
   {
    "duration": 22,
    "start_time": "2024-04-14T07:46:37.341Z"
   },
   {
    "duration": 5,
    "start_time": "2024-04-14T07:46:37.365Z"
   },
   {
    "duration": 182,
    "start_time": "2024-04-14T07:46:37.372Z"
   },
   {
    "duration": 7,
    "start_time": "2024-04-14T07:46:37.556Z"
   },
   {
    "duration": 186,
    "start_time": "2024-04-14T07:46:37.564Z"
   },
   {
    "duration": 13,
    "start_time": "2024-04-14T07:46:37.751Z"
   },
   {
    "duration": 341,
    "start_time": "2024-04-14T07:46:37.765Z"
   },
   {
    "duration": 203,
    "start_time": "2024-04-14T07:46:38.107Z"
   },
   {
    "duration": 241,
    "start_time": "2024-04-14T07:46:38.311Z"
   },
   {
    "duration": 224,
    "start_time": "2024-04-14T07:46:38.561Z"
   },
   {
    "duration": 216,
    "start_time": "2024-04-14T07:46:38.787Z"
   },
   {
    "duration": 232,
    "start_time": "2024-04-14T07:46:39.005Z"
   },
   {
    "duration": 201,
    "start_time": "2024-04-14T07:46:39.238Z"
   },
   {
    "duration": 204,
    "start_time": "2024-04-14T07:46:39.440Z"
   },
   {
    "duration": 242,
    "start_time": "2024-04-14T07:46:39.645Z"
   },
   {
    "duration": 296,
    "start_time": "2024-04-14T07:46:39.889Z"
   },
   {
    "duration": 32,
    "start_time": "2024-04-14T07:46:40.187Z"
   },
   {
    "duration": 6,
    "start_time": "2024-04-14T07:46:40.221Z"
   },
   {
    "duration": 99,
    "start_time": "2024-04-14T07:46:40.228Z"
   },
   {
    "duration": 15,
    "start_time": "2024-04-14T07:46:40.329Z"
   },
   {
    "duration": 25,
    "start_time": "2024-04-14T07:46:40.346Z"
   },
   {
    "duration": 234,
    "start_time": "2024-04-14T07:47:06.940Z"
   },
   {
    "duration": 291,
    "start_time": "2024-04-14T07:47:14.320Z"
   },
   {
    "duration": 194,
    "start_time": "2024-04-14T07:47:18.613Z"
   },
   {
    "duration": 200,
    "start_time": "2024-04-14T07:47:26.369Z"
   },
   {
    "duration": 219,
    "start_time": "2024-04-14T07:47:31.364Z"
   },
   {
    "duration": 221,
    "start_time": "2024-04-14T07:47:37.603Z"
   },
   {
    "duration": 8,
    "start_time": "2024-04-14T07:48:08.984Z"
   },
   {
    "duration": 3,
    "start_time": "2024-04-14T07:48:13.469Z"
   },
   {
    "duration": 102,
    "start_time": "2024-04-14T07:48:13.476Z"
   },
   {
    "duration": 18,
    "start_time": "2024-04-14T07:48:13.580Z"
   },
   {
    "duration": 67,
    "start_time": "2024-04-14T07:48:13.599Z"
   },
   {
    "duration": 58,
    "start_time": "2024-04-14T07:48:13.668Z"
   },
   {
    "duration": 32,
    "start_time": "2024-04-14T07:48:13.728Z"
   },
   {
    "duration": 32,
    "start_time": "2024-04-14T07:48:13.762Z"
   },
   {
    "duration": 60,
    "start_time": "2024-04-14T07:48:13.795Z"
   },
   {
    "duration": 46,
    "start_time": "2024-04-14T07:48:13.857Z"
   },
   {
    "duration": 26,
    "start_time": "2024-04-14T07:48:13.906Z"
   },
   {
    "duration": 54,
    "start_time": "2024-04-14T07:48:13.934Z"
   },
   {
    "duration": 51,
    "start_time": "2024-04-14T07:48:13.990Z"
   },
   {
    "duration": 21,
    "start_time": "2024-04-14T07:48:14.043Z"
   },
   {
    "duration": 26,
    "start_time": "2024-04-14T07:48:14.066Z"
   },
   {
    "duration": 49,
    "start_time": "2024-04-14T07:48:14.093Z"
   },
   {
    "duration": 38,
    "start_time": "2024-04-14T07:48:14.144Z"
   },
   {
    "duration": 46,
    "start_time": "2024-04-14T07:48:14.183Z"
   },
   {
    "duration": 398,
    "start_time": "2024-04-14T07:48:14.230Z"
   },
   {
    "duration": 333,
    "start_time": "2024-04-14T07:48:14.630Z"
   },
   {
    "duration": 12,
    "start_time": "2024-04-14T07:48:14.965Z"
   },
   {
    "duration": 282,
    "start_time": "2024-04-14T07:48:14.978Z"
   },
   {
    "duration": 201,
    "start_time": "2024-04-14T07:48:15.262Z"
   },
   {
    "duration": 16,
    "start_time": "2024-04-14T07:48:15.465Z"
   },
   {
    "duration": 330,
    "start_time": "2024-04-14T07:48:15.483Z"
   },
   {
    "duration": 247,
    "start_time": "2024-04-14T07:48:15.814Z"
   },
   {
    "duration": 39,
    "start_time": "2024-04-14T07:48:16.064Z"
   },
   {
    "duration": 6,
    "start_time": "2024-04-14T07:48:16.105Z"
   },
   {
    "duration": 36,
    "start_time": "2024-04-14T07:48:16.112Z"
   },
   {
    "duration": 223,
    "start_time": "2024-04-14T07:48:16.152Z"
   },
   {
    "duration": 4,
    "start_time": "2024-04-14T07:48:16.377Z"
   },
   {
    "duration": 187,
    "start_time": "2024-04-14T07:48:16.382Z"
   },
   {
    "duration": 5,
    "start_time": "2024-04-14T07:48:16.570Z"
   },
   {
    "duration": 244,
    "start_time": "2024-04-14T07:48:16.576Z"
   },
   {
    "duration": 215,
    "start_time": "2024-04-14T07:48:16.822Z"
   },
   {
    "duration": 261,
    "start_time": "2024-04-14T07:48:17.039Z"
   },
   {
    "duration": 217,
    "start_time": "2024-04-14T07:48:17.301Z"
   },
   {
    "duration": 210,
    "start_time": "2024-04-14T07:48:17.519Z"
   },
   {
    "duration": 273,
    "start_time": "2024-04-14T07:48:17.730Z"
   },
   {
    "duration": 215,
    "start_time": "2024-04-14T07:48:18.004Z"
   },
   {
    "duration": 301,
    "start_time": "2024-04-14T07:48:18.221Z"
   },
   {
    "duration": 242,
    "start_time": "2024-04-14T07:48:18.524Z"
   },
   {
    "duration": 230,
    "start_time": "2024-04-14T07:48:18.767Z"
   },
   {
    "duration": 42,
    "start_time": "2024-04-14T07:48:19.000Z"
   },
   {
    "duration": 22,
    "start_time": "2024-04-14T07:48:19.044Z"
   },
   {
    "duration": 83,
    "start_time": "2024-04-14T07:48:19.069Z"
   },
   {
    "duration": 6,
    "start_time": "2024-04-14T07:48:19.155Z"
   },
   {
    "duration": 25,
    "start_time": "2024-04-14T07:48:19.163Z"
   },
   {
    "duration": 5,
    "start_time": "2024-04-14T07:49:33.231Z"
   },
   {
    "duration": 3,
    "start_time": "2024-04-14T07:49:36.997Z"
   },
   {
    "duration": 105,
    "start_time": "2024-04-14T07:49:37.003Z"
   },
   {
    "duration": 23,
    "start_time": "2024-04-14T07:49:37.110Z"
   },
   {
    "duration": 35,
    "start_time": "2024-04-14T07:49:37.135Z"
   },
   {
    "duration": 23,
    "start_time": "2024-04-14T07:49:37.175Z"
   },
   {
    "duration": 12,
    "start_time": "2024-04-14T07:49:37.200Z"
   },
   {
    "duration": 29,
    "start_time": "2024-04-14T07:49:37.214Z"
   },
   {
    "duration": 17,
    "start_time": "2024-04-14T07:49:37.246Z"
   },
   {
    "duration": 32,
    "start_time": "2024-04-14T07:49:37.265Z"
   },
   {
    "duration": 6,
    "start_time": "2024-04-14T07:49:37.298Z"
   },
   {
    "duration": 19,
    "start_time": "2024-04-14T07:49:37.306Z"
   },
   {
    "duration": 34,
    "start_time": "2024-04-14T07:49:37.327Z"
   },
   {
    "duration": 9,
    "start_time": "2024-04-14T07:49:37.364Z"
   },
   {
    "duration": 19,
    "start_time": "2024-04-14T07:49:37.374Z"
   },
   {
    "duration": 27,
    "start_time": "2024-04-14T07:49:37.395Z"
   },
   {
    "duration": 28,
    "start_time": "2024-04-14T07:49:37.424Z"
   },
   {
    "duration": 31,
    "start_time": "2024-04-14T07:49:37.454Z"
   },
   {
    "duration": 373,
    "start_time": "2024-04-14T07:49:37.487Z"
   },
   {
    "duration": 339,
    "start_time": "2024-04-14T07:49:37.862Z"
   },
   {
    "duration": 14,
    "start_time": "2024-04-14T07:49:38.202Z"
   },
   {
    "duration": 265,
    "start_time": "2024-04-14T07:49:38.218Z"
   },
   {
    "duration": 206,
    "start_time": "2024-04-14T07:49:38.485Z"
   },
   {
    "duration": 23,
    "start_time": "2024-04-14T07:49:38.693Z"
   },
   {
    "duration": 231,
    "start_time": "2024-04-14T07:49:38.718Z"
   },
   {
    "duration": 236,
    "start_time": "2024-04-14T07:49:38.950Z"
   },
   {
    "duration": 30,
    "start_time": "2024-04-14T07:49:39.188Z"
   },
   {
    "duration": 6,
    "start_time": "2024-04-14T07:49:39.219Z"
   },
   {
    "duration": 6,
    "start_time": "2024-04-14T07:49:39.227Z"
   },
   {
    "duration": 290,
    "start_time": "2024-04-14T07:49:39.235Z"
   },
   {
    "duration": 5,
    "start_time": "2024-04-14T07:49:39.526Z"
   },
   {
    "duration": 186,
    "start_time": "2024-04-14T07:49:39.532Z"
   },
   {
    "duration": 4,
    "start_time": "2024-04-14T07:49:39.719Z"
   },
   {
    "duration": 254,
    "start_time": "2024-04-14T07:49:39.725Z"
   },
   {
    "duration": 216,
    "start_time": "2024-04-14T07:49:39.981Z"
   },
   {
    "duration": 280,
    "start_time": "2024-04-14T07:49:40.199Z"
   },
   {
    "duration": 201,
    "start_time": "2024-04-14T07:49:40.481Z"
   },
   {
    "duration": 233,
    "start_time": "2024-04-14T07:49:40.688Z"
   },
   {
    "duration": 237,
    "start_time": "2024-04-14T07:49:40.923Z"
   },
   {
    "duration": 200,
    "start_time": "2024-04-14T07:49:41.162Z"
   },
   {
    "duration": 188,
    "start_time": "2024-04-14T07:49:41.363Z"
   },
   {
    "duration": 230,
    "start_time": "2024-04-14T07:49:41.552Z"
   },
   {
    "duration": 331,
    "start_time": "2024-04-14T07:49:41.784Z"
   },
   {
    "duration": 28,
    "start_time": "2024-04-14T07:49:42.117Z"
   },
   {
    "duration": 5,
    "start_time": "2024-04-14T07:49:42.161Z"
   },
   {
    "duration": 45,
    "start_time": "2024-04-14T07:49:42.168Z"
   },
   {
    "duration": 5,
    "start_time": "2024-04-14T07:49:42.215Z"
   },
   {
    "duration": 4,
    "start_time": "2024-04-14T07:49:42.222Z"
   },
   {
    "duration": 329,
    "start_time": "2024-04-14T07:54:32.573Z"
   },
   {
    "duration": 8,
    "start_time": "2024-04-14T07:56:12.125Z"
   },
   {
    "duration": 6,
    "start_time": "2024-04-14T07:56:24.257Z"
   },
   {
    "duration": 8,
    "start_time": "2024-04-14T07:56:29.324Z"
   },
   {
    "duration": 3,
    "start_time": "2024-04-14T08:00:33.367Z"
   },
   {
    "duration": 77,
    "start_time": "2024-04-14T08:00:33.374Z"
   },
   {
    "duration": 20,
    "start_time": "2024-04-14T08:00:33.453Z"
   },
   {
    "duration": 17,
    "start_time": "2024-04-14T08:00:33.475Z"
   },
   {
    "duration": 15,
    "start_time": "2024-04-14T08:00:33.494Z"
   },
   {
    "duration": 11,
    "start_time": "2024-04-14T08:00:33.510Z"
   },
   {
    "duration": 9,
    "start_time": "2024-04-14T08:00:33.562Z"
   },
   {
    "duration": 12,
    "start_time": "2024-04-14T08:00:33.573Z"
   },
   {
    "duration": 19,
    "start_time": "2024-04-14T08:00:33.586Z"
   },
   {
    "duration": 5,
    "start_time": "2024-04-14T08:00:33.607Z"
   },
   {
    "duration": 19,
    "start_time": "2024-04-14T08:00:33.615Z"
   },
   {
    "duration": 41,
    "start_time": "2024-04-14T08:00:33.635Z"
   },
   {
    "duration": 5,
    "start_time": "2024-04-14T08:00:33.677Z"
   },
   {
    "duration": 12,
    "start_time": "2024-04-14T08:00:33.683Z"
   },
   {
    "duration": 20,
    "start_time": "2024-04-14T08:00:33.696Z"
   },
   {
    "duration": 15,
    "start_time": "2024-04-14T08:00:33.717Z"
   },
   {
    "duration": 43,
    "start_time": "2024-04-14T08:00:33.734Z"
   },
   {
    "duration": 371,
    "start_time": "2024-04-14T08:00:33.779Z"
   },
   {
    "duration": 339,
    "start_time": "2024-04-14T08:00:34.151Z"
   },
   {
    "duration": 14,
    "start_time": "2024-04-14T08:00:34.491Z"
   },
   {
    "duration": 296,
    "start_time": "2024-04-14T08:00:34.507Z"
   },
   {
    "duration": 231,
    "start_time": "2024-04-14T08:00:34.805Z"
   },
   {
    "duration": 26,
    "start_time": "2024-04-14T08:00:35.037Z"
   },
   {
    "duration": 219,
    "start_time": "2024-04-14T08:00:35.065Z"
   },
   {
    "duration": 216,
    "start_time": "2024-04-14T08:00:35.286Z"
   },
   {
    "duration": 41,
    "start_time": "2024-04-14T08:00:35.503Z"
   },
   {
    "duration": 9,
    "start_time": "2024-04-14T08:00:35.560Z"
   },
   {
    "duration": 18,
    "start_time": "2024-04-14T08:00:35.571Z"
   },
   {
    "duration": 191,
    "start_time": "2024-04-14T08:00:35.595Z"
   },
   {
    "duration": 5,
    "start_time": "2024-04-14T08:00:35.788Z"
   },
   {
    "duration": 329,
    "start_time": "2024-04-14T08:00:35.794Z"
   },
   {
    "duration": 5,
    "start_time": "2024-04-14T08:00:36.124Z"
   },
   {
    "duration": 219,
    "start_time": "2024-04-14T08:00:36.131Z"
   },
   {
    "duration": 289,
    "start_time": "2024-04-14T08:00:36.353Z"
   },
   {
    "duration": 230,
    "start_time": "2024-04-14T08:00:36.644Z"
   },
   {
    "duration": 276,
    "start_time": "2024-04-14T08:00:36.876Z"
   },
   {
    "duration": 219,
    "start_time": "2024-04-14T08:00:37.154Z"
   },
   {
    "duration": 213,
    "start_time": "2024-04-14T08:00:37.374Z"
   },
   {
    "duration": 235,
    "start_time": "2024-04-14T08:00:37.589Z"
   },
   {
    "duration": 237,
    "start_time": "2024-04-14T08:00:37.826Z"
   },
   {
    "duration": 237,
    "start_time": "2024-04-14T08:00:38.064Z"
   },
   {
    "duration": 237,
    "start_time": "2024-04-14T08:00:38.303Z"
   },
   {
    "duration": 316,
    "start_time": "2024-04-14T08:00:38.542Z"
   },
   {
    "duration": 30,
    "start_time": "2024-04-14T08:00:38.860Z"
   },
   {
    "duration": 7,
    "start_time": "2024-04-14T08:00:38.891Z"
   },
   {
    "duration": 63,
    "start_time": "2024-04-14T08:00:38.900Z"
   },
   {
    "duration": 6,
    "start_time": "2024-04-14T08:00:38.965Z"
   },
   {
    "duration": 15,
    "start_time": "2024-04-14T08:00:38.973Z"
   },
   {
    "duration": 3,
    "start_time": "2024-04-14T08:02:54.332Z"
   },
   {
    "duration": 68,
    "start_time": "2024-04-14T08:02:54.344Z"
   },
   {
    "duration": 15,
    "start_time": "2024-04-14T08:02:54.414Z"
   },
   {
    "duration": 36,
    "start_time": "2024-04-14T08:02:54.431Z"
   },
   {
    "duration": 16,
    "start_time": "2024-04-14T08:02:54.469Z"
   },
   {
    "duration": 10,
    "start_time": "2024-04-14T08:02:54.486Z"
   },
   {
    "duration": 12,
    "start_time": "2024-04-14T08:02:54.498Z"
   },
   {
    "duration": 10,
    "start_time": "2024-04-14T08:02:54.511Z"
   },
   {
    "duration": 44,
    "start_time": "2024-04-14T08:02:54.523Z"
   },
   {
    "duration": 5,
    "start_time": "2024-04-14T08:02:54.569Z"
   },
   {
    "duration": 16,
    "start_time": "2024-04-14T08:02:54.576Z"
   },
   {
    "duration": 31,
    "start_time": "2024-04-14T08:02:54.594Z"
   },
   {
    "duration": 6,
    "start_time": "2024-04-14T08:02:54.626Z"
   },
   {
    "duration": 7,
    "start_time": "2024-04-14T08:02:54.634Z"
   },
   {
    "duration": 21,
    "start_time": "2024-04-14T08:02:54.660Z"
   },
   {
    "duration": 19,
    "start_time": "2024-04-14T08:02:54.683Z"
   },
   {
    "duration": 50,
    "start_time": "2024-04-14T08:02:54.704Z"
   },
   {
    "duration": 381,
    "start_time": "2024-04-14T08:02:54.755Z"
   },
   {
    "duration": 375,
    "start_time": "2024-04-14T08:02:55.138Z"
   },
   {
    "duration": 13,
    "start_time": "2024-04-14T08:02:55.515Z"
   },
   {
    "duration": 299,
    "start_time": "2024-04-14T08:02:55.530Z"
   },
   {
    "duration": 208,
    "start_time": "2024-04-14T08:02:55.830Z"
   },
   {
    "duration": 27,
    "start_time": "2024-04-14T08:02:56.040Z"
   },
   {
    "duration": 221,
    "start_time": "2024-04-14T08:02:56.069Z"
   },
   {
    "duration": 210,
    "start_time": "2024-04-14T08:02:56.292Z"
   },
   {
    "duration": 28,
    "start_time": "2024-04-14T08:02:56.504Z"
   },
   {
    "duration": 7,
    "start_time": "2024-04-14T08:02:56.533Z"
   },
   {
    "duration": 9,
    "start_time": "2024-04-14T08:02:56.560Z"
   },
   {
    "duration": 181,
    "start_time": "2024-04-14T08:02:56.574Z"
   },
   {
    "duration": 5,
    "start_time": "2024-04-14T08:02:56.760Z"
   },
   {
    "duration": 188,
    "start_time": "2024-04-14T08:02:56.766Z"
   },
   {
    "duration": 9,
    "start_time": "2024-04-14T08:02:56.956Z"
   },
   {
    "duration": 332,
    "start_time": "2024-04-14T08:02:56.967Z"
   },
   {
    "duration": 4,
    "start_time": "2024-04-14T08:02:57.301Z"
   },
   {
    "duration": 189,
    "start_time": "2024-04-14T08:02:57.307Z"
   },
   {
    "duration": 5,
    "start_time": "2024-04-14T08:02:57.498Z"
   },
   {
    "duration": 248,
    "start_time": "2024-04-14T08:02:57.504Z"
   },
   {
    "duration": 206,
    "start_time": "2024-04-14T08:02:57.760Z"
   },
   {
    "duration": 257,
    "start_time": "2024-04-14T08:02:57.968Z"
   },
   {
    "duration": 213,
    "start_time": "2024-04-14T08:02:58.227Z"
   },
   {
    "duration": 238,
    "start_time": "2024-04-14T08:02:58.442Z"
   },
   {
    "duration": 253,
    "start_time": "2024-04-14T08:02:58.681Z"
   },
   {
    "duration": 212,
    "start_time": "2024-04-14T08:02:58.935Z"
   },
   {
    "duration": 217,
    "start_time": "2024-04-14T08:02:59.149Z"
   },
   {
    "duration": 235,
    "start_time": "2024-04-14T08:02:59.368Z"
   },
   {
    "duration": 333,
    "start_time": "2024-04-14T08:02:59.604Z"
   },
   {
    "duration": 46,
    "start_time": "2024-04-14T08:02:59.939Z"
   },
   {
    "duration": 6,
    "start_time": "2024-04-14T08:02:59.987Z"
   },
   {
    "duration": 53,
    "start_time": "2024-04-14T08:02:59.995Z"
   },
   {
    "duration": 17,
    "start_time": "2024-04-14T08:03:00.050Z"
   },
   {
    "duration": 52,
    "start_time": "2024-04-14T08:03:00.069Z"
   },
   {
    "duration": 3,
    "start_time": "2024-04-14T08:09:00.392Z"
   },
   {
    "duration": 140,
    "start_time": "2024-04-14T08:09:00.398Z"
   },
   {
    "duration": 16,
    "start_time": "2024-04-14T08:09:00.541Z"
   },
   {
    "duration": 74,
    "start_time": "2024-04-14T08:09:00.560Z"
   },
   {
    "duration": 68,
    "start_time": "2024-04-14T08:09:00.637Z"
   },
   {
    "duration": 83,
    "start_time": "2024-04-14T08:09:00.707Z"
   },
   {
    "duration": 171,
    "start_time": "2024-04-14T08:09:00.792Z"
   },
   {
    "duration": 102,
    "start_time": "2024-04-14T08:09:00.965Z"
   },
   {
    "duration": 66,
    "start_time": "2024-04-14T08:09:01.070Z"
   },
   {
    "duration": 33,
    "start_time": "2024-04-14T08:09:01.137Z"
   },
   {
    "duration": 48,
    "start_time": "2024-04-14T08:09:01.172Z"
   },
   {
    "duration": 68,
    "start_time": "2024-04-14T08:09:01.222Z"
   },
   {
    "duration": 34,
    "start_time": "2024-04-14T08:09:01.292Z"
   },
   {
    "duration": 65,
    "start_time": "2024-04-14T08:09:01.327Z"
   },
   {
    "duration": 45,
    "start_time": "2024-04-14T08:09:01.393Z"
   },
   {
    "duration": 55,
    "start_time": "2024-04-14T08:09:01.439Z"
   },
   {
    "duration": 101,
    "start_time": "2024-04-14T08:09:01.496Z"
   },
   {
    "duration": 403,
    "start_time": "2024-04-14T08:09:01.598Z"
   },
   {
    "duration": 340,
    "start_time": "2024-04-14T08:09:02.003Z"
   },
   {
    "duration": 21,
    "start_time": "2024-04-14T08:09:02.345Z"
   },
   {
    "duration": 284,
    "start_time": "2024-04-14T08:09:02.367Z"
   },
   {
    "duration": 207,
    "start_time": "2024-04-14T08:09:02.653Z"
   },
   {
    "duration": 18,
    "start_time": "2024-04-14T08:09:02.862Z"
   },
   {
    "duration": 228,
    "start_time": "2024-04-14T08:09:02.885Z"
   },
   {
    "duration": 228,
    "start_time": "2024-04-14T08:09:03.116Z"
   },
   {
    "duration": 38,
    "start_time": "2024-04-14T08:09:03.345Z"
   },
   {
    "duration": 6,
    "start_time": "2024-04-14T08:09:03.385Z"
   },
   {
    "duration": 24,
    "start_time": "2024-04-14T08:09:03.393Z"
   },
   {
    "duration": 203,
    "start_time": "2024-04-14T08:09:03.419Z"
   },
   {
    "duration": 4,
    "start_time": "2024-04-14T08:09:03.624Z"
   },
   {
    "duration": 190,
    "start_time": "2024-04-14T08:09:03.630Z"
   },
   {
    "duration": 4,
    "start_time": "2024-04-14T08:09:03.823Z"
   },
   {
    "duration": 304,
    "start_time": "2024-04-14T08:09:03.829Z"
   },
   {
    "duration": 5,
    "start_time": "2024-04-14T08:09:04.135Z"
   },
   {
    "duration": 191,
    "start_time": "2024-04-14T08:09:04.141Z"
   },
   {
    "duration": 4,
    "start_time": "2024-04-14T08:09:04.334Z"
   },
   {
    "duration": 259,
    "start_time": "2024-04-14T08:09:04.340Z"
   },
   {
    "duration": 230,
    "start_time": "2024-04-14T08:09:04.601Z"
   },
   {
    "duration": 259,
    "start_time": "2024-04-14T08:09:04.833Z"
   },
   {
    "duration": 214,
    "start_time": "2024-04-14T08:09:05.094Z"
   },
   {
    "duration": 213,
    "start_time": "2024-04-14T08:09:05.310Z"
   },
   {
    "duration": 241,
    "start_time": "2024-04-14T08:09:05.525Z"
   },
   {
    "duration": 219,
    "start_time": "2024-04-14T08:09:05.768Z"
   },
   {
    "duration": 224,
    "start_time": "2024-04-14T08:09:05.989Z"
   },
   {
    "duration": 253,
    "start_time": "2024-04-14T08:09:06.214Z"
   },
   {
    "duration": 319,
    "start_time": "2024-04-14T08:09:06.469Z"
   },
   {
    "duration": 29,
    "start_time": "2024-04-14T08:09:06.790Z"
   },
   {
    "duration": 7,
    "start_time": "2024-04-14T08:09:06.821Z"
   },
   {
    "duration": 54,
    "start_time": "2024-04-14T08:09:06.829Z"
   },
   {
    "duration": 5,
    "start_time": "2024-04-14T08:09:06.884Z"
   },
   {
    "duration": 5,
    "start_time": "2024-04-14T08:09:06.891Z"
   },
   {
    "duration": 3,
    "start_time": "2024-04-14T08:13:29.537Z"
   },
   {
    "duration": 69,
    "start_time": "2024-04-14T08:13:29.544Z"
   },
   {
    "duration": 15,
    "start_time": "2024-04-14T08:13:29.615Z"
   },
   {
    "duration": 30,
    "start_time": "2024-04-14T08:13:29.631Z"
   },
   {
    "duration": 16,
    "start_time": "2024-04-14T08:13:29.663Z"
   },
   {
    "duration": 10,
    "start_time": "2024-04-14T08:13:29.681Z"
   },
   {
    "duration": 24,
    "start_time": "2024-04-14T08:13:29.692Z"
   },
   {
    "duration": 16,
    "start_time": "2024-04-14T08:13:29.718Z"
   },
   {
    "duration": 26,
    "start_time": "2024-04-14T08:13:29.736Z"
   },
   {
    "duration": 5,
    "start_time": "2024-04-14T08:13:29.763Z"
   },
   {
    "duration": 8,
    "start_time": "2024-04-14T08:13:29.770Z"
   },
   {
    "duration": 22,
    "start_time": "2024-04-14T08:13:29.780Z"
   },
   {
    "duration": 5,
    "start_time": "2024-04-14T08:13:29.804Z"
   },
   {
    "duration": 17,
    "start_time": "2024-04-14T08:13:29.811Z"
   },
   {
    "duration": 33,
    "start_time": "2024-04-14T08:13:29.832Z"
   },
   {
    "duration": 31,
    "start_time": "2024-04-14T08:13:29.867Z"
   },
   {
    "duration": 34,
    "start_time": "2024-04-14T08:13:29.900Z"
   },
   {
    "duration": 378,
    "start_time": "2024-04-14T08:13:29.936Z"
   },
   {
    "duration": 394,
    "start_time": "2024-04-14T08:13:30.316Z"
   },
   {
    "duration": 14,
    "start_time": "2024-04-14T08:13:30.712Z"
   },
   {
    "duration": 336,
    "start_time": "2024-04-14T08:13:30.728Z"
   },
   {
    "duration": 201,
    "start_time": "2024-04-14T08:13:31.065Z"
   },
   {
    "duration": 17,
    "start_time": "2024-04-14T08:13:31.268Z"
   },
   {
    "duration": 255,
    "start_time": "2024-04-14T08:13:31.286Z"
   },
   {
    "duration": 209,
    "start_time": "2024-04-14T08:13:31.543Z"
   },
   {
    "duration": 36,
    "start_time": "2024-04-14T08:13:31.754Z"
   },
   {
    "duration": 7,
    "start_time": "2024-04-14T08:13:31.791Z"
   },
   {
    "duration": 44,
    "start_time": "2024-04-14T08:13:31.800Z"
   },
   {
    "duration": 245,
    "start_time": "2024-04-14T08:13:31.847Z"
   },
   {
    "duration": 6,
    "start_time": "2024-04-14T08:13:32.094Z"
   },
   {
    "duration": 201,
    "start_time": "2024-04-14T08:13:32.102Z"
   },
   {
    "duration": 5,
    "start_time": "2024-04-14T08:13:32.304Z"
   },
   {
    "duration": 291,
    "start_time": "2024-04-14T08:13:32.310Z"
   },
   {
    "duration": 4,
    "start_time": "2024-04-14T08:13:32.603Z"
   },
   {
    "duration": 203,
    "start_time": "2024-04-14T08:13:32.609Z"
   },
   {
    "duration": 4,
    "start_time": "2024-04-14T08:13:32.814Z"
   },
   {
    "duration": 250,
    "start_time": "2024-04-14T08:13:32.820Z"
   },
   {
    "duration": 217,
    "start_time": "2024-04-14T08:13:33.072Z"
   },
   {
    "duration": 242,
    "start_time": "2024-04-14T08:13:33.291Z"
   },
   {
    "duration": 216,
    "start_time": "2024-04-14T08:13:33.534Z"
   },
   {
    "duration": 217,
    "start_time": "2024-04-14T08:13:33.752Z"
   },
   {
    "duration": 234,
    "start_time": "2024-04-14T08:13:33.973Z"
   },
   {
    "duration": 199,
    "start_time": "2024-04-14T08:13:34.209Z"
   },
   {
    "duration": 251,
    "start_time": "2024-04-14T08:13:34.409Z"
   },
   {
    "duration": 249,
    "start_time": "2024-04-14T08:13:34.662Z"
   },
   {
    "duration": 562,
    "start_time": "2024-04-14T08:13:34.913Z"
   },
   {
    "duration": 31,
    "start_time": "2024-04-14T08:13:35.477Z"
   },
   {
    "duration": 7,
    "start_time": "2024-04-14T08:13:35.510Z"
   },
   {
    "duration": 56,
    "start_time": "2024-04-14T08:13:35.519Z"
   },
   {
    "duration": 6,
    "start_time": "2024-04-14T08:13:35.577Z"
   },
   {
    "duration": 10,
    "start_time": "2024-04-14T08:13:35.584Z"
   },
   {
    "duration": 20,
    "start_time": "2024-04-14T08:14:58.348Z"
   },
   {
    "duration": 2,
    "start_time": "2024-04-14T08:15:03.778Z"
   },
   {
    "duration": 82,
    "start_time": "2024-04-14T08:15:03.782Z"
   },
   {
    "duration": 21,
    "start_time": "2024-04-14T08:15:03.866Z"
   },
   {
    "duration": 20,
    "start_time": "2024-04-14T08:15:03.890Z"
   },
   {
    "duration": 50,
    "start_time": "2024-04-14T08:15:03.912Z"
   },
   {
    "duration": 15,
    "start_time": "2024-04-14T08:15:03.965Z"
   },
   {
    "duration": 18,
    "start_time": "2024-04-14T08:15:03.983Z"
   },
   {
    "duration": 17,
    "start_time": "2024-04-14T08:15:04.003Z"
   },
   {
    "duration": 52,
    "start_time": "2024-04-14T08:15:04.022Z"
   },
   {
    "duration": 5,
    "start_time": "2024-04-14T08:15:04.077Z"
   },
   {
    "duration": 6,
    "start_time": "2024-04-14T08:15:04.084Z"
   },
   {
    "duration": 22,
    "start_time": "2024-04-14T08:15:04.091Z"
   },
   {
    "duration": 6,
    "start_time": "2024-04-14T08:15:04.114Z"
   },
   {
    "duration": 40,
    "start_time": "2024-04-14T08:15:04.121Z"
   },
   {
    "duration": 16,
    "start_time": "2024-04-14T08:15:04.162Z"
   },
   {
    "duration": 13,
    "start_time": "2024-04-14T08:15:04.180Z"
   },
   {
    "duration": 24,
    "start_time": "2024-04-14T08:15:04.195Z"
   },
   {
    "duration": 427,
    "start_time": "2024-04-14T08:15:04.220Z"
   },
   {
    "duration": 340,
    "start_time": "2024-04-14T08:15:04.649Z"
   },
   {
    "duration": 12,
    "start_time": "2024-04-14T08:15:04.990Z"
   },
   {
    "duration": 299,
    "start_time": "2024-04-14T08:15:05.004Z"
   },
   {
    "duration": 217,
    "start_time": "2024-04-14T08:15:05.305Z"
   },
   {
    "duration": 18,
    "start_time": "2024-04-14T08:15:05.524Z"
   },
   {
    "duration": 255,
    "start_time": "2024-04-14T08:15:05.544Z"
   },
   {
    "duration": 293,
    "start_time": "2024-04-14T08:15:05.801Z"
   },
   {
    "duration": 34,
    "start_time": "2024-04-14T08:15:06.096Z"
   },
   {
    "duration": 6,
    "start_time": "2024-04-14T08:15:06.132Z"
   },
   {
    "duration": 12,
    "start_time": "2024-04-14T08:15:06.163Z"
   },
   {
    "duration": 211,
    "start_time": "2024-04-14T08:15:06.176Z"
   },
   {
    "duration": 6,
    "start_time": "2024-04-14T08:15:06.389Z"
   },
   {
    "duration": 240,
    "start_time": "2024-04-14T08:15:06.397Z"
   },
   {
    "duration": 4,
    "start_time": "2024-04-14T08:15:06.639Z"
   },
   {
    "duration": 305,
    "start_time": "2024-04-14T08:15:06.645Z"
   },
   {
    "duration": 4,
    "start_time": "2024-04-14T08:15:06.951Z"
   },
   {
    "duration": 243,
    "start_time": "2024-04-14T08:15:06.961Z"
   },
   {
    "duration": 6,
    "start_time": "2024-04-14T08:15:07.205Z"
   },
   {
    "duration": 260,
    "start_time": "2024-04-14T08:15:07.213Z"
   },
   {
    "duration": 233,
    "start_time": "2024-04-14T08:15:07.474Z"
   },
   {
    "duration": 255,
    "start_time": "2024-04-14T08:15:07.709Z"
   },
   {
    "duration": 222,
    "start_time": "2024-04-14T08:15:07.966Z"
   },
   {
    "duration": 212,
    "start_time": "2024-04-14T08:15:08.190Z"
   },
   {
    "duration": 236,
    "start_time": "2024-04-14T08:15:08.404Z"
   },
   {
    "duration": 230,
    "start_time": "2024-04-14T08:15:08.641Z"
   },
   {
    "duration": 218,
    "start_time": "2024-04-14T08:15:08.873Z"
   },
   {
    "duration": 244,
    "start_time": "2024-04-14T08:15:09.092Z"
   },
   {
    "duration": 313,
    "start_time": "2024-04-14T08:15:09.338Z"
   },
   {
    "duration": 33,
    "start_time": "2024-04-14T08:15:09.652Z"
   },
   {
    "duration": 24,
    "start_time": "2024-04-14T08:15:09.687Z"
   },
   {
    "duration": 62,
    "start_time": "2024-04-14T08:15:09.713Z"
   },
   {
    "duration": 14,
    "start_time": "2024-04-14T08:15:09.777Z"
   },
   {
    "duration": 39,
    "start_time": "2024-04-14T08:15:09.793Z"
   },
   {
    "duration": 1206,
    "start_time": "2024-04-14T08:18:10.022Z"
   },
   {
    "duration": 71,
    "start_time": "2024-04-14T08:18:11.230Z"
   },
   {
    "duration": 18,
    "start_time": "2024-04-14T08:18:11.302Z"
   },
   {
    "duration": 13,
    "start_time": "2024-04-14T08:18:11.322Z"
   },
   {
    "duration": 34,
    "start_time": "2024-04-14T08:18:11.337Z"
   },
   {
    "duration": 41,
    "start_time": "2024-04-14T08:18:11.373Z"
   },
   {
    "duration": 19,
    "start_time": "2024-04-14T08:18:11.416Z"
   },
   {
    "duration": 23,
    "start_time": "2024-04-14T08:18:11.437Z"
   },
   {
    "duration": 61,
    "start_time": "2024-04-14T08:18:11.462Z"
   },
   {
    "duration": 8,
    "start_time": "2024-04-14T08:18:11.526Z"
   },
   {
    "duration": 35,
    "start_time": "2024-04-14T08:18:11.536Z"
   },
   {
    "duration": 36,
    "start_time": "2024-04-14T08:18:11.573Z"
   },
   {
    "duration": 7,
    "start_time": "2024-04-14T08:18:11.610Z"
   },
   {
    "duration": 30,
    "start_time": "2024-04-14T08:18:11.619Z"
   },
   {
    "duration": 39,
    "start_time": "2024-04-14T08:18:11.651Z"
   },
   {
    "duration": 21,
    "start_time": "2024-04-14T08:18:11.692Z"
   },
   {
    "duration": 47,
    "start_time": "2024-04-14T08:18:11.715Z"
   },
   {
    "duration": 398,
    "start_time": "2024-04-14T08:18:11.764Z"
   },
   {
    "duration": 344,
    "start_time": "2024-04-14T08:18:12.164Z"
   },
   {
    "duration": 14,
    "start_time": "2024-04-14T08:18:12.510Z"
   },
   {
    "duration": 364,
    "start_time": "2024-04-14T08:18:12.526Z"
   },
   {
    "duration": 200,
    "start_time": "2024-04-14T08:18:12.892Z"
   },
   {
    "duration": 19,
    "start_time": "2024-04-14T08:18:13.094Z"
   },
   {
    "duration": 244,
    "start_time": "2024-04-14T08:18:13.115Z"
   },
   {
    "duration": 214,
    "start_time": "2024-04-14T08:18:13.360Z"
   },
   {
    "duration": 34,
    "start_time": "2024-04-14T08:18:13.576Z"
   },
   {
    "duration": 6,
    "start_time": "2024-04-14T08:18:13.612Z"
   },
   {
    "duration": 39,
    "start_time": "2024-04-14T08:18:13.621Z"
   },
   {
    "duration": 289,
    "start_time": "2024-04-14T08:18:13.662Z"
   },
   {
    "duration": 10,
    "start_time": "2024-04-14T08:18:13.953Z"
   },
   {
    "duration": 208,
    "start_time": "2024-04-14T08:18:13.964Z"
   },
   {
    "duration": 5,
    "start_time": "2024-04-14T08:18:14.173Z"
   },
   {
    "duration": 223,
    "start_time": "2024-04-14T08:18:14.179Z"
   },
   {
    "duration": 6,
    "start_time": "2024-04-14T08:18:14.404Z"
   },
   {
    "duration": 202,
    "start_time": "2024-04-14T08:18:14.411Z"
   },
   {
    "duration": 4,
    "start_time": "2024-04-14T08:18:14.615Z"
   },
   {
    "duration": 253,
    "start_time": "2024-04-14T08:18:14.620Z"
   },
   {
    "duration": 217,
    "start_time": "2024-04-14T08:18:14.875Z"
   },
   {
    "duration": 259,
    "start_time": "2024-04-14T08:18:15.093Z"
   },
   {
    "duration": 219,
    "start_time": "2024-04-14T08:18:15.354Z"
   },
   {
    "duration": 217,
    "start_time": "2024-04-14T08:18:15.575Z"
   },
   {
    "duration": 258,
    "start_time": "2024-04-14T08:18:15.793Z"
   },
   {
    "duration": 230,
    "start_time": "2024-04-14T08:18:16.053Z"
   },
   {
    "duration": 297,
    "start_time": "2024-04-14T08:18:16.285Z"
   },
   {
    "duration": 239,
    "start_time": "2024-04-14T08:18:16.584Z"
   },
   {
    "duration": 231,
    "start_time": "2024-04-14T08:18:16.825Z"
   },
   {
    "duration": 46,
    "start_time": "2024-04-14T08:18:17.061Z"
   },
   {
    "duration": 7,
    "start_time": "2024-04-14T08:18:17.109Z"
   },
   {
    "duration": 68,
    "start_time": "2024-04-14T08:18:17.118Z"
   },
   {
    "duration": 7,
    "start_time": "2024-04-14T08:18:17.187Z"
   },
   {
    "duration": 5,
    "start_time": "2024-04-14T08:18:17.196Z"
   }
  ],
  "kernelspec": {
   "display_name": "Python [conda env:base] *",
   "language": "python",
   "name": "conda-base-py"
  },
  "language_info": {
   "codemirror_mode": {
    "name": "ipython",
    "version": 3
   },
   "file_extension": ".py",
   "mimetype": "text/x-python",
   "name": "python",
   "nbconvert_exporter": "python",
   "pygments_lexer": "ipython3",
   "version": "3.11.5"
  },
  "toc": {
   "base_numbering": 1,
   "nav_menu": {
    "height": "375px",
    "width": "366.992px"
   },
   "number_sections": true,
   "sideBar": true,
   "skip_h1_title": true,
   "title_cell": "Table of Contents",
   "title_sidebar": "Contents",
   "toc_cell": false,
   "toc_position": {},
   "toc_section_display": true,
   "toc_window_display": false
  }
 },
 "nbformat": 4,
 "nbformat_minor": 4
}
