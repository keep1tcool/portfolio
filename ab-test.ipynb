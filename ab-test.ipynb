{
 "cells": [
  {
   "cell_type": "markdown",
   "metadata": {},
   "source": [
    "# Проект: Принятие решений в бизнесе"
   ]
  },
  {
   "cell_type": "markdown",
   "metadata": {},
   "source": [
    "Целью проекта является подтверждение/опровержение гипотез по нововведениям, которые могут увеличить выручку компании. В рамках исследования будут изучаться такие метрики, как выручка, средний чек на пользователя, количество заказов на пользователя, а также разные статистические метрики и тесты.\n",
    "\n",
    "План работы:\n",
    "1. Приоритизировать гипотезы\n",
    "2. Запустить A/B-тест\n",
    "3. Проанализировать результаты"
   ]
  },
  {
   "cell_type": "markdown",
   "metadata": {},
   "source": [
    "### Изучение исходного датафрейма"
   ]
  },
  {
   "cell_type": "code",
   "execution_count": 1,
   "metadata": {},
   "outputs": [],
   "source": [
    "import pandas as pd\n",
    "import datetime as dt\n",
    "from scipy import stats as st\n",
    "import numpy as np\n",
    "import matplotlib.pyplot as plt"
   ]
  },
  {
   "cell_type": "markdown",
   "metadata": {},
   "source": [
    "Импортируем необходимые библиотеки"
   ]
  },
  {
   "cell_type": "code",
   "execution_count": 2,
   "metadata": {
    "scrolled": true
   },
   "outputs": [
    {
     "name": "stdout",
     "output_type": "stream",
     "text": [
      "<class 'pandas.core.frame.DataFrame'>\n",
      "RangeIndex: 9 entries, 0 to 8\n",
      "Data columns (total 5 columns):\n",
      " #   Column      Non-Null Count  Dtype \n",
      "---  ------      --------------  ----- \n",
      " 0   Hypothesis  9 non-null      object\n",
      " 1   Reach       9 non-null      int64 \n",
      " 2   Impact      9 non-null      int64 \n",
      " 3   Confidence  9 non-null      int64 \n",
      " 4   Efforts     9 non-null      int64 \n",
      "dtypes: int64(4), object(1)\n",
      "memory usage: 488.0+ bytes\n"
     ]
    }
   ],
   "source": [
    "data_hypothesis = pd.read_csv('/datasets/hypothesis.csv')\n",
    "data_hypothesis.info()"
   ]
  },
  {
   "cell_type": "code",
   "execution_count": 3,
   "metadata": {},
   "outputs": [
    {
     "name": "stdout",
     "output_type": "stream",
     "text": [
      "<class 'pandas.core.frame.DataFrame'>\n",
      "RangeIndex: 1197 entries, 0 to 1196\n",
      "Data columns (total 5 columns):\n",
      " #   Column         Non-Null Count  Dtype \n",
      "---  ------         --------------  ----- \n",
      " 0   transactionId  1197 non-null   int64 \n",
      " 1   visitorId      1197 non-null   int64 \n",
      " 2   date           1197 non-null   object\n",
      " 3   revenue        1197 non-null   int64 \n",
      " 4   group          1197 non-null   object\n",
      "dtypes: int64(3), object(2)\n",
      "memory usage: 46.9+ KB\n"
     ]
    }
   ],
   "source": [
    "orders = pd.read_csv('/datasets/orders.csv', sep=',')\n",
    "orders.info()"
   ]
  },
  {
   "cell_type": "code",
   "execution_count": 4,
   "metadata": {
    "scrolled": true
   },
   "outputs": [
    {
     "data": {
      "text/html": [
       "<div>\n",
       "<style scoped>\n",
       "    .dataframe tbody tr th:only-of-type {\n",
       "        vertical-align: middle;\n",
       "    }\n",
       "\n",
       "    .dataframe tbody tr th {\n",
       "        vertical-align: top;\n",
       "    }\n",
       "\n",
       "    .dataframe thead th {\n",
       "        text-align: right;\n",
       "    }\n",
       "</style>\n",
       "<table border=\"1\" class=\"dataframe\">\n",
       "  <thead>\n",
       "    <tr style=\"text-align: right;\">\n",
       "      <th></th>\n",
       "      <th>transactionId</th>\n",
       "      <th>visitorId</th>\n",
       "      <th>date</th>\n",
       "      <th>revenue</th>\n",
       "      <th>group</th>\n",
       "    </tr>\n",
       "  </thead>\n",
       "  <tbody>\n",
       "    <tr>\n",
       "      <th>0</th>\n",
       "      <td>3667963787</td>\n",
       "      <td>3312258926</td>\n",
       "      <td>2019-08-15</td>\n",
       "      <td>1650</td>\n",
       "      <td>B</td>\n",
       "    </tr>\n",
       "    <tr>\n",
       "      <th>1</th>\n",
       "      <td>2804400009</td>\n",
       "      <td>3642806036</td>\n",
       "      <td>2019-08-15</td>\n",
       "      <td>730</td>\n",
       "      <td>B</td>\n",
       "    </tr>\n",
       "    <tr>\n",
       "      <th>2</th>\n",
       "      <td>2961555356</td>\n",
       "      <td>4069496402</td>\n",
       "      <td>2019-08-15</td>\n",
       "      <td>400</td>\n",
       "      <td>A</td>\n",
       "    </tr>\n",
       "    <tr>\n",
       "      <th>3</th>\n",
       "      <td>3797467345</td>\n",
       "      <td>1196621759</td>\n",
       "      <td>2019-08-15</td>\n",
       "      <td>9759</td>\n",
       "      <td>B</td>\n",
       "    </tr>\n",
       "    <tr>\n",
       "      <th>4</th>\n",
       "      <td>2282983706</td>\n",
       "      <td>2322279887</td>\n",
       "      <td>2019-08-15</td>\n",
       "      <td>2308</td>\n",
       "      <td>B</td>\n",
       "    </tr>\n",
       "  </tbody>\n",
       "</table>\n",
       "</div>"
      ],
      "text/plain": [
       "   transactionId   visitorId        date  revenue group\n",
       "0     3667963787  3312258926  2019-08-15     1650     B\n",
       "1     2804400009  3642806036  2019-08-15      730     B\n",
       "2     2961555356  4069496402  2019-08-15      400     A\n",
       "3     3797467345  1196621759  2019-08-15     9759     B\n",
       "4     2282983706  2322279887  2019-08-15     2308     B"
      ]
     },
     "execution_count": 4,
     "metadata": {},
     "output_type": "execute_result"
    }
   ],
   "source": [
    "orders.head()"
   ]
  },
  {
   "cell_type": "code",
   "execution_count": 5,
   "metadata": {},
   "outputs": [
    {
     "name": "stdout",
     "output_type": "stream",
     "text": [
      "<class 'pandas.core.frame.DataFrame'>\n",
      "RangeIndex: 62 entries, 0 to 61\n",
      "Data columns (total 3 columns):\n",
      " #   Column    Non-Null Count  Dtype \n",
      "---  ------    --------------  ----- \n",
      " 0   date      62 non-null     object\n",
      " 1   group     62 non-null     object\n",
      " 2   visitors  62 non-null     int64 \n",
      "dtypes: int64(1), object(2)\n",
      "memory usage: 1.6+ KB\n"
     ]
    }
   ],
   "source": [
    "visitors = pd.read_csv('/datasets/visitors.csv', sep=',')\n",
    "visitors.info()"
   ]
  },
  {
   "cell_type": "code",
   "execution_count": 6,
   "metadata": {
    "scrolled": true
   },
   "outputs": [
    {
     "data": {
      "text/html": [
       "<div>\n",
       "<style scoped>\n",
       "    .dataframe tbody tr th:only-of-type {\n",
       "        vertical-align: middle;\n",
       "    }\n",
       "\n",
       "    .dataframe tbody tr th {\n",
       "        vertical-align: top;\n",
       "    }\n",
       "\n",
       "    .dataframe thead th {\n",
       "        text-align: right;\n",
       "    }\n",
       "</style>\n",
       "<table border=\"1\" class=\"dataframe\">\n",
       "  <thead>\n",
       "    <tr style=\"text-align: right;\">\n",
       "      <th></th>\n",
       "      <th>date</th>\n",
       "      <th>group</th>\n",
       "      <th>visitors</th>\n",
       "    </tr>\n",
       "  </thead>\n",
       "  <tbody>\n",
       "    <tr>\n",
       "      <th>0</th>\n",
       "      <td>2019-08-01</td>\n",
       "      <td>A</td>\n",
       "      <td>719</td>\n",
       "    </tr>\n",
       "    <tr>\n",
       "      <th>1</th>\n",
       "      <td>2019-08-02</td>\n",
       "      <td>A</td>\n",
       "      <td>619</td>\n",
       "    </tr>\n",
       "    <tr>\n",
       "      <th>2</th>\n",
       "      <td>2019-08-03</td>\n",
       "      <td>A</td>\n",
       "      <td>507</td>\n",
       "    </tr>\n",
       "    <tr>\n",
       "      <th>3</th>\n",
       "      <td>2019-08-04</td>\n",
       "      <td>A</td>\n",
       "      <td>717</td>\n",
       "    </tr>\n",
       "    <tr>\n",
       "      <th>4</th>\n",
       "      <td>2019-08-05</td>\n",
       "      <td>A</td>\n",
       "      <td>756</td>\n",
       "    </tr>\n",
       "  </tbody>\n",
       "</table>\n",
       "</div>"
      ],
      "text/plain": [
       "         date group  visitors\n",
       "0  2019-08-01     A       719\n",
       "1  2019-08-02     A       619\n",
       "2  2019-08-03     A       507\n",
       "3  2019-08-04     A       717\n",
       "4  2019-08-05     A       756"
      ]
     },
     "execution_count": 6,
     "metadata": {},
     "output_type": "execute_result"
    }
   ],
   "source": [
    "visitors.head()"
   ]
  },
  {
   "cell_type": "markdown",
   "metadata": {},
   "source": [
    "Из первичной информации видим, что пропусков в данных нет. А пока приведем названия столбцов датафрейма data_hypothesis к нижнему регистру для более удобной работы с ними. Также необходимо изменить тип данных в датафреймах orders и visitors с object на date."
   ]
  },
  {
   "cell_type": "code",
   "execution_count": 7,
   "metadata": {
    "scrolled": true
   },
   "outputs": [
    {
     "data": {
      "text/html": [
       "<div>\n",
       "<style scoped>\n",
       "    .dataframe tbody tr th:only-of-type {\n",
       "        vertical-align: middle;\n",
       "    }\n",
       "\n",
       "    .dataframe tbody tr th {\n",
       "        vertical-align: top;\n",
       "    }\n",
       "\n",
       "    .dataframe thead th {\n",
       "        text-align: right;\n",
       "    }\n",
       "</style>\n",
       "<table border=\"1\" class=\"dataframe\">\n",
       "  <thead>\n",
       "    <tr style=\"text-align: right;\">\n",
       "      <th></th>\n",
       "      <th>hypothesis</th>\n",
       "      <th>reach</th>\n",
       "      <th>impact</th>\n",
       "      <th>confidence</th>\n",
       "      <th>efforts</th>\n",
       "    </tr>\n",
       "  </thead>\n",
       "  <tbody>\n",
       "    <tr>\n",
       "      <th>0</th>\n",
       "      <td>Добавить два новых канала привлечения трафика, что позволит привлекать на 30% больше пользователей</td>\n",
       "      <td>3</td>\n",
       "      <td>10</td>\n",
       "      <td>8</td>\n",
       "      <td>6</td>\n",
       "    </tr>\n",
       "    <tr>\n",
       "      <th>1</th>\n",
       "      <td>Запустить собственную службу доставки, что сократит срок доставки заказов</td>\n",
       "      <td>2</td>\n",
       "      <td>5</td>\n",
       "      <td>4</td>\n",
       "      <td>10</td>\n",
       "    </tr>\n",
       "    <tr>\n",
       "      <th>2</th>\n",
       "      <td>Добавить блоки рекомендаций товаров на сайт интернет магазина, чтобы повысить конверсию и средний чек заказа</td>\n",
       "      <td>8</td>\n",
       "      <td>3</td>\n",
       "      <td>7</td>\n",
       "      <td>3</td>\n",
       "    </tr>\n",
       "    <tr>\n",
       "      <th>3</th>\n",
       "      <td>Изменить структура категорий, что увеличит конверсию, т.к. пользователи быстрее найдут нужный товар</td>\n",
       "      <td>8</td>\n",
       "      <td>3</td>\n",
       "      <td>3</td>\n",
       "      <td>8</td>\n",
       "    </tr>\n",
       "    <tr>\n",
       "      <th>4</th>\n",
       "      <td>Изменить цвет фона главной страницы, чтобы увеличить вовлеченность пользователей</td>\n",
       "      <td>3</td>\n",
       "      <td>1</td>\n",
       "      <td>1</td>\n",
       "      <td>1</td>\n",
       "    </tr>\n",
       "  </tbody>\n",
       "</table>\n",
       "</div>"
      ],
      "text/plain": [
       "                                                                                                     hypothesis  \\\n",
       "0            Добавить два новых канала привлечения трафика, что позволит привлекать на 30% больше пользователей   \n",
       "1                                     Запустить собственную службу доставки, что сократит срок доставки заказов   \n",
       "2  Добавить блоки рекомендаций товаров на сайт интернет магазина, чтобы повысить конверсию и средний чек заказа   \n",
       "3           Изменить структура категорий, что увеличит конверсию, т.к. пользователи быстрее найдут нужный товар   \n",
       "4                              Изменить цвет фона главной страницы, чтобы увеличить вовлеченность пользователей   \n",
       "\n",
       "   reach  impact  confidence  efforts  \n",
       "0      3      10           8        6  \n",
       "1      2       5           4       10  \n",
       "2      8       3           7        3  \n",
       "3      8       3           3        8  \n",
       "4      3       1           1        1  "
      ]
     },
     "execution_count": 7,
     "metadata": {},
     "output_type": "execute_result"
    }
   ],
   "source": [
    "pd.options.display.max_colwidth = 150\n",
    "data_hypothesis.columns = data_hypothesis.columns.str.lower()\n",
    "data_hypothesis.head()"
   ]
  },
  {
   "cell_type": "code",
   "execution_count": 8,
   "metadata": {},
   "outputs": [],
   "source": [
    "orders['date'] = pd.to_datetime(orders['date'])\n",
    "visitors['date'] = pd.to_datetime(visitors['date'])"
   ]
  },
  {
   "cell_type": "markdown",
   "metadata": {},
   "source": [
    "Сразу приведем столбцы date к подходящему типу данных и формату даты."
   ]
  },
  {
   "cell_type": "code",
   "execution_count": 9,
   "metadata": {},
   "outputs": [
    {
     "data": {
      "text/plain": [
       "0"
      ]
     },
     "metadata": {},
     "output_type": "display_data"
    },
    {
     "data": {
      "text/plain": [
       "0"
      ]
     },
     "metadata": {},
     "output_type": "display_data"
    },
    {
     "data": {
      "text/plain": [
       "0"
      ]
     },
     "metadata": {},
     "output_type": "display_data"
    }
   ],
   "source": [
    "display(data_hypothesis.duplicated().sum())\n",
    "display(orders.duplicated().sum())\n",
    "display(visitors.duplicated().sum())"
   ]
  },
  {
   "cell_type": "code",
   "execution_count": 10,
   "metadata": {},
   "outputs": [
    {
     "data": {
      "text/plain": [
       "hypothesis    0\n",
       "reach         0\n",
       "impact        0\n",
       "confidence    0\n",
       "efforts       0\n",
       "dtype: int64"
      ]
     },
     "metadata": {},
     "output_type": "display_data"
    },
    {
     "data": {
      "text/plain": [
       "transactionId    0\n",
       "visitorId        0\n",
       "date             0\n",
       "revenue          0\n",
       "group            0\n",
       "dtype: int64"
      ]
     },
     "metadata": {},
     "output_type": "display_data"
    },
    {
     "data": {
      "text/plain": [
       "date        0\n",
       "group       0\n",
       "visitors    0\n",
       "dtype: int64"
      ]
     },
     "metadata": {},
     "output_type": "display_data"
    }
   ],
   "source": [
    "display(data_hypothesis.isna().sum())\n",
    "display(orders.isna().sum())\n",
    "display(visitors.isna().sum())"
   ]
  },
  {
   "cell_type": "markdown",
   "metadata": {},
   "source": [
    "Также проверяем количество явных дубликатов и пропусков во всех датафреймах, в нашем случае их 0 - отлично!"
   ]
  },
  {
   "cell_type": "markdown",
   "metadata": {},
   "source": [
    "Первичная обработка датафрейма завершена. Названия столбцов были приведены к единому нижнему регистру, был изменен тип данных в датафреймах orders и visitors с object на date, а также были проверены явные дубликаты и пропуски, которые отсутствуют."
   ]
  },
  {
   "cell_type": "markdown",
   "metadata": {},
   "source": [
    "### Приоритизация гипотез"
   ]
  },
  {
   "cell_type": "markdown",
   "metadata": {},
   "source": [
    "#### Применение фреймворка ICE для приоритизации гипотез. Сортировка гипотез по убыванию приоритета.\n"
   ]
  },
  {
   "cell_type": "code",
   "execution_count": 11,
   "metadata": {},
   "outputs": [
    {
     "data": {
      "text/html": [
       "<div>\n",
       "<style scoped>\n",
       "    .dataframe tbody tr th:only-of-type {\n",
       "        vertical-align: middle;\n",
       "    }\n",
       "\n",
       "    .dataframe tbody tr th {\n",
       "        vertical-align: top;\n",
       "    }\n",
       "\n",
       "    .dataframe thead th {\n",
       "        text-align: right;\n",
       "    }\n",
       "</style>\n",
       "<table border=\"1\" class=\"dataframe\">\n",
       "  <thead>\n",
       "    <tr style=\"text-align: right;\">\n",
       "      <th></th>\n",
       "      <th>hypothesis</th>\n",
       "      <th>reach</th>\n",
       "      <th>impact</th>\n",
       "      <th>confidence</th>\n",
       "      <th>efforts</th>\n",
       "      <th>ice</th>\n",
       "    </tr>\n",
       "  </thead>\n",
       "  <tbody>\n",
       "    <tr>\n",
       "      <th>8</th>\n",
       "      <td>Запустить акцию, дающую скидку на товар в день рождения</td>\n",
       "      <td>1</td>\n",
       "      <td>9</td>\n",
       "      <td>9</td>\n",
       "      <td>5</td>\n",
       "      <td>16.20</td>\n",
       "    </tr>\n",
       "    <tr>\n",
       "      <th>0</th>\n",
       "      <td>Добавить два новых канала привлечения трафика, что позволит привлекать на 30% больше пользователей</td>\n",
       "      <td>3</td>\n",
       "      <td>10</td>\n",
       "      <td>8</td>\n",
       "      <td>6</td>\n",
       "      <td>13.33</td>\n",
       "    </tr>\n",
       "    <tr>\n",
       "      <th>7</th>\n",
       "      <td>Добавить форму подписки на все основные страницы, чтобы собрать базу клиентов для email-рассылок</td>\n",
       "      <td>10</td>\n",
       "      <td>7</td>\n",
       "      <td>8</td>\n",
       "      <td>5</td>\n",
       "      <td>11.20</td>\n",
       "    </tr>\n",
       "    <tr>\n",
       "      <th>6</th>\n",
       "      <td>Показать на главной странице баннеры с актуальными акциями и распродажами, чтобы увеличить конверсию</td>\n",
       "      <td>5</td>\n",
       "      <td>3</td>\n",
       "      <td>8</td>\n",
       "      <td>3</td>\n",
       "      <td>8.00</td>\n",
       "    </tr>\n",
       "    <tr>\n",
       "      <th>2</th>\n",
       "      <td>Добавить блоки рекомендаций товаров на сайт интернет магазина, чтобы повысить конверсию и средний чек заказа</td>\n",
       "      <td>8</td>\n",
       "      <td>3</td>\n",
       "      <td>7</td>\n",
       "      <td>3</td>\n",
       "      <td>7.00</td>\n",
       "    </tr>\n",
       "    <tr>\n",
       "      <th>1</th>\n",
       "      <td>Запустить собственную службу доставки, что сократит срок доставки заказов</td>\n",
       "      <td>2</td>\n",
       "      <td>5</td>\n",
       "      <td>4</td>\n",
       "      <td>10</td>\n",
       "      <td>2.00</td>\n",
       "    </tr>\n",
       "    <tr>\n",
       "      <th>5</th>\n",
       "      <td>Добавить страницу отзывов клиентов о магазине, что позволит увеличить количество заказов</td>\n",
       "      <td>3</td>\n",
       "      <td>2</td>\n",
       "      <td>2</td>\n",
       "      <td>3</td>\n",
       "      <td>1.33</td>\n",
       "    </tr>\n",
       "    <tr>\n",
       "      <th>3</th>\n",
       "      <td>Изменить структура категорий, что увеличит конверсию, т.к. пользователи быстрее найдут нужный товар</td>\n",
       "      <td>8</td>\n",
       "      <td>3</td>\n",
       "      <td>3</td>\n",
       "      <td>8</td>\n",
       "      <td>1.12</td>\n",
       "    </tr>\n",
       "    <tr>\n",
       "      <th>4</th>\n",
       "      <td>Изменить цвет фона главной страницы, чтобы увеличить вовлеченность пользователей</td>\n",
       "      <td>3</td>\n",
       "      <td>1</td>\n",
       "      <td>1</td>\n",
       "      <td>1</td>\n",
       "      <td>1.00</td>\n",
       "    </tr>\n",
       "  </tbody>\n",
       "</table>\n",
       "</div>"
      ],
      "text/plain": [
       "                                                                                                     hypothesis  \\\n",
       "8                                                       Запустить акцию, дающую скидку на товар в день рождения   \n",
       "0            Добавить два новых канала привлечения трафика, что позволит привлекать на 30% больше пользователей   \n",
       "7              Добавить форму подписки на все основные страницы, чтобы собрать базу клиентов для email-рассылок   \n",
       "6          Показать на главной странице баннеры с актуальными акциями и распродажами, чтобы увеличить конверсию   \n",
       "2  Добавить блоки рекомендаций товаров на сайт интернет магазина, чтобы повысить конверсию и средний чек заказа   \n",
       "1                                     Запустить собственную службу доставки, что сократит срок доставки заказов   \n",
       "5                      Добавить страницу отзывов клиентов о магазине, что позволит увеличить количество заказов   \n",
       "3           Изменить структура категорий, что увеличит конверсию, т.к. пользователи быстрее найдут нужный товар   \n",
       "4                              Изменить цвет фона главной страницы, чтобы увеличить вовлеченность пользователей   \n",
       "\n",
       "   reach  impact  confidence  efforts    ice  \n",
       "8      1       9           9        5  16.20  \n",
       "0      3      10           8        6  13.33  \n",
       "7     10       7           8        5  11.20  \n",
       "6      5       3           8        3   8.00  \n",
       "2      8       3           7        3   7.00  \n",
       "1      2       5           4       10   2.00  \n",
       "5      3       2           2        3   1.33  \n",
       "3      8       3           3        8   1.12  \n",
       "4      3       1           1        1   1.00  "
      ]
     },
     "execution_count": 11,
     "metadata": {},
     "output_type": "execute_result"
    }
   ],
   "source": [
    "data_hypothesis['ice'] = data_hypothesis['impact'] * data_hypothesis['confidence']/ data_hypothesis['efforts']\n",
    "data_hypothesis['ice'] = data_hypothesis['ice'].round(2)\n",
    "data_hypothesis.sort_values(by = 'ice', ascending=False)"
   ]
  },
  {
   "cell_type": "markdown",
   "metadata": {},
   "source": [
    "####  Применение фреймворка RICE для приоритизации гипотез. Сортировка гипотез по убыванию приоритета."
   ]
  },
  {
   "cell_type": "code",
   "execution_count": 12,
   "metadata": {},
   "outputs": [
    {
     "data": {
      "text/html": [
       "<div>\n",
       "<style scoped>\n",
       "    .dataframe tbody tr th:only-of-type {\n",
       "        vertical-align: middle;\n",
       "    }\n",
       "\n",
       "    .dataframe tbody tr th {\n",
       "        vertical-align: top;\n",
       "    }\n",
       "\n",
       "    .dataframe thead th {\n",
       "        text-align: right;\n",
       "    }\n",
       "</style>\n",
       "<table border=\"1\" class=\"dataframe\">\n",
       "  <thead>\n",
       "    <tr style=\"text-align: right;\">\n",
       "      <th></th>\n",
       "      <th>hypothesis</th>\n",
       "      <th>reach</th>\n",
       "      <th>impact</th>\n",
       "      <th>confidence</th>\n",
       "      <th>efforts</th>\n",
       "      <th>ice</th>\n",
       "      <th>rice</th>\n",
       "    </tr>\n",
       "  </thead>\n",
       "  <tbody>\n",
       "    <tr>\n",
       "      <th>7</th>\n",
       "      <td>Добавить форму подписки на все основные страницы, чтобы собрать базу клиентов для email-рассылок</td>\n",
       "      <td>10</td>\n",
       "      <td>7</td>\n",
       "      <td>8</td>\n",
       "      <td>5</td>\n",
       "      <td>11.20</td>\n",
       "      <td>112.0</td>\n",
       "    </tr>\n",
       "    <tr>\n",
       "      <th>2</th>\n",
       "      <td>Добавить блоки рекомендаций товаров на сайт интернет магазина, чтобы повысить конверсию и средний чек заказа</td>\n",
       "      <td>8</td>\n",
       "      <td>3</td>\n",
       "      <td>7</td>\n",
       "      <td>3</td>\n",
       "      <td>7.00</td>\n",
       "      <td>56.0</td>\n",
       "    </tr>\n",
       "    <tr>\n",
       "      <th>0</th>\n",
       "      <td>Добавить два новых канала привлечения трафика, что позволит привлекать на 30% больше пользователей</td>\n",
       "      <td>3</td>\n",
       "      <td>10</td>\n",
       "      <td>8</td>\n",
       "      <td>6</td>\n",
       "      <td>13.33</td>\n",
       "      <td>40.0</td>\n",
       "    </tr>\n",
       "    <tr>\n",
       "      <th>6</th>\n",
       "      <td>Показать на главной странице баннеры с актуальными акциями и распродажами, чтобы увеличить конверсию</td>\n",
       "      <td>5</td>\n",
       "      <td>3</td>\n",
       "      <td>8</td>\n",
       "      <td>3</td>\n",
       "      <td>8.00</td>\n",
       "      <td>40.0</td>\n",
       "    </tr>\n",
       "    <tr>\n",
       "      <th>8</th>\n",
       "      <td>Запустить акцию, дающую скидку на товар в день рождения</td>\n",
       "      <td>1</td>\n",
       "      <td>9</td>\n",
       "      <td>9</td>\n",
       "      <td>5</td>\n",
       "      <td>16.20</td>\n",
       "      <td>16.2</td>\n",
       "    </tr>\n",
       "    <tr>\n",
       "      <th>3</th>\n",
       "      <td>Изменить структура категорий, что увеличит конверсию, т.к. пользователи быстрее найдут нужный товар</td>\n",
       "      <td>8</td>\n",
       "      <td>3</td>\n",
       "      <td>3</td>\n",
       "      <td>8</td>\n",
       "      <td>1.12</td>\n",
       "      <td>9.0</td>\n",
       "    </tr>\n",
       "    <tr>\n",
       "      <th>1</th>\n",
       "      <td>Запустить собственную службу доставки, что сократит срок доставки заказов</td>\n",
       "      <td>2</td>\n",
       "      <td>5</td>\n",
       "      <td>4</td>\n",
       "      <td>10</td>\n",
       "      <td>2.00</td>\n",
       "      <td>4.0</td>\n",
       "    </tr>\n",
       "    <tr>\n",
       "      <th>5</th>\n",
       "      <td>Добавить страницу отзывов клиентов о магазине, что позволит увеличить количество заказов</td>\n",
       "      <td>3</td>\n",
       "      <td>2</td>\n",
       "      <td>2</td>\n",
       "      <td>3</td>\n",
       "      <td>1.33</td>\n",
       "      <td>4.0</td>\n",
       "    </tr>\n",
       "    <tr>\n",
       "      <th>4</th>\n",
       "      <td>Изменить цвет фона главной страницы, чтобы увеличить вовлеченность пользователей</td>\n",
       "      <td>3</td>\n",
       "      <td>1</td>\n",
       "      <td>1</td>\n",
       "      <td>1</td>\n",
       "      <td>1.00</td>\n",
       "      <td>3.0</td>\n",
       "    </tr>\n",
       "  </tbody>\n",
       "</table>\n",
       "</div>"
      ],
      "text/plain": [
       "                                                                                                     hypothesis  \\\n",
       "7              Добавить форму подписки на все основные страницы, чтобы собрать базу клиентов для email-рассылок   \n",
       "2  Добавить блоки рекомендаций товаров на сайт интернет магазина, чтобы повысить конверсию и средний чек заказа   \n",
       "0            Добавить два новых канала привлечения трафика, что позволит привлекать на 30% больше пользователей   \n",
       "6          Показать на главной странице баннеры с актуальными акциями и распродажами, чтобы увеличить конверсию   \n",
       "8                                                       Запустить акцию, дающую скидку на товар в день рождения   \n",
       "3           Изменить структура категорий, что увеличит конверсию, т.к. пользователи быстрее найдут нужный товар   \n",
       "1                                     Запустить собственную службу доставки, что сократит срок доставки заказов   \n",
       "5                      Добавить страницу отзывов клиентов о магазине, что позволит увеличить количество заказов   \n",
       "4                              Изменить цвет фона главной страницы, чтобы увеличить вовлеченность пользователей   \n",
       "\n",
       "   reach  impact  confidence  efforts    ice   rice  \n",
       "7     10       7           8        5  11.20  112.0  \n",
       "2      8       3           7        3   7.00   56.0  \n",
       "0      3      10           8        6  13.33   40.0  \n",
       "6      5       3           8        3   8.00   40.0  \n",
       "8      1       9           9        5  16.20   16.2  \n",
       "3      8       3           3        8   1.12    9.0  \n",
       "1      2       5           4       10   2.00    4.0  \n",
       "5      3       2           2        3   1.33    4.0  \n",
       "4      3       1           1        1   1.00    3.0  "
      ]
     },
     "execution_count": 12,
     "metadata": {},
     "output_type": "execute_result"
    }
   ],
   "source": [
    "data_hypothesis['rice'] = data_hypothesis['reach'] * data_hypothesis['impact'] * data_hypothesis['confidence']/ data_hypothesis['efforts']\n",
    "data_hypothesis.sort_values(by = 'rice', ascending=False)"
   ]
  },
  {
   "cell_type": "markdown",
   "metadata": {},
   "source": [
    "Анализируя результаты, можно сделать вывод о том, что наиболее перспективными гипотезами по методу ICE являются гипотезы:\n",
    "\n",
    "7 - Добавить форму подписки на все основные страницы, чтобы собрать базу клиентов для email-рассылок\n",
    "0 - Добавить два новых канала привлечения трафика, что позволит привлекать на 30% больше пользователей\t\n",
    "6 - Показать на главной странице баннеры с актуальными акциями и распродажами, чтобы увеличить конверсию\t\n",
    "8 - Запустить акцию, дающую скидку на товар в день рождения\n",
    "\n",
    "А по методу RICE:\n",
    "\n",
    "7 - Добавить форму подписки на все основные страницы, чтобы собрать базу клиентов для email-рассылок\n",
    "2 - Добавить блоки рекомендаций товаров на сайт интернет магазина, чтобы повысить конверсию и средний чек заказа\n",
    "0 - Добавить два новых канала привлечения трафика, что позволит привлекать на 30% больше пользователей\t\n",
    "6 - Показать на главной странице баннеры с актуальными акциями и распродажами, чтобы увеличить конверсию\t\n",
    "\n",
    "\n",
    "На это повлиял уровень охвата пользователей. Он измеряется количеством пользователей или событий за определенный период времени. Этот фактор предназначен для оценки того, на какое количество пользователей повлияет каждое нововведение в течение определенного количества времени, а также какое количество пользователей увидят такие изменения. Именно из-за параметра Reach (который используется в методе RICE) появились изменения в приоритизации."
   ]
  },
  {
   "cell_type": "markdown",
   "metadata": {},
   "source": [
    "### Анализ A/B-теста"
   ]
  },
  {
   "cell_type": "markdown",
   "metadata": {},
   "source": [
    "#### Построение графика кумулятивной выручки по группам"
   ]
  },
  {
   "cell_type": "code",
   "execution_count": 13,
   "metadata": {},
   "outputs": [
    {
     "name": "stdout",
     "output_type": "stream",
     "text": [
      "Дата начала теста: 168   2019-08-01\n",
      "Name: date, dtype: datetime64[ns]\n",
      "Дата конца теста: 959   2019-08-31\n",
      "Name: date, dtype: datetime64[ns]\n"
     ]
    }
   ],
   "source": [
    "print('Дата начала теста:', orders['date'].sort_values().head(1))\n",
    "print('Дата конца теста:', orders['date'].sort_values().tail(1))"
   ]
  },
  {
   "cell_type": "markdown",
   "metadata": {},
   "source": [
    "Для начала выведем временной интервал теста"
   ]
  },
  {
   "cell_type": "code",
   "execution_count": 14,
   "metadata": {},
   "outputs": [
    {
     "data": {
      "text/plain": [
       "group\n",
       "A    503\n",
       "B    586\n",
       "Name: visitorId, dtype: int64"
      ]
     },
     "execution_count": 14,
     "metadata": {},
     "output_type": "execute_result"
    }
   ],
   "source": [
    "orders.groupby('group').nunique('visitorId')['visitorId']"
   ]
  },
  {
   "cell_type": "markdown",
   "metadata": {},
   "source": [
    "А также количество участников, распределенных по группам - это очень важная часть. Если группы будут не однородными, то точность теста будет низкой. Обнаружено, что количество пользователей в группе В на 83 пользователя больше - на 7,6%. Разница почти в 10%, по моему мнению, довольно большая и точность такого теста может быть на порядок ниже, чем при полностью равных группах."
   ]
  },
  {
   "cell_type": "code",
   "execution_count": 15,
   "metadata": {},
   "outputs": [],
   "source": [
    "datesGroups = orders[['date', 'group']].drop_duplicates()\n",
    "\n",
    "ordersAggregated = datesGroups.apply(\n",
    "    lambda x: orders[\n",
    "        np.logical_and(\n",
    "            orders['date'] <= x['date'], orders['group'] == x['group']\n",
    "        )\n",
    "    ].agg(\n",
    "        {\n",
    "            'date': 'max',\n",
    "            'group': 'max',\n",
    "            'transactionId': 'nunique',\n",
    "            'visitorId': 'nunique',\n",
    "            'revenue': 'sum',\n",
    "        }\n",
    "    ),\n",
    "    axis=1,\n",
    ").sort_values(by=['date', 'group'])\n",
    "\n",
    "visitorsAggregated = datesGroups.apply(\n",
    "    lambda x: visitors[\n",
    "        np.logical_and(\n",
    "            visitors['date'] <= x['date'], visitors['group'] == x['group']\n",
    "        )\n",
    "    ].agg({'date': 'max', 'group': 'max', 'visitors': 'sum'}),\n",
    "    axis=1,\n",
    ").sort_values(by=['date', 'group'])\n",
    "\n",
    "cumulativeData = ordersAggregated.merge(\n",
    "    visitorsAggregated, left_on=['date', 'group'], right_on=['date', 'group']\n",
    ")\n",
    "cumulativeData.columns = [\n",
    "    'date',\n",
    "    'group',\n",
    "    'orders',\n",
    "    'buyers',\n",
    "    'revenue',\n",
    "    'visitors',\n",
    "]"
   ]
  },
  {
   "cell_type": "code",
   "execution_count": 16,
   "metadata": {},
   "outputs": [
    {
     "data": {
      "image/png": "[encoded data removed]",
      "text/plain": [
       "<Figure size 864x504 with 1 Axes>"
      ]
     },
     "metadata": {
      "needs_background": "light"
     },
     "output_type": "display_data"
    }
   ],
   "source": [
    "plt.rcParams[\"figure.figsize\"] = (12, 7)\n",
    "cumulativeRevenueA = cumulativeData[cumulativeData['group']=='A'][['date','revenue', 'orders']]\n",
    "cumulativeRevenueB = cumulativeData[cumulativeData['group']=='B'][['date','revenue', 'orders']]\n",
    "\n",
    "plt.plot(cumulativeRevenueA['date'], cumulativeRevenueA['revenue'], label='Группа A')\n",
    "plt.plot(cumulativeRevenueB['date'], cumulativeRevenueB['revenue'], label='Группа B')\n",
    "plt.title('Кумулятивная выручка по группам')\n",
    "plt.xlabel('Дата')\n",
    "plt.ylabel('Выручка')\n",
    "plt.legend()\n",
    "plt.grid()\n",
    "plt.show()"
   ]
  },
  {
   "cell_type": "markdown",
   "metadata": {},
   "source": [
    "Тренд накопительной выручки в обеих группах положительный, однако, сразу в глаза бросается резкое ее увеличение в группе В - возможно в данных есть выбросы и аномалии, которые, как раз на это и влияют."
   ]
  },
  {
   "cell_type": "markdown",
   "metadata": {},
   "source": [
    "#### Построение графика среднего чека по группам"
   ]
  },
  {
   "cell_type": "code",
   "execution_count": 17,
   "metadata": {},
   "outputs": [
    {
     "data": {
      "image/png": "[encoded data removed]",
      "text/plain": [
       "<Figure size 864x504 with 1 Axes>"
      ]
     },
     "metadata": {
      "needs_background": "light"
     },
     "output_type": "display_data"
    }
   ],
   "source": [
    "plt.plot(cumulativeRevenueA['date'], cumulativeRevenueA['revenue']/cumulativeRevenueA['orders'], label='группа A')\n",
    "plt.plot(cumulativeRevenueB['date'], cumulativeRevenueB['revenue']/cumulativeRevenueB['orders'], label='группа B')\n",
    "plt.title('Кумулятивный средний чек по группам')\n",
    "plt.xlabel('Дата')\n",
    "plt.ylabel('Средний чек')\n",
    "plt.legend()\n",
    "plt.grid()\n",
    "plt.show()"
   ]
  },
  {
   "cell_type": "markdown",
   "metadata": {},
   "source": [
    "Здесь картина начинает проясняться. В группе 'B' отчетливо видны крупны покупки-аномалии, которые происходят не так часто. Это как раз является выбросом, который снижает точность результата. Необходимо детально проанализовать выбросы."
   ]
  },
  {
   "cell_type": "markdown",
   "metadata": {},
   "source": [
    "#### Построение графика относительного изменения кумулятивного среднего чека группы B к группе A"
   ]
  },
  {
   "cell_type": "code",
   "execution_count": 18,
   "metadata": {},
   "outputs": [
    {
     "data": {
      "image/png": "[encoded data removed]",
      "text/plain": [
       "<Figure size 864x504 with 1 Axes>"
      ]
     },
     "metadata": {
      "needs_background": "light"
     },
     "output_type": "display_data"
    }
   ],
   "source": [
    "mergedCumulativeRevenue = cumulativeRevenueA.merge(cumulativeRevenueB, left_on='date', right_on='date', how='left', suffixes=['A', 'B'])\n",
    "\n",
    "plt.plot(mergedCumulativeRevenue['date'], (mergedCumulativeRevenue['revenueB']/mergedCumulativeRevenue['ordersB'])/(mergedCumulativeRevenue['revenueA']/mergedCumulativeRevenue['ordersA'])-1)\n",
    "plt.title('Относительные изменения кумулятивного среднего чека группы В к А')\n",
    "plt.xlabel('Дата')\n",
    "plt.ylabel('Относительное изменение среднего чека')\n",
    "plt.grid()\n",
    "plt.axhline(y=0, color='grey', linestyle='--')\n",
    "plt.show()"
   ]
  },
  {
   "cell_type": "markdown",
   "metadata": {},
   "source": [
    "Видно отчетливое резкое изменение резултатов в разные даты, что подтверждает наличие аномальных крупных покупок."
   ]
  },
  {
   "cell_type": "markdown",
   "metadata": {},
   "source": [
    "#### Построение графика кумулятивного среднего количества заказов на посетителя по группам"
   ]
  },
  {
   "cell_type": "code",
   "execution_count": 19,
   "metadata": {},
   "outputs": [
    {
     "data": {
      "image/png": "[encoded data removed]",
      "text/plain": [
       "<Figure size 864x504 with 1 Axes>"
      ]
     },
     "metadata": {
      "needs_background": "light"
     },
     "output_type": "display_data"
    }
   ],
   "source": [
    "cumulativeData['order_visitor'] = (\n",
    "    cumulativeData['orders'] / cumulativeData['visitors']\n",
    ")\n",
    "cumulativeDataA = cumulativeData[cumulativeData['group']=='A']\n",
    "cumulativeDataB = cumulativeData[cumulativeData['group']=='B']\n",
    "plt.plot(cumulativeDataA['date'], cumulativeDataA['orders']/cumulativeDataA['visitors'], label='A')\n",
    "plt.plot(cumulativeDataB['date'], cumulativeDataB['orders']/cumulativeDataB['visitors'], label='B')\n",
    "plt.title('Кумулятивное среднего количества заказов на посетителя по группам')\n",
    "plt.xlabel('Дата')\n",
    "plt.ylabel('Среднее кол-во заказов на посетителя')\n",
    "plt.grid()\n",
    "plt.legend()\n",
    "plt.show()"
   ]
  },
  {
   "cell_type": "markdown",
   "metadata": {},
   "source": [
    "Наблюдаю, что среднее количество заказов в группах в первые дни сильно колеблется, затем показатели начали стабилизироваться. Среднее количество заказов на одного посетителя в группе B больше."
   ]
  },
  {
   "cell_type": "markdown",
   "metadata": {},
   "source": [
    "#### Построение графика относительного изменения кумулятивного среднего количества заказов на посетителя группы B к группе A"
   ]
  },
  {
   "cell_type": "code",
   "execution_count": 20,
   "metadata": {},
   "outputs": [
    {
     "data": {
      "image/png": "[encoded data removed]",
      "text/plain": [
       "<Figure size 864x504 with 1 Axes>"
      ]
     },
     "metadata": {
      "needs_background": "light"
     },
     "output_type": "display_data"
    }
   ],
   "source": [
    "mergedCumulativeData = cumulativeDataA[['date','order_visitor']].merge(cumulativeDataB[['date','order_visitor']], left_on='date', right_on='date', how='left', suffixes=['A', 'B'])\n",
    "\n",
    "plt.plot(mergedCumulativeData['date'], mergedCumulativeData['order_visitorB']/mergedCumulativeData['order_visitorA']-1, label=\"Относительный прирост количества заказов на посетителя группы B относительно группы A\")\n",
    "plt.title('Относительное изменение кумулятивного среднего количества заказов на посетителя группы В к А')\n",
    "plt.xlabel('Дата')\n",
    "plt.ylabel('Относительное изменение среднего кол-ва заказов на посетителя')\n",
    "plt.grid()\n",
    "plt.legend()\n",
    "plt.axhline(y=0, color='black', linestyle='--')\n",
    "plt.axhline(y=0.2, color='grey', linestyle='--')\n",
    "plt.show()"
   ]
  },
  {
   "cell_type": "markdown",
   "metadata": {},
   "source": [
    "Из графика следует, что почти с самого начала теста у поситетелей группы В среднее количество заказов больше, чем у группы А от 10% до 20%."
   ]
  },
  {
   "cell_type": "markdown",
   "metadata": {},
   "source": [
    "#### Построение точечного графика количества заказов по пользователям"
   ]
  },
  {
   "cell_type": "code",
   "execution_count": 21,
   "metadata": {},
   "outputs": [
    {
     "data": {
      "image/png": "[encoded data removed]",
      "text/plain": [
       "<Figure size 864x504 with 1 Axes>"
      ]
     },
     "metadata": {
      "needs_background": "light"
     },
     "output_type": "display_data"
    }
   ],
   "source": [
    "ordersByUsers = (\n",
    "    orders.groupby('visitorId', as_index=False)\n",
    "    .agg({'transactionId': 'nunique'})\n",
    ")\n",
    "ordersByUsers.columns = ['userId', 'orders']\n",
    "\n",
    "plt.grid()\n",
    "plt.title('Количество заказов по пользователям')\n",
    "plt.xlabel('Кол-во пользователей')\n",
    "plt.ylabel('Кол-во заказов')\n",
    "\n",
    "x_values = pd.Series(range(0, len(ordersByUsers)))\n",
    "plt.scatter(x_values, ordersByUsers['orders'])\n",
    "plt.show()"
   ]
  },
  {
   "cell_type": "markdown",
   "metadata": {},
   "source": [
    "Можно сделать вывод, что в основном, пользователи делают по одному заказу. С увеличением количества заказов на пользователей, совершающих их, становится меньше."
   ]
  },
  {
   "cell_type": "markdown",
   "metadata": {},
   "source": [
    "#### Расчет 95-го и 99-го перцентиля количества заказов на пользователя"
   ]
  },
  {
   "cell_type": "code",
   "execution_count": 22,
   "metadata": {},
   "outputs": [
    {
     "name": "stdout",
     "output_type": "stream",
     "text": [
      "90, 95 и 99 перцентили стоимости заказов: [1. 2. 4.]\n"
     ]
    }
   ],
   "source": [
    "print('90, 95 и 99 перцентили стоимости заказов:', np.percentile(ordersByUsers['orders'],[90,95,99]))"
   ]
  },
  {
   "cell_type": "markdown",
   "metadata": {},
   "source": [
    "Делаем вывод, что не более 5% пользователей совершили 2 заказа. Всего лишь 1% пользователей совершил 4 заказа. Исходя из этого, значение, после которого количество заказов считается аномальным - 2."
   ]
  },
  {
   "cell_type": "markdown",
   "metadata": {},
   "source": [
    "#### Построение точечного графика стоимостей заказов"
   ]
  },
  {
   "cell_type": "code",
   "execution_count": 23,
   "metadata": {},
   "outputs": [
    {
     "data": {
      "image/png": "[encoded data removed]",
      "text/plain": [
       "<Figure size 864x504 with 1 Axes>"
      ]
     },
     "metadata": {
      "needs_background": "light"
     },
     "output_type": "display_data"
    }
   ],
   "source": [
    "RevenueByUsers = pd.Series(range(0, len(orders['revenue'])))\n",
    "plt.grid()\n",
    "plt.title('График стоимостей заказов')\n",
    "plt.xlabel('Количество пользователей')\n",
    "plt.ylabel('Стоимость заказов')\n",
    "plt.scatter(RevenueByUsers, orders['revenue'])\n",
    "plt.show()"
   ]
  },
  {
   "cell_type": "markdown",
   "metadata": {},
   "source": [
    "Видно, что средняя стоимость заказа не превышает 200 тысяч рублей. Можно также видеть выбросы на сумме в 1.2 миллиона рублей."
   ]
  },
  {
   "cell_type": "code",
   "execution_count": 24,
   "metadata": {
    "scrolled": true
   },
   "outputs": [
    {
     "data": {
      "image/png": "[encoded data removed]",
      "text/plain": [
       "<Figure size 864x504 with 1 Axes>"
      ]
     },
     "metadata": {
      "needs_background": "light"
     },
     "output_type": "display_data"
    }
   ],
   "source": [
    "result = orders[orders['revenue']<=200000]['revenue']\n",
    "xn_values = pd.Series(range(0,len(result)))\n",
    "plt.grid()\n",
    "plt.title('График стоимостей заказов без аномалий')\n",
    "plt.xlabel('Количество пользователей')\n",
    "plt.ylabel('Стоимость заказов')\n",
    "plt.scatter(xn_values, result, alpha=0.5)\n",
    "plt.show()"
   ]
  },
  {
   "cell_type": "markdown",
   "metadata": {},
   "source": [
    "Обозначив более узкий для анализа интервал стоимости, можно сделать вывод, что, все-таки большая часть заказов не превышвет 20 тысяч рублей, после этой границы график становится разреженным."
   ]
  },
  {
   "cell_type": "markdown",
   "metadata": {},
   "source": [
    "#### Расчет 95-го и 99-го перцентиля стоимости заказов на пользователя"
   ]
  },
  {
   "cell_type": "code",
   "execution_count": 25,
   "metadata": {},
   "outputs": [
    {
     "name": "stdout",
     "output_type": "stream",
     "text": [
      "90, 95 и 99 перцентили стоимости заказов: [18168.  28000.  58233.2]\n"
     ]
    }
   ],
   "source": [
    "print('90, 95 и 99 перцентили стоимости заказов:', np.percentile(orders['revenue'],[90,95,99]))"
   ]
  },
  {
   "cell_type": "markdown",
   "metadata": {},
   "source": [
    "Расчет перцентилей дополнил предыдущий вывод - 99% заказов не превышают суммы в 58233,2 рубля. В последствии возьмем сумму 59000 рублей - пороговая сумма для отсечения аномалий."
   ]
  },
  {
   "cell_type": "markdown",
   "metadata": {},
   "source": [
    "#### Расчет статистической значимости различий в среднем количестве заказов на посетителя между группами по «сырым» данным"
   ]
  },
  {
   "cell_type": "markdown",
   "metadata": {},
   "source": [
    "Для расчета нам необходимо сформулировать гипотезы.\n",
    "\n",
    "Н0 - различий в среднем количестве заказов на посетителя между группами нет.\n",
    "\n",
    "Альтернативная гипотеза - различия в среднем количестве заказов на посетителя между группами есть.\n",
    "\n",
    "Для проверки предположения о нормальности распределения данных используем критерий Манна-Уитни, так как в данных, как мы уже заметили, есть выбросы, а иные методы существенно повлияют на результат проверки."
   ]
  },
  {
   "cell_type": "code",
   "execution_count": 26,
   "metadata": {},
   "outputs": [
    {
     "name": "stdout",
     "output_type": "stream",
     "text": [
      "Значение P-value: 0.017\n",
      "Относительная разница между группами: 0.138\n"
     ]
    }
   ],
   "source": [
    "ordersByUsersA = (\n",
    "    orders[orders['group'] == 'A']\n",
    "    .groupby('visitorId', as_index=False)\n",
    "    .agg({'transactionId': pd.Series.nunique})\n",
    ")\n",
    "ordersByUsersA.columns = ['userId', 'orders']\n",
    "\n",
    "ordersByUsersB = (\n",
    "    orders[orders['group'] == 'B']\n",
    "    .groupby('visitorId', as_index=False)\n",
    "    .agg({'transactionId': pd.Series.nunique})\n",
    ")\n",
    "ordersByUsersB.columns = ['userId', 'orders'] \n",
    "\n",
    "sampleA = pd.concat([ordersByUsersA['orders'],pd.Series(0, index=np.arange(visitors[visitors['group'] == 'A']['visitors'].sum() - len(ordersByUsersA['orders'])), name='orders')],axis=0)\n",
    "\n",
    "sampleB = pd.concat([ordersByUsersB['orders'],pd.Series(0, index=np.arange(visitors[visitors['group'] == 'B']['visitors'].sum() - len(ordersByUsersB['orders'])), name='orders')],axis=0)\n",
    "\n",
    "ordersByUsersA = (\n",
    "    orders[orders['group'] == 'A']\n",
    "    .groupby('visitorId', as_index=False)\n",
    "    .agg({'transactionId': pd.Series.nunique})\n",
    ")\n",
    "ordersByUsersA.columns = ['userId', 'orders']\n",
    "\n",
    "ordersByUsersB = (\n",
    "    orders[orders['group'] == 'B']\n",
    "    .groupby('visitorId', as_index=False)\n",
    "    .agg({'transactionId': pd.Series.nunique})\n",
    ")\n",
    "ordersByUsersB.columns = ['userId', 'orders']\n",
    "\n",
    "sampleA = pd.concat(\n",
    "    [\n",
    "        ordersByUsersA['orders'],\n",
    "        pd.Series(\n",
    "            0,\n",
    "            index=np.arange(\n",
    "                visitors[visitors['group'] == 'A']['visitors'].sum() - len(ordersByUsersA['orders'])\n",
    "            ),\n",
    "            name='orders',\n",
    "        ),\n",
    "    ],\n",
    "    axis=0,\n",
    ")\n",
    "\n",
    "sampleB = pd.concat(\n",
    "    [\n",
    "        ordersByUsersB['orders'],\n",
    "        pd.Series(\n",
    "            0,\n",
    "            index=np.arange(\n",
    "                visitors[visitors['group'] == 'B']['visitors'].sum() - len(ordersByUsersB['orders'])\n",
    "            ),\n",
    "            name='orders',\n",
    "        ),\n",
    "    ],\n",
    "    axis=0,\n",
    ")\n",
    "\n",
    "print('Значение P-value:', \"{0:.3f}\".format(st.mannwhitneyu(sampleA, sampleB)[1]))\n",
    "\n",
    "\n",
    "print('Относительная разница между группами:',\"{0:.3f}\".format((sampleB.mean()/sampleA.mean()-1)))              "
   ]
  },
  {
   "cell_type": "markdown",
   "metadata": {},
   "source": [
    "По результам значение p-value меньше 0.05 - значит, нулевая гипотеза отвергается, так как имеются статистически значимые отличия. Разница между группами составляет практически 14%."
   ]
  },
  {
   "cell_type": "markdown",
   "metadata": {},
   "source": [
    "#### Расчет статистической значимости различий в среднем чеке заказа между группами по «сырым» данным"
   ]
  },
  {
   "cell_type": "code",
   "execution_count": 27,
   "metadata": {},
   "outputs": [
    {
     "name": "stdout",
     "output_type": "stream",
     "text": [
      "Значение P-value: 0.729\n",
      "Относительная разница между группами: 0.259\n"
     ]
    }
   ],
   "source": [
    "print('Значение P-value:','{0:.3f}'.format(st.mannwhitneyu(orders[orders['group']=='A']['revenue'], orders[orders['group']=='B']['revenue'])[1]))\n",
    "print('Относительная разница между группами:','{0:.3f}'.format(orders[orders['group']=='B']['revenue'].mean()/orders[orders['group']=='A']['revenue'].mean()-1))"
   ]
  },
  {
   "cell_type": "markdown",
   "metadata": {},
   "source": [
    "Здесь немного иная картина: значение p-value больше 0.05, что означает отсутствие статистически значимых отличий. Однако, относительный прирост среднего чека группы B к группе A составляет практически 26%!"
   ]
  },
  {
   "cell_type": "markdown",
   "metadata": {},
   "source": [
    "#### Расчет статистической значимости различий в среднем количестве заказов на посетителя между группами по «очищенным» данным"
   ]
  },
  {
   "cell_type": "code",
   "execution_count": 28,
   "metadata": {},
   "outputs": [
    {
     "name": "stdout",
     "output_type": "stream",
     "text": [
      "Абсолютные потери(количество аномальных пользователей): 14\n",
      "Относительные потери: 0.014\n"
     ]
    }
   ],
   "source": [
    "usersWithManyOrders = pd.concat(\n",
    "    [\n",
    "        ordersByUsersA[ordersByUsersA['orders'] > np.percentile(ordersByUsers['orders'], 99)]['userId'],\n",
    "        ordersByUsersB[ordersByUsersB['orders'] > np.percentile(ordersByUsers['orders'], 99)]['userId'],\n",
    "    ],\n",
    "    axis=0,\n",
    ")\n",
    "usersWithExpensiveOrders = orders[orders['revenue'] > 59000]['visitorId']\n",
    "abnormalUsers = (\n",
    "    pd.concat([usersWithManyOrders, usersWithExpensiveOrders], axis=0)\n",
    "    .drop_duplicates()\n",
    "    .sort_values()\n",
    ")\n",
    "print('Абсолютные потери(количество аномальных пользователей):' ,len(abnormalUsers)) \n",
    "print('Относительные потери:', round(len(abnormalUsers)/orders['visitorId'].nunique(),3))"
   ]
  },
  {
   "cell_type": "code",
   "execution_count": 29,
   "metadata": {},
   "outputs": [
    {
     "name": "stdout",
     "output_type": "stream",
     "text": [
      "Значение P-value: 0.013\n",
      "Относительная разница между группами: 0.155\n"
     ]
    }
   ],
   "source": [
    "sampleAFiltered = pd.concat(\n",
    "    [\n",
    "        ordersByUsersA[\n",
    "            np.logical_not(ordersByUsersA['userId'].isin(abnormalUsers))\n",
    "        ]['orders'],\n",
    "        pd.Series(\n",
    "            0,\n",
    "            index=np.arange(\n",
    "                visitors[visitors['group'] == 'A']['visitors'].sum() - len(ordersByUsersA['orders'])\n",
    "            ),\n",
    "            name='orders',\n",
    "        ),\n",
    "    ],\n",
    "    axis=0,\n",
    ")\n",
    "\n",
    "sampleBFiltered = pd.concat(\n",
    "    [\n",
    "        ordersByUsersB[\n",
    "            np.logical_not(ordersByUsersB['userId'].isin(abnormalUsers))\n",
    "        ]['orders'],\n",
    "        pd.Series(\n",
    "            0,\n",
    "            index=np.arange(\n",
    "                visitors[visitors['group'] == 'B']['visitors'].sum() - len(ordersByUsersB['orders'])\n",
    "            ),\n",
    "            name='orders',\n",
    "        ),\n",
    "    ],\n",
    "    axis=0,\n",
    ")\n",
    "print('Значение P-value:','{0:.3f}'.format(st.mannwhitneyu(sampleAFiltered, sampleBFiltered)[1]))\n",
    "print('Относительная разница между группами:','{0:.3f}'.format(sampleBFiltered.mean()/sampleAFiltered.mean()-1))"
   ]
  },
  {
   "cell_type": "markdown",
   "metadata": {},
   "source": [
    "После \"очистки\" данных, видно, что статистическая значимость теста также достигнута, как и при \"сырых\" данных. Группа B проявляет себя лучше, чем группа А."
   ]
  },
  {
   "cell_type": "markdown",
   "metadata": {},
   "source": [
    "#### Расчет статистической значимости различий в среднем чеке заказа между группами по «очищенным» данным"
   ]
  },
  {
   "cell_type": "code",
   "execution_count": 30,
   "metadata": {},
   "outputs": [
    {
     "name": "stdout",
     "output_type": "stream",
     "text": [
      "Значение P-value: 0.814\n",
      "Относительная разница между группами: 0.007\n"
     ]
    }
   ],
   "source": [
    "print('Значение P-value:',\n",
    "    '{0:.3f}'.format(\n",
    "        st.mannwhitneyu(\n",
    "            orders[\n",
    "                np.logical_and(\n",
    "                    orders['group'] == 'A',\n",
    "                    np.logical_not(orders['visitorId'].isin(abnormalUsers)),\n",
    "                )\n",
    "            ]['revenue'],\n",
    "            orders[\n",
    "                np.logical_and(\n",
    "                    orders['group'] == 'B',\n",
    "                    np.logical_not(orders['visitorId'].isin(abnormalUsers)),\n",
    "                )\n",
    "            ]['revenue'],\n",
    "        )[1]\n",
    "    )\n",
    ")\n",
    "\n",
    "print('Относительная разница между группами:',\n",
    "    \"{0:.3f}\".format(\n",
    "        orders[\n",
    "            np.logical_and(\n",
    "                orders['group'] == 'B',\n",
    "                np.logical_not(orders['visitorId'].isin(abnormalUsers)),\n",
    "            )\n",
    "        ]['revenue'].mean()\n",
    "        / orders[\n",
    "            np.logical_and(\n",
    "                orders['group'] == 'A',\n",
    "                np.logical_not(orders['visitorId'].isin(abnormalUsers)),\n",
    "            )\n",
    "        ]['revenue'].mean()\n",
    "        - 1\n",
    "    )\n",
    ")"
   ]
  },
  {
   "cell_type": "markdown",
   "metadata": {},
   "source": [
    "Заметно, что в среднем чеке нету разницы, используя либо \"сырые\", либо \"очищенные\" данные. Однако, средний чек группы B вышел на 7% ниже, чем у группы А. Здесь важно отметить то, что с \"сырыми\" данными он был в несколько раз больше."
   ]
  },
  {
   "cell_type": "markdown",
   "metadata": {},
   "source": [
    "### Итоговый вывод"
   ]
  },
  {
   "cell_type": "markdown",
   "metadata": {},
   "source": [
    "По результатам A/B-тестирования сформировалась определенная картина, исходя из которой, можно принять решение.\n",
    "1. По среднему количеству заказов побеждает группа В\n",
    "2. По средему чеку пользователей отличия отсутствуют\n",
    "\n",
    "Мое мнение - признать победу группы В. Рекомендации - разработать стратегию по увеличению среднего чека."
   ]
  }
 ],
 "metadata": {
  "ExecuteTimeLog": [
   {
    "duration": 1214,
    "start_time": "2024-06-29T17:54:40.182Z"
   },
   {
    "duration": 169,
    "start_time": "2024-06-29T18:02:51.988Z"
   },
   {
    "duration": 34,
    "start_time": "2024-06-29T18:03:13.097Z"
   },
   {
    "duration": 3,
    "start_time": "2024-06-29T18:05:22.814Z"
   },
   {
    "duration": 3,
    "start_time": "2024-06-29T18:05:42.573Z"
   },
   {
    "duration": 63,
    "start_time": "2024-06-29T18:05:42.578Z"
   },
   {
    "duration": 22,
    "start_time": "2024-06-29T18:05:42.643Z"
   },
   {
    "duration": 16,
    "start_time": "2024-06-29T18:07:05.745Z"
   },
   {
    "duration": 4,
    "start_time": "2024-06-29T18:07:13.253Z"
   },
   {
    "duration": 47,
    "start_time": "2024-06-29T18:07:13.260Z"
   },
   {
    "duration": 8,
    "start_time": "2024-06-29T18:07:13.309Z"
   },
   {
    "duration": 8,
    "start_time": "2024-06-29T18:07:20.387Z"
   },
   {
    "duration": 3,
    "start_time": "2024-06-29T18:07:57.915Z"
   },
   {
    "duration": 52,
    "start_time": "2024-06-29T18:07:57.919Z"
   },
   {
    "duration": 8,
    "start_time": "2024-06-29T18:07:57.972Z"
   },
   {
    "duration": 6,
    "start_time": "2024-06-29T18:09:21.538Z"
   },
   {
    "duration": 105,
    "start_time": "2024-06-29T18:09:36.020Z"
   },
   {
    "duration": 3,
    "start_time": "2024-06-29T18:11:37.513Z"
   },
   {
    "duration": 46,
    "start_time": "2024-06-29T18:11:37.519Z"
   },
   {
    "duration": 8,
    "start_time": "2024-06-29T18:11:37.567Z"
   },
   {
    "duration": 26,
    "start_time": "2024-06-29T18:11:37.577Z"
   },
   {
    "duration": 3,
    "start_time": "2024-06-29T18:29:15.071Z"
   },
   {
    "duration": 242,
    "start_time": "2024-06-29T18:29:15.076Z"
   },
   {
    "duration": 75,
    "start_time": "2024-06-29T18:29:15.319Z"
   },
   {
    "duration": 68,
    "start_time": "2024-06-29T18:29:15.396Z"
   },
   {
    "duration": 52,
    "start_time": "2024-06-29T18:29:15.466Z"
   },
   {
    "duration": 3,
    "start_time": "2024-06-29T18:29:59.249Z"
   },
   {
    "duration": 47,
    "start_time": "2024-06-29T18:29:59.254Z"
   },
   {
    "duration": 8,
    "start_time": "2024-06-29T18:29:59.303Z"
   },
   {
    "duration": 26,
    "start_time": "2024-06-29T18:29:59.313Z"
   },
   {
    "duration": 82,
    "start_time": "2024-06-29T18:29:59.341Z"
   },
   {
    "duration": 3,
    "start_time": "2024-06-29T18:30:11.213Z"
   },
   {
    "duration": 124,
    "start_time": "2024-06-29T18:30:11.218Z"
   },
   {
    "duration": 8,
    "start_time": "2024-06-29T18:30:11.344Z"
   },
   {
    "duration": 16,
    "start_time": "2024-06-29T18:30:11.353Z"
   },
   {
    "duration": 18,
    "start_time": "2024-06-29T18:30:11.370Z"
   },
   {
    "duration": 3,
    "start_time": "2024-06-29T19:14:59.153Z"
   },
   {
    "duration": 62,
    "start_time": "2024-06-29T19:14:59.159Z"
   },
   {
    "duration": 8,
    "start_time": "2024-06-29T19:14:59.223Z"
   },
   {
    "duration": 10,
    "start_time": "2024-06-29T19:14:59.232Z"
   },
   {
    "duration": 35,
    "start_time": "2024-06-29T19:14:59.244Z"
   },
   {
    "duration": 14,
    "start_time": "2024-06-29T19:16:15.364Z"
   },
   {
    "duration": 12,
    "start_time": "2024-06-29T19:16:22.914Z"
   },
   {
    "duration": 3,
    "start_time": "2024-06-29T19:16:26.677Z"
   },
   {
    "duration": 52,
    "start_time": "2024-06-29T19:16:26.682Z"
   },
   {
    "duration": 10,
    "start_time": "2024-06-29T19:16:26.736Z"
   },
   {
    "duration": 10,
    "start_time": "2024-06-29T19:16:26.749Z"
   },
   {
    "duration": 21,
    "start_time": "2024-06-29T19:16:26.761Z"
   },
   {
    "duration": 30,
    "start_time": "2024-06-29T19:16:26.783Z"
   },
   {
    "duration": 4,
    "start_time": "2024-06-29T19:26:29.847Z"
   },
   {
    "duration": 128,
    "start_time": "2024-06-29T19:26:29.853Z"
   },
   {
    "duration": 116,
    "start_time": "2024-06-29T19:26:29.983Z"
   },
   {
    "duration": 74,
    "start_time": "2024-06-29T19:26:30.101Z"
   },
   {
    "duration": 159,
    "start_time": "2024-06-29T19:26:30.177Z"
   },
   {
    "duration": 321,
    "start_time": "2024-06-29T19:26:30.337Z"
   },
   {
    "duration": 216,
    "start_time": "2024-06-29T19:26:30.659Z"
   },
   {
    "duration": 192,
    "start_time": "2024-06-29T19:26:30.876Z"
   },
   {
    "duration": 3,
    "start_time": "2024-06-29T19:27:06.809Z"
   },
   {
    "duration": 54,
    "start_time": "2024-06-29T19:27:06.814Z"
   },
   {
    "duration": 42,
    "start_time": "2024-06-29T19:27:06.870Z"
   },
   {
    "duration": 21,
    "start_time": "2024-06-29T19:27:06.915Z"
   },
   {
    "duration": 31,
    "start_time": "2024-06-29T19:27:06.938Z"
   },
   {
    "duration": 29,
    "start_time": "2024-06-29T19:27:06.971Z"
   },
   {
    "duration": 15,
    "start_time": "2024-06-29T19:27:07.002Z"
   },
   {
    "duration": 7,
    "start_time": "2024-06-29T19:27:07.019Z"
   },
   {
    "duration": 15,
    "start_time": "2024-06-29T19:27:07.028Z"
   },
   {
    "duration": 15,
    "start_time": "2024-06-29T19:27:07.046Z"
   },
   {
    "duration": 3,
    "start_time": "2024-06-29T19:27:39.296Z"
   },
   {
    "duration": 50,
    "start_time": "2024-06-29T19:27:39.301Z"
   },
   {
    "duration": 42,
    "start_time": "2024-06-29T19:27:39.353Z"
   },
   {
    "duration": 21,
    "start_time": "2024-06-29T19:27:39.396Z"
   },
   {
    "duration": 12,
    "start_time": "2024-06-29T19:27:39.420Z"
   },
   {
    "duration": 41,
    "start_time": "2024-06-29T19:27:39.434Z"
   },
   {
    "duration": 108,
    "start_time": "2024-06-29T19:27:39.476Z"
   },
   {
    "duration": 151,
    "start_time": "2024-06-29T19:27:39.586Z"
   },
   {
    "duration": 57,
    "start_time": "2024-06-29T19:27:39.739Z"
   },
   {
    "duration": 25,
    "start_time": "2024-06-29T19:27:39.798Z"
   },
   {
    "duration": 3,
    "start_time": "2024-06-29T19:28:14.954Z"
   },
   {
    "duration": 40,
    "start_time": "2024-06-29T19:28:14.959Z"
   },
   {
    "duration": 44,
    "start_time": "2024-06-29T19:28:15.001Z"
   },
   {
    "duration": 66,
    "start_time": "2024-06-29T19:28:15.046Z"
   },
   {
    "duration": 24,
    "start_time": "2024-06-29T19:28:15.115Z"
   },
   {
    "duration": 25,
    "start_time": "2024-06-29T19:28:15.141Z"
   },
   {
    "duration": 16,
    "start_time": "2024-06-29T19:28:15.168Z"
   },
   {
    "duration": 17,
    "start_time": "2024-06-29T19:28:15.185Z"
   },
   {
    "duration": 24,
    "start_time": "2024-06-29T19:28:15.203Z"
   },
   {
    "duration": 15,
    "start_time": "2024-06-29T19:28:15.229Z"
   },
   {
    "duration": 24,
    "start_time": "2024-06-29T19:28:15.246Z"
   },
   {
    "duration": 25,
    "start_time": "2024-06-29T19:28:15.272Z"
   },
   {
    "duration": 4,
    "start_time": "2024-06-29T19:32:24.538Z"
   },
   {
    "duration": 76,
    "start_time": "2024-06-29T19:32:24.544Z"
   },
   {
    "duration": 42,
    "start_time": "2024-06-29T19:32:24.623Z"
   },
   {
    "duration": 20,
    "start_time": "2024-06-29T19:32:24.667Z"
   },
   {
    "duration": 7,
    "start_time": "2024-06-29T19:32:24.689Z"
   },
   {
    "duration": 72,
    "start_time": "2024-06-29T19:32:24.697Z"
   },
   {
    "duration": 0,
    "start_time": "2024-06-29T19:32:24.770Z"
   },
   {
    "duration": 0,
    "start_time": "2024-06-29T19:32:24.771Z"
   },
   {
    "duration": 0,
    "start_time": "2024-06-29T19:32:24.772Z"
   },
   {
    "duration": 0,
    "start_time": "2024-06-29T19:32:24.773Z"
   },
   {
    "duration": 0,
    "start_time": "2024-06-29T19:32:24.774Z"
   },
   {
    "duration": 0,
    "start_time": "2024-06-29T19:32:24.776Z"
   },
   {
    "duration": 0,
    "start_time": "2024-06-29T19:32:24.777Z"
   },
   {
    "duration": 2,
    "start_time": "2024-06-29T19:32:41.150Z"
   },
   {
    "duration": 60,
    "start_time": "2024-06-29T19:32:41.154Z"
   },
   {
    "duration": 42,
    "start_time": "2024-06-29T19:32:41.215Z"
   },
   {
    "duration": 21,
    "start_time": "2024-06-29T19:32:41.259Z"
   },
   {
    "duration": 27,
    "start_time": "2024-06-29T19:32:41.282Z"
   },
   {
    "duration": 14,
    "start_time": "2024-06-29T19:32:41.311Z"
   },
   {
    "duration": 13,
    "start_time": "2024-06-29T19:32:41.327Z"
   },
   {
    "duration": 11,
    "start_time": "2024-06-29T19:32:41.342Z"
   },
   {
    "duration": 11,
    "start_time": "2024-06-29T19:32:41.354Z"
   },
   {
    "duration": 14,
    "start_time": "2024-06-29T19:32:41.366Z"
   },
   {
    "duration": 9,
    "start_time": "2024-06-29T19:32:41.382Z"
   },
   {
    "duration": 16,
    "start_time": "2024-06-29T19:32:41.393Z"
   },
   {
    "duration": 14,
    "start_time": "2024-06-29T19:32:41.411Z"
   },
   {
    "duration": 3,
    "start_time": "2024-06-29T19:33:41.049Z"
   },
   {
    "duration": 36,
    "start_time": "2024-06-29T19:33:41.054Z"
   },
   {
    "duration": 42,
    "start_time": "2024-06-29T19:33:41.092Z"
   },
   {
    "duration": 24,
    "start_time": "2024-06-29T19:33:41.136Z"
   },
   {
    "duration": 8,
    "start_time": "2024-06-29T19:33:41.162Z"
   },
   {
    "duration": 42,
    "start_time": "2024-06-29T19:33:41.171Z"
   },
   {
    "duration": 29,
    "start_time": "2024-06-29T19:33:41.215Z"
   },
   {
    "duration": 25,
    "start_time": "2024-06-29T19:33:41.245Z"
   },
   {
    "duration": 6,
    "start_time": "2024-06-29T19:33:41.271Z"
   },
   {
    "duration": 26,
    "start_time": "2024-06-29T19:33:41.279Z"
   },
   {
    "duration": 16,
    "start_time": "2024-06-29T19:33:41.307Z"
   },
   {
    "duration": 20,
    "start_time": "2024-06-29T19:33:41.325Z"
   },
   {
    "duration": 21,
    "start_time": "2024-06-29T19:33:41.348Z"
   },
   {
    "duration": 12,
    "start_time": "2024-06-29T19:36:26.797Z"
   },
   {
    "duration": 2,
    "start_time": "2024-06-29T19:37:06.270Z"
   },
   {
    "duration": 41,
    "start_time": "2024-06-29T19:37:06.274Z"
   },
   {
    "duration": 42,
    "start_time": "2024-06-29T19:37:06.316Z"
   },
   {
    "duration": 8,
    "start_time": "2024-06-29T19:37:06.359Z"
   },
   {
    "duration": 38,
    "start_time": "2024-06-29T19:37:06.368Z"
   },
   {
    "duration": 7,
    "start_time": "2024-06-29T19:37:06.408Z"
   },
   {
    "duration": 10,
    "start_time": "2024-06-29T19:37:06.417Z"
   },
   {
    "duration": 12,
    "start_time": "2024-06-29T19:37:06.428Z"
   },
   {
    "duration": 22,
    "start_time": "2024-06-29T19:37:06.442Z"
   },
   {
    "duration": 13,
    "start_time": "2024-06-29T19:37:06.466Z"
   },
   {
    "duration": 75,
    "start_time": "2024-06-29T19:37:06.481Z"
   },
   {
    "duration": 28,
    "start_time": "2024-06-29T19:37:06.559Z"
   },
   {
    "duration": 2,
    "start_time": "2024-06-29T19:37:35.983Z"
   },
   {
    "duration": 43,
    "start_time": "2024-06-29T19:37:35.988Z"
   },
   {
    "duration": 43,
    "start_time": "2024-06-29T19:37:36.032Z"
   },
   {
    "duration": 8,
    "start_time": "2024-06-29T19:37:36.076Z"
   },
   {
    "duration": 24,
    "start_time": "2024-06-29T19:37:36.086Z"
   },
   {
    "duration": 6,
    "start_time": "2024-06-29T19:37:36.112Z"
   },
   {
    "duration": 9,
    "start_time": "2024-06-29T19:37:36.120Z"
   },
   {
    "duration": 27,
    "start_time": "2024-06-29T19:37:36.131Z"
   },
   {
    "duration": 24,
    "start_time": "2024-06-29T19:37:36.160Z"
   },
   {
    "duration": 13,
    "start_time": "2024-06-29T19:37:36.186Z"
   },
   {
    "duration": 12,
    "start_time": "2024-06-29T19:37:36.200Z"
   },
   {
    "duration": 21,
    "start_time": "2024-06-29T19:37:36.213Z"
   },
   {
    "duration": 1070,
    "start_time": "2024-06-29T19:38:14.850Z"
   },
   {
    "duration": 87,
    "start_time": "2024-06-29T19:38:15.922Z"
   },
   {
    "duration": 44,
    "start_time": "2024-06-29T19:38:16.010Z"
   },
   {
    "duration": 21,
    "start_time": "2024-06-29T19:38:16.056Z"
   },
   {
    "duration": 87,
    "start_time": "2024-06-29T19:38:16.079Z"
   },
   {
    "duration": 7,
    "start_time": "2024-06-29T19:38:16.168Z"
   },
   {
    "duration": 31,
    "start_time": "2024-06-29T19:38:16.176Z"
   },
   {
    "duration": 21,
    "start_time": "2024-06-29T19:38:16.208Z"
   },
   {
    "duration": 12,
    "start_time": "2024-06-29T19:38:16.231Z"
   },
   {
    "duration": 11,
    "start_time": "2024-06-29T19:38:16.244Z"
   },
   {
    "duration": 33,
    "start_time": "2024-06-29T19:38:16.256Z"
   },
   {
    "duration": 18,
    "start_time": "2024-06-29T19:38:16.290Z"
   },
   {
    "duration": 3,
    "start_time": "2024-06-29T19:40:06.779Z"
   },
   {
    "duration": 54,
    "start_time": "2024-06-29T19:40:06.783Z"
   },
   {
    "duration": 42,
    "start_time": "2024-06-29T19:40:06.839Z"
   },
   {
    "duration": 7,
    "start_time": "2024-06-29T19:40:06.883Z"
   },
   {
    "duration": 32,
    "start_time": "2024-06-29T19:40:06.892Z"
   },
   {
    "duration": 10,
    "start_time": "2024-06-29T19:40:06.926Z"
   },
   {
    "duration": 68,
    "start_time": "2024-06-29T19:40:06.937Z"
   },
   {
    "duration": 25,
    "start_time": "2024-06-29T19:40:07.007Z"
   },
   {
    "duration": 27,
    "start_time": "2024-06-29T19:40:07.034Z"
   },
   {
    "duration": 13,
    "start_time": "2024-06-29T19:40:07.062Z"
   },
   {
    "duration": 13,
    "start_time": "2024-06-29T19:40:07.077Z"
   },
   {
    "duration": 13,
    "start_time": "2024-06-29T19:40:07.092Z"
   },
   {
    "duration": 11,
    "start_time": "2024-06-29T19:41:52.756Z"
   },
   {
    "duration": 7,
    "start_time": "2024-06-29T19:42:10.263Z"
   },
   {
    "duration": 3,
    "start_time": "2024-06-29T19:42:18.031Z"
   },
   {
    "duration": 58,
    "start_time": "2024-06-29T19:42:18.037Z"
   },
   {
    "duration": 43,
    "start_time": "2024-06-29T19:42:18.097Z"
   },
   {
    "duration": 8,
    "start_time": "2024-06-29T19:42:18.141Z"
   },
   {
    "duration": 31,
    "start_time": "2024-06-29T19:42:18.151Z"
   },
   {
    "duration": 8,
    "start_time": "2024-06-29T19:42:18.184Z"
   },
   {
    "duration": 18,
    "start_time": "2024-06-29T19:42:18.193Z"
   },
   {
    "duration": 9,
    "start_time": "2024-06-29T19:42:18.212Z"
   },
   {
    "duration": 12,
    "start_time": "2024-06-29T19:42:18.223Z"
   },
   {
    "duration": 15,
    "start_time": "2024-06-29T19:42:18.237Z"
   },
   {
    "duration": 12,
    "start_time": "2024-06-29T19:42:18.254Z"
   },
   {
    "duration": 16,
    "start_time": "2024-06-29T19:42:18.268Z"
   },
   {
    "duration": 17,
    "start_time": "2024-06-29T19:42:18.286Z"
   },
   {
    "duration": 11,
    "start_time": "2024-06-29T19:43:00.890Z"
   },
   {
    "duration": 4,
    "start_time": "2024-06-29T19:43:12.029Z"
   },
   {
    "duration": 86,
    "start_time": "2024-06-29T19:43:12.035Z"
   },
   {
    "duration": 43,
    "start_time": "2024-06-29T19:43:12.123Z"
   },
   {
    "duration": 8,
    "start_time": "2024-06-29T19:43:12.168Z"
   },
   {
    "duration": 29,
    "start_time": "2024-06-29T19:43:12.178Z"
   },
   {
    "duration": 7,
    "start_time": "2024-06-29T19:43:12.208Z"
   },
   {
    "duration": 10,
    "start_time": "2024-06-29T19:43:12.217Z"
   },
   {
    "duration": 8,
    "start_time": "2024-06-29T19:43:12.228Z"
   },
   {
    "duration": 24,
    "start_time": "2024-06-29T19:43:12.238Z"
   },
   {
    "duration": 38,
    "start_time": "2024-06-29T19:43:12.265Z"
   },
   {
    "duration": 11,
    "start_time": "2024-06-29T19:43:12.305Z"
   },
   {
    "duration": 11,
    "start_time": "2024-06-29T19:43:12.318Z"
   },
   {
    "duration": 15,
    "start_time": "2024-06-29T19:43:12.331Z"
   },
   {
    "duration": 19,
    "start_time": "2024-06-29T19:43:12.348Z"
   },
   {
    "duration": 3,
    "start_time": "2024-06-29T19:45:33.688Z"
   },
   {
    "duration": 41,
    "start_time": "2024-06-29T19:45:33.693Z"
   },
   {
    "duration": 42,
    "start_time": "2024-06-29T19:45:33.735Z"
   },
   {
    "duration": 8,
    "start_time": "2024-06-29T19:45:33.778Z"
   },
   {
    "duration": 41,
    "start_time": "2024-06-29T19:45:33.788Z"
   },
   {
    "duration": 8,
    "start_time": "2024-06-29T19:45:33.830Z"
   },
   {
    "duration": 9,
    "start_time": "2024-06-29T19:45:33.839Z"
   },
   {
    "duration": 8,
    "start_time": "2024-06-29T19:45:33.849Z"
   },
   {
    "duration": 43,
    "start_time": "2024-06-29T19:45:33.859Z"
   },
   {
    "duration": 22,
    "start_time": "2024-06-29T19:45:33.903Z"
   },
   {
    "duration": 38,
    "start_time": "2024-06-29T19:45:33.926Z"
   },
   {
    "duration": 50,
    "start_time": "2024-06-29T19:45:33.966Z"
   },
   {
    "duration": 30,
    "start_time": "2024-06-29T19:45:34.017Z"
   },
   {
    "duration": 33,
    "start_time": "2024-06-29T19:45:34.050Z"
   },
   {
    "duration": 3,
    "start_time": "2024-06-29T19:47:42.199Z"
   },
   {
    "duration": 42,
    "start_time": "2024-06-29T19:47:42.204Z"
   },
   {
    "duration": 42,
    "start_time": "2024-06-29T19:47:42.248Z"
   },
   {
    "duration": 8,
    "start_time": "2024-06-29T19:47:42.292Z"
   },
   {
    "duration": 27,
    "start_time": "2024-06-29T19:47:42.301Z"
   },
   {
    "duration": 7,
    "start_time": "2024-06-29T19:47:42.329Z"
   },
   {
    "duration": 13,
    "start_time": "2024-06-29T19:47:42.338Z"
   },
   {
    "duration": 11,
    "start_time": "2024-06-29T19:47:42.353Z"
   },
   {
    "duration": 24,
    "start_time": "2024-06-29T19:47:42.365Z"
   },
   {
    "duration": 11,
    "start_time": "2024-06-29T19:47:42.392Z"
   },
   {
    "duration": 12,
    "start_time": "2024-06-29T19:47:42.404Z"
   },
   {
    "duration": 32,
    "start_time": "2024-06-29T19:47:42.417Z"
   },
   {
    "duration": 24,
    "start_time": "2024-06-29T19:47:42.450Z"
   },
   {
    "duration": 18,
    "start_time": "2024-06-29T19:47:42.475Z"
   },
   {
    "duration": 3,
    "start_time": "2024-06-29T19:56:28.526Z"
   },
   {
    "duration": 42,
    "start_time": "2024-06-29T19:56:28.531Z"
   },
   {
    "duration": 46,
    "start_time": "2024-06-29T19:56:28.575Z"
   },
   {
    "duration": 10,
    "start_time": "2024-06-29T19:56:28.623Z"
   },
   {
    "duration": 31,
    "start_time": "2024-06-29T19:56:28.635Z"
   },
   {
    "duration": 11,
    "start_time": "2024-06-29T19:56:28.667Z"
   },
   {
    "duration": 15,
    "start_time": "2024-06-29T19:56:28.679Z"
   },
   {
    "duration": 11,
    "start_time": "2024-06-29T19:56:28.695Z"
   },
   {
    "duration": 16,
    "start_time": "2024-06-29T19:56:28.708Z"
   },
   {
    "duration": 11,
    "start_time": "2024-06-29T19:56:28.725Z"
   },
   {
    "duration": 12,
    "start_time": "2024-06-29T19:56:28.746Z"
   },
   {
    "duration": 37,
    "start_time": "2024-06-29T19:56:28.759Z"
   },
   {
    "duration": 20,
    "start_time": "2024-06-29T19:56:28.797Z"
   },
   {
    "duration": 32,
    "start_time": "2024-06-29T19:56:28.819Z"
   },
   {
    "duration": 287,
    "start_time": "2024-06-29T19:56:28.852Z"
   },
   {
    "duration": 297,
    "start_time": "2024-06-29T19:56:29.141Z"
   },
   {
    "duration": 250,
    "start_time": "2024-06-29T19:57:39.386Z"
   },
   {
    "duration": 3,
    "start_time": "2024-06-29T19:57:41.740Z"
   },
   {
    "duration": 56,
    "start_time": "2024-06-29T19:57:41.745Z"
   },
   {
    "duration": 43,
    "start_time": "2024-06-29T19:57:41.802Z"
   },
   {
    "duration": 8,
    "start_time": "2024-06-29T19:57:41.847Z"
   },
   {
    "duration": 25,
    "start_time": "2024-06-29T19:57:41.858Z"
   },
   {
    "duration": 23,
    "start_time": "2024-06-29T19:57:41.884Z"
   },
   {
    "duration": 9,
    "start_time": "2024-06-29T19:57:41.909Z"
   },
   {
    "duration": 33,
    "start_time": "2024-06-29T19:57:41.919Z"
   },
   {
    "duration": 20,
    "start_time": "2024-06-29T19:57:41.954Z"
   },
   {
    "duration": 14,
    "start_time": "2024-06-29T19:57:41.975Z"
   },
   {
    "duration": 11,
    "start_time": "2024-06-29T19:57:41.990Z"
   },
   {
    "duration": 14,
    "start_time": "2024-06-29T19:57:42.002Z"
   },
   {
    "duration": 11,
    "start_time": "2024-06-29T19:57:42.017Z"
   },
   {
    "duration": 10,
    "start_time": "2024-06-29T19:57:42.047Z"
   },
   {
    "duration": 298,
    "start_time": "2024-06-29T19:57:42.058Z"
   },
   {
    "duration": 164,
    "start_time": "2024-06-29T19:57:42.357Z"
   },
   {
    "duration": 3,
    "start_time": "2024-06-29T19:58:03.524Z"
   },
   {
    "duration": 64,
    "start_time": "2024-06-29T19:58:03.529Z"
   },
   {
    "duration": 43,
    "start_time": "2024-06-29T19:58:03.595Z"
   },
   {
    "duration": 239,
    "start_time": "2024-06-29T19:58:03.640Z"
   },
   {
    "duration": 26,
    "start_time": "2024-06-29T19:58:03.882Z"
   },
   {
    "duration": 9,
    "start_time": "2024-06-29T19:58:03.910Z"
   },
   {
    "duration": 14,
    "start_time": "2024-06-29T19:58:03.921Z"
   },
   {
    "duration": 7,
    "start_time": "2024-06-29T19:58:03.937Z"
   },
   {
    "duration": 10,
    "start_time": "2024-06-29T19:58:03.946Z"
   },
   {
    "duration": 11,
    "start_time": "2024-06-29T19:58:03.958Z"
   },
   {
    "duration": 25,
    "start_time": "2024-06-29T19:58:03.970Z"
   },
   {
    "duration": 18,
    "start_time": "2024-06-29T19:58:03.996Z"
   },
   {
    "duration": 7,
    "start_time": "2024-06-29T19:58:04.015Z"
   },
   {
    "duration": 9,
    "start_time": "2024-06-29T19:58:04.047Z"
   },
   {
    "duration": 285,
    "start_time": "2024-06-29T19:58:04.057Z"
   },
   {
    "duration": 165,
    "start_time": "2024-06-29T19:58:04.343Z"
   },
   {
    "duration": 4,
    "start_time": "2024-06-29T19:58:20.524Z"
   },
   {
    "duration": 123,
    "start_time": "2024-06-29T19:58:20.531Z"
   },
   {
    "duration": 149,
    "start_time": "2024-06-29T19:58:20.655Z"
   },
   {
    "duration": 47,
    "start_time": "2024-06-29T19:58:20.806Z"
   },
   {
    "duration": 81,
    "start_time": "2024-06-29T19:58:20.855Z"
   },
   {
    "duration": 27,
    "start_time": "2024-06-29T19:58:20.938Z"
   },
   {
    "duration": 46,
    "start_time": "2024-06-29T19:58:20.966Z"
   },
   {
    "duration": 46,
    "start_time": "2024-06-29T19:58:21.014Z"
   },
   {
    "duration": 15,
    "start_time": "2024-06-29T19:58:21.062Z"
   },
   {
    "duration": 10,
    "start_time": "2024-06-29T19:58:21.079Z"
   },
   {
    "duration": 11,
    "start_time": "2024-06-29T19:58:21.091Z"
   },
   {
    "duration": 16,
    "start_time": "2024-06-29T19:58:21.103Z"
   },
   {
    "duration": 11,
    "start_time": "2024-06-29T19:58:21.120Z"
   },
   {
    "duration": 24,
    "start_time": "2024-06-29T19:58:21.133Z"
   },
   {
    "duration": 275,
    "start_time": "2024-06-29T19:58:21.158Z"
   },
   {
    "duration": 199,
    "start_time": "2024-06-29T19:58:21.434Z"
   },
   {
    "duration": 193,
    "start_time": "2024-06-29T20:08:29.486Z"
   },
   {
    "duration": 216,
    "start_time": "2024-06-29T20:08:39.201Z"
   },
   {
    "duration": 214,
    "start_time": "2024-06-29T20:08:47.750Z"
   },
   {
    "duration": 255,
    "start_time": "2024-06-29T20:08:55.810Z"
   },
   {
    "duration": 281,
    "start_time": "2024-06-29T20:09:05.233Z"
   },
   {
    "duration": 207,
    "start_time": "2024-06-29T20:09:21.762Z"
   },
   {
    "duration": 222,
    "start_time": "2024-06-29T20:09:41.424Z"
   },
   {
    "duration": 221,
    "start_time": "2024-06-29T20:17:01.301Z"
   },
   {
    "duration": 226,
    "start_time": "2024-06-29T20:17:21.430Z"
   },
   {
    "duration": 377,
    "start_time": "2024-06-29T20:26:44.711Z"
   },
   {
    "duration": 4,
    "start_time": "2024-06-29T20:28:58.530Z"
   },
   {
    "duration": 62,
    "start_time": "2024-06-29T20:28:58.535Z"
   },
   {
    "duration": 45,
    "start_time": "2024-06-29T20:28:58.599Z"
   },
   {
    "duration": 9,
    "start_time": "2024-06-29T20:28:58.647Z"
   },
   {
    "duration": 48,
    "start_time": "2024-06-29T20:28:58.658Z"
   },
   {
    "duration": 19,
    "start_time": "2024-06-29T20:28:58.708Z"
   },
   {
    "duration": 24,
    "start_time": "2024-06-29T20:28:58.729Z"
   },
   {
    "duration": 6,
    "start_time": "2024-06-29T20:28:58.755Z"
   },
   {
    "duration": 13,
    "start_time": "2024-06-29T20:28:58.762Z"
   },
   {
    "duration": 10,
    "start_time": "2024-06-29T20:28:58.777Z"
   },
   {
    "duration": 11,
    "start_time": "2024-06-29T20:28:58.788Z"
   },
   {
    "duration": 40,
    "start_time": "2024-06-29T20:28:58.800Z"
   },
   {
    "duration": 27,
    "start_time": "2024-06-29T20:28:58.841Z"
   },
   {
    "duration": 39,
    "start_time": "2024-06-29T20:28:58.870Z"
   },
   {
    "duration": 296,
    "start_time": "2024-06-29T20:28:58.911Z"
   },
   {
    "duration": 257,
    "start_time": "2024-06-29T20:28:59.209Z"
   },
   {
    "duration": 237,
    "start_time": "2024-06-29T20:28:59.468Z"
   },
   {
    "duration": 357,
    "start_time": "2024-06-29T20:28:59.707Z"
   },
   {
    "duration": 230,
    "start_time": "2024-06-29T20:30:58.559Z"
   },
   {
    "duration": 240,
    "start_time": "2024-06-29T20:31:06.572Z"
   },
   {
    "duration": 523,
    "start_time": "2024-06-29T20:53:35.833Z"
   },
   {
    "duration": 4,
    "start_time": "2024-06-29T20:53:46.865Z"
   },
   {
    "duration": 47,
    "start_time": "2024-06-29T20:53:46.871Z"
   },
   {
    "duration": 43,
    "start_time": "2024-06-29T20:53:46.920Z"
   },
   {
    "duration": 8,
    "start_time": "2024-06-29T20:53:46.965Z"
   },
   {
    "duration": 23,
    "start_time": "2024-06-29T20:53:46.975Z"
   },
   {
    "duration": 19,
    "start_time": "2024-06-29T20:53:47.000Z"
   },
   {
    "duration": 31,
    "start_time": "2024-06-29T20:53:47.020Z"
   },
   {
    "duration": 26,
    "start_time": "2024-06-29T20:53:47.053Z"
   },
   {
    "duration": 32,
    "start_time": "2024-06-29T20:53:47.081Z"
   },
   {
    "duration": 12,
    "start_time": "2024-06-29T20:53:47.115Z"
   },
   {
    "duration": 93,
    "start_time": "2024-06-29T20:53:47.129Z"
   },
   {
    "duration": 30,
    "start_time": "2024-06-29T20:53:47.224Z"
   },
   {
    "duration": 14,
    "start_time": "2024-06-29T20:53:47.256Z"
   },
   {
    "duration": 43,
    "start_time": "2024-06-29T20:53:47.273Z"
   },
   {
    "duration": 413,
    "start_time": "2024-06-29T20:53:47.318Z"
   },
   {
    "duration": 256,
    "start_time": "2024-06-29T20:53:47.733Z"
   },
   {
    "duration": 230,
    "start_time": "2024-06-29T20:53:47.991Z"
   },
   {
    "duration": 380,
    "start_time": "2024-06-29T20:53:48.222Z"
   },
   {
    "duration": 274,
    "start_time": "2024-06-29T20:53:48.604Z"
   },
   {
    "duration": 349,
    "start_time": "2024-06-29T20:53:48.880Z"
   },
   {
    "duration": 3,
    "start_time": "2024-06-29T20:57:14.229Z"
   },
   {
    "duration": 41,
    "start_time": "2024-06-29T20:57:14.234Z"
   },
   {
    "duration": 43,
    "start_time": "2024-06-29T20:57:14.276Z"
   },
   {
    "duration": 8,
    "start_time": "2024-06-29T20:57:14.321Z"
   },
   {
    "duration": 29,
    "start_time": "2024-06-29T20:57:14.331Z"
   },
   {
    "duration": 23,
    "start_time": "2024-06-29T20:57:14.362Z"
   },
   {
    "duration": 17,
    "start_time": "2024-06-29T20:57:14.387Z"
   },
   {
    "duration": 15,
    "start_time": "2024-06-29T20:57:14.406Z"
   },
   {
    "duration": 19,
    "start_time": "2024-06-29T20:57:14.423Z"
   },
   {
    "duration": 12,
    "start_time": "2024-06-29T20:57:14.445Z"
   },
   {
    "duration": 12,
    "start_time": "2024-06-29T20:57:14.458Z"
   },
   {
    "duration": 18,
    "start_time": "2024-06-29T20:57:14.472Z"
   },
   {
    "duration": 22,
    "start_time": "2024-06-29T20:57:14.492Z"
   },
   {
    "duration": 9,
    "start_time": "2024-06-29T20:57:14.516Z"
   },
   {
    "duration": 305,
    "start_time": "2024-06-29T20:57:14.527Z"
   },
   {
    "duration": 243,
    "start_time": "2024-06-29T20:57:14.833Z"
   },
   {
    "duration": 252,
    "start_time": "2024-06-29T20:57:15.078Z"
   },
   {
    "duration": 340,
    "start_time": "2024-06-29T20:57:15.332Z"
   },
   {
    "duration": 284,
    "start_time": "2024-06-29T20:57:15.674Z"
   },
   {
    "duration": 456,
    "start_time": "2024-06-29T20:57:15.959Z"
   },
   {
    "duration": 3,
    "start_time": "2024-06-29T20:58:22.851Z"
   },
   {
    "duration": 96,
    "start_time": "2024-06-29T20:58:22.856Z"
   },
   {
    "duration": 64,
    "start_time": "2024-06-29T20:58:22.954Z"
   },
   {
    "duration": 28,
    "start_time": "2024-06-29T20:58:23.019Z"
   },
   {
    "duration": 47,
    "start_time": "2024-06-29T20:58:23.050Z"
   },
   {
    "duration": 11,
    "start_time": "2024-06-29T20:58:23.100Z"
   },
   {
    "duration": 37,
    "start_time": "2024-06-29T20:58:23.113Z"
   },
   {
    "duration": 22,
    "start_time": "2024-06-29T20:58:23.152Z"
   },
   {
    "duration": 25,
    "start_time": "2024-06-29T20:58:23.176Z"
   },
   {
    "duration": 12,
    "start_time": "2024-06-29T20:58:23.203Z"
   },
   {
    "duration": 14,
    "start_time": "2024-06-29T20:58:23.216Z"
   },
   {
    "duration": 22,
    "start_time": "2024-06-29T20:58:23.232Z"
   },
   {
    "duration": 14,
    "start_time": "2024-06-29T20:58:23.256Z"
   },
   {
    "duration": 13,
    "start_time": "2024-06-29T20:58:23.272Z"
   },
   {
    "duration": 288,
    "start_time": "2024-06-29T20:58:23.287Z"
   },
   {
    "duration": 231,
    "start_time": "2024-06-29T20:58:23.577Z"
   },
   {
    "duration": 233,
    "start_time": "2024-06-29T20:58:23.810Z"
   },
   {
    "duration": 338,
    "start_time": "2024-06-29T20:58:24.046Z"
   },
   {
    "duration": 294,
    "start_time": "2024-06-29T20:58:24.386Z"
   },
   {
    "duration": 366,
    "start_time": "2024-06-29T20:58:24.682Z"
   },
   {
    "duration": 158,
    "start_time": "2024-06-29T20:59:37.725Z"
   },
   {
    "duration": 160,
    "start_time": "2024-06-29T20:59:47.556Z"
   },
   {
    "duration": 3,
    "start_time": "2024-06-29T21:35:02.886Z"
   },
   {
    "duration": 761,
    "start_time": "2024-06-29T21:35:02.891Z"
   },
   {
    "duration": 42,
    "start_time": "2024-06-29T21:35:03.654Z"
   },
   {
    "duration": 8,
    "start_time": "2024-06-29T21:35:03.698Z"
   },
   {
    "duration": 26,
    "start_time": "2024-06-29T21:35:03.707Z"
   },
   {
    "duration": 8,
    "start_time": "2024-06-29T21:35:03.735Z"
   },
   {
    "duration": 12,
    "start_time": "2024-06-29T21:35:03.745Z"
   },
   {
    "duration": 7,
    "start_time": "2024-06-29T21:35:03.759Z"
   },
   {
    "duration": 17,
    "start_time": "2024-06-29T21:35:03.768Z"
   },
   {
    "duration": 17,
    "start_time": "2024-06-29T21:35:03.787Z"
   },
   {
    "duration": 22,
    "start_time": "2024-06-29T21:35:03.806Z"
   },
   {
    "duration": 18,
    "start_time": "2024-06-29T21:35:03.830Z"
   },
   {
    "duration": 16,
    "start_time": "2024-06-29T21:35:03.849Z"
   },
   {
    "duration": 35,
    "start_time": "2024-06-29T21:35:03.867Z"
   },
   {
    "duration": 274,
    "start_time": "2024-06-29T21:35:03.903Z"
   },
   {
    "duration": 238,
    "start_time": "2024-06-29T21:35:04.179Z"
   },
   {
    "duration": 241,
    "start_time": "2024-06-29T21:35:04.418Z"
   },
   {
    "duration": 320,
    "start_time": "2024-06-29T21:35:04.661Z"
   },
   {
    "duration": 376,
    "start_time": "2024-06-29T21:35:04.983Z"
   },
   {
    "duration": 353,
    "start_time": "2024-06-29T21:35:05.361Z"
   },
   {
    "duration": 183,
    "start_time": "2024-06-29T21:35:05.716Z"
   },
   {
    "duration": 5,
    "start_time": "2024-06-29T21:37:38.716Z"
   },
   {
    "duration": 4,
    "start_time": "2024-06-29T21:38:15.967Z"
   },
   {
    "duration": 5,
    "start_time": "2024-06-29T21:38:58.217Z"
   },
   {
    "duration": 3,
    "start_time": "2024-06-29T21:39:49.604Z"
   },
   {
    "duration": 54,
    "start_time": "2024-06-29T21:39:49.608Z"
   },
   {
    "duration": 43,
    "start_time": "2024-06-29T21:39:49.664Z"
   },
   {
    "duration": 8,
    "start_time": "2024-06-29T21:39:49.709Z"
   },
   {
    "duration": 34,
    "start_time": "2024-06-29T21:39:49.719Z"
   },
   {
    "duration": 7,
    "start_time": "2024-06-29T21:39:49.754Z"
   },
   {
    "duration": 11,
    "start_time": "2024-06-29T21:39:49.763Z"
   },
   {
    "duration": 7,
    "start_time": "2024-06-29T21:39:49.776Z"
   },
   {
    "duration": 15,
    "start_time": "2024-06-29T21:39:49.785Z"
   },
   {
    "duration": 12,
    "start_time": "2024-06-29T21:39:49.802Z"
   },
   {
    "duration": 42,
    "start_time": "2024-06-29T21:39:49.815Z"
   },
   {
    "duration": 29,
    "start_time": "2024-06-29T21:39:49.858Z"
   },
   {
    "duration": 12,
    "start_time": "2024-06-29T21:39:49.889Z"
   },
   {
    "duration": 9,
    "start_time": "2024-06-29T21:39:49.904Z"
   },
   {
    "duration": 300,
    "start_time": "2024-06-29T21:39:49.915Z"
   },
   {
    "duration": 236,
    "start_time": "2024-06-29T21:39:50.216Z"
   },
   {
    "duration": 228,
    "start_time": "2024-06-29T21:39:50.453Z"
   },
   {
    "duration": 303,
    "start_time": "2024-06-29T21:39:50.683Z"
   },
   {
    "duration": 247,
    "start_time": "2024-06-29T21:39:50.988Z"
   },
   {
    "duration": 378,
    "start_time": "2024-06-29T21:39:51.236Z"
   },
   {
    "duration": 181,
    "start_time": "2024-06-29T21:39:51.615Z"
   },
   {
    "duration": 4,
    "start_time": "2024-06-29T21:39:51.798Z"
   },
   {
    "duration": 174,
    "start_time": "2024-06-29T21:42:04.815Z"
   },
   {
    "duration": 2,
    "start_time": "2024-06-29T21:43:41.174Z"
   },
   {
    "duration": 36,
    "start_time": "2024-06-29T21:43:41.179Z"
   },
   {
    "duration": 46,
    "start_time": "2024-06-29T21:43:41.217Z"
   },
   {
    "duration": 8,
    "start_time": "2024-06-29T21:43:41.265Z"
   },
   {
    "duration": 22,
    "start_time": "2024-06-29T21:43:41.276Z"
   },
   {
    "duration": 7,
    "start_time": "2024-06-29T21:43:41.300Z"
   },
   {
    "duration": 12,
    "start_time": "2024-06-29T21:43:41.309Z"
   },
   {
    "duration": 6,
    "start_time": "2024-06-29T21:43:41.323Z"
   },
   {
    "duration": 11,
    "start_time": "2024-06-29T21:43:41.346Z"
   },
   {
    "duration": 11,
    "start_time": "2024-06-29T21:43:41.359Z"
   },
   {
    "duration": 11,
    "start_time": "2024-06-29T21:43:41.371Z"
   },
   {
    "duration": 12,
    "start_time": "2024-06-29T21:43:41.384Z"
   },
   {
    "duration": 5,
    "start_time": "2024-06-29T21:43:41.399Z"
   },
   {
    "duration": 46,
    "start_time": "2024-06-29T21:43:41.406Z"
   },
   {
    "duration": 286,
    "start_time": "2024-06-29T21:43:41.454Z"
   },
   {
    "duration": 245,
    "start_time": "2024-06-29T21:43:41.745Z"
   },
   {
    "duration": 332,
    "start_time": "2024-06-29T21:43:41.992Z"
   },
   {
    "duration": 362,
    "start_time": "2024-06-29T21:43:42.325Z"
   },
   {
    "duration": 284,
    "start_time": "2024-06-29T21:43:42.688Z"
   },
   {
    "duration": 345,
    "start_time": "2024-06-29T21:43:42.973Z"
   },
   {
    "duration": 161,
    "start_time": "2024-06-29T21:43:43.320Z"
   },
   {
    "duration": 4,
    "start_time": "2024-06-29T21:43:43.482Z"
   },
   {
    "duration": 182,
    "start_time": "2024-06-29T21:43:43.488Z"
   },
   {
    "duration": 8,
    "start_time": "2024-06-29T21:43:43.672Z"
   },
   {
    "duration": 4,
    "start_time": "2024-06-29T21:45:23.887Z"
   },
   {
    "duration": 47,
    "start_time": "2024-06-29T21:45:23.893Z"
   },
   {
    "duration": 42,
    "start_time": "2024-06-29T21:45:23.942Z"
   },
   {
    "duration": 7,
    "start_time": "2024-06-29T21:45:23.986Z"
   },
   {
    "duration": 39,
    "start_time": "2024-06-29T21:45:23.995Z"
   },
   {
    "duration": 7,
    "start_time": "2024-06-29T21:45:24.035Z"
   },
   {
    "duration": 11,
    "start_time": "2024-06-29T21:45:24.043Z"
   },
   {
    "duration": 11,
    "start_time": "2024-06-29T21:45:24.055Z"
   },
   {
    "duration": 78,
    "start_time": "2024-06-29T21:45:24.068Z"
   },
   {
    "duration": 18,
    "start_time": "2024-06-29T21:45:24.147Z"
   },
   {
    "duration": 13,
    "start_time": "2024-06-29T21:45:24.167Z"
   },
   {
    "duration": 32,
    "start_time": "2024-06-29T21:45:24.181Z"
   },
   {
    "duration": 50,
    "start_time": "2024-06-29T21:45:24.215Z"
   },
   {
    "duration": 31,
    "start_time": "2024-06-29T21:45:24.268Z"
   },
   {
    "duration": 290,
    "start_time": "2024-06-29T21:45:24.300Z"
   },
   {
    "duration": 248,
    "start_time": "2024-06-29T21:45:24.592Z"
   },
   {
    "duration": 233,
    "start_time": "2024-06-29T21:45:24.846Z"
   },
   {
    "duration": 316,
    "start_time": "2024-06-29T21:45:25.081Z"
   },
   {
    "duration": 263,
    "start_time": "2024-06-29T21:45:25.398Z"
   },
   {
    "duration": 365,
    "start_time": "2024-06-29T21:45:25.662Z"
   },
   {
    "duration": 162,
    "start_time": "2024-06-29T21:45:26.029Z"
   },
   {
    "duration": 5,
    "start_time": "2024-06-29T21:45:26.192Z"
   },
   {
    "duration": 272,
    "start_time": "2024-06-29T21:45:26.199Z"
   },
   {
    "duration": 228,
    "start_time": "2024-06-29T21:45:26.473Z"
   },
   {
    "duration": 4,
    "start_time": "2024-06-29T21:47:29.641Z"
   },
   {
    "duration": 284,
    "start_time": "2024-06-29T21:56:55.844Z"
   },
   {
    "duration": 3,
    "start_time": "2024-06-29T21:57:17.832Z"
   },
   {
    "duration": 38,
    "start_time": "2024-06-29T21:57:17.837Z"
   },
   {
    "duration": 43,
    "start_time": "2024-06-29T21:57:17.877Z"
   },
   {
    "duration": 7,
    "start_time": "2024-06-29T21:57:17.922Z"
   },
   {
    "duration": 27,
    "start_time": "2024-06-29T21:57:17.932Z"
   },
   {
    "duration": 7,
    "start_time": "2024-06-29T21:57:17.961Z"
   },
   {
    "duration": 17,
    "start_time": "2024-06-29T21:57:17.969Z"
   },
   {
    "duration": 18,
    "start_time": "2024-06-29T21:57:17.988Z"
   },
   {
    "duration": 16,
    "start_time": "2024-06-29T21:57:18.007Z"
   },
   {
    "duration": 12,
    "start_time": "2024-06-29T21:57:18.025Z"
   },
   {
    "duration": 24,
    "start_time": "2024-06-29T21:57:18.039Z"
   },
   {
    "duration": 22,
    "start_time": "2024-06-29T21:57:18.064Z"
   },
   {
    "duration": 10,
    "start_time": "2024-06-29T21:57:18.088Z"
   },
   {
    "duration": 22,
    "start_time": "2024-06-29T21:57:18.101Z"
   },
   {
    "duration": 289,
    "start_time": "2024-06-29T21:57:18.124Z"
   },
   {
    "duration": 253,
    "start_time": "2024-06-29T21:57:18.415Z"
   },
   {
    "duration": 230,
    "start_time": "2024-06-29T21:57:18.670Z"
   },
   {
    "duration": 338,
    "start_time": "2024-06-29T21:57:18.901Z"
   },
   {
    "duration": 270,
    "start_time": "2024-06-29T21:57:19.241Z"
   },
   {
    "duration": 423,
    "start_time": "2024-06-29T21:57:19.513Z"
   },
   {
    "duration": 190,
    "start_time": "2024-06-29T21:57:19.938Z"
   },
   {
    "duration": 5,
    "start_time": "2024-06-29T21:57:20.130Z"
   },
   {
    "duration": 177,
    "start_time": "2024-06-29T21:57:20.146Z"
   },
   {
    "duration": 186,
    "start_time": "2024-06-29T21:57:20.325Z"
   },
   {
    "duration": 5,
    "start_time": "2024-06-29T21:57:20.512Z"
   },
   {
    "duration": 345,
    "start_time": "2024-06-29T21:57:20.519Z"
   },
   {
    "duration": 4,
    "start_time": "2024-06-29T21:59:10.648Z"
   },
   {
    "duration": 111,
    "start_time": "2024-06-29T21:59:10.654Z"
   },
   {
    "duration": 45,
    "start_time": "2024-06-29T21:59:10.767Z"
   },
   {
    "duration": 8,
    "start_time": "2024-06-29T21:59:10.814Z"
   },
   {
    "duration": 50,
    "start_time": "2024-06-29T21:59:10.825Z"
   },
   {
    "duration": 10,
    "start_time": "2024-06-29T21:59:10.877Z"
   },
   {
    "duration": 13,
    "start_time": "2024-06-29T21:59:10.888Z"
   },
   {
    "duration": 17,
    "start_time": "2024-06-29T21:59:10.903Z"
   },
   {
    "duration": 32,
    "start_time": "2024-06-29T21:59:10.922Z"
   },
   {
    "duration": 14,
    "start_time": "2024-06-29T21:59:10.956Z"
   },
   {
    "duration": 14,
    "start_time": "2024-06-29T21:59:10.972Z"
   },
   {
    "duration": 41,
    "start_time": "2024-06-29T21:59:10.988Z"
   },
   {
    "duration": 18,
    "start_time": "2024-06-29T21:59:11.031Z"
   },
   {
    "duration": 8,
    "start_time": "2024-06-29T21:59:11.053Z"
   },
   {
    "duration": 286,
    "start_time": "2024-06-29T21:59:11.062Z"
   },
   {
    "duration": 225,
    "start_time": "2024-06-29T21:59:11.349Z"
   },
   {
    "duration": 234,
    "start_time": "2024-06-29T21:59:11.576Z"
   },
   {
    "duration": 469,
    "start_time": "2024-06-29T21:59:11.811Z"
   },
   {
    "duration": 254,
    "start_time": "2024-06-29T21:59:12.282Z"
   },
   {
    "duration": 377,
    "start_time": "2024-06-29T21:59:12.538Z"
   },
   {
    "duration": 165,
    "start_time": "2024-06-29T21:59:12.917Z"
   },
   {
    "duration": 5,
    "start_time": "2024-06-29T21:59:13.083Z"
   },
   {
    "duration": 176,
    "start_time": "2024-06-29T21:59:13.089Z"
   },
   {
    "duration": 179,
    "start_time": "2024-06-29T21:59:13.267Z"
   },
   {
    "duration": 5,
    "start_time": "2024-06-29T21:59:13.448Z"
   },
   {
    "duration": 299,
    "start_time": "2024-06-29T21:59:13.455Z"
   },
   {
    "duration": 11,
    "start_time": "2024-06-29T22:00:34.752Z"
   },
   {
    "duration": 11,
    "start_time": "2024-06-29T22:00:46.476Z"
   },
   {
    "duration": 2,
    "start_time": "2024-06-29T22:03:08.674Z"
   },
   {
    "duration": 78,
    "start_time": "2024-06-29T22:03:08.678Z"
   },
   {
    "duration": 46,
    "start_time": "2024-06-29T22:03:08.758Z"
   },
   {
    "duration": 8,
    "start_time": "2024-06-29T22:03:08.806Z"
   },
   {
    "duration": 24,
    "start_time": "2024-06-29T22:03:08.816Z"
   },
   {
    "duration": 9,
    "start_time": "2024-06-29T22:03:08.842Z"
   },
   {
    "duration": 11,
    "start_time": "2024-06-29T22:03:08.853Z"
   },
   {
    "duration": 11,
    "start_time": "2024-06-29T22:03:08.866Z"
   },
   {
    "duration": 17,
    "start_time": "2024-06-29T22:03:08.878Z"
   },
   {
    "duration": 22,
    "start_time": "2024-06-29T22:03:08.896Z"
   },
   {
    "duration": 12,
    "start_time": "2024-06-29T22:03:08.919Z"
   },
   {
    "duration": 14,
    "start_time": "2024-06-29T22:03:08.946Z"
   },
   {
    "duration": 7,
    "start_time": "2024-06-29T22:03:08.962Z"
   },
   {
    "duration": 11,
    "start_time": "2024-06-29T22:03:08.972Z"
   },
   {
    "duration": 292,
    "start_time": "2024-06-29T22:03:08.984Z"
   },
   {
    "duration": 237,
    "start_time": "2024-06-29T22:03:09.277Z"
   },
   {
    "duration": 226,
    "start_time": "2024-06-29T22:03:09.515Z"
   },
   {
    "duration": 419,
    "start_time": "2024-06-29T22:03:09.743Z"
   },
   {
    "duration": 262,
    "start_time": "2024-06-29T22:03:10.164Z"
   },
   {
    "duration": 383,
    "start_time": "2024-06-29T22:03:10.427Z"
   },
   {
    "duration": 160,
    "start_time": "2024-06-29T22:03:10.812Z"
   },
   {
    "duration": 4,
    "start_time": "2024-06-29T22:03:10.973Z"
   },
   {
    "duration": 300,
    "start_time": "2024-06-29T22:03:10.978Z"
   },
   {
    "duration": 189,
    "start_time": "2024-06-29T22:03:11.279Z"
   },
   {
    "duration": 5,
    "start_time": "2024-06-29T22:03:11.469Z"
   },
   {
    "duration": 372,
    "start_time": "2024-06-29T22:03:11.475Z"
   },
   {
    "duration": 12,
    "start_time": "2024-06-29T22:03:11.849Z"
   },
   {
    "duration": 1081,
    "start_time": "2024-06-29T22:03:19.995Z"
   },
   {
    "duration": 87,
    "start_time": "2024-06-29T22:03:21.078Z"
   },
   {
    "duration": 43,
    "start_time": "2024-06-29T22:03:21.166Z"
   },
   {
    "duration": 10,
    "start_time": "2024-06-29T22:03:21.211Z"
   },
   {
    "duration": 62,
    "start_time": "2024-06-29T22:03:21.223Z"
   },
   {
    "duration": 9,
    "start_time": "2024-06-29T22:03:21.287Z"
   },
   {
    "duration": 19,
    "start_time": "2024-06-29T22:03:21.297Z"
   },
   {
    "duration": 33,
    "start_time": "2024-06-29T22:03:21.318Z"
   },
   {
    "duration": 40,
    "start_time": "2024-06-29T22:03:21.353Z"
   },
   {
    "duration": 24,
    "start_time": "2024-06-29T22:03:21.395Z"
   },
   {
    "duration": 14,
    "start_time": "2024-06-29T22:03:21.420Z"
   },
   {
    "duration": 12,
    "start_time": "2024-06-29T22:03:21.436Z"
   },
   {
    "duration": 29,
    "start_time": "2024-06-29T22:03:21.450Z"
   },
   {
    "duration": 9,
    "start_time": "2024-06-29T22:03:21.481Z"
   },
   {
    "duration": 329,
    "start_time": "2024-06-29T22:03:21.492Z"
   },
   {
    "duration": 345,
    "start_time": "2024-06-29T22:03:21.823Z"
   },
   {
    "duration": 227,
    "start_time": "2024-06-29T22:03:22.170Z"
   },
   {
    "duration": 316,
    "start_time": "2024-06-29T22:03:22.398Z"
   },
   {
    "duration": 250,
    "start_time": "2024-06-29T22:03:22.716Z"
   },
   {
    "duration": 351,
    "start_time": "2024-06-29T22:03:22.968Z"
   },
   {
    "duration": 158,
    "start_time": "2024-06-29T22:03:23.321Z"
   },
   {
    "duration": 5,
    "start_time": "2024-06-29T22:03:23.481Z"
   },
   {
    "duration": 184,
    "start_time": "2024-06-29T22:03:23.487Z"
   },
   {
    "duration": 233,
    "start_time": "2024-06-29T22:03:23.672Z"
   },
   {
    "duration": 4,
    "start_time": "2024-06-29T22:03:23.906Z"
   },
   {
    "duration": 296,
    "start_time": "2024-06-29T22:03:23.912Z"
   },
   {
    "duration": 11,
    "start_time": "2024-06-29T22:03:24.209Z"
   },
   {
    "duration": 3,
    "start_time": "2024-06-29T22:04:37.980Z"
   },
   {
    "duration": 39,
    "start_time": "2024-06-29T22:04:37.985Z"
   },
   {
    "duration": 42,
    "start_time": "2024-06-29T22:04:38.026Z"
   },
   {
    "duration": 7,
    "start_time": "2024-06-29T22:04:38.070Z"
   },
   {
    "duration": 30,
    "start_time": "2024-06-29T22:04:38.079Z"
   },
   {
    "duration": 7,
    "start_time": "2024-06-29T22:04:38.111Z"
   },
   {
    "duration": 9,
    "start_time": "2024-06-29T22:04:38.119Z"
   },
   {
    "duration": 13,
    "start_time": "2024-06-29T22:04:38.130Z"
   },
   {
    "duration": 15,
    "start_time": "2024-06-29T22:04:38.144Z"
   },
   {
    "duration": 43,
    "start_time": "2024-06-29T22:04:38.160Z"
   },
   {
    "duration": 16,
    "start_time": "2024-06-29T22:04:38.204Z"
   },
   {
    "duration": 19,
    "start_time": "2024-06-29T22:04:38.222Z"
   },
   {
    "duration": 17,
    "start_time": "2024-06-29T22:04:38.243Z"
   },
   {
    "duration": 27,
    "start_time": "2024-06-29T22:04:38.262Z"
   },
   {
    "duration": 275,
    "start_time": "2024-06-29T22:04:38.290Z"
   },
   {
    "duration": 346,
    "start_time": "2024-06-29T22:04:38.567Z"
   },
   {
    "duration": 223,
    "start_time": "2024-06-29T22:04:38.914Z"
   },
   {
    "duration": 354,
    "start_time": "2024-06-29T22:04:39.139Z"
   },
   {
    "duration": 245,
    "start_time": "2024-06-29T22:04:39.495Z"
   },
   {
    "duration": 368,
    "start_time": "2024-06-29T22:04:39.742Z"
   },
   {
    "duration": 181,
    "start_time": "2024-06-29T22:04:40.112Z"
   },
   {
    "duration": 5,
    "start_time": "2024-06-29T22:04:40.295Z"
   },
   {
    "duration": 199,
    "start_time": "2024-06-29T22:04:40.301Z"
   },
   {
    "duration": 199,
    "start_time": "2024-06-29T22:04:40.501Z"
   },
   {
    "duration": 4,
    "start_time": "2024-06-29T22:04:40.702Z"
   },
   {
    "duration": 304,
    "start_time": "2024-06-29T22:04:40.708Z"
   },
   {
    "duration": 11,
    "start_time": "2024-06-29T22:04:41.013Z"
   },
   {
    "duration": 25,
    "start_time": "2024-06-29T22:04:41.025Z"
   },
   {
    "duration": 110,
    "start_time": "2024-06-29T22:04:41.051Z"
   },
   {
    "duration": 3,
    "start_time": "2024-06-29T22:04:50.326Z"
   },
   {
    "duration": 134,
    "start_time": "2024-06-29T22:04:50.331Z"
   },
   {
    "duration": 90,
    "start_time": "2024-06-29T22:04:50.466Z"
   },
   {
    "duration": 9,
    "start_time": "2024-06-29T22:04:50.558Z"
   },
   {
    "duration": 49,
    "start_time": "2024-06-29T22:04:50.569Z"
   },
   {
    "duration": 14,
    "start_time": "2024-06-29T22:04:50.619Z"
   },
   {
    "duration": 31,
    "start_time": "2024-06-29T22:04:50.634Z"
   },
   {
    "duration": 33,
    "start_time": "2024-06-29T22:04:50.667Z"
   },
   {
    "duration": 53,
    "start_time": "2024-06-29T22:04:50.702Z"
   },
   {
    "duration": 34,
    "start_time": "2024-06-29T22:04:50.757Z"
   },
   {
    "duration": 37,
    "start_time": "2024-06-29T22:04:50.792Z"
   },
   {
    "duration": 52,
    "start_time": "2024-06-29T22:04:50.830Z"
   },
   {
    "duration": 47,
    "start_time": "2024-06-29T22:04:50.884Z"
   },
   {
    "duration": 20,
    "start_time": "2024-06-29T22:04:50.934Z"
   },
   {
    "duration": 316,
    "start_time": "2024-06-29T22:04:50.955Z"
   },
   {
    "duration": 238,
    "start_time": "2024-06-29T22:04:51.273Z"
   },
   {
    "duration": 224,
    "start_time": "2024-06-29T22:04:51.513Z"
   },
   {
    "duration": 361,
    "start_time": "2024-06-29T22:04:51.739Z"
   },
   {
    "duration": 341,
    "start_time": "2024-06-29T22:04:52.102Z"
   },
   {
    "duration": 380,
    "start_time": "2024-06-29T22:04:52.445Z"
   },
   {
    "duration": 165,
    "start_time": "2024-06-29T22:04:52.826Z"
   },
   {
    "duration": 5,
    "start_time": "2024-06-29T22:04:52.992Z"
   },
   {
    "duration": 190,
    "start_time": "2024-06-29T22:04:52.998Z"
   },
   {
    "duration": 198,
    "start_time": "2024-06-29T22:04:53.190Z"
   },
   {
    "duration": 5,
    "start_time": "2024-06-29T22:04:53.390Z"
   },
   {
    "duration": 312,
    "start_time": "2024-06-29T22:04:53.397Z"
   },
   {
    "duration": 10,
    "start_time": "2024-06-29T22:04:53.711Z"
   },
   {
    "duration": 59,
    "start_time": "2024-06-29T22:04:53.723Z"
   },
   {
    "duration": 338,
    "start_time": "2024-06-29T22:04:53.784Z"
   },
   {
    "duration": 4,
    "start_time": "2024-06-29T22:07:27.568Z"
   },
   {
    "duration": 40,
    "start_time": "2024-06-29T22:07:27.573Z"
   },
   {
    "duration": 41,
    "start_time": "2024-06-29T22:07:27.615Z"
   },
   {
    "duration": 8,
    "start_time": "2024-06-29T22:07:27.658Z"
   },
   {
    "duration": 32,
    "start_time": "2024-06-29T22:07:27.668Z"
   },
   {
    "duration": 7,
    "start_time": "2024-06-29T22:07:27.701Z"
   },
   {
    "duration": 9,
    "start_time": "2024-06-29T22:07:27.710Z"
   },
   {
    "duration": 6,
    "start_time": "2024-06-29T22:07:27.720Z"
   },
   {
    "duration": 19,
    "start_time": "2024-06-29T22:07:27.727Z"
   },
   {
    "duration": 11,
    "start_time": "2024-06-29T22:07:27.749Z"
   },
   {
    "duration": 27,
    "start_time": "2024-06-29T22:07:27.761Z"
   },
   {
    "duration": 26,
    "start_time": "2024-06-29T22:07:27.789Z"
   },
   {
    "duration": 13,
    "start_time": "2024-06-29T22:07:27.816Z"
   },
   {
    "duration": 43,
    "start_time": "2024-06-29T22:07:27.831Z"
   },
   {
    "duration": 290,
    "start_time": "2024-06-29T22:07:27.875Z"
   },
   {
    "duration": 232,
    "start_time": "2024-06-29T22:07:28.167Z"
   },
   {
    "duration": 265,
    "start_time": "2024-06-29T22:07:28.401Z"
   },
   {
    "duration": 325,
    "start_time": "2024-06-29T22:07:28.668Z"
   },
   {
    "duration": 254,
    "start_time": "2024-06-29T22:07:28.995Z"
   },
   {
    "duration": 358,
    "start_time": "2024-06-29T22:07:29.251Z"
   },
   {
    "duration": 243,
    "start_time": "2024-06-29T22:07:29.611Z"
   },
   {
    "duration": 4,
    "start_time": "2024-06-29T22:07:29.856Z"
   },
   {
    "duration": 183,
    "start_time": "2024-06-29T22:07:29.861Z"
   },
   {
    "duration": 190,
    "start_time": "2024-06-29T22:07:30.046Z"
   },
   {
    "duration": 34,
    "start_time": "2024-06-29T22:07:30.238Z"
   },
   {
    "duration": 444,
    "start_time": "2024-06-29T22:07:30.275Z"
   },
   {
    "duration": 10,
    "start_time": "2024-06-29T22:07:30.721Z"
   },
   {
    "duration": 377,
    "start_time": "2024-06-29T22:07:30.745Z"
   },
   {
    "duration": 1095,
    "start_time": "2024-06-29T22:07:31.124Z"
   },
   {
    "duration": 254,
    "start_time": "2024-06-29T22:07:32.220Z"
   },
   {
    "duration": 3,
    "start_time": "2024-06-29T22:07:50.545Z"
   },
   {
    "duration": 68,
    "start_time": "2024-06-29T22:07:50.550Z"
   },
   {
    "duration": 43,
    "start_time": "2024-06-29T22:07:50.620Z"
   },
   {
    "duration": 8,
    "start_time": "2024-06-29T22:07:50.665Z"
   },
   {
    "duration": 28,
    "start_time": "2024-06-29T22:07:50.677Z"
   },
   {
    "duration": 19,
    "start_time": "2024-06-29T22:07:50.707Z"
   },
   {
    "duration": 79,
    "start_time": "2024-06-29T22:07:50.728Z"
   },
   {
    "duration": 127,
    "start_time": "2024-06-29T22:07:50.809Z"
   },
   {
    "duration": 130,
    "start_time": "2024-06-29T22:07:50.938Z"
   },
   {
    "duration": 30,
    "start_time": "2024-06-29T22:07:51.069Z"
   },
   {
    "duration": 38,
    "start_time": "2024-06-29T22:07:51.101Z"
   },
   {
    "duration": 95,
    "start_time": "2024-06-29T22:07:51.141Z"
   },
   {
    "duration": 34,
    "start_time": "2024-06-29T22:07:51.238Z"
   },
   {
    "duration": 63,
    "start_time": "2024-06-29T22:07:51.275Z"
   },
   {
    "duration": 298,
    "start_time": "2024-06-29T22:07:51.340Z"
   },
   {
    "duration": 239,
    "start_time": "2024-06-29T22:07:51.640Z"
   },
   {
    "duration": 220,
    "start_time": "2024-06-29T22:07:51.880Z"
   },
   {
    "duration": 314,
    "start_time": "2024-06-29T22:07:52.102Z"
   },
   {
    "duration": 261,
    "start_time": "2024-06-29T22:07:52.418Z"
   },
   {
    "duration": 333,
    "start_time": "2024-06-29T22:07:52.680Z"
   },
   {
    "duration": 170,
    "start_time": "2024-06-29T22:07:53.015Z"
   },
   {
    "duration": 4,
    "start_time": "2024-06-29T22:07:53.187Z"
   },
   {
    "duration": 186,
    "start_time": "2024-06-29T22:07:53.192Z"
   },
   {
    "duration": 254,
    "start_time": "2024-06-29T22:07:53.379Z"
   },
   {
    "duration": 12,
    "start_time": "2024-06-29T22:07:53.635Z"
   },
   {
    "duration": 301,
    "start_time": "2024-06-29T22:07:53.649Z"
   },
   {
    "duration": 11,
    "start_time": "2024-06-29T22:07:53.951Z"
   },
   {
    "duration": 10,
    "start_time": "2024-06-29T22:07:53.964Z"
   },
   {
    "duration": 33,
    "start_time": "2024-06-29T22:07:53.976Z"
   },
   {
    "duration": 44,
    "start_time": "2024-06-29T22:07:54.010Z"
   },
   {
    "duration": 3,
    "start_time": "2024-06-29T22:21:28.814Z"
   },
   {
    "duration": 49,
    "start_time": "2024-06-29T22:21:28.819Z"
   },
   {
    "duration": 44,
    "start_time": "2024-06-29T22:21:28.870Z"
   },
   {
    "duration": 7,
    "start_time": "2024-06-29T22:21:28.916Z"
   },
   {
    "duration": 24,
    "start_time": "2024-06-29T22:21:28.925Z"
   },
   {
    "duration": 7,
    "start_time": "2024-06-29T22:21:28.951Z"
   },
   {
    "duration": 9,
    "start_time": "2024-06-29T22:21:28.959Z"
   },
   {
    "duration": 34,
    "start_time": "2024-06-29T22:21:28.970Z"
   },
   {
    "duration": 24,
    "start_time": "2024-06-29T22:21:29.006Z"
   },
   {
    "duration": 12,
    "start_time": "2024-06-29T22:21:29.034Z"
   },
   {
    "duration": 12,
    "start_time": "2024-06-29T22:21:29.048Z"
   },
   {
    "duration": 19,
    "start_time": "2024-06-29T22:21:29.062Z"
   },
   {
    "duration": 26,
    "start_time": "2024-06-29T22:21:29.083Z"
   },
   {
    "duration": 31,
    "start_time": "2024-06-29T22:21:29.110Z"
   },
   {
    "duration": 280,
    "start_time": "2024-06-29T22:21:29.143Z"
   },
   {
    "duration": 240,
    "start_time": "2024-06-29T22:21:29.425Z"
   },
   {
    "duration": 248,
    "start_time": "2024-06-29T22:21:29.666Z"
   },
   {
    "duration": 353,
    "start_time": "2024-06-29T22:21:29.916Z"
   },
   {
    "duration": 275,
    "start_time": "2024-06-29T22:21:30.270Z"
   },
   {
    "duration": 626,
    "start_time": "2024-06-29T22:21:30.547Z"
   },
   {
    "duration": 460,
    "start_time": "2024-06-29T22:21:31.175Z"
   },
   {
    "duration": 331,
    "start_time": "2024-06-29T22:21:31.637Z"
   },
   {
    "duration": 233,
    "start_time": "2024-06-29T22:21:31.970Z"
   },
   {
    "duration": 182,
    "start_time": "2024-06-29T22:21:32.204Z"
   },
   {
    "duration": 5,
    "start_time": "2024-06-29T22:21:32.388Z"
   },
   {
    "duration": 758,
    "start_time": "2024-06-29T22:21:32.394Z"
   },
   {
    "duration": 11,
    "start_time": "2024-06-29T22:21:33.154Z"
   },
   {
    "duration": 60,
    "start_time": "2024-06-29T22:21:33.168Z"
   },
   {
    "duration": 56,
    "start_time": "2024-06-29T22:21:33.230Z"
   },
   {
    "duration": 27,
    "start_time": "2024-06-29T22:21:33.288Z"
   },
   {
    "duration": 1056,
    "start_time": "2024-06-29T22:22:59.272Z"
   },
   {
    "duration": 93,
    "start_time": "2024-06-29T22:23:00.330Z"
   },
   {
    "duration": 327,
    "start_time": "2024-06-29T22:23:00.425Z"
   },
   {
    "duration": 112,
    "start_time": "2024-06-29T22:23:00.754Z"
   },
   {
    "duration": 69,
    "start_time": "2024-06-29T22:23:00.868Z"
   },
   {
    "duration": 68,
    "start_time": "2024-06-29T22:23:00.939Z"
   },
   {
    "duration": 70,
    "start_time": "2024-06-29T22:23:01.008Z"
   },
   {
    "duration": 108,
    "start_time": "2024-06-29T22:23:01.079Z"
   },
   {
    "duration": 74,
    "start_time": "2024-06-29T22:23:01.189Z"
   },
   {
    "duration": 73,
    "start_time": "2024-06-29T22:23:01.264Z"
   },
   {
    "duration": 141,
    "start_time": "2024-06-29T22:23:01.338Z"
   },
   {
    "duration": 258,
    "start_time": "2024-06-29T22:23:01.481Z"
   },
   {
    "duration": 57,
    "start_time": "2024-06-29T22:23:01.741Z"
   },
   {
    "duration": 50,
    "start_time": "2024-06-29T22:23:01.801Z"
   },
   {
    "duration": 315,
    "start_time": "2024-06-29T22:23:01.854Z"
   },
   {
    "duration": 318,
    "start_time": "2024-06-29T22:23:02.171Z"
   },
   {
    "duration": 233,
    "start_time": "2024-06-29T22:23:02.492Z"
   },
   {
    "duration": 351,
    "start_time": "2024-06-29T22:23:02.727Z"
   },
   {
    "duration": 266,
    "start_time": "2024-06-29T22:23:03.080Z"
   },
   {
    "duration": 368,
    "start_time": "2024-06-29T22:23:03.348Z"
   },
   {
    "duration": 193,
    "start_time": "2024-06-29T22:23:03.718Z"
   },
   {
    "duration": 7,
    "start_time": "2024-06-29T22:23:03.913Z"
   },
   {
    "duration": 189,
    "start_time": "2024-06-29T22:23:03.922Z"
   },
   {
    "duration": 213,
    "start_time": "2024-06-29T22:23:04.112Z"
   },
   {
    "duration": 4,
    "start_time": "2024-06-29T22:23:04.327Z"
   },
   {
    "duration": 345,
    "start_time": "2024-06-29T22:23:04.333Z"
   },
   {
    "duration": 10,
    "start_time": "2024-06-29T22:23:04.679Z"
   },
   {
    "duration": 14,
    "start_time": "2024-06-29T22:23:04.691Z"
   },
   {
    "duration": 49,
    "start_time": "2024-06-29T22:23:04.706Z"
   },
   {
    "duration": 14,
    "start_time": "2024-06-29T22:23:04.757Z"
   },
   {
    "duration": 52,
    "start_time": "2024-06-30T11:22:30.108Z"
   },
   {
    "duration": 1213,
    "start_time": "2024-06-30T11:22:35.074Z"
   },
   {
    "duration": 149,
    "start_time": "2024-06-30T11:22:36.289Z"
   },
   {
    "duration": 90,
    "start_time": "2024-06-30T11:22:36.439Z"
   },
   {
    "duration": 10,
    "start_time": "2024-06-30T11:22:36.531Z"
   },
   {
    "duration": 94,
    "start_time": "2024-06-30T11:22:36.543Z"
   },
   {
    "duration": 7,
    "start_time": "2024-06-30T11:22:36.639Z"
   },
   {
    "duration": 18,
    "start_time": "2024-06-30T11:22:36.647Z"
   },
   {
    "duration": 20,
    "start_time": "2024-06-30T11:22:36.667Z"
   },
   {
    "duration": 26,
    "start_time": "2024-06-30T11:22:36.688Z"
   },
   {
    "duration": 16,
    "start_time": "2024-06-30T11:22:36.717Z"
   },
   {
    "duration": 13,
    "start_time": "2024-06-30T11:22:36.734Z"
   },
   {
    "duration": 12,
    "start_time": "2024-06-30T11:22:36.748Z"
   },
   {
    "duration": 10,
    "start_time": "2024-06-30T11:22:36.761Z"
   },
   {
    "duration": 17,
    "start_time": "2024-06-30T11:22:36.772Z"
   },
   {
    "duration": 278,
    "start_time": "2024-06-30T11:22:36.791Z"
   },
   {
    "duration": 320,
    "start_time": "2024-06-30T11:22:37.070Z"
   },
   {
    "duration": 220,
    "start_time": "2024-06-30T11:22:37.391Z"
   },
   {
    "duration": 404,
    "start_time": "2024-06-30T11:22:37.612Z"
   },
   {
    "duration": 245,
    "start_time": "2024-06-30T11:22:38.017Z"
   },
   {
    "duration": 358,
    "start_time": "2024-06-30T11:22:38.264Z"
   },
   {
    "duration": 193,
    "start_time": "2024-06-30T11:22:38.623Z"
   },
   {
    "duration": 4,
    "start_time": "2024-06-30T11:22:38.818Z"
   },
   {
    "duration": 193,
    "start_time": "2024-06-30T11:22:38.823Z"
   },
   {
    "duration": 199,
    "start_time": "2024-06-30T11:22:39.017Z"
   },
   {
    "duration": 5,
    "start_time": "2024-06-30T11:22:39.217Z"
   },
   {
    "duration": 278,
    "start_time": "2024-06-30T11:22:39.224Z"
   },
   {
    "duration": 9,
    "start_time": "2024-06-30T11:22:39.504Z"
   },
   {
    "duration": 24,
    "start_time": "2024-06-30T11:22:39.516Z"
   },
   {
    "duration": 34,
    "start_time": "2024-06-30T11:22:39.542Z"
   },
   {
    "duration": 14,
    "start_time": "2024-06-30T11:22:39.578Z"
   },
   {
    "duration": 3,
    "start_time": "2024-06-30T11:26:47.131Z"
   },
   {
    "duration": 42,
    "start_time": "2024-06-30T11:26:47.136Z"
   },
   {
    "duration": 44,
    "start_time": "2024-06-30T11:26:47.180Z"
   },
   {
    "duration": 7,
    "start_time": "2024-06-30T11:26:47.225Z"
   },
   {
    "duration": 27,
    "start_time": "2024-06-30T11:26:47.234Z"
   },
   {
    "duration": 7,
    "start_time": "2024-06-30T11:26:47.263Z"
   },
   {
    "duration": 10,
    "start_time": "2024-06-30T11:26:47.271Z"
   },
   {
    "duration": 12,
    "start_time": "2024-06-30T11:26:47.282Z"
   },
   {
    "duration": 11,
    "start_time": "2024-06-30T11:26:47.295Z"
   },
   {
    "duration": 10,
    "start_time": "2024-06-30T11:26:47.308Z"
   },
   {
    "duration": 37,
    "start_time": "2024-06-30T11:26:47.320Z"
   },
   {
    "duration": 78,
    "start_time": "2024-06-30T11:26:47.358Z"
   },
   {
    "duration": 10,
    "start_time": "2024-06-30T11:26:47.438Z"
   },
   {
    "duration": 9,
    "start_time": "2024-06-30T11:26:47.451Z"
   },
   {
    "duration": 268,
    "start_time": "2024-06-30T11:26:47.461Z"
   },
   {
    "duration": 294,
    "start_time": "2024-06-30T11:26:47.731Z"
   },
   {
    "duration": 218,
    "start_time": "2024-06-30T11:26:48.026Z"
   },
   {
    "duration": 335,
    "start_time": "2024-06-30T11:26:48.245Z"
   },
   {
    "duration": 243,
    "start_time": "2024-06-30T11:26:48.581Z"
   },
   {
    "duration": 368,
    "start_time": "2024-06-30T11:26:48.825Z"
   },
   {
    "duration": 162,
    "start_time": "2024-06-30T11:26:49.195Z"
   },
   {
    "duration": 3,
    "start_time": "2024-06-30T11:26:49.359Z"
   },
   {
    "duration": 171,
    "start_time": "2024-06-30T11:26:49.364Z"
   },
   {
    "duration": 173,
    "start_time": "2024-06-30T11:26:49.537Z"
   },
   {
    "duration": 5,
    "start_time": "2024-06-30T11:26:49.711Z"
   },
   {
    "duration": 323,
    "start_time": "2024-06-30T11:26:49.717Z"
   },
   {
    "duration": 18,
    "start_time": "2024-06-30T11:26:50.042Z"
   },
   {
    "duration": 29,
    "start_time": "2024-06-30T11:26:50.062Z"
   },
   {
    "duration": 46,
    "start_time": "2024-06-30T11:26:50.093Z"
   },
   {
    "duration": 16,
    "start_time": "2024-06-30T11:26:50.141Z"
   },
   {
    "duration": 3,
    "start_time": "2024-06-30T11:28:11.735Z"
   },
   {
    "duration": 58,
    "start_time": "2024-06-30T11:28:11.740Z"
   },
   {
    "duration": 44,
    "start_time": "2024-06-30T11:28:11.800Z"
   },
   {
    "duration": 7,
    "start_time": "2024-06-30T11:28:11.846Z"
   },
   {
    "duration": 36,
    "start_time": "2024-06-30T11:28:11.856Z"
   },
   {
    "duration": 7,
    "start_time": "2024-06-30T11:28:11.894Z"
   },
   {
    "duration": 17,
    "start_time": "2024-06-30T11:28:11.902Z"
   },
   {
    "duration": 29,
    "start_time": "2024-06-30T11:28:11.921Z"
   },
   {
    "duration": 10,
    "start_time": "2024-06-30T11:28:11.952Z"
   },
   {
    "duration": 14,
    "start_time": "2024-06-30T11:28:11.963Z"
   },
   {
    "duration": 16,
    "start_time": "2024-06-30T11:28:11.978Z"
   },
   {
    "duration": 13,
    "start_time": "2024-06-30T11:28:11.997Z"
   },
   {
    "duration": 26,
    "start_time": "2024-06-30T11:28:12.012Z"
   },
   {
    "duration": 30,
    "start_time": "2024-06-30T11:28:12.041Z"
   },
   {
    "duration": 261,
    "start_time": "2024-06-30T11:28:12.072Z"
   },
   {
    "duration": 229,
    "start_time": "2024-06-30T11:28:12.335Z"
   },
   {
    "duration": 226,
    "start_time": "2024-06-30T11:28:12.566Z"
   },
   {
    "duration": 319,
    "start_time": "2024-06-30T11:28:12.794Z"
   },
   {
    "duration": 318,
    "start_time": "2024-06-30T11:28:13.115Z"
   },
   {
    "duration": 381,
    "start_time": "2024-06-30T11:28:13.434Z"
   },
   {
    "duration": 156,
    "start_time": "2024-06-30T11:28:13.816Z"
   },
   {
    "duration": 4,
    "start_time": "2024-06-30T11:28:13.974Z"
   },
   {
    "duration": 195,
    "start_time": "2024-06-30T11:28:13.980Z"
   },
   {
    "duration": 179,
    "start_time": "2024-06-30T11:28:14.176Z"
   },
   {
    "duration": 4,
    "start_time": "2024-06-30T11:28:14.357Z"
   },
   {
    "duration": 288,
    "start_time": "2024-06-30T11:28:14.362Z"
   },
   {
    "duration": 12,
    "start_time": "2024-06-30T11:28:14.652Z"
   },
   {
    "duration": 28,
    "start_time": "2024-06-30T11:28:14.666Z"
   },
   {
    "duration": 32,
    "start_time": "2024-06-30T11:28:14.696Z"
   },
   {
    "duration": 17,
    "start_time": "2024-06-30T11:28:14.729Z"
   },
   {
    "duration": 3,
    "start_time": "2024-06-30T11:31:52.058Z"
   },
   {
    "duration": 41,
    "start_time": "2024-06-30T11:31:52.063Z"
   },
   {
    "duration": 45,
    "start_time": "2024-06-30T11:31:52.105Z"
   },
   {
    "duration": 7,
    "start_time": "2024-06-30T11:31:52.152Z"
   },
   {
    "duration": 28,
    "start_time": "2024-06-30T11:31:52.161Z"
   },
   {
    "duration": 7,
    "start_time": "2024-06-30T11:31:52.191Z"
   },
   {
    "duration": 26,
    "start_time": "2024-06-30T11:31:52.200Z"
   },
   {
    "duration": 17,
    "start_time": "2024-06-30T11:31:52.228Z"
   },
   {
    "duration": 16,
    "start_time": "2024-06-30T11:31:52.246Z"
   },
   {
    "duration": 12,
    "start_time": "2024-06-30T11:31:52.264Z"
   },
   {
    "duration": 45,
    "start_time": "2024-06-30T11:31:52.278Z"
   },
   {
    "duration": 19,
    "start_time": "2024-06-30T11:31:52.325Z"
   },
   {
    "duration": 6,
    "start_time": "2024-06-30T11:31:52.346Z"
   },
   {
    "duration": 9,
    "start_time": "2024-06-30T11:31:52.355Z"
   },
   {
    "duration": 308,
    "start_time": "2024-06-30T11:31:52.365Z"
   },
   {
    "duration": 250,
    "start_time": "2024-06-30T11:31:52.675Z"
   },
   {
    "duration": 220,
    "start_time": "2024-06-30T11:31:52.927Z"
   },
   {
    "duration": 336,
    "start_time": "2024-06-30T11:31:53.148Z"
   },
   {
    "duration": 245,
    "start_time": "2024-06-30T11:31:53.487Z"
   },
   {
    "duration": 368,
    "start_time": "2024-06-30T11:31:53.734Z"
   },
   {
    "duration": 233,
    "start_time": "2024-06-30T11:31:54.104Z"
   },
   {
    "duration": 4,
    "start_time": "2024-06-30T11:31:54.338Z"
   },
   {
    "duration": 191,
    "start_time": "2024-06-30T11:31:54.355Z"
   },
   {
    "duration": 195,
    "start_time": "2024-06-30T11:31:54.548Z"
   },
   {
    "duration": 12,
    "start_time": "2024-06-30T11:31:54.745Z"
   },
   {
    "duration": 283,
    "start_time": "2024-06-30T11:31:54.759Z"
   },
   {
    "duration": 18,
    "start_time": "2024-06-30T11:31:55.044Z"
   },
   {
    "duration": 11,
    "start_time": "2024-06-30T11:31:55.064Z"
   },
   {
    "duration": 30,
    "start_time": "2024-06-30T11:31:55.077Z"
   },
   {
    "duration": 15,
    "start_time": "2024-06-30T11:31:55.109Z"
   },
   {
    "duration": 1008,
    "start_time": "2024-06-30T11:35:24.481Z"
   },
   {
    "duration": 98,
    "start_time": "2024-06-30T11:35:25.491Z"
   },
   {
    "duration": 45,
    "start_time": "2024-06-30T11:35:25.591Z"
   },
   {
    "duration": 12,
    "start_time": "2024-06-30T11:35:25.639Z"
   },
   {
    "duration": 33,
    "start_time": "2024-06-30T11:35:25.652Z"
   },
   {
    "duration": 18,
    "start_time": "2024-06-30T11:35:25.687Z"
   },
   {
    "duration": 28,
    "start_time": "2024-06-30T11:35:25.706Z"
   },
   {
    "duration": 11,
    "start_time": "2024-06-30T11:35:25.736Z"
   },
   {
    "duration": 33,
    "start_time": "2024-06-30T11:35:25.749Z"
   },
   {
    "duration": 12,
    "start_time": "2024-06-30T11:35:25.785Z"
   },
   {
    "duration": 17,
    "start_time": "2024-06-30T11:35:25.799Z"
   },
   {
    "duration": 20,
    "start_time": "2024-06-30T11:35:25.818Z"
   },
   {
    "duration": 12,
    "start_time": "2024-06-30T11:35:25.840Z"
   },
   {
    "duration": 28,
    "start_time": "2024-06-30T11:35:25.854Z"
   },
   {
    "duration": 274,
    "start_time": "2024-06-30T11:35:25.884Z"
   },
   {
    "duration": 304,
    "start_time": "2024-06-30T11:35:26.160Z"
   },
   {
    "duration": 240,
    "start_time": "2024-06-30T11:35:26.466Z"
   },
   {
    "duration": 315,
    "start_time": "2024-06-30T11:35:26.708Z"
   },
   {
    "duration": 261,
    "start_time": "2024-06-30T11:35:27.025Z"
   },
   {
    "duration": 334,
    "start_time": "2024-06-30T11:35:27.288Z"
   },
   {
    "duration": 165,
    "start_time": "2024-06-30T11:35:27.624Z"
   },
   {
    "duration": 5,
    "start_time": "2024-06-30T11:35:27.791Z"
   },
   {
    "duration": 183,
    "start_time": "2024-06-30T11:35:27.798Z"
   },
   {
    "duration": 192,
    "start_time": "2024-06-30T11:35:27.983Z"
   },
   {
    "duration": 4,
    "start_time": "2024-06-30T11:35:28.177Z"
   },
   {
    "duration": 284,
    "start_time": "2024-06-30T11:35:28.183Z"
   },
   {
    "duration": 10,
    "start_time": "2024-06-30T11:35:28.469Z"
   },
   {
    "duration": 23,
    "start_time": "2024-06-30T11:35:28.482Z"
   },
   {
    "duration": 41,
    "start_time": "2024-06-30T11:35:28.506Z"
   },
   {
    "duration": 13,
    "start_time": "2024-06-30T11:35:28.549Z"
   }
  ],
  "kernelspec": {
   "display_name": "Python [conda env:base] *",
   "language": "python",
   "name": "conda-base-py"
  },
  "language_info": {
   "codemirror_mode": {
    "name": "ipython",
    "version": 3
   },
   "file_extension": ".py",
   "mimetype": "text/x-python",
   "name": "python",
   "nbconvert_exporter": "python",
   "pygments_lexer": "ipython3",
   "version": "3.11.5"
  },
  "toc": {
   "base_numbering": 1,
   "nav_menu": {
    "height": "481.635px",
    "width": "935.312px"
   },
   "number_sections": true,
   "sideBar": true,
   "skip_h1_title": true,
   "title_cell": "Table of Contents",
   "title_sidebar": "Contents",
   "toc_cell": false,
   "toc_position": {},
   "toc_section_display": true,
   "toc_window_display": false
  }
 },
 "nbformat": 4,
 "nbformat_minor": 4
}
